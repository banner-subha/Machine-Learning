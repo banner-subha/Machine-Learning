{
 "cells": [
  {
   "cell_type": "markdown",
   "metadata": {},
   "source": []
  },
  {
   "cell_type": "code",
   "execution_count": 81,
   "metadata": {},
   "outputs": [],
   "source": [
    "import pandas as pd\n",
    "import plotly.express as px\n",
    "import plotly.graph_objects as go\n",
    "import seaborn as sns\n",
    "import matplotlib.pyplot as plt\n",
    "from plotly.subplots import make_subplots\n",
    "from sklearn.model_selection import train_test_split\n",
    "from sklearn.preprocessing import LabelEncoder, StandardScaler\n",
    "from sklearn.ensemble import RandomForestRegressor\n",
    "from sklearn.metrics import mean_absolute_error, mean_squared_error, r2_score\n"
   ]
  },
  {
   "cell_type": "code",
   "execution_count": null,
   "metadata": {},
   "outputs": [
    {
     "data": {
      "text/html": [
       "<div>\n",
       "<style scoped>\n",
       "    .dataframe tbody tr th:only-of-type {\n",
       "        vertical-align: middle;\n",
       "    }\n",
       "\n",
       "    .dataframe tbody tr th {\n",
       "        vertical-align: top;\n",
       "    }\n",
       "\n",
       "    .dataframe thead th {\n",
       "        text-align: right;\n",
       "    }\n",
       "</style>\n",
       "<table border=\"1\" class=\"dataframe\">\n",
       "  <thead>\n",
       "    <tr style=\"text-align: right;\">\n",
       "      <th></th>\n",
       "      <th>Car_Name</th>\n",
       "      <th>Year</th>\n",
       "      <th>Selling_Price</th>\n",
       "      <th>Present_Price</th>\n",
       "      <th>Driven_kms</th>\n",
       "      <th>Fuel_Type</th>\n",
       "      <th>Selling_type</th>\n",
       "      <th>Transmission</th>\n",
       "      <th>Owner</th>\n",
       "    </tr>\n",
       "  </thead>\n",
       "  <tbody>\n",
       "    <tr>\n",
       "      <th>0</th>\n",
       "      <td>ritz</td>\n",
       "      <td>2014</td>\n",
       "      <td>3.35</td>\n",
       "      <td>5.59</td>\n",
       "      <td>27000</td>\n",
       "      <td>Petrol</td>\n",
       "      <td>Dealer</td>\n",
       "      <td>Manual</td>\n",
       "      <td>0</td>\n",
       "    </tr>\n",
       "    <tr>\n",
       "      <th>1</th>\n",
       "      <td>sx4</td>\n",
       "      <td>2013</td>\n",
       "      <td>4.75</td>\n",
       "      <td>9.54</td>\n",
       "      <td>43000</td>\n",
       "      <td>Diesel</td>\n",
       "      <td>Dealer</td>\n",
       "      <td>Manual</td>\n",
       "      <td>0</td>\n",
       "    </tr>\n",
       "    <tr>\n",
       "      <th>2</th>\n",
       "      <td>ciaz</td>\n",
       "      <td>2017</td>\n",
       "      <td>7.25</td>\n",
       "      <td>9.85</td>\n",
       "      <td>6900</td>\n",
       "      <td>Petrol</td>\n",
       "      <td>Dealer</td>\n",
       "      <td>Manual</td>\n",
       "      <td>0</td>\n",
       "    </tr>\n",
       "    <tr>\n",
       "      <th>3</th>\n",
       "      <td>wagon r</td>\n",
       "      <td>2011</td>\n",
       "      <td>2.85</td>\n",
       "      <td>4.15</td>\n",
       "      <td>5200</td>\n",
       "      <td>Petrol</td>\n",
       "      <td>Dealer</td>\n",
       "      <td>Manual</td>\n",
       "      <td>0</td>\n",
       "    </tr>\n",
       "    <tr>\n",
       "      <th>4</th>\n",
       "      <td>swift</td>\n",
       "      <td>2014</td>\n",
       "      <td>4.60</td>\n",
       "      <td>6.87</td>\n",
       "      <td>42450</td>\n",
       "      <td>Diesel</td>\n",
       "      <td>Dealer</td>\n",
       "      <td>Manual</td>\n",
       "      <td>0</td>\n",
       "    </tr>\n",
       "  </tbody>\n",
       "</table>\n",
       "</div>"
      ],
      "text/plain": [
       "  Car_Name  Year  Selling_Price  Present_Price  Driven_kms Fuel_Type  \\\n",
       "0     ritz  2014           3.35           5.59       27000    Petrol   \n",
       "1      sx4  2013           4.75           9.54       43000    Diesel   \n",
       "2     ciaz  2017           7.25           9.85        6900    Petrol   \n",
       "3  wagon r  2011           2.85           4.15        5200    Petrol   \n",
       "4    swift  2014           4.60           6.87       42450    Diesel   \n",
       "\n",
       "  Selling_type Transmission  Owner  \n",
       "0       Dealer       Manual      0  \n",
       "1       Dealer       Manual      0  \n",
       "2       Dealer       Manual      0  \n",
       "3       Dealer       Manual      0  \n",
       "4       Dealer       Manual      0  "
      ]
     },
     "execution_count": 3,
     "metadata": {},
     "output_type": "execute_result"
    }
   ],
   "source": [
    "# Load the CSV file \n",
    "df = pd.read_csv('car data.csv')\n",
    "\n",
    "# Display the first few rows \n",
    "df.head()"
   ]
  },
  {
   "cell_type": "code",
   "execution_count": null,
   "metadata": {},
   "outputs": [],
   "source": [
    "# Drop the 'Car_Name' column\n",
    "df = df.drop(columns=['Car_Name'])"
   ]
  },
  {
   "cell_type": "code",
   "execution_count": 5,
   "metadata": {},
   "outputs": [],
   "source": [
    "# Add a new feature 'Car Age' instead of 'Year'\n",
    "df['Car Age'] = 2024 - df['Year']\n",
    "df = df.drop(columns=['Year'])"
   ]
  },
  {
   "cell_type": "code",
   "execution_count": null,
   "metadata": {},
   "outputs": [],
   "source": [
    "# Encode categorical features using LabelEncoder\n",
    "catergorical_cols = ['Fuel_Type', 'Selling_type', 'Transmission']\n",
    "encoder = LabelEncoder()\n",
    "for cols in catergorical_cols:\n",
    "    df[cols] = encoder.fit_transform(df[cols])"
   ]
  },
  {
   "cell_type": "code",
   "execution_count": 7,
   "metadata": {},
   "outputs": [],
   "source": [
    "# Split the data into training and testing sets\n",
    "X = df.drop(columns=['Selling_Price'])\n",
    "y = df['Selling_Price']"
   ]
  },
  {
   "cell_type": "code",
   "execution_count": 9,
   "metadata": {},
   "outputs": [],
   "source": [
    "# Split the data into training and testing sets\n",
    "X_train, X_test, y_train, y_test = train_test_split(X, y, test_size=0.2, random_state=42)\n",
    "\n",
    "# Scaling numerical features\n",
    "scaler = StandardScaler()\n",
    "X_train = scaler.fit_transform(X_train)\n",
    "X_test = scaler.transform(X_test)"
   ]
  },
  {
   "cell_type": "code",
   "execution_count": 10,
   "metadata": {},
   "outputs": [],
   "source": [
    "# Train a Random Forest Regressor model\n",
    "model = RandomForestRegressor()\n",
    "model.fit(X_train, y_train)\n",
    "\n",
    "# Make predictions on the test set\n",
    "y_pred = model.predict(X_test)"
   ]
  },
  {
   "cell_type": "code",
   "execution_count": 12,
   "metadata": {},
   "outputs": [
    {
     "name": "stdout",
     "output_type": "stream",
     "text": [
      "Mean Absolute Error: 0.6479508196721315\n",
      " \n",
      "Mean Squared Error: 0.931165688852459\n",
      "\n",
      "Root Mean Squared Error: 0.9649692683461266\n",
      "\n",
      "R-squared: 0.9595770757181235\n",
      "\n"
     ]
    }
   ],
   "source": [
    "# Evaluate the model\n",
    "mae = mean_absolute_error(y_test, y_pred)\n",
    "mse = mean_squared_error(y_test, y_pred)\n",
    "rmse = mse ** 0.5\n",
    "r2 = r2_score(y_test, y_pred)\n",
    "\n",
    "print(f\"Mean Absolute Error: {mae}\\n \")\n",
    "print(f\"Mean Squared Error: {mse}\\n\")\n",
    "print(f\"Root Mean Squared Error: {rmse}\\n\")\n",
    "print(f\"R-squared: {r2}\\n\")"
   ]
  },
  {
   "cell_type": "markdown",
   "metadata": {},
   "source": [
    "# Exploratory Data Analysis"
   ]
  },
  {
   "cell_type": "code",
   "execution_count": 16,
   "metadata": {},
   "outputs": [
    {
     "data": {
      "application/vnd.plotly.v1+json": {
       "config": {
        "plotlyServerURL": "https://plot.ly"
       },
       "data": [
        {
         "bingroup": "x",
         "hovertemplate": "Selling_Price=%{x}<br>count=%{y}<extra></extra>",
         "legendgroup": "",
         "marker": {
          "color": "#636efa",
          "pattern": {
           "shape": ""
          }
         },
         "name": "",
         "nbinsx": 30,
         "orientation": "v",
         "showlegend": false,
         "type": "histogram",
         "x": {
          "bdata": "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",
          "dtype": "f8"
         },
         "xaxis": "x",
         "yaxis": "y"
        }
       ],
       "layout": {
        "barmode": "relative",
        "legend": {
         "tracegroupgap": 0
        },
        "template": {
         "data": {
          "bar": [
           {
            "error_x": {
             "color": "#2a3f5f"
            },
            "error_y": {
             "color": "#2a3f5f"
            },
            "marker": {
             "line": {
              "color": "#E5ECF6",
              "width": 0.5
             },
             "pattern": {
              "fillmode": "overlay",
              "size": 10,
              "solidity": 0.2
             }
            },
            "type": "bar"
           }
          ],
          "barpolar": [
           {
            "marker": {
             "line": {
              "color": "#E5ECF6",
              "width": 0.5
             },
             "pattern": {
              "fillmode": "overlay",
              "size": 10,
              "solidity": 0.2
             }
            },
            "type": "barpolar"
           }
          ],
          "carpet": [
           {
            "aaxis": {
             "endlinecolor": "#2a3f5f",
             "gridcolor": "white",
             "linecolor": "white",
             "minorgridcolor": "white",
             "startlinecolor": "#2a3f5f"
            },
            "baxis": {
             "endlinecolor": "#2a3f5f",
             "gridcolor": "white",
             "linecolor": "white",
             "minorgridcolor": "white",
             "startlinecolor": "#2a3f5f"
            },
            "type": "carpet"
           }
          ],
          "choropleth": [
           {
            "colorbar": {
             "outlinewidth": 0,
             "ticks": ""
            },
            "type": "choropleth"
           }
          ],
          "contour": [
           {
            "colorbar": {
             "outlinewidth": 0,
             "ticks": ""
            },
            "colorscale": [
             [
              0,
              "#0d0887"
             ],
             [
              0.1111111111111111,
              "#46039f"
             ],
             [
              0.2222222222222222,
              "#7201a8"
             ],
             [
              0.3333333333333333,
              "#9c179e"
             ],
             [
              0.4444444444444444,
              "#bd3786"
             ],
             [
              0.5555555555555556,
              "#d8576b"
             ],
             [
              0.6666666666666666,
              "#ed7953"
             ],
             [
              0.7777777777777778,
              "#fb9f3a"
             ],
             [
              0.8888888888888888,
              "#fdca26"
             ],
             [
              1,
              "#f0f921"
             ]
            ],
            "type": "contour"
           }
          ],
          "contourcarpet": [
           {
            "colorbar": {
             "outlinewidth": 0,
             "ticks": ""
            },
            "type": "contourcarpet"
           }
          ],
          "heatmap": [
           {
            "colorbar": {
             "outlinewidth": 0,
             "ticks": ""
            },
            "colorscale": [
             [
              0,
              "#0d0887"
             ],
             [
              0.1111111111111111,
              "#46039f"
             ],
             [
              0.2222222222222222,
              "#7201a8"
             ],
             [
              0.3333333333333333,
              "#9c179e"
             ],
             [
              0.4444444444444444,
              "#bd3786"
             ],
             [
              0.5555555555555556,
              "#d8576b"
             ],
             [
              0.6666666666666666,
              "#ed7953"
             ],
             [
              0.7777777777777778,
              "#fb9f3a"
             ],
             [
              0.8888888888888888,
              "#fdca26"
             ],
             [
              1,
              "#f0f921"
             ]
            ],
            "type": "heatmap"
           }
          ],
          "histogram": [
           {
            "marker": {
             "pattern": {
              "fillmode": "overlay",
              "size": 10,
              "solidity": 0.2
             }
            },
            "type": "histogram"
           }
          ],
          "histogram2d": [
           {
            "colorbar": {
             "outlinewidth": 0,
             "ticks": ""
            },
            "colorscale": [
             [
              0,
              "#0d0887"
             ],
             [
              0.1111111111111111,
              "#46039f"
             ],
             [
              0.2222222222222222,
              "#7201a8"
             ],
             [
              0.3333333333333333,
              "#9c179e"
             ],
             [
              0.4444444444444444,
              "#bd3786"
             ],
             [
              0.5555555555555556,
              "#d8576b"
             ],
             [
              0.6666666666666666,
              "#ed7953"
             ],
             [
              0.7777777777777778,
              "#fb9f3a"
             ],
             [
              0.8888888888888888,
              "#fdca26"
             ],
             [
              1,
              "#f0f921"
             ]
            ],
            "type": "histogram2d"
           }
          ],
          "histogram2dcontour": [
           {
            "colorbar": {
             "outlinewidth": 0,
             "ticks": ""
            },
            "colorscale": [
             [
              0,
              "#0d0887"
             ],
             [
              0.1111111111111111,
              "#46039f"
             ],
             [
              0.2222222222222222,
              "#7201a8"
             ],
             [
              0.3333333333333333,
              "#9c179e"
             ],
             [
              0.4444444444444444,
              "#bd3786"
             ],
             [
              0.5555555555555556,
              "#d8576b"
             ],
             [
              0.6666666666666666,
              "#ed7953"
             ],
             [
              0.7777777777777778,
              "#fb9f3a"
             ],
             [
              0.8888888888888888,
              "#fdca26"
             ],
             [
              1,
              "#f0f921"
             ]
            ],
            "type": "histogram2dcontour"
           }
          ],
          "mesh3d": [
           {
            "colorbar": {
             "outlinewidth": 0,
             "ticks": ""
            },
            "type": "mesh3d"
           }
          ],
          "parcoords": [
           {
            "line": {
             "colorbar": {
              "outlinewidth": 0,
              "ticks": ""
             }
            },
            "type": "parcoords"
           }
          ],
          "pie": [
           {
            "automargin": true,
            "type": "pie"
           }
          ],
          "scatter": [
           {
            "fillpattern": {
             "fillmode": "overlay",
             "size": 10,
             "solidity": 0.2
            },
            "type": "scatter"
           }
          ],
          "scatter3d": [
           {
            "line": {
             "colorbar": {
              "outlinewidth": 0,
              "ticks": ""
             }
            },
            "marker": {
             "colorbar": {
              "outlinewidth": 0,
              "ticks": ""
             }
            },
            "type": "scatter3d"
           }
          ],
          "scattercarpet": [
           {
            "marker": {
             "colorbar": {
              "outlinewidth": 0,
              "ticks": ""
             }
            },
            "type": "scattercarpet"
           }
          ],
          "scattergeo": [
           {
            "marker": {
             "colorbar": {
              "outlinewidth": 0,
              "ticks": ""
             }
            },
            "type": "scattergeo"
           }
          ],
          "scattergl": [
           {
            "marker": {
             "colorbar": {
              "outlinewidth": 0,
              "ticks": ""
             }
            },
            "type": "scattergl"
           }
          ],
          "scattermap": [
           {
            "marker": {
             "colorbar": {
              "outlinewidth": 0,
              "ticks": ""
             }
            },
            "type": "scattermap"
           }
          ],
          "scattermapbox": [
           {
            "marker": {
             "colorbar": {
              "outlinewidth": 0,
              "ticks": ""
             }
            },
            "type": "scattermapbox"
           }
          ],
          "scatterpolar": [
           {
            "marker": {
             "colorbar": {
              "outlinewidth": 0,
              "ticks": ""
             }
            },
            "type": "scatterpolar"
           }
          ],
          "scatterpolargl": [
           {
            "marker": {
             "colorbar": {
              "outlinewidth": 0,
              "ticks": ""
             }
            },
            "type": "scatterpolargl"
           }
          ],
          "scatterternary": [
           {
            "marker": {
             "colorbar": {
              "outlinewidth": 0,
              "ticks": ""
             }
            },
            "type": "scatterternary"
           }
          ],
          "surface": [
           {
            "colorbar": {
             "outlinewidth": 0,
             "ticks": ""
            },
            "colorscale": [
             [
              0,
              "#0d0887"
             ],
             [
              0.1111111111111111,
              "#46039f"
             ],
             [
              0.2222222222222222,
              "#7201a8"
             ],
             [
              0.3333333333333333,
              "#9c179e"
             ],
             [
              0.4444444444444444,
              "#bd3786"
             ],
             [
              0.5555555555555556,
              "#d8576b"
             ],
             [
              0.6666666666666666,
              "#ed7953"
             ],
             [
              0.7777777777777778,
              "#fb9f3a"
             ],
             [
              0.8888888888888888,
              "#fdca26"
             ],
             [
              1,
              "#f0f921"
             ]
            ],
            "type": "surface"
           }
          ],
          "table": [
           {
            "cells": {
             "fill": {
              "color": "#EBF0F8"
             },
             "line": {
              "color": "white"
             }
            },
            "header": {
             "fill": {
              "color": "#C8D4E3"
             },
             "line": {
              "color": "white"
             }
            },
            "type": "table"
           }
          ]
         },
         "layout": {
          "annotationdefaults": {
           "arrowcolor": "#2a3f5f",
           "arrowhead": 0,
           "arrowwidth": 1
          },
          "autotypenumbers": "strict",
          "coloraxis": {
           "colorbar": {
            "outlinewidth": 0,
            "ticks": ""
           }
          },
          "colorscale": {
           "diverging": [
            [
             0,
             "#8e0152"
            ],
            [
             0.1,
             "#c51b7d"
            ],
            [
             0.2,
             "#de77ae"
            ],
            [
             0.3,
             "#f1b6da"
            ],
            [
             0.4,
             "#fde0ef"
            ],
            [
             0.5,
             "#f7f7f7"
            ],
            [
             0.6,
             "#e6f5d0"
            ],
            [
             0.7,
             "#b8e186"
            ],
            [
             0.8,
             "#7fbc41"
            ],
            [
             0.9,
             "#4d9221"
            ],
            [
             1,
             "#276419"
            ]
           ],
           "sequential": [
            [
             0,
             "#0d0887"
            ],
            [
             0.1111111111111111,
             "#46039f"
            ],
            [
             0.2222222222222222,
             "#7201a8"
            ],
            [
             0.3333333333333333,
             "#9c179e"
            ],
            [
             0.4444444444444444,
             "#bd3786"
            ],
            [
             0.5555555555555556,
             "#d8576b"
            ],
            [
             0.6666666666666666,
             "#ed7953"
            ],
            [
             0.7777777777777778,
             "#fb9f3a"
            ],
            [
             0.8888888888888888,
             "#fdca26"
            ],
            [
             1,
             "#f0f921"
            ]
           ],
           "sequentialminus": [
            [
             0,
             "#0d0887"
            ],
            [
             0.1111111111111111,
             "#46039f"
            ],
            [
             0.2222222222222222,
             "#7201a8"
            ],
            [
             0.3333333333333333,
             "#9c179e"
            ],
            [
             0.4444444444444444,
             "#bd3786"
            ],
            [
             0.5555555555555556,
             "#d8576b"
            ],
            [
             0.6666666666666666,
             "#ed7953"
            ],
            [
             0.7777777777777778,
             "#fb9f3a"
            ],
            [
             0.8888888888888888,
             "#fdca26"
            ],
            [
             1,
             "#f0f921"
            ]
           ]
          },
          "colorway": [
           "#636efa",
           "#EF553B",
           "#00cc96",
           "#ab63fa",
           "#FFA15A",
           "#19d3f3",
           "#FF6692",
           "#B6E880",
           "#FF97FF",
           "#FECB52"
          ],
          "font": {
           "color": "#2a3f5f"
          },
          "geo": {
           "bgcolor": "white",
           "lakecolor": "white",
           "landcolor": "#E5ECF6",
           "showlakes": true,
           "showland": true,
           "subunitcolor": "white"
          },
          "hoverlabel": {
           "align": "left"
          },
          "hovermode": "closest",
          "mapbox": {
           "style": "light"
          },
          "paper_bgcolor": "white",
          "plot_bgcolor": "#E5ECF6",
          "polar": {
           "angularaxis": {
            "gridcolor": "white",
            "linecolor": "white",
            "ticks": ""
           },
           "bgcolor": "#E5ECF6",
           "radialaxis": {
            "gridcolor": "white",
            "linecolor": "white",
            "ticks": ""
           }
          },
          "scene": {
           "xaxis": {
            "backgroundcolor": "#E5ECF6",
            "gridcolor": "white",
            "gridwidth": 2,
            "linecolor": "white",
            "showbackground": true,
            "ticks": "",
            "zerolinecolor": "white"
           },
           "yaxis": {
            "backgroundcolor": "#E5ECF6",
            "gridcolor": "white",
            "gridwidth": 2,
            "linecolor": "white",
            "showbackground": true,
            "ticks": "",
            "zerolinecolor": "white"
           },
           "zaxis": {
            "backgroundcolor": "#E5ECF6",
            "gridcolor": "white",
            "gridwidth": 2,
            "linecolor": "white",
            "showbackground": true,
            "ticks": "",
            "zerolinecolor": "white"
           }
          },
          "shapedefaults": {
           "line": {
            "color": "#2a3f5f"
           }
          },
          "ternary": {
           "aaxis": {
            "gridcolor": "white",
            "linecolor": "white",
            "ticks": ""
           },
           "baxis": {
            "gridcolor": "white",
            "linecolor": "white",
            "ticks": ""
           },
           "bgcolor": "#E5ECF6",
           "caxis": {
            "gridcolor": "white",
            "linecolor": "white",
            "ticks": ""
           }
          },
          "title": {
           "x": 0.05
          },
          "xaxis": {
           "automargin": true,
           "gridcolor": "white",
           "linecolor": "white",
           "ticks": "",
           "title": {
            "standoff": 15
           },
           "zerolinecolor": "white",
           "zerolinewidth": 2
          },
          "yaxis": {
           "automargin": true,
           "gridcolor": "white",
           "linecolor": "white",
           "ticks": "",
           "title": {
            "standoff": 15
           },
           "zerolinecolor": "white",
           "zerolinewidth": 2
          }
         }
        },
        "title": {
         "text": "Distribution of Selling Price"
        },
        "xaxis": {
         "anchor": "y",
         "domain": [
          0,
          1
         ],
         "title": {
          "text": "Selling_Price"
         }
        },
        "yaxis": {
         "anchor": "x",
         "domain": [
          0,
          1
         ],
         "title": {
          "text": "count"
         }
        }
       }
      }
     },
     "metadata": {},
     "output_type": "display_data"
    }
   ],
   "source": [
    "# Distribution of Selling Price\n",
    "fig = px.histogram(df, x='Selling_Price', nbins=30, title='Distribution of Selling Price')\n",
    "fig.show()"
   ]
  },
  {
   "cell_type": "code",
   "execution_count": 86,
   "metadata": {},
   "outputs": [
    {
     "data": {
      "image/png": "[encoded data removed]",
      "text/plain": [
       "<Figure size 1000x600 with 1 Axes>"
      ]
     },
     "metadata": {},
     "output_type": "display_data"
    }
   ],
   "source": [
    "plt.figure(figsize=(10, 6))\n",
    "sns.histplot(df[\"Selling_Price\"], bins=30,color= \"green\", kde=True)\n",
    "plt.title(\"Histogram of Selling Price\")\n",
    "plt.show()"
   ]
  },
  {
   "cell_type": "code",
   "execution_count": 18,
   "metadata": {},
   "outputs": [
    {
     "data": {
      "application/vnd.plotly.v1+json": {
       "config": {
        "plotlyServerURL": "https://plot.ly"
       },
       "data": [
        {
         "alignmentgroup": "True",
         "hovertemplate": "Fuel_Type=%{x}<br>Selling_Price=%{y}<extra></extra>",
         "legendgroup": "2",
         "marker": {
          "color": "#636efa"
         },
         "name": "2",
         "notched": false,
         "offsetgroup": "2",
         "orientation": "v",
         "showlegend": true,
         "type": "box",
         "x": {
          "bdata": "AgAAAAIAAAACAAAAAgAAAAIAAAACAAAAAgAAAAIAAAACAAAAAgAAAAIAAAACAAAAAgAAAAIAAAACAAAAAgAAAAIAAAACAAAAAgAAAAIAAAACAAAAAgAAAAIAAAACAAAAAgAAAAIAAAACAAAAAgAAAAIAAAACAAAAAgAAAAIAAAACAAAAAgAAAAIAAAACAAAAAgAAAAIAAAACAAAAAgAAAAIAAAACAAAAAgAAAAIAAAACAAAAAgAAAAIAAAACAAAAAgAAAAIAAAACAAAAAgAAAAIAAAACAAAAAgAAAAIAAAACAAAAAgAAAAIAAAACAAAAAgAAAAIAAAACAAAAAgAAAAIAAAACAAAAAgAAAAIAAAACAAAAAgAAAAIAAAACAAAAAgAAAAIAAAACAAAAAgAAAAIAAAACAAAAAgAAAAIAAAACAAAAAgAAAAIAAAACAAAAAgAAAAIAAAACAAAAAgAAAAIAAAACAAAAAgAAAAIAAAACAAAAAgAAAAIAAAACAAAAAgAAAAIAAAACAAAAAgAAAAIAAAACAAAAAgAAAAIAAAACAAAAAgAAAAIAAAACAAAAAgAAAAIAAAACAAAAAgAAAAIAAAACAAAAAgAAAAIAAAACAAAAAgAAAAIAAAACAAAAAgAAAAIAAAACAAAAAgAAAAIAAAACAAAAAgAAAAIAAAACAAAAAgAAAAIAAAACAAAAAgAAAAIAAAACAAAAAgAAAAIAAAACAAAAAgAAAAIAAAACAAAAAgAAAAIAAAACAAAAAgAAAAIAAAACAAAAAgAAAAIAAAACAAAAAgAAAAIAAAACAAAAAgAAAAIAAAACAAAAAgAAAAIAAAACAAAAAgAAAAIAAAACAAAAAgAAAAIAAAACAAAAAgAAAAIAAAACAAAAAgAAAAIAAAACAAAAAgAAAAIAAAACAAAAAgAAAAIAAAACAAAAAgAAAAIAAAACAAAAAgAAAAIAAAACAAAAAgAAAAIAAAACAAAAAgAAAAIAAAACAAAAAgAAAAIAAAACAAAAAgAAAAIAAAACAAAAAgAAAAIAAAACAAAAAgAAAAIAAAACAAAAAgAAAAIAAAACAAAAAgAAAAIAAAACAAAAAgAAAAIAAAACAAAAAgAAAAIAAAACAAAAAgAAAAIAAAACAAAAAgAAAAIAAAACAAAAAgAAAAIAAAACAAAAAgAAAAIAAAACAAAAAgAAAAIAAAACAAAAAgAAAAIAAAACAAAAAgAAAAIAAAACAAAAAgAAAAIAAAACAAAAAgAAAAIAAAA=",
          "dtype": "i4"
         },
         "x0": " ",
         "xaxis": "x",
         "y": {
          "bdata": "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",
          "dtype": "f8"
         },
         "y0": " ",
         "yaxis": "y"
        },
        {
         "alignmentgroup": "True",
         "hovertemplate": "Fuel_Type=%{x}<br>Selling_Price=%{y}<extra></extra>",
         "legendgroup": "1",
         "marker": {
          "color": "#EF553B"
         },
         "name": "1",
         "notched": false,
         "offsetgroup": "1",
         "orientation": "v",
         "showlegend": true,
         "type": "box",
         "x": {
          "bdata": "AQAAAAEAAAABAAAAAQAAAAEAAAABAAAAAQAAAAEAAAABAAAAAQAAAAEAAAABAAAAAQAAAAEAAAABAAAAAQAAAAEAAAABAAAAAQAAAAEAAAABAAAAAQAAAAEAAAABAAAAAQAAAAEAAAABAAAAAQAAAAEAAAABAAAAAQAAAAEAAAABAAAAAQAAAAEAAAABAAAAAQAAAAEAAAABAAAAAQAAAAEAAAABAAAAAQAAAAEAAAABAAAAAQAAAAEAAAABAAAAAQAAAAEAAAABAAAAAQAAAAEAAAABAAAAAQAAAAEAAAABAAAAAQAAAAEAAAABAAAA",
          "dtype": "i4"
         },
         "x0": " ",
         "xaxis": "x",
         "y": {
          "bdata": "AAAAAAAAE0BmZmZmZmYSQAAAAAAAgCJAAAAAAAAAGkAAAAAAAIAhQM3MzMzMzB1AZmZmZmZmG0AAAAAAAAAfQAAAAAAAAB1AAAAAAAAAH0DNzMzMzMwdQM3MzMzMzAhAzczMzMzME0AAAAAAAAAYQAAAAAAAABZAAAAAAAAAFkDNzMzMzMwtQAAAAAAAADdAAAAAAAAAMkAAAAAAAAAwQD0K16Nw/TNAAAAAAADAMkAAAAAAAIA3QAAAAAAAgEBAAAAAAAAAE0AAAAAAAIAiQJqZmZmZmQ9AAAAAAAAAEkCamZmZmZkTQAAAAAAAAC1A9ihcj8J1LUAAAAAAAAATQAAAAAAAADdAAAAAAAAAKUDsUbgehesLQAAAAAAAgEFAAAAAAACAJkAAAAAAAAA3QAAAAAAAwDRAzczMzMxMI0AAAAAAAAAKQGZmZmZmZhNAAAAAAACAJ0AAAAAAAAAYQAAAAAAAgCBAzczMzMzME0DNzMzMzMwIQJqZmZmZmRhAMzMzMzMzD0AAAAAAAIAmQGZmZmZmZhVAzczMzMzMF0DNzMzMzMwUQM3MzMzMzClAzczMzMzMHEAzMzMzM7MgQAAAAAAAgCBAmpmZmZkZIUAAAAAAAAAjQAAAAAAAACdA",
          "dtype": "f8"
         },
         "y0": " ",
         "yaxis": "y"
        },
        {
         "alignmentgroup": "True",
         "hovertemplate": "Fuel_Type=%{x}<br>Selling_Price=%{y}<extra></extra>",
         "legendgroup": "0",
         "marker": {
          "color": "#00cc96"
         },
         "name": "0",
         "notched": false,
         "offsetgroup": "0",
         "orientation": "v",
         "showlegend": true,
         "type": "box",
         "x": {
          "bdata": "AAAAAAAAAAA=",
          "dtype": "i4"
         },
         "x0": " ",
         "xaxis": "x",
         "y": {
          "bdata": "AAAAAAAACkCamZmZmZkHQA==",
          "dtype": "f8"
         },
         "y0": " ",
         "yaxis": "y"
        }
       ],
       "layout": {
        "boxmode": "overlay",
        "height": 600,
        "legend": {
         "title": {
          "text": "Fuel_Type"
         },
         "tracegroupgap": 0
        },
        "template": {
         "data": {
          "bar": [
           {
            "error_x": {
             "color": "#2a3f5f"
            },
            "error_y": {
             "color": "#2a3f5f"
            },
            "marker": {
             "line": {
              "color": "#E5ECF6",
              "width": 0.5
             },
             "pattern": {
              "fillmode": "overlay",
              "size": 10,
              "solidity": 0.2
             }
            },
            "type": "bar"
           }
          ],
          "barpolar": [
           {
            "marker": {
             "line": {
              "color": "#E5ECF6",
              "width": 0.5
             },
             "pattern": {
              "fillmode": "overlay",
              "size": 10,
              "solidity": 0.2
             }
            },
            "type": "barpolar"
           }
          ],
          "carpet": [
           {
            "aaxis": {
             "endlinecolor": "#2a3f5f",
             "gridcolor": "white",
             "linecolor": "white",
             "minorgridcolor": "white",
             "startlinecolor": "#2a3f5f"
            },
            "baxis": {
             "endlinecolor": "#2a3f5f",
             "gridcolor": "white",
             "linecolor": "white",
             "minorgridcolor": "white",
             "startlinecolor": "#2a3f5f"
            },
            "type": "carpet"
           }
          ],
          "choropleth": [
           {
            "colorbar": {
             "outlinewidth": 0,
             "ticks": ""
            },
            "type": "choropleth"
           }
          ],
          "contour": [
           {
            "colorbar": {
             "outlinewidth": 0,
             "ticks": ""
            },
            "colorscale": [
             [
              0,
              "#0d0887"
             ],
             [
              0.1111111111111111,
              "#46039f"
             ],
             [
              0.2222222222222222,
              "#7201a8"
             ],
             [
              0.3333333333333333,
              "#9c179e"
             ],
             [
              0.4444444444444444,
              "#bd3786"
             ],
             [
              0.5555555555555556,
              "#d8576b"
             ],
             [
              0.6666666666666666,
              "#ed7953"
             ],
             [
              0.7777777777777778,
              "#fb9f3a"
             ],
             [
              0.8888888888888888,
              "#fdca26"
             ],
             [
              1,
              "#f0f921"
             ]
            ],
            "type": "contour"
           }
          ],
          "contourcarpet": [
           {
            "colorbar": {
             "outlinewidth": 0,
             "ticks": ""
            },
            "type": "contourcarpet"
           }
          ],
          "heatmap": [
           {
            "colorbar": {
             "outlinewidth": 0,
             "ticks": ""
            },
            "colorscale": [
             [
              0,
              "#0d0887"
             ],
             [
              0.1111111111111111,
              "#46039f"
             ],
             [
              0.2222222222222222,
              "#7201a8"
             ],
             [
              0.3333333333333333,
              "#9c179e"
             ],
             [
              0.4444444444444444,
              "#bd3786"
             ],
             [
              0.5555555555555556,
              "#d8576b"
             ],
             [
              0.6666666666666666,
              "#ed7953"
             ],
             [
              0.7777777777777778,
              "#fb9f3a"
             ],
             [
              0.8888888888888888,
              "#fdca26"
             ],
             [
              1,
              "#f0f921"
             ]
            ],
            "type": "heatmap"
           }
          ],
          "histogram": [
           {
            "marker": {
             "pattern": {
              "fillmode": "overlay",
              "size": 10,
              "solidity": 0.2
             }
            },
            "type": "histogram"
           }
          ],
          "histogram2d": [
           {
            "colorbar": {
             "outlinewidth": 0,
             "ticks": ""
            },
            "colorscale": [
             [
              0,
              "#0d0887"
             ],
             [
              0.1111111111111111,
              "#46039f"
             ],
             [
              0.2222222222222222,
              "#7201a8"
             ],
             [
              0.3333333333333333,
              "#9c179e"
             ],
             [
              0.4444444444444444,
              "#bd3786"
             ],
             [
              0.5555555555555556,
              "#d8576b"
             ],
             [
              0.6666666666666666,
              "#ed7953"
             ],
             [
              0.7777777777777778,
              "#fb9f3a"
             ],
             [
              0.8888888888888888,
              "#fdca26"
             ],
             [
              1,
              "#f0f921"
             ]
            ],
            "type": "histogram2d"
           }
          ],
          "histogram2dcontour": [
           {
            "colorbar": {
             "outlinewidth": 0,
             "ticks": ""
            },
            "colorscale": [
             [
              0,
              "#0d0887"
             ],
             [
              0.1111111111111111,
              "#46039f"
             ],
             [
              0.2222222222222222,
              "#7201a8"
             ],
             [
              0.3333333333333333,
              "#9c179e"
             ],
             [
              0.4444444444444444,
              "#bd3786"
             ],
             [
              0.5555555555555556,
              "#d8576b"
             ],
             [
              0.6666666666666666,
              "#ed7953"
             ],
             [
              0.7777777777777778,
              "#fb9f3a"
             ],
             [
              0.8888888888888888,
              "#fdca26"
             ],
             [
              1,
              "#f0f921"
             ]
            ],
            "type": "histogram2dcontour"
           }
          ],
          "mesh3d": [
           {
            "colorbar": {
             "outlinewidth": 0,
             "ticks": ""
            },
            "type": "mesh3d"
           }
          ],
          "parcoords": [
           {
            "line": {
             "colorbar": {
              "outlinewidth": 0,
              "ticks": ""
             }
            },
            "type": "parcoords"
           }
          ],
          "pie": [
           {
            "automargin": true,
            "type": "pie"
           }
          ],
          "scatter": [
           {
            "fillpattern": {
             "fillmode": "overlay",
             "size": 10,
             "solidity": 0.2
            },
            "type": "scatter"
           }
          ],
          "scatter3d": [
           {
            "line": {
             "colorbar": {
              "outlinewidth": 0,
              "ticks": ""
             }
            },
            "marker": {
             "colorbar": {
              "outlinewidth": 0,
              "ticks": ""
             }
            },
            "type": "scatter3d"
           }
          ],
          "scattercarpet": [
           {
            "marker": {
             "colorbar": {
              "outlinewidth": 0,
              "ticks": ""
             }
            },
            "type": "scattercarpet"
           }
          ],
          "scattergeo": [
           {
            "marker": {
             "colorbar": {
              "outlinewidth": 0,
              "ticks": ""
             }
            },
            "type": "scattergeo"
           }
          ],
          "scattergl": [
           {
            "marker": {
             "colorbar": {
              "outlinewidth": 0,
              "ticks": ""
             }
            },
            "type": "scattergl"
           }
          ],
          "scattermap": [
           {
            "marker": {
             "colorbar": {
              "outlinewidth": 0,
              "ticks": ""
             }
            },
            "type": "scattermap"
           }
          ],
          "scattermapbox": [
           {
            "marker": {
             "colorbar": {
              "outlinewidth": 0,
              "ticks": ""
             }
            },
            "type": "scattermapbox"
           }
          ],
          "scatterpolar": [
           {
            "marker": {
             "colorbar": {
              "outlinewidth": 0,
              "ticks": ""
             }
            },
            "type": "scatterpolar"
           }
          ],
          "scatterpolargl": [
           {
            "marker": {
             "colorbar": {
              "outlinewidth": 0,
              "ticks": ""
             }
            },
            "type": "scatterpolargl"
           }
          ],
          "scatterternary": [
           {
            "marker": {
             "colorbar": {
              "outlinewidth": 0,
              "ticks": ""
             }
            },
            "type": "scatterternary"
           }
          ],
          "surface": [
           {
            "colorbar": {
             "outlinewidth": 0,
             "ticks": ""
            },
            "colorscale": [
             [
              0,
              "#0d0887"
             ],
             [
              0.1111111111111111,
              "#46039f"
             ],
             [
              0.2222222222222222,
              "#7201a8"
             ],
             [
              0.3333333333333333,
              "#9c179e"
             ],
             [
              0.4444444444444444,
              "#bd3786"
             ],
             [
              0.5555555555555556,
              "#d8576b"
             ],
             [
              0.6666666666666666,
              "#ed7953"
             ],
             [
              0.7777777777777778,
              "#fb9f3a"
             ],
             [
              0.8888888888888888,
              "#fdca26"
             ],
             [
              1,
              "#f0f921"
             ]
            ],
            "type": "surface"
           }
          ],
          "table": [
           {
            "cells": {
             "fill": {
              "color": "#EBF0F8"
             },
             "line": {
              "color": "white"
             }
            },
            "header": {
             "fill": {
              "color": "#C8D4E3"
             },
             "line": {
              "color": "white"
             }
            },
            "type": "table"
           }
          ]
         },
         "layout": {
          "annotationdefaults": {
           "arrowcolor": "#2a3f5f",
           "arrowhead": 0,
           "arrowwidth": 1
          },
          "autotypenumbers": "strict",
          "coloraxis": {
           "colorbar": {
            "outlinewidth": 0,
            "ticks": ""
           }
          },
          "colorscale": {
           "diverging": [
            [
             0,
             "#8e0152"
            ],
            [
             0.1,
             "#c51b7d"
            ],
            [
             0.2,
             "#de77ae"
            ],
            [
             0.3,
             "#f1b6da"
            ],
            [
             0.4,
             "#fde0ef"
            ],
            [
             0.5,
             "#f7f7f7"
            ],
            [
             0.6,
             "#e6f5d0"
            ],
            [
             0.7,
             "#b8e186"
            ],
            [
             0.8,
             "#7fbc41"
            ],
            [
             0.9,
             "#4d9221"
            ],
            [
             1,
             "#276419"
            ]
           ],
           "sequential": [
            [
             0,
             "#0d0887"
            ],
            [
             0.1111111111111111,
             "#46039f"
            ],
            [
             0.2222222222222222,
             "#7201a8"
            ],
            [
             0.3333333333333333,
             "#9c179e"
            ],
            [
             0.4444444444444444,
             "#bd3786"
            ],
            [
             0.5555555555555556,
             "#d8576b"
            ],
            [
             0.6666666666666666,
             "#ed7953"
            ],
            [
             0.7777777777777778,
             "#fb9f3a"
            ],
            [
             0.8888888888888888,
             "#fdca26"
            ],
            [
             1,
             "#f0f921"
            ]
           ],
           "sequentialminus": [
            [
             0,
             "#0d0887"
            ],
            [
             0.1111111111111111,
             "#46039f"
            ],
            [
             0.2222222222222222,
             "#7201a8"
            ],
            [
             0.3333333333333333,
             "#9c179e"
            ],
            [
             0.4444444444444444,
             "#bd3786"
            ],
            [
             0.5555555555555556,
             "#d8576b"
            ],
            [
             0.6666666666666666,
             "#ed7953"
            ],
            [
             0.7777777777777778,
             "#fb9f3a"
            ],
            [
             0.8888888888888888,
             "#fdca26"
            ],
            [
             1,
             "#f0f921"
            ]
           ]
          },
          "colorway": [
           "#636efa",
           "#EF553B",
           "#00cc96",
           "#ab63fa",
           "#FFA15A",
           "#19d3f3",
           "#FF6692",
           "#B6E880",
           "#FF97FF",
           "#FECB52"
          ],
          "font": {
           "color": "#2a3f5f"
          },
          "geo": {
           "bgcolor": "white",
           "lakecolor": "white",
           "landcolor": "#E5ECF6",
           "showlakes": true,
           "showland": true,
           "subunitcolor": "white"
          },
          "hoverlabel": {
           "align": "left"
          },
          "hovermode": "closest",
          "mapbox": {
           "style": "light"
          },
          "paper_bgcolor": "white",
          "plot_bgcolor": "#E5ECF6",
          "polar": {
           "angularaxis": {
            "gridcolor": "white",
            "linecolor": "white",
            "ticks": ""
           },
           "bgcolor": "#E5ECF6",
           "radialaxis": {
            "gridcolor": "white",
            "linecolor": "white",
            "ticks": ""
           }
          },
          "scene": {
           "xaxis": {
            "backgroundcolor": "#E5ECF6",
            "gridcolor": "white",
            "gridwidth": 2,
            "linecolor": "white",
            "showbackground": true,
            "ticks": "",
            "zerolinecolor": "white"
           },
           "yaxis": {
            "backgroundcolor": "#E5ECF6",
            "gridcolor": "white",
            "gridwidth": 2,
            "linecolor": "white",
            "showbackground": true,
            "ticks": "",
            "zerolinecolor": "white"
           },
           "zaxis": {
            "backgroundcolor": "#E5ECF6",
            "gridcolor": "white",
            "gridwidth": 2,
            "linecolor": "white",
            "showbackground": true,
            "ticks": "",
            "zerolinecolor": "white"
           }
          },
          "shapedefaults": {
           "line": {
            "color": "#2a3f5f"
           }
          },
          "ternary": {
           "aaxis": {
            "gridcolor": "white",
            "linecolor": "white",
            "ticks": ""
           },
           "baxis": {
            "gridcolor": "white",
            "linecolor": "white",
            "ticks": ""
           },
           "bgcolor": "#E5ECF6",
           "caxis": {
            "gridcolor": "white",
            "linecolor": "white",
            "ticks": ""
           }
          },
          "title": {
           "x": 0.05
          },
          "xaxis": {
           "automargin": true,
           "gridcolor": "white",
           "linecolor": "white",
           "ticks": "",
           "title": {
            "standoff": 15
           },
           "zerolinecolor": "white",
           "zerolinewidth": 2
          },
          "yaxis": {
           "automargin": true,
           "gridcolor": "white",
           "linecolor": "white",
           "ticks": "",
           "title": {
            "standoff": 15
           },
           "zerolinecolor": "white",
           "zerolinewidth": 2
          }
         }
        },
        "title": {
         "text": "Fuel Type vs Selling Price"
        },
        "width": 800,
        "xaxis": {
         "anchor": "y",
         "categoryarray": [
          2,
          1,
          0
         ],
         "categoryorder": "array",
         "domain": [
          0,
          1
         ],
         "title": {
          "text": "Fuel_Type"
         }
        },
        "yaxis": {
         "anchor": "x",
         "domain": [
          0,
          1
         ],
         "title": {
          "text": "Selling_Price"
         }
        }
       }
      }
     },
     "metadata": {},
     "output_type": "display_data"
    }
   ],
   "source": [
    "# Fuel Type vs Selling Price\n",
    "fig = px.box(df, x='Fuel_Type', y='Selling_Price', color='Fuel_Type', title='Fuel Type vs Selling Price')\n",
    "fig.update_layout(width=800, height=600)\n",
    "fig.show()"
   ]
  },
  {
   "cell_type": "code",
   "execution_count": 41,
   "metadata": {},
   "outputs": [
    {
     "data": {
      "application/vnd.plotly.v1+json": {
       "config": {
        "plotlyServerURL": "https://plot.ly"
       },
       "data": [
        {
         "alignmentgroup": "True",
         "box": {
          "visible": true
         },
         "hovertemplate": "Transmission=%{x}<br>Selling_Price=%{y}<extra></extra>",
         "legendgroup": "1",
         "marker": {
          "color": "rgb(95, 70, 144)"
         },
         "name": "1",
         "offsetgroup": "1",
         "orientation": "v",
         "points": "all",
         "scalegroup": "True",
         "showlegend": true,
         "type": "violin",
         "x": {
          "bdata": "AQAAAAEAAAABAAAAAQAAAAEAAAABAAAAAQAAAAEAAAABAAAAAQAAAAEAAAABAAAAAQAAAAEAAAABAAAAAQAAAAEAAAABAAAAAQAAAAEAAAABAAAAAQAAAAEAAAABAAAAAQAAAAEAAAABAAAAAQAAAAEAAAABAAAAAQAAAAEAAAABAAAAAQAAAAEAAAABAAAAAQAAAAEAAAABAAAAAQAAAAEAAAABAAAAAQAAAAEAAAABAAAAAQAAAAEAAAABAAAAAQAAAAEAAAABAAAAAQAAAAEAAAABAAAAAQAAAAEAAAABAAAAAQAAAAEAAAABAAAAAQAAAAEAAAABAAAAAQAAAAEAAAABAAAAAQAAAAEAAAABAAAAAQAAAAEAAAABAAAAAQAAAAEAAAABAAAAAQAAAAEAAAABAAAAAQAAAAEAAAABAAAAAQAAAAEAAAABAAAAAQAAAAEAAAABAAAAAQAAAAEAAAABAAAAAQAAAAEAAAABAAAAAQAAAAEAAAABAAAAAQAAAAEAAAABAAAAAQAAAAEAAAABAAAAAQAAAAEAAAABAAAAAQAAAAEAAAABAAAAAQAAAAEAAAABAAAAAQAAAAEAAAABAAAAAQAAAAEAAAABAAAAAQAAAAEAAAABAAAAAQAAAAEAAAABAAAAAQAAAAEAAAABAAAAAQAAAAEAAAABAAAAAQAAAAEAAAABAAAAAQAAAAEAAAABAAAAAQAAAAEAAAABAAAAAQAAAAEAAAABAAAAAQAAAAEAAAABAAAAAQAAAAEAAAABAAAAAQAAAAEAAAABAAAAAQAAAAEAAAABAAAAAQAAAAEAAAABAAAAAQAAAAEAAAABAAAAAQAAAAEAAAABAAAAAQAAAAEAAAABAAAAAQAAAAEAAAABAAAAAQAAAAEAAAABAAAAAQAAAAEAAAABAAAAAQAAAAEAAAABAAAAAQAAAAEAAAABAAAAAQAAAAEAAAABAAAAAQAAAAEAAAABAAAAAQAAAAEAAAABAAAAAQAAAAEAAAABAAAAAQAAAAEAAAABAAAAAQAAAAEAAAABAAAAAQAAAAEAAAABAAAAAQAAAAEAAAABAAAAAQAAAAEAAAABAAAAAQAAAAEAAAABAAAAAQAAAAEAAAABAAAAAQAAAAEAAAABAAAAAQAAAAEAAAABAAAAAQAAAAEAAAABAAAAAQAAAAEAAAABAAAAAQAAAAEAAAABAAAAAQAAAAEAAAABAAAAAQAAAAEAAAABAAAAAQAAAAEAAAABAAAAAQAAAAEAAAABAAAAAQAAAAEAAAABAAAAAQAAAAEAAAABAAAAAQAAAAEAAAABAAAAAQAAAAEAAAABAAAAAQAAAAEAAAABAAAAAQAAAAEAAAABAAAAAQAAAAEAAAABAAAA",
          "dtype": "i4"
         },
         "x0": " ",
         "xaxis": "x",
         "y": {
          "bdata": "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",
          "dtype": "f8"
         },
         "y0": " ",
         "yaxis": "y"
        },
        {
         "alignmentgroup": "True",
         "box": {
          "visible": true
         },
         "hovertemplate": "Transmission=%{x}<br>Selling_Price=%{y}<extra></extra>",
         "legendgroup": "0",
         "marker": {
          "color": "rgb(29, 105, 150)"
         },
         "name": "0",
         "offsetgroup": "0",
         "orientation": "v",
         "points": "all",
         "scalegroup": "True",
         "showlegend": true,
         "type": "violin",
         "x": {
          "bdata": "AAAAAAAAAAAAAAAAAAAAAAAAAAAAAAAAAAAAAAAAAAAAAAAAAAAAAAAAAAAAAAAAAAAAAAAAAAAAAAAAAAAAAAAAAAAAAAAAAAAAAAAAAAAAAAAAAAAAAAAAAAAAAAAAAAAAAAAAAAAAAAAAAAAAAAAAAAAAAAAAAAAAAAAAAAAAAAAAAAAAAAAAAAAAAAAAAAAAAAAAAAAAAAAAAAAAAA==",
          "dtype": "i4"
         },
         "x0": " ",
         "xaxis": "x",
         "y": {
          "bdata": "AAAAAAAAHkCamZmZmZkRQGZmZmZmZhdAAAAAAAAAHkAAAAAAAAAfQM3MzMzMzC1AAAAAAAAAN0AAAAAAAAAyQAAAAAAAADBAzczMzMzMDEA9CtejcP0zQAAAAAAAwDJAAAAAAACAN0AAAAAAAIBAQAAAAAAAwDNAAAAAAAAA+D8AAAAAAAAVQAAAAAAAAC1AAAAAAAAAN0AAAAAAAAAEQAAAAAAAADdAAAAAAAAAEEAAAAAAAMA0QLgehetRuN4/zczMzMzM3D/NzMzMzMzcP5qZmZmZmdk/ZmZmZmZm1j9mZmZmZmbWPwAAAAAAANA/AAAAAAAA0D/D9Shcj8LFP5qZmZmZmRRAAAAAAAAAEkBxPQrXo3AUQGZmZmZm5iZAmpmZmZmZFUDNzMzMzMwlQJqZmZmZmR1AAAAAAAAAF0A=",
          "dtype": "f8"
         },
         "y0": " ",
         "yaxis": "y"
        }
       ],
       "layout": {
        "height": 600,
        "legend": {
         "title": {
          "text": "Transmission"
         },
         "tracegroupgap": 0
        },
        "template": {
         "data": {
          "bar": [
           {
            "error_x": {
             "color": "#2a3f5f"
            },
            "error_y": {
             "color": "#2a3f5f"
            },
            "marker": {
             "line": {
              "color": "#E5ECF6",
              "width": 0.5
             },
             "pattern": {
              "fillmode": "overlay",
              "size": 10,
              "solidity": 0.2
             }
            },
            "type": "bar"
           }
          ],
          "barpolar": [
           {
            "marker": {
             "line": {
              "color": "#E5ECF6",
              "width": 0.5
             },
             "pattern": {
              "fillmode": "overlay",
              "size": 10,
              "solidity": 0.2
             }
            },
            "type": "barpolar"
           }
          ],
          "carpet": [
           {
            "aaxis": {
             "endlinecolor": "#2a3f5f",
             "gridcolor": "white",
             "linecolor": "white",
             "minorgridcolor": "white",
             "startlinecolor": "#2a3f5f"
            },
            "baxis": {
             "endlinecolor": "#2a3f5f",
             "gridcolor": "white",
             "linecolor": "white",
             "minorgridcolor": "white",
             "startlinecolor": "#2a3f5f"
            },
            "type": "carpet"
           }
          ],
          "choropleth": [
           {
            "colorbar": {
             "outlinewidth": 0,
             "ticks": ""
            },
            "type": "choropleth"
           }
          ],
          "contour": [
           {
            "colorbar": {
             "outlinewidth": 0,
             "ticks": ""
            },
            "colorscale": [
             [
              0,
              "#0d0887"
             ],
             [
              0.1111111111111111,
              "#46039f"
             ],
             [
              0.2222222222222222,
              "#7201a8"
             ],
             [
              0.3333333333333333,
              "#9c179e"
             ],
             [
              0.4444444444444444,
              "#bd3786"
             ],
             [
              0.5555555555555556,
              "#d8576b"
             ],
             [
              0.6666666666666666,
              "#ed7953"
             ],
             [
              0.7777777777777778,
              "#fb9f3a"
             ],
             [
              0.8888888888888888,
              "#fdca26"
             ],
             [
              1,
              "#f0f921"
             ]
            ],
            "type": "contour"
           }
          ],
          "contourcarpet": [
           {
            "colorbar": {
             "outlinewidth": 0,
             "ticks": ""
            },
            "type": "contourcarpet"
           }
          ],
          "heatmap": [
           {
            "colorbar": {
             "outlinewidth": 0,
             "ticks": ""
            },
            "colorscale": [
             [
              0,
              "#0d0887"
             ],
             [
              0.1111111111111111,
              "#46039f"
             ],
             [
              0.2222222222222222,
              "#7201a8"
             ],
             [
              0.3333333333333333,
              "#9c179e"
             ],
             [
              0.4444444444444444,
              "#bd3786"
             ],
             [
              0.5555555555555556,
              "#d8576b"
             ],
             [
              0.6666666666666666,
              "#ed7953"
             ],
             [
              0.7777777777777778,
              "#fb9f3a"
             ],
             [
              0.8888888888888888,
              "#fdca26"
             ],
             [
              1,
              "#f0f921"
             ]
            ],
            "type": "heatmap"
           }
          ],
          "histogram": [
           {
            "marker": {
             "pattern": {
              "fillmode": "overlay",
              "size": 10,
              "solidity": 0.2
             }
            },
            "type": "histogram"
           }
          ],
          "histogram2d": [
           {
            "colorbar": {
             "outlinewidth": 0,
             "ticks": ""
            },
            "colorscale": [
             [
              0,
              "#0d0887"
             ],
             [
              0.1111111111111111,
              "#46039f"
             ],
             [
              0.2222222222222222,
              "#7201a8"
             ],
             [
              0.3333333333333333,
              "#9c179e"
             ],
             [
              0.4444444444444444,
              "#bd3786"
             ],
             [
              0.5555555555555556,
              "#d8576b"
             ],
             [
              0.6666666666666666,
              "#ed7953"
             ],
             [
              0.7777777777777778,
              "#fb9f3a"
             ],
             [
              0.8888888888888888,
              "#fdca26"
             ],
             [
              1,
              "#f0f921"
             ]
            ],
            "type": "histogram2d"
           }
          ],
          "histogram2dcontour": [
           {
            "colorbar": {
             "outlinewidth": 0,
             "ticks": ""
            },
            "colorscale": [
             [
              0,
              "#0d0887"
             ],
             [
              0.1111111111111111,
              "#46039f"
             ],
             [
              0.2222222222222222,
              "#7201a8"
             ],
             [
              0.3333333333333333,
              "#9c179e"
             ],
             [
              0.4444444444444444,
              "#bd3786"
             ],
             [
              0.5555555555555556,
              "#d8576b"
             ],
             [
              0.6666666666666666,
              "#ed7953"
             ],
             [
              0.7777777777777778,
              "#fb9f3a"
             ],
             [
              0.8888888888888888,
              "#fdca26"
             ],
             [
              1,
              "#f0f921"
             ]
            ],
            "type": "histogram2dcontour"
           }
          ],
          "mesh3d": [
           {
            "colorbar": {
             "outlinewidth": 0,
             "ticks": ""
            },
            "type": "mesh3d"
           }
          ],
          "parcoords": [
           {
            "line": {
             "colorbar": {
              "outlinewidth": 0,
              "ticks": ""
             }
            },
            "type": "parcoords"
           }
          ],
          "pie": [
           {
            "automargin": true,
            "type": "pie"
           }
          ],
          "scatter": [
           {
            "fillpattern": {
             "fillmode": "overlay",
             "size": 10,
             "solidity": 0.2
            },
            "type": "scatter"
           }
          ],
          "scatter3d": [
           {
            "line": {
             "colorbar": {
              "outlinewidth": 0,
              "ticks": ""
             }
            },
            "marker": {
             "colorbar": {
              "outlinewidth": 0,
              "ticks": ""
             }
            },
            "type": "scatter3d"
           }
          ],
          "scattercarpet": [
           {
            "marker": {
             "colorbar": {
              "outlinewidth": 0,
              "ticks": ""
             }
            },
            "type": "scattercarpet"
           }
          ],
          "scattergeo": [
           {
            "marker": {
             "colorbar": {
              "outlinewidth": 0,
              "ticks": ""
             }
            },
            "type": "scattergeo"
           }
          ],
          "scattergl": [
           {
            "marker": {
             "colorbar": {
              "outlinewidth": 0,
              "ticks": ""
             }
            },
            "type": "scattergl"
           }
          ],
          "scattermap": [
           {
            "marker": {
             "colorbar": {
              "outlinewidth": 0,
              "ticks": ""
             }
            },
            "type": "scattermap"
           }
          ],
          "scattermapbox": [
           {
            "marker": {
             "colorbar": {
              "outlinewidth": 0,
              "ticks": ""
             }
            },
            "type": "scattermapbox"
           }
          ],
          "scatterpolar": [
           {
            "marker": {
             "colorbar": {
              "outlinewidth": 0,
              "ticks": ""
             }
            },
            "type": "scatterpolar"
           }
          ],
          "scatterpolargl": [
           {
            "marker": {
             "colorbar": {
              "outlinewidth": 0,
              "ticks": ""
             }
            },
            "type": "scatterpolargl"
           }
          ],
          "scatterternary": [
           {
            "marker": {
             "colorbar": {
              "outlinewidth": 0,
              "ticks": ""
             }
            },
            "type": "scatterternary"
           }
          ],
          "surface": [
           {
            "colorbar": {
             "outlinewidth": 0,
             "ticks": ""
            },
            "colorscale": [
             [
              0,
              "#0d0887"
             ],
             [
              0.1111111111111111,
              "#46039f"
             ],
             [
              0.2222222222222222,
              "#7201a8"
             ],
             [
              0.3333333333333333,
              "#9c179e"
             ],
             [
              0.4444444444444444,
              "#bd3786"
             ],
             [
              0.5555555555555556,
              "#d8576b"
             ],
             [
              0.6666666666666666,
              "#ed7953"
             ],
             [
              0.7777777777777778,
              "#fb9f3a"
             ],
             [
              0.8888888888888888,
              "#fdca26"
             ],
             [
              1,
              "#f0f921"
             ]
            ],
            "type": "surface"
           }
          ],
          "table": [
           {
            "cells": {
             "fill": {
              "color": "#EBF0F8"
             },
             "line": {
              "color": "white"
             }
            },
            "header": {
             "fill": {
              "color": "#C8D4E3"
             },
             "line": {
              "color": "white"
             }
            },
            "type": "table"
           }
          ]
         },
         "layout": {
          "annotationdefaults": {
           "arrowcolor": "#2a3f5f",
           "arrowhead": 0,
           "arrowwidth": 1
          },
          "autotypenumbers": "strict",
          "coloraxis": {
           "colorbar": {
            "outlinewidth": 0,
            "ticks": ""
           }
          },
          "colorscale": {
           "diverging": [
            [
             0,
             "#8e0152"
            ],
            [
             0.1,
             "#c51b7d"
            ],
            [
             0.2,
             "#de77ae"
            ],
            [
             0.3,
             "#f1b6da"
            ],
            [
             0.4,
             "#fde0ef"
            ],
            [
             0.5,
             "#f7f7f7"
            ],
            [
             0.6,
             "#e6f5d0"
            ],
            [
             0.7,
             "#b8e186"
            ],
            [
             0.8,
             "#7fbc41"
            ],
            [
             0.9,
             "#4d9221"
            ],
            [
             1,
             "#276419"
            ]
           ],
           "sequential": [
            [
             0,
             "#0d0887"
            ],
            [
             0.1111111111111111,
             "#46039f"
            ],
            [
             0.2222222222222222,
             "#7201a8"
            ],
            [
             0.3333333333333333,
             "#9c179e"
            ],
            [
             0.4444444444444444,
             "#bd3786"
            ],
            [
             0.5555555555555556,
             "#d8576b"
            ],
            [
             0.6666666666666666,
             "#ed7953"
            ],
            [
             0.7777777777777778,
             "#fb9f3a"
            ],
            [
             0.8888888888888888,
             "#fdca26"
            ],
            [
             1,
             "#f0f921"
            ]
           ],
           "sequentialminus": [
            [
             0,
             "#0d0887"
            ],
            [
             0.1111111111111111,
             "#46039f"
            ],
            [
             0.2222222222222222,
             "#7201a8"
            ],
            [
             0.3333333333333333,
             "#9c179e"
            ],
            [
             0.4444444444444444,
             "#bd3786"
            ],
            [
             0.5555555555555556,
             "#d8576b"
            ],
            [
             0.6666666666666666,
             "#ed7953"
            ],
            [
             0.7777777777777778,
             "#fb9f3a"
            ],
            [
             0.8888888888888888,
             "#fdca26"
            ],
            [
             1,
             "#f0f921"
            ]
           ]
          },
          "colorway": [
           "#636efa",
           "#EF553B",
           "#00cc96",
           "#ab63fa",
           "#FFA15A",
           "#19d3f3",
           "#FF6692",
           "#B6E880",
           "#FF97FF",
           "#FECB52"
          ],
          "font": {
           "color": "#2a3f5f"
          },
          "geo": {
           "bgcolor": "white",
           "lakecolor": "white",
           "landcolor": "#E5ECF6",
           "showlakes": true,
           "showland": true,
           "subunitcolor": "white"
          },
          "hoverlabel": {
           "align": "left"
          },
          "hovermode": "closest",
          "mapbox": {
           "style": "light"
          },
          "paper_bgcolor": "white",
          "plot_bgcolor": "#E5ECF6",
          "polar": {
           "angularaxis": {
            "gridcolor": "white",
            "linecolor": "white",
            "ticks": ""
           },
           "bgcolor": "#E5ECF6",
           "radialaxis": {
            "gridcolor": "white",
            "linecolor": "white",
            "ticks": ""
           }
          },
          "scene": {
           "xaxis": {
            "backgroundcolor": "#E5ECF6",
            "gridcolor": "white",
            "gridwidth": 2,
            "linecolor": "white",
            "showbackground": true,
            "ticks": "",
            "zerolinecolor": "white"
           },
           "yaxis": {
            "backgroundcolor": "#E5ECF6",
            "gridcolor": "white",
            "gridwidth": 2,
            "linecolor": "white",
            "showbackground": true,
            "ticks": "",
            "zerolinecolor": "white"
           },
           "zaxis": {
            "backgroundcolor": "#E5ECF6",
            "gridcolor": "white",
            "gridwidth": 2,
            "linecolor": "white",
            "showbackground": true,
            "ticks": "",
            "zerolinecolor": "white"
           }
          },
          "shapedefaults": {
           "line": {
            "color": "#2a3f5f"
           }
          },
          "ternary": {
           "aaxis": {
            "gridcolor": "white",
            "linecolor": "white",
            "ticks": ""
           },
           "baxis": {
            "gridcolor": "white",
            "linecolor": "white",
            "ticks": ""
           },
           "bgcolor": "#E5ECF6",
           "caxis": {
            "gridcolor": "white",
            "linecolor": "white",
            "ticks": ""
           }
          },
          "title": {
           "x": 0.05
          },
          "xaxis": {
           "automargin": true,
           "gridcolor": "white",
           "linecolor": "white",
           "ticks": "",
           "title": {
            "standoff": 15
           },
           "zerolinecolor": "white",
           "zerolinewidth": 2
          },
          "yaxis": {
           "automargin": true,
           "gridcolor": "white",
           "linecolor": "white",
           "ticks": "",
           "title": {
            "standoff": 15
           },
           "zerolinecolor": "white",
           "zerolinewidth": 2
          }
         }
        },
        "title": {
         "text": "Transmission vs Selling Price"
        },
        "violinmode": "overlay",
        "width": 800,
        "xaxis": {
         "anchor": "y",
         "categoryarray": [
          1,
          0
         ],
         "categoryorder": "array",
         "domain": [
          0,
          1
         ],
         "title": {
          "text": "Transmission"
         }
        },
        "yaxis": {
         "anchor": "x",
         "domain": [
          0,
          1
         ],
         "title": {
          "text": "Selling_Price"
         }
        }
       }
      }
     },
     "metadata": {},
     "output_type": "display_data"
    }
   ],
   "source": [
    "# Transmission vs Selling Price\n",
    "\n",
    "fig = px.violin(df, x='Transmission', y='Selling_Price', box=True, points='all', color='Transmission',\n",
    "                 color_discrete_sequence=px.colors.qualitative.Prism, title='Transmission vs Selling Price')\n",
    "fig.update_layout(width=800, height=600)\n",
    "fig.show()"
   ]
  },
  {
   "cell_type": "code",
   "execution_count": 47,
   "metadata": {},
   "outputs": [
    {
     "data": {
      "application/vnd.plotly.v1+json": {
       "config": {
        "plotlyServerURL": "https://plot.ly"
       },
       "data": [
        {
         "alignmentgroup": "True",
         "hovertemplate": "Selling_type=%{x}<br>Selling_Price=%{y}<extra></extra>",
         "legendgroup": "0",
         "marker": {
          "color": "#00cc96"
         },
         "name": "0",
         "notched": false,
         "offsetgroup": "0",
         "orientation": "v",
         "showlegend": true,
         "type": "box",
         "x": {
          "bdata": "AAAAAAAAAAAAAAAAAAAAAAAAAAAAAAAAAAAAAAAAAAAAAAAAAAAAAAAAAAAAAAAAAAAAAAAAAAAAAAAAAAAAAAAAAAAAAAAAAAAAAAAAAAAAAAAAAAAAAAAAAAAAAAAAAAAAAAAAAAAAAAAAAAAAAAAAAAAAAAAAAAAAAAAAAAAAAAAAAAAAAAAAAAAAAAAAAAAAAAAAAAAAAAAAAAAAAAAAAAAAAAAAAAAAAAAAAAAAAAAAAAAAAAAAAAAAAAAAAAAAAAAAAAAAAAAAAAAAAAAAAAAAAAAAAAAAAAAAAAAAAAAAAAAAAAAAAAAAAAAAAAAAAAAAAAAAAAAAAAAAAAAAAAAAAAAAAAAAAAAAAAAAAAAAAAAAAAAAAAAAAAAAAAAAAAAAAAAAAAAAAAAAAAAAAAAAAAAAAAAAAAAAAAAAAAAAAAAAAAAAAAAAAAAAAAAAAAAAAAAAAAAAAAAAAAAAAAAAAAAAAAAAAAAAAAAAAAAAAAAAAAAAAAAAAAAAAAAAAAAAAAAAAAAAAAAAAAAAAAAAAAAAAAAAAAAAAAAAAAAAAAAAAAAAAAAAAAAAAAAAAAAAAAAAAAAAAAAAAAAAAAAAAAAAAAAAAAAAAAAAAAAAAAAAAAAAAAAAAAAAAAAAAAAAAAAAAAAAAAAAAAAAAAAAAAAAAAAAAAAAAAAAAAAAAAAAAAAAAAAAAAAAAAAAAAAAAAAAAAAAAAAAAAAAAAAAAAAAAAAAAAAAAAAAAAAAAAAAAAAAAAAAAAAAAAAAAAAAAAAAAAAAAAAAAAAAAAAAAAAAAAAAAAAAAAAAAAAAAAAAAAAAAAAAAAAAAAAAAAAAAAAAAAAAAAAAAAAAAAAAAAAAAAAAAAAAAAAAAAAAAAAAAAAAAAAAAAAAAAAAAAAAAAAAAAAAAAAAAAAAAAAAAAAAAAAAAAAAAAAAAAAAAAAAAAAAAAAAAAAAAAAAAAAAAAAAAAAAAAAAAAAAAAAAAAAAAAAAAAAAAAAAAAAAAAAAAAAAAAAAAAAAAAAAAAAAAAAAAAAA",
          "dtype": "i4"
         },
         "x0": " ",
         "xaxis": "x",
         "y": {
          "bdata": "zczMzMzMCkAAAAAAAAATQAAAAAAAAB1AzczMzMzMBkBmZmZmZmYSQAAAAAAAgCJAAAAAAAAAG0AAAAAAAAAaQAAAAAAAgCFAzczMzMzMHUDNzMzMzMwGQGZmZmZmZhtAAAAAAAAAHkBmZmZmZmYYQAAAAAAAAAJAAAAAAAAAH0AAAAAAAAAdQAAAAAAAAB9AAAAAAAAACkAzMzMzMzMFQM3MzMzMzAZAmpmZmZmZE0CamZmZmZkRQAAAAAAAAARAMzMzMzMzB0AAAAAAAAAIQJqZmZmZmRBAMzMzMzMz/z/NzMzMzMwdQM3MzMzMzAhAzczMzMzMAkDNzMzMzMwTQAAAAAAAABhAAAAAAAAAFkCamZmZmZkHQJqZmZmZmRJAAAAAAAAACEAAAAAAAAACQGZmZmZmZhdAZmZmZmZmBEAzMzMzMzP/PwAAAAAAABZAAAAAAAAA9D8AAAAAAAAeQDMzMzMzMwVAzczMzMzM8D8zMzMzMzMXQAAAAAAAAB9AzczMzMzMLUAAAAAAAAA3QAAAAAAAADJAzczMzMzMDEAAAAAAAAASQAAAAAAAABNAZmZmZmZmEEA9CtejcP0zQM3MzMzMzBtAAAAAAAAAEkAAAAAAAMAyQAAAAAAAgDdAAAAAAACAQEAAAAAAAAATQAAAAAAAwDNAAAAAAACAIkBmZmZmZmYRQAAAAAAAgCxAmpmZmZmZD0AAAAAAAAASQM3MzMzMzB1AMzMzMzMzBUCamZmZmZkTQJqZmZmZmQ9AAAAAAAAAFkAAAAAAAAD4PwAAAAAAABVAAAAAAAAALUD2KFyPwnUtQAAAAAAAABNAAAAAAAAAN0AAAAAAAAApQOxRuB6F6wtAAAAAAACAQUCamZmZmZkXQJqZmZmZmQtAAAAAAAAAE0BmZmZmZmYOQAAAAAAAgCZAFK5H4XoUDEAAAAAAAAA3QAAAAAAAABBAZmZmZmZmF0AAAAAAAMA0QAAAAAAAADFAMzMzMzMzHEDNzMzMzEwjQAAAAAAAAApAmpmZmZmZEUCamZmZmZkHQAAAAAAAAAZAAAAAAAAAFUAAAAAAAAAXQJqZmZmZmRRAmpmZmZmZH0BmZmZmZmYTQM3MzMzMzAhAAAAAAACAJ0AAAAAAAIAmQDMzMzMzMwdAAAAAAAAAFUAAAAAAAAASQDMzMzMzMwdAMzMzMzMzCUDNzMzMzMwZQAAAAAAAABJAAAAAAAAADEAAAAAAAAASQAAAAAAAABhAAAAAAACAIEBxPQrXo3AUQJqZmZmZmQVAAAAAAAAAFUBmZmZmZmYEQM3MzMzMzBNAzczMzMzMCECamZmZmZkYQAAAAAAAgCJAZmZmZmbmJkAzMzMzMzMPQAAAAAAAABZAMzMzMzMzIkDNzMzMzMwIQAAAAAAAgCZAMzMzMzMzE0AAAAAAAAAAQGZmZmZmZhVAAAAAAAAAE0CamZmZmZkRQAAAAAAAABlAzczMzMzMF0DNzMzMzMwUQAAAAAAAAA5AzczMzMzMF0AAAAAAAAAQQAAAAAAAABVAzczMzMzMKUAAAAAAAAAUQJqZmZmZmRVAzczMzMzMHEAAAAAAAAAVQAAAAAAAAAhAAAAAAACAJEAAAAAAAAAhQM3MzMzMzCBAMzMzMzMzD0DNzMzMzEwiQAAAAAAAABZAAAAAAAAAEEBmZmZmZmYaQAAAAAAAABBAAAAAAAAAGkAzMzMzMzMNQDMzMzMzsyBAMzMzMzMzE0DNzMzMzMwaQGZmZmZmZhBAAAAAAAAACEAAAAAAAAAeQAAAAAAAAAJAMzMzMzMzFUDNzMzMzMwlQM3MzMzMTCFAZmZmZmZmI0AAAAAAAAAYQAAAAAAAABlAAAAAAAAAFUDNzMzMzMwAQAAAAAAAgCBAexSuR+H6IUAAAAAAAAAMQJqZmZmZmR1AmpmZmZmZFkAAAAAAAAAXQM3MzMzMzCBAuB6F61E4JEAAAAAAAAASQJqZmZmZmRVAmpmZmZmZGUAAAAAAAAAKQAAAAAAAAA5AmpmZmZkZIUAAAAAAAAAjQAAAAAAAABBAzczMzMzMCkAAAAAAAAAnQDMzMzMzMxVA",
          "dtype": "f8"
         },
         "y0": " ",
         "yaxis": "y"
        },
        {
         "alignmentgroup": "True",
         "hovertemplate": "Selling_type=%{x}<br>Selling_Price=%{y}<extra></extra>",
         "legendgroup": "1",
         "marker": {
          "color": "#ab63fa"
         },
         "name": "1",
         "notched": false,
         "offsetgroup": "1",
         "orientation": "v",
         "showlegend": true,
         "type": "box",
         "x": {
          "bdata": "AQAAAAEAAAABAAAAAQAAAAEAAAABAAAAAQAAAAEAAAABAAAAAQAAAAEAAAABAAAAAQAAAAEAAAABAAAAAQAAAAEAAAABAAAAAQAAAAEAAAABAAAAAQAAAAEAAAABAAAAAQAAAAEAAAABAAAAAQAAAAEAAAABAAAAAQAAAAEAAAABAAAAAQAAAAEAAAABAAAAAQAAAAEAAAABAAAAAQAAAAEAAAABAAAAAQAAAAEAAAABAAAAAQAAAAEAAAABAAAAAQAAAAEAAAABAAAAAQAAAAEAAAABAAAAAQAAAAEAAAABAAAAAQAAAAEAAAABAAAAAQAAAAEAAAABAAAAAQAAAAEAAAABAAAAAQAAAAEAAAABAAAAAQAAAAEAAAABAAAAAQAAAAEAAAABAAAAAQAAAAEAAAABAAAAAQAAAAEAAAABAAAAAQAAAAEAAAABAAAAAQAAAAEAAAABAAAAAQAAAAEAAAABAAAAAQAAAAEAAAABAAAAAQAAAAEAAAABAAAAAQAAAAEAAAABAAAAAQAAAAEAAAABAAAAAQAAAAEAAAABAAAAAQAAAA==",
          "dtype": "i4"
         },
         "x0": " ",
         "xaxis": "x",
         "y": {
          "bdata": "AAAAAAAAGEBmZmZmZmbWPwAAAAAAADBAAAAAAAAABkAAAAAAAAAEQAAAAAAAAPw/MzMzMzMz+z9mZmZmZmb6PzMzMzMzM/c/mpmZmZmZ9T+amZmZmZn1P5qZmZmZmfU/AAAAAAAA9D8zMzMzMzPzPzMzMzMzM/M/MzMzMzMz8z9mZmZmZmbyP2ZmZmZmZvI/ZmZmZmZm8j9mZmZmZmbyP8P1KFyPwvE/mpmZmZmZ8T+amZmZmZnxP5qZmZmZmfE/zczMzMzM8D/NzMzMzMzwP83MzMzMzPA/zczMzMzM8D8AAAAAAADwP2ZmZmZmZu4/zczMzMzM7D/NzMzMzMzsPwAAAAAAAOg/mpmZmZmZ6T/2KFyPwvXoPwAAAAAAAOg/AAAAAAAA6D8AAAAAAADoPwrXo3A9Cuc/zczMzMzM5D/NzMzMzMzkP83MzMzMzOQ/zczMzMzM5D8zMzMzMzPjPzMzMzMzM+M/MzMzMzMz4z8zMzMzMzPjPzMzMzMzM+M/MzMzMzMz4z8zMzMzMzPjPzMzMzMzM+M/mpmZmZmZ4T+amZmZmZnhP6RwPQrXo+A/UrgehetR4D8AAAAAAADgPwAAAAAAAOA/AAAAAAAA4D8AAAAAAADgPwAAAAAAAOA/uB6F61G43j+4HoXrUbjeP7gehetRuN4/uB6F61G43j/NzMzMzMzcP83MzMzMzNw/zczMzMzM3D/NzMzMzMzcP83MzMzMzNw/zczMzMzM3D/NzMzMzMzcP83MzMzMzNw/4XoUrkfh2j/hehSuR+HaP5qZmZmZmdk/mpmZmZmZ2T+amZmZmZnZP5qZmZmZmdk/mpmZmZmZ2T9SuB6F61HYP1K4HoXrUdg/ZmZmZmZm1j9mZmZmZmbWP2ZmZmZmZtY/16NwPQrX0z8zMzMzMzPTPzMzMzMzM9M/MzMzMzMz0z9I4XoUrkfRPwAAAAAAANA/AAAAAAAA0D8AAAAAAADQPwAAAAAAANA/AAAAAAAA0D+amZmZmZnJP5qZmZmZmck/mpmZmZmZyT+amZmZmZnJP5qZmZmZmck/mpmZmZmZyT8K16NwPQrHP8P1KFyPwsU/exSuR+F6xD8zMzMzMzPDP7gehetRuL4/mpmZmZmZuT8=",
          "dtype": "f8"
         },
         "y0": " ",
         "yaxis": "y"
        }
       ],
       "layout": {
        "boxmode": "overlay",
        "height": 600,
        "legend": {
         "title": {
          "text": "Selling_type"
         },
         "tracegroupgap": 0
        },
        "template": {
         "data": {
          "bar": [
           {
            "error_x": {
             "color": "#2a3f5f"
            },
            "error_y": {
             "color": "#2a3f5f"
            },
            "marker": {
             "line": {
              "color": "#E5ECF6",
              "width": 0.5
             },
             "pattern": {
              "fillmode": "overlay",
              "size": 10,
              "solidity": 0.2
             }
            },
            "type": "bar"
           }
          ],
          "barpolar": [
           {
            "marker": {
             "line": {
              "color": "#E5ECF6",
              "width": 0.5
             },
             "pattern": {
              "fillmode": "overlay",
              "size": 10,
              "solidity": 0.2
             }
            },
            "type": "barpolar"
           }
          ],
          "carpet": [
           {
            "aaxis": {
             "endlinecolor": "#2a3f5f",
             "gridcolor": "white",
             "linecolor": "white",
             "minorgridcolor": "white",
             "startlinecolor": "#2a3f5f"
            },
            "baxis": {
             "endlinecolor": "#2a3f5f",
             "gridcolor": "white",
             "linecolor": "white",
             "minorgridcolor": "white",
             "startlinecolor": "#2a3f5f"
            },
            "type": "carpet"
           }
          ],
          "choropleth": [
           {
            "colorbar": {
             "outlinewidth": 0,
             "ticks": ""
            },
            "type": "choropleth"
           }
          ],
          "contour": [
           {
            "colorbar": {
             "outlinewidth": 0,
             "ticks": ""
            },
            "colorscale": [
             [
              0,
              "#0d0887"
             ],
             [
              0.1111111111111111,
              "#46039f"
             ],
             [
              0.2222222222222222,
              "#7201a8"
             ],
             [
              0.3333333333333333,
              "#9c179e"
             ],
             [
              0.4444444444444444,
              "#bd3786"
             ],
             [
              0.5555555555555556,
              "#d8576b"
             ],
             [
              0.6666666666666666,
              "#ed7953"
             ],
             [
              0.7777777777777778,
              "#fb9f3a"
             ],
             [
              0.8888888888888888,
              "#fdca26"
             ],
             [
              1,
              "#f0f921"
             ]
            ],
            "type": "contour"
           }
          ],
          "contourcarpet": [
           {
            "colorbar": {
             "outlinewidth": 0,
             "ticks": ""
            },
            "type": "contourcarpet"
           }
          ],
          "heatmap": [
           {
            "colorbar": {
             "outlinewidth": 0,
             "ticks": ""
            },
            "colorscale": [
             [
              0,
              "#0d0887"
             ],
             [
              0.1111111111111111,
              "#46039f"
             ],
             [
              0.2222222222222222,
              "#7201a8"
             ],
             [
              0.3333333333333333,
              "#9c179e"
             ],
             [
              0.4444444444444444,
              "#bd3786"
             ],
             [
              0.5555555555555556,
              "#d8576b"
             ],
             [
              0.6666666666666666,
              "#ed7953"
             ],
             [
              0.7777777777777778,
              "#fb9f3a"
             ],
             [
              0.8888888888888888,
              "#fdca26"
             ],
             [
              1,
              "#f0f921"
             ]
            ],
            "type": "heatmap"
           }
          ],
          "histogram": [
           {
            "marker": {
             "pattern": {
              "fillmode": "overlay",
              "size": 10,
              "solidity": 0.2
             }
            },
            "type": "histogram"
           }
          ],
          "histogram2d": [
           {
            "colorbar": {
             "outlinewidth": 0,
             "ticks": ""
            },
            "colorscale": [
             [
              0,
              "#0d0887"
             ],
             [
              0.1111111111111111,
              "#46039f"
             ],
             [
              0.2222222222222222,
              "#7201a8"
             ],
             [
              0.3333333333333333,
              "#9c179e"
             ],
             [
              0.4444444444444444,
              "#bd3786"
             ],
             [
              0.5555555555555556,
              "#d8576b"
             ],
             [
              0.6666666666666666,
              "#ed7953"
             ],
             [
              0.7777777777777778,
              "#fb9f3a"
             ],
             [
              0.8888888888888888,
              "#fdca26"
             ],
             [
              1,
              "#f0f921"
             ]
            ],
            "type": "histogram2d"
           }
          ],
          "histogram2dcontour": [
           {
            "colorbar": {
             "outlinewidth": 0,
             "ticks": ""
            },
            "colorscale": [
             [
              0,
              "#0d0887"
             ],
             [
              0.1111111111111111,
              "#46039f"
             ],
             [
              0.2222222222222222,
              "#7201a8"
             ],
             [
              0.3333333333333333,
              "#9c179e"
             ],
             [
              0.4444444444444444,
              "#bd3786"
             ],
             [
              0.5555555555555556,
              "#d8576b"
             ],
             [
              0.6666666666666666,
              "#ed7953"
             ],
             [
              0.7777777777777778,
              "#fb9f3a"
             ],
             [
              0.8888888888888888,
              "#fdca26"
             ],
             [
              1,
              "#f0f921"
             ]
            ],
            "type": "histogram2dcontour"
           }
          ],
          "mesh3d": [
           {
            "colorbar": {
             "outlinewidth": 0,
             "ticks": ""
            },
            "type": "mesh3d"
           }
          ],
          "parcoords": [
           {
            "line": {
             "colorbar": {
              "outlinewidth": 0,
              "ticks": ""
             }
            },
            "type": "parcoords"
           }
          ],
          "pie": [
           {
            "automargin": true,
            "type": "pie"
           }
          ],
          "scatter": [
           {
            "fillpattern": {
             "fillmode": "overlay",
             "size": 10,
             "solidity": 0.2
            },
            "type": "scatter"
           }
          ],
          "scatter3d": [
           {
            "line": {
             "colorbar": {
              "outlinewidth": 0,
              "ticks": ""
             }
            },
            "marker": {
             "colorbar": {
              "outlinewidth": 0,
              "ticks": ""
             }
            },
            "type": "scatter3d"
           }
          ],
          "scattercarpet": [
           {
            "marker": {
             "colorbar": {
              "outlinewidth": 0,
              "ticks": ""
             }
            },
            "type": "scattercarpet"
           }
          ],
          "scattergeo": [
           {
            "marker": {
             "colorbar": {
              "outlinewidth": 0,
              "ticks": ""
             }
            },
            "type": "scattergeo"
           }
          ],
          "scattergl": [
           {
            "marker": {
             "colorbar": {
              "outlinewidth": 0,
              "ticks": ""
             }
            },
            "type": "scattergl"
           }
          ],
          "scattermap": [
           {
            "marker": {
             "colorbar": {
              "outlinewidth": 0,
              "ticks": ""
             }
            },
            "type": "scattermap"
           }
          ],
          "scattermapbox": [
           {
            "marker": {
             "colorbar": {
              "outlinewidth": 0,
              "ticks": ""
             }
            },
            "type": "scattermapbox"
           }
          ],
          "scatterpolar": [
           {
            "marker": {
             "colorbar": {
              "outlinewidth": 0,
              "ticks": ""
             }
            },
            "type": "scatterpolar"
           }
          ],
          "scatterpolargl": [
           {
            "marker": {
             "colorbar": {
              "outlinewidth": 0,
              "ticks": ""
             }
            },
            "type": "scatterpolargl"
           }
          ],
          "scatterternary": [
           {
            "marker": {
             "colorbar": {
              "outlinewidth": 0,
              "ticks": ""
             }
            },
            "type": "scatterternary"
           }
          ],
          "surface": [
           {
            "colorbar": {
             "outlinewidth": 0,
             "ticks": ""
            },
            "colorscale": [
             [
              0,
              "#0d0887"
             ],
             [
              0.1111111111111111,
              "#46039f"
             ],
             [
              0.2222222222222222,
              "#7201a8"
             ],
             [
              0.3333333333333333,
              "#9c179e"
             ],
             [
              0.4444444444444444,
              "#bd3786"
             ],
             [
              0.5555555555555556,
              "#d8576b"
             ],
             [
              0.6666666666666666,
              "#ed7953"
             ],
             [
              0.7777777777777778,
              "#fb9f3a"
             ],
             [
              0.8888888888888888,
              "#fdca26"
             ],
             [
              1,
              "#f0f921"
             ]
            ],
            "type": "surface"
           }
          ],
          "table": [
           {
            "cells": {
             "fill": {
              "color": "#EBF0F8"
             },
             "line": {
              "color": "white"
             }
            },
            "header": {
             "fill": {
              "color": "#C8D4E3"
             },
             "line": {
              "color": "white"
             }
            },
            "type": "table"
           }
          ]
         },
         "layout": {
          "annotationdefaults": {
           "arrowcolor": "#2a3f5f",
           "arrowhead": 0,
           "arrowwidth": 1
          },
          "autotypenumbers": "strict",
          "coloraxis": {
           "colorbar": {
            "outlinewidth": 0,
            "ticks": ""
           }
          },
          "colorscale": {
           "diverging": [
            [
             0,
             "#8e0152"
            ],
            [
             0.1,
             "#c51b7d"
            ],
            [
             0.2,
             "#de77ae"
            ],
            [
             0.3,
             "#f1b6da"
            ],
            [
             0.4,
             "#fde0ef"
            ],
            [
             0.5,
             "#f7f7f7"
            ],
            [
             0.6,
             "#e6f5d0"
            ],
            [
             0.7,
             "#b8e186"
            ],
            [
             0.8,
             "#7fbc41"
            ],
            [
             0.9,
             "#4d9221"
            ],
            [
             1,
             "#276419"
            ]
           ],
           "sequential": [
            [
             0,
             "#0d0887"
            ],
            [
             0.1111111111111111,
             "#46039f"
            ],
            [
             0.2222222222222222,
             "#7201a8"
            ],
            [
             0.3333333333333333,
             "#9c179e"
            ],
            [
             0.4444444444444444,
             "#bd3786"
            ],
            [
             0.5555555555555556,
             "#d8576b"
            ],
            [
             0.6666666666666666,
             "#ed7953"
            ],
            [
             0.7777777777777778,
             "#fb9f3a"
            ],
            [
             0.8888888888888888,
             "#fdca26"
            ],
            [
             1,
             "#f0f921"
            ]
           ],
           "sequentialminus": [
            [
             0,
             "#0d0887"
            ],
            [
             0.1111111111111111,
             "#46039f"
            ],
            [
             0.2222222222222222,
             "#7201a8"
            ],
            [
             0.3333333333333333,
             "#9c179e"
            ],
            [
             0.4444444444444444,
             "#bd3786"
            ],
            [
             0.5555555555555556,
             "#d8576b"
            ],
            [
             0.6666666666666666,
             "#ed7953"
            ],
            [
             0.7777777777777778,
             "#fb9f3a"
            ],
            [
             0.8888888888888888,
             "#fdca26"
            ],
            [
             1,
             "#f0f921"
            ]
           ]
          },
          "colorway": [
           "#636efa",
           "#EF553B",
           "#00cc96",
           "#ab63fa",
           "#FFA15A",
           "#19d3f3",
           "#FF6692",
           "#B6E880",
           "#FF97FF",
           "#FECB52"
          ],
          "font": {
           "color": "#2a3f5f"
          },
          "geo": {
           "bgcolor": "white",
           "lakecolor": "white",
           "landcolor": "#E5ECF6",
           "showlakes": true,
           "showland": true,
           "subunitcolor": "white"
          },
          "hoverlabel": {
           "align": "left"
          },
          "hovermode": "closest",
          "mapbox": {
           "style": "light"
          },
          "paper_bgcolor": "white",
          "plot_bgcolor": "#E5ECF6",
          "polar": {
           "angularaxis": {
            "gridcolor": "white",
            "linecolor": "white",
            "ticks": ""
           },
           "bgcolor": "#E5ECF6",
           "radialaxis": {
            "gridcolor": "white",
            "linecolor": "white",
            "ticks": ""
           }
          },
          "scene": {
           "xaxis": {
            "backgroundcolor": "#E5ECF6",
            "gridcolor": "white",
            "gridwidth": 2,
            "linecolor": "white",
            "showbackground": true,
            "ticks": "",
            "zerolinecolor": "white"
           },
           "yaxis": {
            "backgroundcolor": "#E5ECF6",
            "gridcolor": "white",
            "gridwidth": 2,
            "linecolor": "white",
            "showbackground": true,
            "ticks": "",
            "zerolinecolor": "white"
           },
           "zaxis": {
            "backgroundcolor": "#E5ECF6",
            "gridcolor": "white",
            "gridwidth": 2,
            "linecolor": "white",
            "showbackground": true,
            "ticks": "",
            "zerolinecolor": "white"
           }
          },
          "shapedefaults": {
           "line": {
            "color": "#2a3f5f"
           }
          },
          "ternary": {
           "aaxis": {
            "gridcolor": "white",
            "linecolor": "white",
            "ticks": ""
           },
           "baxis": {
            "gridcolor": "white",
            "linecolor": "white",
            "ticks": ""
           },
           "bgcolor": "#E5ECF6",
           "caxis": {
            "gridcolor": "white",
            "linecolor": "white",
            "ticks": ""
           }
          },
          "title": {
           "x": 0.05
          },
          "xaxis": {
           "automargin": true,
           "gridcolor": "white",
           "linecolor": "white",
           "ticks": "",
           "title": {
            "standoff": 15
           },
           "zerolinecolor": "white",
           "zerolinewidth": 2
          },
          "yaxis": {
           "automargin": true,
           "gridcolor": "white",
           "linecolor": "white",
           "ticks": "",
           "title": {
            "standoff": 15
           },
           "zerolinecolor": "white",
           "zerolinewidth": 2
          }
         }
        },
        "title": {
         "text": "Selling Type vs Selling Price"
        },
        "width": 800,
        "xaxis": {
         "anchor": "y",
         "categoryarray": [
          0,
          1
         ],
         "categoryorder": "array",
         "domain": [
          0,
          1
         ],
         "title": {
          "text": "Selling_type"
         }
        },
        "yaxis": {
         "anchor": "x",
         "domain": [
          0,
          1
         ],
         "title": {
          "text": "Selling_Price"
         }
        }
       }
      }
     },
     "metadata": {},
     "output_type": "display_data"
    }
   ],
   "source": [
    "# Selling Type vs Selling Price\n",
    "\n",
    "fig = px.box(df, x='Selling_type', y='Selling_Price', color='Selling_type', color_discrete_map={'Dealer': 'red', 'Individual': 'blue'}, title='Selling Type vs Selling Price')\n",
    "fig.update_layout(width=800, height=600)\n",
    "fig.show()"
   ]
  },
  {
   "cell_type": "code",
   "execution_count": 51,
   "metadata": {},
   "outputs": [
    {
     "data": {
      "application/vnd.plotly.v1+json": {
       "config": {
        "plotlyServerURL": "https://plot.ly"
       },
       "data": [
        {
         "hovertemplate": "Car Age=%{marker.color}<br>Selling_Price=%{y}<extra></extra>",
         "legendgroup": "",
         "marker": {
          "color": {
           "bdata": "CgsHDQoGCQkICQcJCQkPCAkICQ4IBw0KCw0LBw4JDA0KCgoNCRUIFQgKEAoMCgsSCQcMCQcLEw8JDgoKCwkKCQcKBw4NCAoNCw0KCQsUDgwICQcJExIODAsKDwoTCRAMCAcLDggHBwcHCQoLCAcICAoICQkLCQkLCA0ICwwPBwgHBwcJBwgHCQoLCAkLCAkICgwKCQ4IDQgMCwoHBwkHBw0KDA4ICAgKCwkMCQoHCQ0NCAoODAgLCxAQDgsLExAMEQsQCRAODRESDgkNCQgHCQcJDAkIDQcMCAgKDAcLCgkLDQkNDAwLBwkLCQcICQsMDAkKCAsMDAkLCAgLCQoLDAgJCQoICAkICQcKCAcJDQ8JDgoICQkICgkSCggLCAgJCQgKCQgOCgkICQ8HCA==",
           "dtype": "i1"
          },
          "coloraxis": "coloraxis",
          "symbol": "circle"
         },
         "mode": "markers",
         "name": "",
         "orientation": "v",
         "showlegend": false,
         "type": "scatter",
         "x": {
          "bdata": "CgsHDQoGCQkICQcJCQkPCAkICQ4IBw0KCw0LBw4JDA0KCgoNCRUIFQgKEAoMCgsSCQcMCQcLEw8JDgoKCwkKCQcKBw4NCAoNCw0KCQsUDgwICQcJExIODAsKDwoTCRAMCAcLDggHBwcHCQoLCAcICAoICQkLCQkLCA0ICwwPBwgHBwcJBwgHCQoLCAkLCAkICgwKCQ4IDQgMCwoHBwkHBw0KDA4ICAgKCwkMCQoHCQ0NCAoODAgLCxAQDgsLExAMEQsQCRAODRESDgkNCQgHCQcJDAkIDQcMCAgKDAcLCgkLDQkNDAwLBwkLCQcICQsMDAkKCAsMDAkLCAgLCQoLDAgJCQoICAkICQcKCAcJDQ8JDgoICQkICgkSCggLCAgJCQgKCQgOCgkICQ8HCA==",
          "dtype": "i1"
         },
         "xaxis": "x",
         "y": {
          "bdata": "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",
          "dtype": "f8"
         },
         "yaxis": "y"
        },
        {
         "hovertemplate": "<b>OLS trendline</b><br>Selling_Price = -0.415092 * Car Age + 8.96667<br>R<sup>2</sup>=0.055763<br><br>Car Age=%{x}<br>Selling_Price=%{y} <b>(trend)</b><extra></extra>",
         "legendgroup": "",
         "marker": {
          "symbol": "circle"
         },
         "mode": "lines",
         "name": "",
         "showlegend": false,
         "type": "scatter",
         "x": {
          "bdata": "BgcHBwcHBwcHBwcHBwcHBwcHBwcHBwcHBwcHBwcHBwcHBwcHCAgICAgICAgICAgICAgICAgICAgICAgICAgICAgICAgICAgICAgICAgICAgICAgICAgJCQkJCQkJCQkJCQkJCQkJCQkJCQkJCQkJCQkJCQkJCQkJCQkJCQkJCQkJCQkJCQkJCQkJCQkJCQkJCQkJCgoKCgoKCgoKCgoKCgoKCgoKCgoKCgoKCgoKCgoKCgoKCgoKCgoLCwsLCwsLCwsLCwsLCwsLCwsLCwsLCwsLCwsLCwsLCwsMDAwMDAwMDAwMDAwMDAwMDAwMDAwMDA0NDQ0NDQ0NDQ0NDQ0NDQ0NDQ0ODg4ODg4ODg4ODg4ODg4PDw8PDw8QEBAQEBAQERESEhISExMTExQVFQ==",
          "dtype": "i1"
         },
         "xaxis": "x",
         "y": {
          "bdata": "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",
          "dtype": "f8"
         },
         "yaxis": "y"
        }
       ],
       "layout": {
        "coloraxis": {
         "colorbar": {
          "title": {
           "text": "Car Age"
          }
         },
         "colorscale": [
          [
           0,
           "#0d0887"
          ],
          [
           0.1111111111111111,
           "#46039f"
          ],
          [
           0.2222222222222222,
           "#7201a8"
          ],
          [
           0.3333333333333333,
           "#9c179e"
          ],
          [
           0.4444444444444444,
           "#bd3786"
          ],
          [
           0.5555555555555556,
           "#d8576b"
          ],
          [
           0.6666666666666666,
           "#ed7953"
          ],
          [
           0.7777777777777778,
           "#fb9f3a"
          ],
          [
           0.8888888888888888,
           "#fdca26"
          ],
          [
           1,
           "#f0f921"
          ]
         ]
        },
        "height": 600,
        "legend": {
         "tracegroupgap": 0
        },
        "template": {
         "data": {
          "bar": [
           {
            "error_x": {
             "color": "#2a3f5f"
            },
            "error_y": {
             "color": "#2a3f5f"
            },
            "marker": {
             "line": {
              "color": "#E5ECF6",
              "width": 0.5
             },
             "pattern": {
              "fillmode": "overlay",
              "size": 10,
              "solidity": 0.2
             }
            },
            "type": "bar"
           }
          ],
          "barpolar": [
           {
            "marker": {
             "line": {
              "color": "#E5ECF6",
              "width": 0.5
             },
             "pattern": {
              "fillmode": "overlay",
              "size": 10,
              "solidity": 0.2
             }
            },
            "type": "barpolar"
           }
          ],
          "carpet": [
           {
            "aaxis": {
             "endlinecolor": "#2a3f5f",
             "gridcolor": "white",
             "linecolor": "white",
             "minorgridcolor": "white",
             "startlinecolor": "#2a3f5f"
            },
            "baxis": {
             "endlinecolor": "#2a3f5f",
             "gridcolor": "white",
             "linecolor": "white",
             "minorgridcolor": "white",
             "startlinecolor": "#2a3f5f"
            },
            "type": "carpet"
           }
          ],
          "choropleth": [
           {
            "colorbar": {
             "outlinewidth": 0,
             "ticks": ""
            },
            "type": "choropleth"
           }
          ],
          "contour": [
           {
            "colorbar": {
             "outlinewidth": 0,
             "ticks": ""
            },
            "colorscale": [
             [
              0,
              "#0d0887"
             ],
             [
              0.1111111111111111,
              "#46039f"
             ],
             [
              0.2222222222222222,
              "#7201a8"
             ],
             [
              0.3333333333333333,
              "#9c179e"
             ],
             [
              0.4444444444444444,
              "#bd3786"
             ],
             [
              0.5555555555555556,
              "#d8576b"
             ],
             [
              0.6666666666666666,
              "#ed7953"
             ],
             [
              0.7777777777777778,
              "#fb9f3a"
             ],
             [
              0.8888888888888888,
              "#fdca26"
             ],
             [
              1,
              "#f0f921"
             ]
            ],
            "type": "contour"
           }
          ],
          "contourcarpet": [
           {
            "colorbar": {
             "outlinewidth": 0,
             "ticks": ""
            },
            "type": "contourcarpet"
           }
          ],
          "heatmap": [
           {
            "colorbar": {
             "outlinewidth": 0,
             "ticks": ""
            },
            "colorscale": [
             [
              0,
              "#0d0887"
             ],
             [
              0.1111111111111111,
              "#46039f"
             ],
             [
              0.2222222222222222,
              "#7201a8"
             ],
             [
              0.3333333333333333,
              "#9c179e"
             ],
             [
              0.4444444444444444,
              "#bd3786"
             ],
             [
              0.5555555555555556,
              "#d8576b"
             ],
             [
              0.6666666666666666,
              "#ed7953"
             ],
             [
              0.7777777777777778,
              "#fb9f3a"
             ],
             [
              0.8888888888888888,
              "#fdca26"
             ],
             [
              1,
              "#f0f921"
             ]
            ],
            "type": "heatmap"
           }
          ],
          "histogram": [
           {
            "marker": {
             "pattern": {
              "fillmode": "overlay",
              "size": 10,
              "solidity": 0.2
             }
            },
            "type": "histogram"
           }
          ],
          "histogram2d": [
           {
            "colorbar": {
             "outlinewidth": 0,
             "ticks": ""
            },
            "colorscale": [
             [
              0,
              "#0d0887"
             ],
             [
              0.1111111111111111,
              "#46039f"
             ],
             [
              0.2222222222222222,
              "#7201a8"
             ],
             [
              0.3333333333333333,
              "#9c179e"
             ],
             [
              0.4444444444444444,
              "#bd3786"
             ],
             [
              0.5555555555555556,
              "#d8576b"
             ],
             [
              0.6666666666666666,
              "#ed7953"
             ],
             [
              0.7777777777777778,
              "#fb9f3a"
             ],
             [
              0.8888888888888888,
              "#fdca26"
             ],
             [
              1,
              "#f0f921"
             ]
            ],
            "type": "histogram2d"
           }
          ],
          "histogram2dcontour": [
           {
            "colorbar": {
             "outlinewidth": 0,
             "ticks": ""
            },
            "colorscale": [
             [
              0,
              "#0d0887"
             ],
             [
              0.1111111111111111,
              "#46039f"
             ],
             [
              0.2222222222222222,
              "#7201a8"
             ],
             [
              0.3333333333333333,
              "#9c179e"
             ],
             [
              0.4444444444444444,
              "#bd3786"
             ],
             [
              0.5555555555555556,
              "#d8576b"
             ],
             [
              0.6666666666666666,
              "#ed7953"
             ],
             [
              0.7777777777777778,
              "#fb9f3a"
             ],
             [
              0.8888888888888888,
              "#fdca26"
             ],
             [
              1,
              "#f0f921"
             ]
            ],
            "type": "histogram2dcontour"
           }
          ],
          "mesh3d": [
           {
            "colorbar": {
             "outlinewidth": 0,
             "ticks": ""
            },
            "type": "mesh3d"
           }
          ],
          "parcoords": [
           {
            "line": {
             "colorbar": {
              "outlinewidth": 0,
              "ticks": ""
             }
            },
            "type": "parcoords"
           }
          ],
          "pie": [
           {
            "automargin": true,
            "type": "pie"
           }
          ],
          "scatter": [
           {
            "fillpattern": {
             "fillmode": "overlay",
             "size": 10,
             "solidity": 0.2
            },
            "type": "scatter"
           }
          ],
          "scatter3d": [
           {
            "line": {
             "colorbar": {
              "outlinewidth": 0,
              "ticks": ""
             }
            },
            "marker": {
             "colorbar": {
              "outlinewidth": 0,
              "ticks": ""
             }
            },
            "type": "scatter3d"
           }
          ],
          "scattercarpet": [
           {
            "marker": {
             "colorbar": {
              "outlinewidth": 0,
              "ticks": ""
             }
            },
            "type": "scattercarpet"
           }
          ],
          "scattergeo": [
           {
            "marker": {
             "colorbar": {
              "outlinewidth": 0,
              "ticks": ""
             }
            },
            "type": "scattergeo"
           }
          ],
          "scattergl": [
           {
            "marker": {
             "colorbar": {
              "outlinewidth": 0,
              "ticks": ""
             }
            },
            "type": "scattergl"
           }
          ],
          "scattermap": [
           {
            "marker": {
             "colorbar": {
              "outlinewidth": 0,
              "ticks": ""
             }
            },
            "type": "scattermap"
           }
          ],
          "scattermapbox": [
           {
            "marker": {
             "colorbar": {
              "outlinewidth": 0,
              "ticks": ""
             }
            },
            "type": "scattermapbox"
           }
          ],
          "scatterpolar": [
           {
            "marker": {
             "colorbar": {
              "outlinewidth": 0,
              "ticks": ""
             }
            },
            "type": "scatterpolar"
           }
          ],
          "scatterpolargl": [
           {
            "marker": {
             "colorbar": {
              "outlinewidth": 0,
              "ticks": ""
             }
            },
            "type": "scatterpolargl"
           }
          ],
          "scatterternary": [
           {
            "marker": {
             "colorbar": {
              "outlinewidth": 0,
              "ticks": ""
             }
            },
            "type": "scatterternary"
           }
          ],
          "surface": [
           {
            "colorbar": {
             "outlinewidth": 0,
             "ticks": ""
            },
            "colorscale": [
             [
              0,
              "#0d0887"
             ],
             [
              0.1111111111111111,
              "#46039f"
             ],
             [
              0.2222222222222222,
              "#7201a8"
             ],
             [
              0.3333333333333333,
              "#9c179e"
             ],
             [
              0.4444444444444444,
              "#bd3786"
             ],
             [
              0.5555555555555556,
              "#d8576b"
             ],
             [
              0.6666666666666666,
              "#ed7953"
             ],
             [
              0.7777777777777778,
              "#fb9f3a"
             ],
             [
              0.8888888888888888,
              "#fdca26"
             ],
             [
              1,
              "#f0f921"
             ]
            ],
            "type": "surface"
           }
          ],
          "table": [
           {
            "cells": {
             "fill": {
              "color": "#EBF0F8"
             },
             "line": {
              "color": "white"
             }
            },
            "header": {
             "fill": {
              "color": "#C8D4E3"
             },
             "line": {
              "color": "white"
             }
            },
            "type": "table"
           }
          ]
         },
         "layout": {
          "annotationdefaults": {
           "arrowcolor": "#2a3f5f",
           "arrowhead": 0,
           "arrowwidth": 1
          },
          "autotypenumbers": "strict",
          "coloraxis": {
           "colorbar": {
            "outlinewidth": 0,
            "ticks": ""
           }
          },
          "colorscale": {
           "diverging": [
            [
             0,
             "#8e0152"
            ],
            [
             0.1,
             "#c51b7d"
            ],
            [
             0.2,
             "#de77ae"
            ],
            [
             0.3,
             "#f1b6da"
            ],
            [
             0.4,
             "#fde0ef"
            ],
            [
             0.5,
             "#f7f7f7"
            ],
            [
             0.6,
             "#e6f5d0"
            ],
            [
             0.7,
             "#b8e186"
            ],
            [
             0.8,
             "#7fbc41"
            ],
            [
             0.9,
             "#4d9221"
            ],
            [
             1,
             "#276419"
            ]
           ],
           "sequential": [
            [
             0,
             "#0d0887"
            ],
            [
             0.1111111111111111,
             "#46039f"
            ],
            [
             0.2222222222222222,
             "#7201a8"
            ],
            [
             0.3333333333333333,
             "#9c179e"
            ],
            [
             0.4444444444444444,
             "#bd3786"
            ],
            [
             0.5555555555555556,
             "#d8576b"
            ],
            [
             0.6666666666666666,
             "#ed7953"
            ],
            [
             0.7777777777777778,
             "#fb9f3a"
            ],
            [
             0.8888888888888888,
             "#fdca26"
            ],
            [
             1,
             "#f0f921"
            ]
           ],
           "sequentialminus": [
            [
             0,
             "#0d0887"
            ],
            [
             0.1111111111111111,
             "#46039f"
            ],
            [
             0.2222222222222222,
             "#7201a8"
            ],
            [
             0.3333333333333333,
             "#9c179e"
            ],
            [
             0.4444444444444444,
             "#bd3786"
            ],
            [
             0.5555555555555556,
             "#d8576b"
            ],
            [
             0.6666666666666666,
             "#ed7953"
            ],
            [
             0.7777777777777778,
             "#fb9f3a"
            ],
            [
             0.8888888888888888,
             "#fdca26"
            ],
            [
             1,
             "#f0f921"
            ]
           ]
          },
          "colorway": [
           "#636efa",
           "#EF553B",
           "#00cc96",
           "#ab63fa",
           "#FFA15A",
           "#19d3f3",
           "#FF6692",
           "#B6E880",
           "#FF97FF",
           "#FECB52"
          ],
          "font": {
           "color": "#2a3f5f"
          },
          "geo": {
           "bgcolor": "white",
           "lakecolor": "white",
           "landcolor": "#E5ECF6",
           "showlakes": true,
           "showland": true,
           "subunitcolor": "white"
          },
          "hoverlabel": {
           "align": "left"
          },
          "hovermode": "closest",
          "mapbox": {
           "style": "light"
          },
          "paper_bgcolor": "white",
          "plot_bgcolor": "#E5ECF6",
          "polar": {
           "angularaxis": {
            "gridcolor": "white",
            "linecolor": "white",
            "ticks": ""
           },
           "bgcolor": "#E5ECF6",
           "radialaxis": {
            "gridcolor": "white",
            "linecolor": "white",
            "ticks": ""
           }
          },
          "scene": {
           "xaxis": {
            "backgroundcolor": "#E5ECF6",
            "gridcolor": "white",
            "gridwidth": 2,
            "linecolor": "white",
            "showbackground": true,
            "ticks": "",
            "zerolinecolor": "white"
           },
           "yaxis": {
            "backgroundcolor": "#E5ECF6",
            "gridcolor": "white",
            "gridwidth": 2,
            "linecolor": "white",
            "showbackground": true,
            "ticks": "",
            "zerolinecolor": "white"
           },
           "zaxis": {
            "backgroundcolor": "#E5ECF6",
            "gridcolor": "white",
            "gridwidth": 2,
            "linecolor": "white",
            "showbackground": true,
            "ticks": "",
            "zerolinecolor": "white"
           }
          },
          "shapedefaults": {
           "line": {
            "color": "#2a3f5f"
           }
          },
          "ternary": {
           "aaxis": {
            "gridcolor": "white",
            "linecolor": "white",
            "ticks": ""
           },
           "baxis": {
            "gridcolor": "white",
            "linecolor": "white",
            "ticks": ""
           },
           "bgcolor": "#E5ECF6",
           "caxis": {
            "gridcolor": "white",
            "linecolor": "white",
            "ticks": ""
           }
          },
          "title": {
           "x": 0.05
          },
          "xaxis": {
           "automargin": true,
           "gridcolor": "white",
           "linecolor": "white",
           "ticks": "",
           "title": {
            "standoff": 15
           },
           "zerolinecolor": "white",
           "zerolinewidth": 2
          },
          "yaxis": {
           "automargin": true,
           "gridcolor": "white",
           "linecolor": "white",
           "ticks": "",
           "title": {
            "standoff": 15
           },
           "zerolinecolor": "white",
           "zerolinewidth": 2
          }
         }
        },
        "title": {
         "text": "Car Age vs Selling Price"
        },
        "width": 1000,
        "xaxis": {
         "anchor": "y",
         "domain": [
          0,
          1
         ],
         "title": {
          "text": "Car Age"
         }
        },
        "yaxis": {
         "anchor": "x",
         "domain": [
          0,
          1
         ],
         "title": {
          "text": "Selling_Price"
         }
        }
       }
      }
     },
     "metadata": {},
     "output_type": "display_data"
    }
   ],
   "source": [
    "# Car Age vs Selling Price\n",
    "\n",
    "fig = px.scatter(df, x='Car Age', y='Selling_Price',\n",
    "                 trendline=\"ols\", color='Car Age', color_discrete_map={2024: 'red', 2023: 'blue'}, title='Car Age vs Selling Price')\n",
    "fig.update_layout(width=1000, height=600)\n",
    "fig.show()"
   ]
  },
  {
   "cell_type": "code",
   "execution_count": 50,
   "metadata": {},
   "outputs": [
    {
     "data": {
      "application/vnd.plotly.v1+json": {
       "config": {
        "plotlyServerURL": "https://plot.ly"
       },
       "data": [
        {
         "hovertemplate": "Present_Price=%{marker.color}<br>Selling_Price=%{y}<extra></extra>",
         "legendgroup": "",
         "marker": {
          "color": {
           "bdata": "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",
           "dtype": "f8"
          },
          "coloraxis": "coloraxis",
          "symbol": "circle"
         },
         "mode": "markers",
         "name": "",
         "orientation": "v",
         "showlegend": false,
         "type": "scatter",
         "x": {
          "bdata": "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",
          "dtype": "f8"
         },
         "xaxis": "x",
         "y": {
          "bdata": "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",
          "dtype": "f8"
         },
         "yaxis": "y"
        },
        {
         "hovertemplate": "<b>OLS trendline</b><br>Selling_Price = 0.516901 * Present_Price + 0.718135<br>R<sup>2</sup>=0.772491<br><br>Present_Price=%{x}<br>Selling_Price=%{y} <b>(trend)</b><extra></extra>",
         "legendgroup": "",
         "marker": {
          "symbol": "circle"
         },
         "mode": "lines",
         "name": "",
         "showlegend": false,
         "type": "scatter",
         "x": {
          "bdata": "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",
          "dtype": "f8"
         },
         "xaxis": "x",
         "y": {
          "bdata": "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",
          "dtype": "f8"
         },
         "yaxis": "y"
        }
       ],
       "layout": {
        "coloraxis": {
         "colorbar": {
          "title": {
           "text": "Present_Price"
          }
         },
         "colorscale": [
          [
           0,
           "#0d0887"
          ],
          [
           0.1111111111111111,
           "#46039f"
          ],
          [
           0.2222222222222222,
           "#7201a8"
          ],
          [
           0.3333333333333333,
           "#9c179e"
          ],
          [
           0.4444444444444444,
           "#bd3786"
          ],
          [
           0.5555555555555556,
           "#d8576b"
          ],
          [
           0.6666666666666666,
           "#ed7953"
          ],
          [
           0.7777777777777778,
           "#fb9f3a"
          ],
          [
           0.8888888888888888,
           "#fdca26"
          ],
          [
           1,
           "#f0f921"
          ]
         ]
        },
        "height": 600,
        "legend": {
         "tracegroupgap": 0
        },
        "template": {
         "data": {
          "bar": [
           {
            "error_x": {
             "color": "#2a3f5f"
            },
            "error_y": {
             "color": "#2a3f5f"
            },
            "marker": {
             "line": {
              "color": "#E5ECF6",
              "width": 0.5
             },
             "pattern": {
              "fillmode": "overlay",
              "size": 10,
              "solidity": 0.2
             }
            },
            "type": "bar"
           }
          ],
          "barpolar": [
           {
            "marker": {
             "line": {
              "color": "#E5ECF6",
              "width": 0.5
             },
             "pattern": {
              "fillmode": "overlay",
              "size": 10,
              "solidity": 0.2
             }
            },
            "type": "barpolar"
           }
          ],
          "carpet": [
           {
            "aaxis": {
             "endlinecolor": "#2a3f5f",
             "gridcolor": "white",
             "linecolor": "white",
             "minorgridcolor": "white",
             "startlinecolor": "#2a3f5f"
            },
            "baxis": {
             "endlinecolor": "#2a3f5f",
             "gridcolor": "white",
             "linecolor": "white",
             "minorgridcolor": "white",
             "startlinecolor": "#2a3f5f"
            },
            "type": "carpet"
           }
          ],
          "choropleth": [
           {
            "colorbar": {
             "outlinewidth": 0,
             "ticks": ""
            },
            "type": "choropleth"
           }
          ],
          "contour": [
           {
            "colorbar": {
             "outlinewidth": 0,
             "ticks": ""
            },
            "colorscale": [
             [
              0,
              "#0d0887"
             ],
             [
              0.1111111111111111,
              "#46039f"
             ],
             [
              0.2222222222222222,
              "#7201a8"
             ],
             [
              0.3333333333333333,
              "#9c179e"
             ],
             [
              0.4444444444444444,
              "#bd3786"
             ],
             [
              0.5555555555555556,
              "#d8576b"
             ],
             [
              0.6666666666666666,
              "#ed7953"
             ],
             [
              0.7777777777777778,
              "#fb9f3a"
             ],
             [
              0.8888888888888888,
              "#fdca26"
             ],
             [
              1,
              "#f0f921"
             ]
            ],
            "type": "contour"
           }
          ],
          "contourcarpet": [
           {
            "colorbar": {
             "outlinewidth": 0,
             "ticks": ""
            },
            "type": "contourcarpet"
           }
          ],
          "heatmap": [
           {
            "colorbar": {
             "outlinewidth": 0,
             "ticks": ""
            },
            "colorscale": [
             [
              0,
              "#0d0887"
             ],
             [
              0.1111111111111111,
              "#46039f"
             ],
             [
              0.2222222222222222,
              "#7201a8"
             ],
             [
              0.3333333333333333,
              "#9c179e"
             ],
             [
              0.4444444444444444,
              "#bd3786"
             ],
             [
              0.5555555555555556,
              "#d8576b"
             ],
             [
              0.6666666666666666,
              "#ed7953"
             ],
             [
              0.7777777777777778,
              "#fb9f3a"
             ],
             [
              0.8888888888888888,
              "#fdca26"
             ],
             [
              1,
              "#f0f921"
             ]
            ],
            "type": "heatmap"
           }
          ],
          "histogram": [
           {
            "marker": {
             "pattern": {
              "fillmode": "overlay",
              "size": 10,
              "solidity": 0.2
             }
            },
            "type": "histogram"
           }
          ],
          "histogram2d": [
           {
            "colorbar": {
             "outlinewidth": 0,
             "ticks": ""
            },
            "colorscale": [
             [
              0,
              "#0d0887"
             ],
             [
              0.1111111111111111,
              "#46039f"
             ],
             [
              0.2222222222222222,
              "#7201a8"
             ],
             [
              0.3333333333333333,
              "#9c179e"
             ],
             [
              0.4444444444444444,
              "#bd3786"
             ],
             [
              0.5555555555555556,
              "#d8576b"
             ],
             [
              0.6666666666666666,
              "#ed7953"
             ],
             [
              0.7777777777777778,
              "#fb9f3a"
             ],
             [
              0.8888888888888888,
              "#fdca26"
             ],
             [
              1,
              "#f0f921"
             ]
            ],
            "type": "histogram2d"
           }
          ],
          "histogram2dcontour": [
           {
            "colorbar": {
             "outlinewidth": 0,
             "ticks": ""
            },
            "colorscale": [
             [
              0,
              "#0d0887"
             ],
             [
              0.1111111111111111,
              "#46039f"
             ],
             [
              0.2222222222222222,
              "#7201a8"
             ],
             [
              0.3333333333333333,
              "#9c179e"
             ],
             [
              0.4444444444444444,
              "#bd3786"
             ],
             [
              0.5555555555555556,
              "#d8576b"
             ],
             [
              0.6666666666666666,
              "#ed7953"
             ],
             [
              0.7777777777777778,
              "#fb9f3a"
             ],
             [
              0.8888888888888888,
              "#fdca26"
             ],
             [
              1,
              "#f0f921"
             ]
            ],
            "type": "histogram2dcontour"
           }
          ],
          "mesh3d": [
           {
            "colorbar": {
             "outlinewidth": 0,
             "ticks": ""
            },
            "type": "mesh3d"
           }
          ],
          "parcoords": [
           {
            "line": {
             "colorbar": {
              "outlinewidth": 0,
              "ticks": ""
             }
            },
            "type": "parcoords"
           }
          ],
          "pie": [
           {
            "automargin": true,
            "type": "pie"
           }
          ],
          "scatter": [
           {
            "fillpattern": {
             "fillmode": "overlay",
             "size": 10,
             "solidity": 0.2
            },
            "type": "scatter"
           }
          ],
          "scatter3d": [
           {
            "line": {
             "colorbar": {
              "outlinewidth": 0,
              "ticks": ""
             }
            },
            "marker": {
             "colorbar": {
              "outlinewidth": 0,
              "ticks": ""
             }
            },
            "type": "scatter3d"
           }
          ],
          "scattercarpet": [
           {
            "marker": {
             "colorbar": {
              "outlinewidth": 0,
              "ticks": ""
             }
            },
            "type": "scattercarpet"
           }
          ],
          "scattergeo": [
           {
            "marker": {
             "colorbar": {
              "outlinewidth": 0,
              "ticks": ""
             }
            },
            "type": "scattergeo"
           }
          ],
          "scattergl": [
           {
            "marker": {
             "colorbar": {
              "outlinewidth": 0,
              "ticks": ""
             }
            },
            "type": "scattergl"
           }
          ],
          "scattermap": [
           {
            "marker": {
             "colorbar": {
              "outlinewidth": 0,
              "ticks": ""
             }
            },
            "type": "scattermap"
           }
          ],
          "scattermapbox": [
           {
            "marker": {
             "colorbar": {
              "outlinewidth": 0,
              "ticks": ""
             }
            },
            "type": "scattermapbox"
           }
          ],
          "scatterpolar": [
           {
            "marker": {
             "colorbar": {
              "outlinewidth": 0,
              "ticks": ""
             }
            },
            "type": "scatterpolar"
           }
          ],
          "scatterpolargl": [
           {
            "marker": {
             "colorbar": {
              "outlinewidth": 0,
              "ticks": ""
             }
            },
            "type": "scatterpolargl"
           }
          ],
          "scatterternary": [
           {
            "marker": {
             "colorbar": {
              "outlinewidth": 0,
              "ticks": ""
             }
            },
            "type": "scatterternary"
           }
          ],
          "surface": [
           {
            "colorbar": {
             "outlinewidth": 0,
             "ticks": ""
            },
            "colorscale": [
             [
              0,
              "#0d0887"
             ],
             [
              0.1111111111111111,
              "#46039f"
             ],
             [
              0.2222222222222222,
              "#7201a8"
             ],
             [
              0.3333333333333333,
              "#9c179e"
             ],
             [
              0.4444444444444444,
              "#bd3786"
             ],
             [
              0.5555555555555556,
              "#d8576b"
             ],
             [
              0.6666666666666666,
              "#ed7953"
             ],
             [
              0.7777777777777778,
              "#fb9f3a"
             ],
             [
              0.8888888888888888,
              "#fdca26"
             ],
             [
              1,
              "#f0f921"
             ]
            ],
            "type": "surface"
           }
          ],
          "table": [
           {
            "cells": {
             "fill": {
              "color": "#EBF0F8"
             },
             "line": {
              "color": "white"
             }
            },
            "header": {
             "fill": {
              "color": "#C8D4E3"
             },
             "line": {
              "color": "white"
             }
            },
            "type": "table"
           }
          ]
         },
         "layout": {
          "annotationdefaults": {
           "arrowcolor": "#2a3f5f",
           "arrowhead": 0,
           "arrowwidth": 1
          },
          "autotypenumbers": "strict",
          "coloraxis": {
           "colorbar": {
            "outlinewidth": 0,
            "ticks": ""
           }
          },
          "colorscale": {
           "diverging": [
            [
             0,
             "#8e0152"
            ],
            [
             0.1,
             "#c51b7d"
            ],
            [
             0.2,
             "#de77ae"
            ],
            [
             0.3,
             "#f1b6da"
            ],
            [
             0.4,
             "#fde0ef"
            ],
            [
             0.5,
             "#f7f7f7"
            ],
            [
             0.6,
             "#e6f5d0"
            ],
            [
             0.7,
             "#b8e186"
            ],
            [
             0.8,
             "#7fbc41"
            ],
            [
             0.9,
             "#4d9221"
            ],
            [
             1,
             "#276419"
            ]
           ],
           "sequential": [
            [
             0,
             "#0d0887"
            ],
            [
             0.1111111111111111,
             "#46039f"
            ],
            [
             0.2222222222222222,
             "#7201a8"
            ],
            [
             0.3333333333333333,
             "#9c179e"
            ],
            [
             0.4444444444444444,
             "#bd3786"
            ],
            [
             0.5555555555555556,
             "#d8576b"
            ],
            [
             0.6666666666666666,
             "#ed7953"
            ],
            [
             0.7777777777777778,
             "#fb9f3a"
            ],
            [
             0.8888888888888888,
             "#fdca26"
            ],
            [
             1,
             "#f0f921"
            ]
           ],
           "sequentialminus": [
            [
             0,
             "#0d0887"
            ],
            [
             0.1111111111111111,
             "#46039f"
            ],
            [
             0.2222222222222222,
             "#7201a8"
            ],
            [
             0.3333333333333333,
             "#9c179e"
            ],
            [
             0.4444444444444444,
             "#bd3786"
            ],
            [
             0.5555555555555556,
             "#d8576b"
            ],
            [
             0.6666666666666666,
             "#ed7953"
            ],
            [
             0.7777777777777778,
             "#fb9f3a"
            ],
            [
             0.8888888888888888,
             "#fdca26"
            ],
            [
             1,
             "#f0f921"
            ]
           ]
          },
          "colorway": [
           "#636efa",
           "#EF553B",
           "#00cc96",
           "#ab63fa",
           "#FFA15A",
           "#19d3f3",
           "#FF6692",
           "#B6E880",
           "#FF97FF",
           "#FECB52"
          ],
          "font": {
           "color": "#2a3f5f"
          },
          "geo": {
           "bgcolor": "white",
           "lakecolor": "white",
           "landcolor": "#E5ECF6",
           "showlakes": true,
           "showland": true,
           "subunitcolor": "white"
          },
          "hoverlabel": {
           "align": "left"
          },
          "hovermode": "closest",
          "mapbox": {
           "style": "light"
          },
          "paper_bgcolor": "white",
          "plot_bgcolor": "#E5ECF6",
          "polar": {
           "angularaxis": {
            "gridcolor": "white",
            "linecolor": "white",
            "ticks": ""
           },
           "bgcolor": "#E5ECF6",
           "radialaxis": {
            "gridcolor": "white",
            "linecolor": "white",
            "ticks": ""
           }
          },
          "scene": {
           "xaxis": {
            "backgroundcolor": "#E5ECF6",
            "gridcolor": "white",
            "gridwidth": 2,
            "linecolor": "white",
            "showbackground": true,
            "ticks": "",
            "zerolinecolor": "white"
           },
           "yaxis": {
            "backgroundcolor": "#E5ECF6",
            "gridcolor": "white",
            "gridwidth": 2,
            "linecolor": "white",
            "showbackground": true,
            "ticks": "",
            "zerolinecolor": "white"
           },
           "zaxis": {
            "backgroundcolor": "#E5ECF6",
            "gridcolor": "white",
            "gridwidth": 2,
            "linecolor": "white",
            "showbackground": true,
            "ticks": "",
            "zerolinecolor": "white"
           }
          },
          "shapedefaults": {
           "line": {
            "color": "#2a3f5f"
           }
          },
          "ternary": {
           "aaxis": {
            "gridcolor": "white",
            "linecolor": "white",
            "ticks": ""
           },
           "baxis": {
            "gridcolor": "white",
            "linecolor": "white",
            "ticks": ""
           },
           "bgcolor": "#E5ECF6",
           "caxis": {
            "gridcolor": "white",
            "linecolor": "white",
            "ticks": ""
           }
          },
          "title": {
           "x": 0.05
          },
          "xaxis": {
           "automargin": true,
           "gridcolor": "white",
           "linecolor": "white",
           "ticks": "",
           "title": {
            "standoff": 15
           },
           "zerolinecolor": "white",
           "zerolinewidth": 2
          },
          "yaxis": {
           "automargin": true,
           "gridcolor": "white",
           "linecolor": "white",
           "ticks": "",
           "title": {
            "standoff": 15
           },
           "zerolinecolor": "white",
           "zerolinewidth": 2
          }
         }
        },
        "title": {
         "text": "Present Price vs Selling Price"
        },
        "width": 1000,
        "xaxis": {
         "anchor": "y",
         "domain": [
          0,
          1
         ],
         "title": {
          "text": "Present_Price"
         }
        },
        "yaxis": {
         "anchor": "x",
         "domain": [
          0,
          1
         ],
         "title": {
          "text": "Selling_Price"
         }
        }
       }
      }
     },
     "metadata": {},
     "output_type": "display_data"
    }
   ],
   "source": [
    "# Present Price vs Selling Price\n",
    "\n",
    "fig = px.scatter(df, x='Present_Price', y='Selling_Price',\n",
    "                 trendline=\"ols\", color='Present_Price', color_discrete_map={5: 'red', 9: 'blue'}, title='Present Price vs Selling Price')\n",
    "fig.update_layout(width=1000, height=600)\n",
    "fig.show()"
   ]
  },
  {
   "cell_type": "code",
   "execution_count": 52,
   "metadata": {},
   "outputs": [
    {
     "data": {
      "application/vnd.plotly.v1+json": {
       "config": {
        "plotlyServerURL": "https://plot.ly"
       },
       "data": [
        {
         "hovertemplate": "Driven_kms=%{marker.color}<br>Selling_Price=%{y}<extra></extra>",
         "legendgroup": "",
         "marker": {
          "color": {
           "bdata": "eGkAAPinAAD0GgAAUBQAANKlAAAXCAAAbEkAAJWCAAAxTwAAf6UAAFcIAAA4xwAAmDoAAJBlAABzLgEA+KcAAM6iAAD4pwAArIoAAOKhAACoYQAAYAkAAFDDAADgsAAAL94AACBOAABi1wAASD8AAP6tAADIrwAA78gAALjTAABYmAAAyK8AAMivAABOwwAAf74AABjwAQBfJwAAMPIAAMxfAABytgAAkOIAANSyAABQwwAAmDoAABT8AADo/QAADmUAAIiQAAADmQEAQJwAAJg6AABYDwIAkF8BAHARAQBWngAAUMMAAD2aAAAooAAAQZwAAIyeAACwMAEAmLcAAHAXAADIrwAA+CoAAHjmAADAVwEA4C4AAFgVAQDIrwAAwdoAAPinAAA4RAEAoIwAAEAZAQDyDwIAgDgBAKhbAQDYWQAAQJwAAJg6AABwlAAAOAIDALAqAgCwMAEAwNoAAJi3AABAnAAAMPIAAILjAAD4JAEAQJwAAKhbAQBAGQEASHEAAPwhAADIrwAAaMMAALgLAAB4BQAAoA8AALAEAAAEEAAAxFQAAHRAAACYOgAAUEYAAPgqAABwFwAA/CEAAFgbAAC4iAAAaEIAAFxEAADogAAAsDYAAJBlAAAYFQAARBYAAPQaAABwFwAApLUAAOwsAABAnAAAFAUAAFgbAAC4CwAAiBMAAPgqAABQRgAArA0AAPQBAAAYLgAAiBMAAMxbAACAPgAAmDoAANhAAAAAfQAAIE4AAEhxAACoYQAAqGEAADhKAACYOgAAkOIAAMivAADAXQAAcBcAABh5AADIMgAAyK8AAEAfAADMEAAAmDoAANhZAACYIQAAoA8AAMBdAADYWQAApDgAAHhpAACwNgAA9AEAAOgDAAAQpAAA4C4AALA2AAB8FQAALBoAAIQ1AAAUBQAAyJYAAPgkAQAwdQAAwF0AADhKAAAIQAMAYOoAAFDDAAAwdQAACFIAAJBlAABsBwAA8FUAAAB9AABQRgAA2NYAAGDqAACoYQAAaL8AAMBdAABQwwAAuIgAACChBwDogAAAuIgAAAjPAABJaAEAkOIAAChuAADU0AAAem4AAKUNAAC/MAAA7YcAAGsNAACFUgAAv4sAAA+qAACPWAAAdHsAAJJOAAAEjQAA1DAAAJg6AAAWsAAAoIwAAFiWAAAAfQAAQC8BAMXvAABmjQAA9VcAAGZgAACo3gAAYOoAAKTLAADIrwAAmToAAGQyAAAIzwAAjBEAACU7AABJLgAAoAkBAFHrAACdXAAAQn4AABqMAADQhAAAWBsAAGi/AABYFQEAuIgAAKCMAAAwdQAAaEIAAF6MAAB93QAAw3oAAIC7AADi0wAAq9EAAJrBAACEnQAAqGEAANaMAAAncgAA4BUAAFecAACCPgAAWpwAANBSAAC4iAAA6ksAADhKAACMSQAA3Q4BALoPAQDQawAAE+8AAHRAAAAheAAA4GAAABRVAACgDwAAvpwAAIE4AAAYxQAAGPYAADIjAABIJgAA0zoAAJlvAADgqwAA0IQAAOQqAAA4SgAAw3oAAOAuAABwlAAA+4AAAKzqAADEhAAAYOoAAH5XAQAoIwAAWBUAAA==",
           "dtype": "i4"
          },
          "coloraxis": "coloraxis",
          "symbol": "circle"
         },
         "mode": "markers",
         "name": "",
         "orientation": "v",
         "showlegend": false,
         "type": "scatter",
         "x": {
          "bdata": "eGkAAPinAAD0GgAAUBQAANKlAAAXCAAAbEkAAJWCAAAxTwAAf6UAAFcIAAA4xwAAmDoAAJBlAABzLgEA+KcAAM6iAAD4pwAArIoAAOKhAACoYQAAYAkAAFDDAADgsAAAL94AACBOAABi1wAASD8AAP6tAADIrwAA78gAALjTAABYmAAAyK8AAMivAABOwwAAf74AABjwAQBfJwAAMPIAAMxfAABytgAAkOIAANSyAABQwwAAmDoAABT8AADo/QAADmUAAIiQAAADmQEAQJwAAJg6AABYDwIAkF8BAHARAQBWngAAUMMAAD2aAAAooAAAQZwAAIyeAACwMAEAmLcAAHAXAADIrwAA+CoAAHjmAADAVwEA4C4AAFgVAQDIrwAAwdoAAPinAAA4RAEAoIwAAEAZAQDyDwIAgDgBAKhbAQDYWQAAQJwAAJg6AABwlAAAOAIDALAqAgCwMAEAwNoAAJi3AABAnAAAMPIAAILjAAD4JAEAQJwAAKhbAQBAGQEASHEAAPwhAADIrwAAaMMAALgLAAB4BQAAoA8AALAEAAAEEAAAxFQAAHRAAACYOgAAUEYAAPgqAABwFwAA/CEAAFgbAAC4iAAAaEIAAFxEAADogAAAsDYAAJBlAAAYFQAARBYAAPQaAABwFwAApLUAAOwsAABAnAAAFAUAAFgbAAC4CwAAiBMAAPgqAABQRgAArA0AAPQBAAAYLgAAiBMAAMxbAACAPgAAmDoAANhAAAAAfQAAIE4AAEhxAACoYQAAqGEAADhKAACYOgAAkOIAAMivAADAXQAAcBcAABh5AADIMgAAyK8AAEAfAADMEAAAmDoAANhZAACYIQAAoA8AAMBdAADYWQAApDgAAHhpAACwNgAA9AEAAOgDAAAQpAAA4C4AALA2AAB8FQAALBoAAIQ1AAAUBQAAyJYAAPgkAQAwdQAAwF0AADhKAAAIQAMAYOoAAFDDAAAwdQAACFIAAJBlAABsBwAA8FUAAAB9AABQRgAA2NYAAGDqAACoYQAAaL8AAMBdAABQwwAAuIgAACChBwDogAAAuIgAAAjPAABJaAEAkOIAAChuAADU0AAAem4AAKUNAAC/MAAA7YcAAGsNAACFUgAAv4sAAA+qAACPWAAAdHsAAJJOAAAEjQAA1DAAAJg6AAAWsAAAoIwAAFiWAAAAfQAAQC8BAMXvAABmjQAA9VcAAGZgAACo3gAAYOoAAKTLAADIrwAAmToAAGQyAAAIzwAAjBEAACU7AABJLgAAoAkBAFHrAACdXAAAQn4AABqMAADQhAAAWBsAAGi/AABYFQEAuIgAAKCMAAAwdQAAaEIAAF6MAAB93QAAw3oAAIC7AADi0wAAq9EAAJrBAACEnQAAqGEAANaMAAAncgAA4BUAAFecAACCPgAAWpwAANBSAAC4iAAA6ksAADhKAACMSQAA3Q4BALoPAQDQawAAE+8AAHRAAAAheAAA4GAAABRVAACgDwAAvpwAAIE4AAAYxQAAGPYAADIjAABIJgAA0zoAAJlvAADgqwAA0IQAAOQqAAA4SgAAw3oAAOAuAABwlAAA+4AAAKzqAADEhAAAYOoAAH5XAQAoIwAAWBUAAA==",
          "dtype": "i4"
         },
         "xaxis": "x",
         "y": {
          "bdata": "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",
          "dtype": "f8"
         },
         "yaxis": "y"
        },
        {
         "hovertemplate": "<b>OLS trendline</b><br>Selling_Price = 3.81497e-06 * Driven_kms + 4.52034<br>R<sup>2</sup>=0.000852<br><br>Driven_kms=%{x}<br>Selling_Price=%{y} <b>(trend)</b><extra></extra>",
         "legendgroup": "",
         "marker": {
          "symbol": "circle"
         },
         "mode": "lines",
         "name": "",
         "showlegend": false,
         "type": "scatter",
         "x": {
          "bdata": "9AEAAPQBAADoAwAAsAQAABQFAAAUBQAAeAUAAGwHAAAXCAAAVwgAAGAJAAC4CwAAuAsAAGsNAAClDQAArA0AAKAPAACgDwAAoA8AAAQQAADMEAAAjBEAAIgTAACIEwAAUBQAABgVAABYFQAAfBUAAOAVAABEFgAAcBcAAHAXAABwFwAAcBcAACwaAAD0GgAA9BoAAFgbAABYGwAAWBsAAEAfAACYIQAA/CEAAPwhAAAoIwAAMiMAAEgmAABfJwAA5CoAAPgqAAD4KgAA+CoAAOwsAAAYLgAASS4AAOAuAADgLgAA4C4AAL8wAADUMAAAZDIAAMgyAACENQAAsDYAALA2AACwNgAAgTgAAKQ4AACYOgAAmDoAAJg6AACYOgAAmDoAAJg6AACYOgAAmDoAAJg6AACZOgAA0zoAACU7AACAPgAAgj4AAEg/AAB0QAAAdEAAANhAAABoQgAAaEIAAFxEAABQRgAAUEYAAFBGAABsSQAAjEkAADhKAAA4SgAAOEoAADhKAADqSwAAIE4AACBOAACSTgAAMU8AAAhSAACFUgAA0FIAAMRUAAAUVQAA8FUAAPVXAACPWAAA2FkAANhZAADYWQAAzFsAAJ1cAADAXQAAwF0AAMBdAADAXQAAzF8AAGZgAADgYAAAqGEAAKhhAACoYQAAqGEAAKhhAAAOZQAAkGUAAJBlAACQZQAAeGkAAHhpAADQawAAKG4AAHpuAACZbwAASHEAAEhxAAAncgAAMHUAADB1AAAwdQAAIXgAABh5AADDegAAw3oAAHR7AAAAfQAAAH0AAAB9AABCfgAA6IAAAOiAAAD7gAAAlYIAAMSEAADQhAAA0IQAAO2HAAC4iAAAuIgAALiIAAC4iAAAuIgAAKyKAAC/iwAAGowAAF6MAACgjAAAoIwAAKCMAADWjAAABI0AAGaNAACIkAAAcJQAAHCUAABYlgAAyJYAAFiYAAA9mgAAQJwAAECcAABAnAAAQJwAAECcAABBnAAAV5wAAFqcAAC+nAAAhJ0AAFaeAACMngAAKKAAAOKhAADOogAAEKQAAH+lAADSpQAA+KcAAPinAAD4pwAA+KcAAA+qAADgqwAA/q0AAMivAADIrwAAyK8AAMivAADIrwAAyK8AAMivAADIrwAAyK8AABawAADgsAAA1LIAAKS1AABytgAAmLcAAJi3AACAuwAAf74AAGi/AABovwAAmsEAAE7DAABQwwAAUMMAAFDDAABQwwAAUMMAAGjDAAAYxQAAOMcAAO/IAACkywAACM8AAAjPAADU0AAAq9EAALjTAADi0wAA2NYAAGLXAADA2gAAwdoAAH3dAAAv3gAAqN4AAJDiAACQ4gAAkOIAAILjAAB45gAAYOoAAGDqAABg6gAAYOoAAKzqAABR6wAAE+8AAMXvAAAw8gAAMPIAABj2AAAU/AAA6P0AAKAJAQDdDgEAug8BAHARAQBYFQEAWBUBAEAZAQBAGQEA+CQBAPgkAQBzLgEAQC8BALAwAQCwMAEAgDgBADhEAQB+VwEAwFcBAKhbAQCoWwEAkF8BAEloAQADmQEAGPABAFgPAgDyDwIAsCoCADgCAwAIQAMAIKEHAA==",
          "dtype": "i4"
         },
         "xaxis": "x",
         "y": {
          "bdata": "vbxh1sgWEkC9vGHWyBYSQOCssd+8GBJAIkBr44QZEkDCCUjl6BkSQMIJSOXoGRJAY9Mk50waEkCGw3TwQBwSQBISpPPrHBJA8zbV9CsdEkCqs8T5NB4SQG5t8QSNIBJAbm3xBI0gEkAddAsNQCISQIn9Hw56IhJAkl1BDoEiEkC1TZEXdSQSQLVNkRd1JBJAtU2RF3UkEkBWF24Z2SQSQJiqJx2hJRJAPRm7IGEmEkD9LTEqXSgSQP0tMSpdKBJAPsHqLSUpEkB/VKQx7SkSQGF51TItKhJAIB6BM1EqEkDB5101tSoSQGGxOjcZKxJARA7RPEUsEkBEDtE8RSwSQEQO0TxFLBJARA7RPEUsEkCpkdpJAS8SQOoklE3JLxJA6iSUTckvEkCL7nBPLTASQIvucE8tMBJAi+5wTy0wEkDSzhBiFTQSQJaIPW1tNhJAN1Iab9E2EkA3Uhpv0TYSQBmvsHT9NxJA3FzgdAc4EkAf/JaDHTsSQOc4yYg0PBJAIRSRmbk/EkCnb/CZzT8SQKdv8JnNPxJAp2/wmc0/EkDLX0CjwUESQK281qjtQhJA6lzAqR5DEkDuT5CstUMSQO5PkKy1QxJA7k+QrLVDEkD4H3y1lEUSQBJA4LWpRRJAlWZTvTlHEkA1MDC/nUcSQJqzOcxZShJAfBDQ0YVLEkB8ENDRhUsSQHwQ0NGFSxJAdSB52lZNEkCgACDbeU0SQMTwb+RtTxJAxPBv5G1PEkDE8G/kbU8SQMTwb+RtTxJAxPBv5G1PEkDE8G/kbU8SQMTwb+RtTxJAxPBv5G1PEkDE8G/kbU8SQFe1dORuTxJAxD6J5ahPEkAFNhDn+k8SQAvRD/dVUxJAMloZ91dTEkBMZMn6HVQSQC7BXwBKVRJALsFfAEpVEkDPijwCrlUSQFKxrwk+VxJAUrGvCT5XEkB1of8SMlkSQJmRTxwmWxJAmZFPHCZbEkCZkU8cJlsSQFDMIitCXhJAwV67K2JeEkDgce8uDl8SQOBx7y4OXxJA4HHvLg5fEkDgce8uDl8SQPuzBDfAYBJAJ1KPQfZiEkAnUo9B9mISQNnbrkNoYxJAevOkRgdkEkBuMi9U3mYSQHcug1ZbZxJAsMXoV6ZnEkDTtThhmmkSQO0jtmLqaRJAtRLPZsZqEkClEHBwy2wSQGRRTnNlbRJA/PJuea5uEkD88m55rm4SQPzybnmubhJAIOO+gqJwEkCRX6OGc3ESQEPTDoyWchJAQ9MOjJZyEkBD0w6MlnISQEPTDoyWchJAPDHRlaJ0EkD7ca+YPHUSQEkg9Zq2dRJAi7Ounn52EkCLs66efnYSQIuzrp5+dhJAi7Ounn52EkCLs66efnYSQOfA4q7keRJA0pNOsWZ6EkDSk06xZnoSQNKTTrFmehJAGXTuw05+EkAZdO7DTn4SQN0tG8+mgBJAoedH2v6CEkDi3s7bUIMSQEdAJ+FvhBJApzQu6R6GEkCnNC7pHoYSQClxVe39hhJA7hTO+waKEkDuFM77BooSQO4UzvsGihJA3krUCfiMEkA19W0O740SQEfXYRaajxJAR9dhFpqPEkBIwa0ZS5ASQHzVDSHXkRJAfNUNIdeREkB81Q0h15ESQAwXDScZkxJAw7WtM7+VEkDDta0zv5USQLZMCDTSlRJA/CCrO2yXEkAgXxRGm5kSQAqWTUanmRJACpZNRqeZEkBWlSVVxJwSQFJ27ViPnRJAUnbtWI+dEkBSdu1Yj50SQFJ27ViPnRJAUnbtWI+dEkB1Zj1ig58SQO+QXGeWoBJAYHEOafGgEkCQqFJqNaESQJlWjWt3oRJAmVaNa3ehEkCZVo1rd6ESQLfNjmytoRJAOSBqbduhEkCzYD1vPaISQOA2LX5fpRJAJxfNkEepEkAnF82QR6kSQGDQ45kvqxJA69D5m5+rEkBu92yjL60SQO1idawUrxJAtdcMthexEkC11wy2F7ESQLXXDLYXsRJAtdcMthexEkC11wy2F7ESQEmcEbYYsRJA9oB6ti6xEkCxzoi2MbESQFGYZbiVsRJAbKIVvFuyEkBx4/6/LbMSQI9aAMFjsxJA/LesyP+0EkCzHujQubYSQLRWTdWltxJAQ5hM2+e4EkDCZyLiVroSQJYjruOpuhJAinjs7c+8EkCKeOztz7wSQIp47O3PvBJAinjs7c+8EkDZSOP35r4SQNFYjAC4wBJAKYmkCtbCEkAZOSwToMQSQBk5LBOgxBJAGTksE6DEEkAZOSwToMQSQBk5LBOgxBJAGTksE6DEEkAZOSwToMQSQBk5LBOgxBJAGTksE6DEEkAMHqAU7sQSQHQ6Yxi4xRJAmCqzIazHEkCDCRwvfMoSQDo48jJKyxJAp/lrOHDMEkCn+Ws4cMwSQO7ZC0tY0BJA789UWVfTEkA1uqtdQNQSQDW6q11A1BJAE0YjaHLWEkBVEUJwJtgSQHyaS3Ao2BJAfJpLcCjYEkB8mktwKNgSQHyaS3Ao2BJAfJpLcCjYEkBRCL5wQNgSQETByXjw2RJAw3rrghDcEkDAkxiLx90SQBy3AJh84BJAUTsrqODjEkBROyuo4OMSQGh0vLCs5RJAToy9tIPmEkDaroS+kOgSQA7vTL+66BJA4PtqzbDrEkBm8/zPOuwSQCfcCuCY7xJAuqAP4JnvEkAfJBntVfISQLPSafAH8xJAbryq8oDzEkC1nEoFafcSQLWcSgVp9xJAtZxKBWn3EkAqcMwJW/gSQPx86hdR+xJAQ12KKjn/EkBDXYoqOf8SQENdiio5/xJAQ12KKjn/EkAPufQrhf8SQCVsBy8qABNAhh7yQOwDE0AazUJEngQTQNEdyk8JBxNA0R3KTwkHE0AY/mli8QoTQPRg8n7tEBNAp76ph8ESE0B8X4m/eR4TQEYYg9i2IxNAocug3JMkE0AKIMnkSSYTQFEAafcxKhNAUQBp9zEqE0CY4AgKGi4TQJjgCAoaLhNAboHoQdI5E0BugehB0jkTQA4kHG9NQxNAMY7tchpEE0BDIsh5ikUTQEMiyHmKRRNA0eIHn1pNE0Cmg+fWElkTQAE3zDJZbBNACuUGNJtsE0BRxaZGg3ATQFHFpkaDcBNAmKVGWWt0E0BsUN2CJH0TQOnML2vfrRNA3w9iCvYEFEAYEmGfNiQUQNdSP6LQJBRACTTAIY8/FEC9iGAlGxcVQMJnF0zsVBVAeNdTLRm2GUA=",
          "dtype": "f8"
         },
         "yaxis": "y"
        }
       ],
       "layout": {
        "coloraxis": {
         "colorbar": {
          "title": {
           "text": "Driven_kms"
          }
         },
         "colorscale": [
          [
           0,
           "#0d0887"
          ],
          [
           0.1111111111111111,
           "#46039f"
          ],
          [
           0.2222222222222222,
           "#7201a8"
          ],
          [
           0.3333333333333333,
           "#9c179e"
          ],
          [
           0.4444444444444444,
           "#bd3786"
          ],
          [
           0.5555555555555556,
           "#d8576b"
          ],
          [
           0.6666666666666666,
           "#ed7953"
          ],
          [
           0.7777777777777778,
           "#fb9f3a"
          ],
          [
           0.8888888888888888,
           "#fdca26"
          ],
          [
           1,
           "#f0f921"
          ]
         ]
        },
        "height": 600,
        "legend": {
         "tracegroupgap": 0
        },
        "template": {
         "data": {
          "bar": [
           {
            "error_x": {
             "color": "#2a3f5f"
            },
            "error_y": {
             "color": "#2a3f5f"
            },
            "marker": {
             "line": {
              "color": "#E5ECF6",
              "width": 0.5
             },
             "pattern": {
              "fillmode": "overlay",
              "size": 10,
              "solidity": 0.2
             }
            },
            "type": "bar"
           }
          ],
          "barpolar": [
           {
            "marker": {
             "line": {
              "color": "#E5ECF6",
              "width": 0.5
             },
             "pattern": {
              "fillmode": "overlay",
              "size": 10,
              "solidity": 0.2
             }
            },
            "type": "barpolar"
           }
          ],
          "carpet": [
           {
            "aaxis": {
             "endlinecolor": "#2a3f5f",
             "gridcolor": "white",
             "linecolor": "white",
             "minorgridcolor": "white",
             "startlinecolor": "#2a3f5f"
            },
            "baxis": {
             "endlinecolor": "#2a3f5f",
             "gridcolor": "white",
             "linecolor": "white",
             "minorgridcolor": "white",
             "startlinecolor": "#2a3f5f"
            },
            "type": "carpet"
           }
          ],
          "choropleth": [
           {
            "colorbar": {
             "outlinewidth": 0,
             "ticks": ""
            },
            "type": "choropleth"
           }
          ],
          "contour": [
           {
            "colorbar": {
             "outlinewidth": 0,
             "ticks": ""
            },
            "colorscale": [
             [
              0,
              "#0d0887"
             ],
             [
              0.1111111111111111,
              "#46039f"
             ],
             [
              0.2222222222222222,
              "#7201a8"
             ],
             [
              0.3333333333333333,
              "#9c179e"
             ],
             [
              0.4444444444444444,
              "#bd3786"
             ],
             [
              0.5555555555555556,
              "#d8576b"
             ],
             [
              0.6666666666666666,
              "#ed7953"
             ],
             [
              0.7777777777777778,
              "#fb9f3a"
             ],
             [
              0.8888888888888888,
              "#fdca26"
             ],
             [
              1,
              "#f0f921"
             ]
            ],
            "type": "contour"
           }
          ],
          "contourcarpet": [
           {
            "colorbar": {
             "outlinewidth": 0,
             "ticks": ""
            },
            "type": "contourcarpet"
           }
          ],
          "heatmap": [
           {
            "colorbar": {
             "outlinewidth": 0,
             "ticks": ""
            },
            "colorscale": [
             [
              0,
              "#0d0887"
             ],
             [
              0.1111111111111111,
              "#46039f"
             ],
             [
              0.2222222222222222,
              "#7201a8"
             ],
             [
              0.3333333333333333,
              "#9c179e"
             ],
             [
              0.4444444444444444,
              "#bd3786"
             ],
             [
              0.5555555555555556,
              "#d8576b"
             ],
             [
              0.6666666666666666,
              "#ed7953"
             ],
             [
              0.7777777777777778,
              "#fb9f3a"
             ],
             [
              0.8888888888888888,
              "#fdca26"
             ],
             [
              1,
              "#f0f921"
             ]
            ],
            "type": "heatmap"
           }
          ],
          "histogram": [
           {
            "marker": {
             "pattern": {
              "fillmode": "overlay",
              "size": 10,
              "solidity": 0.2
             }
            },
            "type": "histogram"
           }
          ],
          "histogram2d": [
           {
            "colorbar": {
             "outlinewidth": 0,
             "ticks": ""
            },
            "colorscale": [
             [
              0,
              "#0d0887"
             ],
             [
              0.1111111111111111,
              "#46039f"
             ],
             [
              0.2222222222222222,
              "#7201a8"
             ],
             [
              0.3333333333333333,
              "#9c179e"
             ],
             [
              0.4444444444444444,
              "#bd3786"
             ],
             [
              0.5555555555555556,
              "#d8576b"
             ],
             [
              0.6666666666666666,
              "#ed7953"
             ],
             [
              0.7777777777777778,
              "#fb9f3a"
             ],
             [
              0.8888888888888888,
              "#fdca26"
             ],
             [
              1,
              "#f0f921"
             ]
            ],
            "type": "histogram2d"
           }
          ],
          "histogram2dcontour": [
           {
            "colorbar": {
             "outlinewidth": 0,
             "ticks": ""
            },
            "colorscale": [
             [
              0,
              "#0d0887"
             ],
             [
              0.1111111111111111,
              "#46039f"
             ],
             [
              0.2222222222222222,
              "#7201a8"
             ],
             [
              0.3333333333333333,
              "#9c179e"
             ],
             [
              0.4444444444444444,
              "#bd3786"
             ],
             [
              0.5555555555555556,
              "#d8576b"
             ],
             [
              0.6666666666666666,
              "#ed7953"
             ],
             [
              0.7777777777777778,
              "#fb9f3a"
             ],
             [
              0.8888888888888888,
              "#fdca26"
             ],
             [
              1,
              "#f0f921"
             ]
            ],
            "type": "histogram2dcontour"
           }
          ],
          "mesh3d": [
           {
            "colorbar": {
             "outlinewidth": 0,
             "ticks": ""
            },
            "type": "mesh3d"
           }
          ],
          "parcoords": [
           {
            "line": {
             "colorbar": {
              "outlinewidth": 0,
              "ticks": ""
             }
            },
            "type": "parcoords"
           }
          ],
          "pie": [
           {
            "automargin": true,
            "type": "pie"
           }
          ],
          "scatter": [
           {
            "fillpattern": {
             "fillmode": "overlay",
             "size": 10,
             "solidity": 0.2
            },
            "type": "scatter"
           }
          ],
          "scatter3d": [
           {
            "line": {
             "colorbar": {
              "outlinewidth": 0,
              "ticks": ""
             }
            },
            "marker": {
             "colorbar": {
              "outlinewidth": 0,
              "ticks": ""
             }
            },
            "type": "scatter3d"
           }
          ],
          "scattercarpet": [
           {
            "marker": {
             "colorbar": {
              "outlinewidth": 0,
              "ticks": ""
             }
            },
            "type": "scattercarpet"
           }
          ],
          "scattergeo": [
           {
            "marker": {
             "colorbar": {
              "outlinewidth": 0,
              "ticks": ""
             }
            },
            "type": "scattergeo"
           }
          ],
          "scattergl": [
           {
            "marker": {
             "colorbar": {
              "outlinewidth": 0,
              "ticks": ""
             }
            },
            "type": "scattergl"
           }
          ],
          "scattermap": [
           {
            "marker": {
             "colorbar": {
              "outlinewidth": 0,
              "ticks": ""
             }
            },
            "type": "scattermap"
           }
          ],
          "scattermapbox": [
           {
            "marker": {
             "colorbar": {
              "outlinewidth": 0,
              "ticks": ""
             }
            },
            "type": "scattermapbox"
           }
          ],
          "scatterpolar": [
           {
            "marker": {
             "colorbar": {
              "outlinewidth": 0,
              "ticks": ""
             }
            },
            "type": "scatterpolar"
           }
          ],
          "scatterpolargl": [
           {
            "marker": {
             "colorbar": {
              "outlinewidth": 0,
              "ticks": ""
             }
            },
            "type": "scatterpolargl"
           }
          ],
          "scatterternary": [
           {
            "marker": {
             "colorbar": {
              "outlinewidth": 0,
              "ticks": ""
             }
            },
            "type": "scatterternary"
           }
          ],
          "surface": [
           {
            "colorbar": {
             "outlinewidth": 0,
             "ticks": ""
            },
            "colorscale": [
             [
              0,
              "#0d0887"
             ],
             [
              0.1111111111111111,
              "#46039f"
             ],
             [
              0.2222222222222222,
              "#7201a8"
             ],
             [
              0.3333333333333333,
              "#9c179e"
             ],
             [
              0.4444444444444444,
              "#bd3786"
             ],
             [
              0.5555555555555556,
              "#d8576b"
             ],
             [
              0.6666666666666666,
              "#ed7953"
             ],
             [
              0.7777777777777778,
              "#fb9f3a"
             ],
             [
              0.8888888888888888,
              "#fdca26"
             ],
             [
              1,
              "#f0f921"
             ]
            ],
            "type": "surface"
           }
          ],
          "table": [
           {
            "cells": {
             "fill": {
              "color": "#EBF0F8"
             },
             "line": {
              "color": "white"
             }
            },
            "header": {
             "fill": {
              "color": "#C8D4E3"
             },
             "line": {
              "color": "white"
             }
            },
            "type": "table"
           }
          ]
         },
         "layout": {
          "annotationdefaults": {
           "arrowcolor": "#2a3f5f",
           "arrowhead": 0,
           "arrowwidth": 1
          },
          "autotypenumbers": "strict",
          "coloraxis": {
           "colorbar": {
            "outlinewidth": 0,
            "ticks": ""
           }
          },
          "colorscale": {
           "diverging": [
            [
             0,
             "#8e0152"
            ],
            [
             0.1,
             "#c51b7d"
            ],
            [
             0.2,
             "#de77ae"
            ],
            [
             0.3,
             "#f1b6da"
            ],
            [
             0.4,
             "#fde0ef"
            ],
            [
             0.5,
             "#f7f7f7"
            ],
            [
             0.6,
             "#e6f5d0"
            ],
            [
             0.7,
             "#b8e186"
            ],
            [
             0.8,
             "#7fbc41"
            ],
            [
             0.9,
             "#4d9221"
            ],
            [
             1,
             "#276419"
            ]
           ],
           "sequential": [
            [
             0,
             "#0d0887"
            ],
            [
             0.1111111111111111,
             "#46039f"
            ],
            [
             0.2222222222222222,
             "#7201a8"
            ],
            [
             0.3333333333333333,
             "#9c179e"
            ],
            [
             0.4444444444444444,
             "#bd3786"
            ],
            [
             0.5555555555555556,
             "#d8576b"
            ],
            [
             0.6666666666666666,
             "#ed7953"
            ],
            [
             0.7777777777777778,
             "#fb9f3a"
            ],
            [
             0.8888888888888888,
             "#fdca26"
            ],
            [
             1,
             "#f0f921"
            ]
           ],
           "sequentialminus": [
            [
             0,
             "#0d0887"
            ],
            [
             0.1111111111111111,
             "#46039f"
            ],
            [
             0.2222222222222222,
             "#7201a8"
            ],
            [
             0.3333333333333333,
             "#9c179e"
            ],
            [
             0.4444444444444444,
             "#bd3786"
            ],
            [
             0.5555555555555556,
             "#d8576b"
            ],
            [
             0.6666666666666666,
             "#ed7953"
            ],
            [
             0.7777777777777778,
             "#fb9f3a"
            ],
            [
             0.8888888888888888,
             "#fdca26"
            ],
            [
             1,
             "#f0f921"
            ]
           ]
          },
          "colorway": [
           "#636efa",
           "#EF553B",
           "#00cc96",
           "#ab63fa",
           "#FFA15A",
           "#19d3f3",
           "#FF6692",
           "#B6E880",
           "#FF97FF",
           "#FECB52"
          ],
          "font": {
           "color": "#2a3f5f"
          },
          "geo": {
           "bgcolor": "white",
           "lakecolor": "white",
           "landcolor": "#E5ECF6",
           "showlakes": true,
           "showland": true,
           "subunitcolor": "white"
          },
          "hoverlabel": {
           "align": "left"
          },
          "hovermode": "closest",
          "mapbox": {
           "style": "light"
          },
          "paper_bgcolor": "white",
          "plot_bgcolor": "#E5ECF6",
          "polar": {
           "angularaxis": {
            "gridcolor": "white",
            "linecolor": "white",
            "ticks": ""
           },
           "bgcolor": "#E5ECF6",
           "radialaxis": {
            "gridcolor": "white",
            "linecolor": "white",
            "ticks": ""
           }
          },
          "scene": {
           "xaxis": {
            "backgroundcolor": "#E5ECF6",
            "gridcolor": "white",
            "gridwidth": 2,
            "linecolor": "white",
            "showbackground": true,
            "ticks": "",
            "zerolinecolor": "white"
           },
           "yaxis": {
            "backgroundcolor": "#E5ECF6",
            "gridcolor": "white",
            "gridwidth": 2,
            "linecolor": "white",
            "showbackground": true,
            "ticks": "",
            "zerolinecolor": "white"
           },
           "zaxis": {
            "backgroundcolor": "#E5ECF6",
            "gridcolor": "white",
            "gridwidth": 2,
            "linecolor": "white",
            "showbackground": true,
            "ticks": "",
            "zerolinecolor": "white"
           }
          },
          "shapedefaults": {
           "line": {
            "color": "#2a3f5f"
           }
          },
          "ternary": {
           "aaxis": {
            "gridcolor": "white",
            "linecolor": "white",
            "ticks": ""
           },
           "baxis": {
            "gridcolor": "white",
            "linecolor": "white",
            "ticks": ""
           },
           "bgcolor": "#E5ECF6",
           "caxis": {
            "gridcolor": "white",
            "linecolor": "white",
            "ticks": ""
           }
          },
          "title": {
           "x": 0.05
          },
          "xaxis": {
           "automargin": true,
           "gridcolor": "white",
           "linecolor": "white",
           "ticks": "",
           "title": {
            "standoff": 15
           },
           "zerolinecolor": "white",
           "zerolinewidth": 2
          },
          "yaxis": {
           "automargin": true,
           "gridcolor": "white",
           "linecolor": "white",
           "ticks": "",
           "title": {
            "standoff": 15
           },
           "zerolinecolor": "white",
           "zerolinewidth": 2
          }
         }
        },
        "title": {
         "text": "Driven kms vs Selling Price"
        },
        "width": 1000,
        "xaxis": {
         "anchor": "y",
         "domain": [
          0,
          1
         ],
         "title": {
          "text": "Driven_kms"
         }
        },
        "yaxis": {
         "anchor": "x",
         "domain": [
          0,
          1
         ],
         "title": {
          "text": "Selling_Price"
         }
        }
       }
      }
     },
     "metadata": {},
     "output_type": "display_data"
    }
   ],
   "source": [
    "# Driven kms vs Selling Price\n",
    "\n",
    "fig = px.scatter(df, x='Driven_kms', y='Selling_Price',\n",
    "                 trendline=\"ols\", color='Driven_kms', color_discrete_map={27000: 'red', 43000: 'blue'}, title='Driven kms vs Selling Price')\n",
    "fig.update_layout(width=1000, height=600)\n",
    "fig.show()\n"
   ]
  },
  {
   "cell_type": "code",
   "execution_count": 53,
   "metadata": {},
   "outputs": [
    {
     "data": {
      "application/vnd.plotly.v1+json": {
       "config": {
        "plotlyServerURL": "https://plot.ly"
       },
       "data": [
        {
         "alignmentgroup": "True",
         "hovertemplate": "Owner=%{x}<br>Selling_Price=%{y}<extra></extra>",
         "legendgroup": "0",
         "marker": {
          "color": "#636efa"
         },
         "name": "0",
         "notched": false,
         "offsetgroup": "0",
         "orientation": "v",
         "showlegend": true,
         "type": "box",
         "x": {
          "bdata": "AAAAAAAAAAAAAAAAAAAAAAAAAAAAAAAAAAAAAAAAAAAAAAAAAAAAAAAAAAAAAAAAAAAAAAAAAAAAAAAAAAAAAAAAAAAAAAAAAAAAAAAAAAAAAAAAAAAAAAAAAAAAAAAAAAAAAAAAAAAAAAAAAAAAAAAAAAAAAAAAAAAAAAAAAAAAAAAAAAAAAAAAAAAAAAAAAAAAAAAAAAAAAAAAAAAAAAAAAAAAAAAAAAAAAAAAAAAAAAAAAAAAAAAAAAAAAAAAAAAAAAAAAAAAAAAAAAAAAAAAAAAAAAAAAAAAAAAAAAAAAAAAAAAAAAAAAAAAAAAAAAAAAAAAAAAAAAAAAAAAAAAAAAAAAAAAAAAAAAAAAAAAAAAAAAAAAAAAAAAAAAAAAAA=",
          "dtype": "i1"
         },
         "x0": " ",
         "xaxis": "x",
         "y": {
          "bdata": "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",
          "dtype": "f8"
         },
         "y0": " ",
         "yaxis": "y"
        },
        {
         "alignmentgroup": "True",
         "hovertemplate": "Owner=%{x}<br>Selling_Price=%{y}<extra></extra>",
         "legendgroup": "1",
         "marker": {
          "color": "#EF553B"
         },
         "name": "1",
         "notched": false,
         "offsetgroup": "1",
         "orientation": "v",
         "showlegend": true,
         "type": "box",
         "x": {
          "bdata": "AQEBAQEBAQEBAQ==",
          "dtype": "i1"
         },
         "x0": " ",
         "xaxis": "x",
         "y": {
          "bdata": "ZmZmZmZmEECamZmZmZn1PwAAAAAAANA/mpmZmZmZyT+amZmZmZnJP5qZmZmZmck/MzMzMzMzwz8AAAAAAAAKQAAAAAAAABVAAAAAAAAAE0A=",
          "dtype": "f8"
         },
         "y0": " ",
         "yaxis": "y"
        },
        {
         "alignmentgroup": "True",
         "hovertemplate": "Owner=%{x}<br>Selling_Price=%{y}<extra></extra>",
         "legendgroup": "3",
         "marker": {
          "color": "#00cc96"
         },
         "name": "3",
         "notched": false,
         "offsetgroup": "3",
         "orientation": "v",
         "showlegend": true,
         "type": "box",
         "x": {
          "bdata": "Aw==",
          "dtype": "i1"
         },
         "x0": " ",
         "xaxis": "x",
         "y": {
          "bdata": "AAAAAAAABEA=",
          "dtype": "f8"
         },
         "y0": " ",
         "yaxis": "y"
        }
       ],
       "layout": {
        "boxmode": "overlay",
        "height": 600,
        "legend": {
         "title": {
          "text": "Owner"
         },
         "tracegroupgap": 0
        },
        "template": {
         "data": {
          "bar": [
           {
            "error_x": {
             "color": "#2a3f5f"
            },
            "error_y": {
             "color": "#2a3f5f"
            },
            "marker": {
             "line": {
              "color": "#E5ECF6",
              "width": 0.5
             },
             "pattern": {
              "fillmode": "overlay",
              "size": 10,
              "solidity": 0.2
             }
            },
            "type": "bar"
           }
          ],
          "barpolar": [
           {
            "marker": {
             "line": {
              "color": "#E5ECF6",
              "width": 0.5
             },
             "pattern": {
              "fillmode": "overlay",
              "size": 10,
              "solidity": 0.2
             }
            },
            "type": "barpolar"
           }
          ],
          "carpet": [
           {
            "aaxis": {
             "endlinecolor": "#2a3f5f",
             "gridcolor": "white",
             "linecolor": "white",
             "minorgridcolor": "white",
             "startlinecolor": "#2a3f5f"
            },
            "baxis": {
             "endlinecolor": "#2a3f5f",
             "gridcolor": "white",
             "linecolor": "white",
             "minorgridcolor": "white",
             "startlinecolor": "#2a3f5f"
            },
            "type": "carpet"
           }
          ],
          "choropleth": [
           {
            "colorbar": {
             "outlinewidth": 0,
             "ticks": ""
            },
            "type": "choropleth"
           }
          ],
          "contour": [
           {
            "colorbar": {
             "outlinewidth": 0,
             "ticks": ""
            },
            "colorscale": [
             [
              0,
              "#0d0887"
             ],
             [
              0.1111111111111111,
              "#46039f"
             ],
             [
              0.2222222222222222,
              "#7201a8"
             ],
             [
              0.3333333333333333,
              "#9c179e"
             ],
             [
              0.4444444444444444,
              "#bd3786"
             ],
             [
              0.5555555555555556,
              "#d8576b"
             ],
             [
              0.6666666666666666,
              "#ed7953"
             ],
             [
              0.7777777777777778,
              "#fb9f3a"
             ],
             [
              0.8888888888888888,
              "#fdca26"
             ],
             [
              1,
              "#f0f921"
             ]
            ],
            "type": "contour"
           }
          ],
          "contourcarpet": [
           {
            "colorbar": {
             "outlinewidth": 0,
             "ticks": ""
            },
            "type": "contourcarpet"
           }
          ],
          "heatmap": [
           {
            "colorbar": {
             "outlinewidth": 0,
             "ticks": ""
            },
            "colorscale": [
             [
              0,
              "#0d0887"
             ],
             [
              0.1111111111111111,
              "#46039f"
             ],
             [
              0.2222222222222222,
              "#7201a8"
             ],
             [
              0.3333333333333333,
              "#9c179e"
             ],
             [
              0.4444444444444444,
              "#bd3786"
             ],
             [
              0.5555555555555556,
              "#d8576b"
             ],
             [
              0.6666666666666666,
              "#ed7953"
             ],
             [
              0.7777777777777778,
              "#fb9f3a"
             ],
             [
              0.8888888888888888,
              "#fdca26"
             ],
             [
              1,
              "#f0f921"
             ]
            ],
            "type": "heatmap"
           }
          ],
          "histogram": [
           {
            "marker": {
             "pattern": {
              "fillmode": "overlay",
              "size": 10,
              "solidity": 0.2
             }
            },
            "type": "histogram"
           }
          ],
          "histogram2d": [
           {
            "colorbar": {
             "outlinewidth": 0,
             "ticks": ""
            },
            "colorscale": [
             [
              0,
              "#0d0887"
             ],
             [
              0.1111111111111111,
              "#46039f"
             ],
             [
              0.2222222222222222,
              "#7201a8"
             ],
             [
              0.3333333333333333,
              "#9c179e"
             ],
             [
              0.4444444444444444,
              "#bd3786"
             ],
             [
              0.5555555555555556,
              "#d8576b"
             ],
             [
              0.6666666666666666,
              "#ed7953"
             ],
             [
              0.7777777777777778,
              "#fb9f3a"
             ],
             [
              0.8888888888888888,
              "#fdca26"
             ],
             [
              1,
              "#f0f921"
             ]
            ],
            "type": "histogram2d"
           }
          ],
          "histogram2dcontour": [
           {
            "colorbar": {
             "outlinewidth": 0,
             "ticks": ""
            },
            "colorscale": [
             [
              0,
              "#0d0887"
             ],
             [
              0.1111111111111111,
              "#46039f"
             ],
             [
              0.2222222222222222,
              "#7201a8"
             ],
             [
              0.3333333333333333,
              "#9c179e"
             ],
             [
              0.4444444444444444,
              "#bd3786"
             ],
             [
              0.5555555555555556,
              "#d8576b"
             ],
             [
              0.6666666666666666,
              "#ed7953"
             ],
             [
              0.7777777777777778,
              "#fb9f3a"
             ],
             [
              0.8888888888888888,
              "#fdca26"
             ],
             [
              1,
              "#f0f921"
             ]
            ],
            "type": "histogram2dcontour"
           }
          ],
          "mesh3d": [
           {
            "colorbar": {
             "outlinewidth": 0,
             "ticks": ""
            },
            "type": "mesh3d"
           }
          ],
          "parcoords": [
           {
            "line": {
             "colorbar": {
              "outlinewidth": 0,
              "ticks": ""
             }
            },
            "type": "parcoords"
           }
          ],
          "pie": [
           {
            "automargin": true,
            "type": "pie"
           }
          ],
          "scatter": [
           {
            "fillpattern": {
             "fillmode": "overlay",
             "size": 10,
             "solidity": 0.2
            },
            "type": "scatter"
           }
          ],
          "scatter3d": [
           {
            "line": {
             "colorbar": {
              "outlinewidth": 0,
              "ticks": ""
             }
            },
            "marker": {
             "colorbar": {
              "outlinewidth": 0,
              "ticks": ""
             }
            },
            "type": "scatter3d"
           }
          ],
          "scattercarpet": [
           {
            "marker": {
             "colorbar": {
              "outlinewidth": 0,
              "ticks": ""
             }
            },
            "type": "scattercarpet"
           }
          ],
          "scattergeo": [
           {
            "marker": {
             "colorbar": {
              "outlinewidth": 0,
              "ticks": ""
             }
            },
            "type": "scattergeo"
           }
          ],
          "scattergl": [
           {
            "marker": {
             "colorbar": {
              "outlinewidth": 0,
              "ticks": ""
             }
            },
            "type": "scattergl"
           }
          ],
          "scattermap": [
           {
            "marker": {
             "colorbar": {
              "outlinewidth": 0,
              "ticks": ""
             }
            },
            "type": "scattermap"
           }
          ],
          "scattermapbox": [
           {
            "marker": {
             "colorbar": {
              "outlinewidth": 0,
              "ticks": ""
             }
            },
            "type": "scattermapbox"
           }
          ],
          "scatterpolar": [
           {
            "marker": {
             "colorbar": {
              "outlinewidth": 0,
              "ticks": ""
             }
            },
            "type": "scatterpolar"
           }
          ],
          "scatterpolargl": [
           {
            "marker": {
             "colorbar": {
              "outlinewidth": 0,
              "ticks": ""
             }
            },
            "type": "scatterpolargl"
           }
          ],
          "scatterternary": [
           {
            "marker": {
             "colorbar": {
              "outlinewidth": 0,
              "ticks": ""
             }
            },
            "type": "scatterternary"
           }
          ],
          "surface": [
           {
            "colorbar": {
             "outlinewidth": 0,
             "ticks": ""
            },
            "colorscale": [
             [
              0,
              "#0d0887"
             ],
             [
              0.1111111111111111,
              "#46039f"
             ],
             [
              0.2222222222222222,
              "#7201a8"
             ],
             [
              0.3333333333333333,
              "#9c179e"
             ],
             [
              0.4444444444444444,
              "#bd3786"
             ],
             [
              0.5555555555555556,
              "#d8576b"
             ],
             [
              0.6666666666666666,
              "#ed7953"
             ],
             [
              0.7777777777777778,
              "#fb9f3a"
             ],
             [
              0.8888888888888888,
              "#fdca26"
             ],
             [
              1,
              "#f0f921"
             ]
            ],
            "type": "surface"
           }
          ],
          "table": [
           {
            "cells": {
             "fill": {
              "color": "#EBF0F8"
             },
             "line": {
              "color": "white"
             }
            },
            "header": {
             "fill": {
              "color": "#C8D4E3"
             },
             "line": {
              "color": "white"
             }
            },
            "type": "table"
           }
          ]
         },
         "layout": {
          "annotationdefaults": {
           "arrowcolor": "#2a3f5f",
           "arrowhead": 0,
           "arrowwidth": 1
          },
          "autotypenumbers": "strict",
          "coloraxis": {
           "colorbar": {
            "outlinewidth": 0,
            "ticks": ""
           }
          },
          "colorscale": {
           "diverging": [
            [
             0,
             "#8e0152"
            ],
            [
             0.1,
             "#c51b7d"
            ],
            [
             0.2,
             "#de77ae"
            ],
            [
             0.3,
             "#f1b6da"
            ],
            [
             0.4,
             "#fde0ef"
            ],
            [
             0.5,
             "#f7f7f7"
            ],
            [
             0.6,
             "#e6f5d0"
            ],
            [
             0.7,
             "#b8e186"
            ],
            [
             0.8,
             "#7fbc41"
            ],
            [
             0.9,
             "#4d9221"
            ],
            [
             1,
             "#276419"
            ]
           ],
           "sequential": [
            [
             0,
             "#0d0887"
            ],
            [
             0.1111111111111111,
             "#46039f"
            ],
            [
             0.2222222222222222,
             "#7201a8"
            ],
            [
             0.3333333333333333,
             "#9c179e"
            ],
            [
             0.4444444444444444,
             "#bd3786"
            ],
            [
             0.5555555555555556,
             "#d8576b"
            ],
            [
             0.6666666666666666,
             "#ed7953"
            ],
            [
             0.7777777777777778,
             "#fb9f3a"
            ],
            [
             0.8888888888888888,
             "#fdca26"
            ],
            [
             1,
             "#f0f921"
            ]
           ],
           "sequentialminus": [
            [
             0,
             "#0d0887"
            ],
            [
             0.1111111111111111,
             "#46039f"
            ],
            [
             0.2222222222222222,
             "#7201a8"
            ],
            [
             0.3333333333333333,
             "#9c179e"
            ],
            [
             0.4444444444444444,
             "#bd3786"
            ],
            [
             0.5555555555555556,
             "#d8576b"
            ],
            [
             0.6666666666666666,
             "#ed7953"
            ],
            [
             0.7777777777777778,
             "#fb9f3a"
            ],
            [
             0.8888888888888888,
             "#fdca26"
            ],
            [
             1,
             "#f0f921"
            ]
           ]
          },
          "colorway": [
           "#636efa",
           "#EF553B",
           "#00cc96",
           "#ab63fa",
           "#FFA15A",
           "#19d3f3",
           "#FF6692",
           "#B6E880",
           "#FF97FF",
           "#FECB52"
          ],
          "font": {
           "color": "#2a3f5f"
          },
          "geo": {
           "bgcolor": "white",
           "lakecolor": "white",
           "landcolor": "#E5ECF6",
           "showlakes": true,
           "showland": true,
           "subunitcolor": "white"
          },
          "hoverlabel": {
           "align": "left"
          },
          "hovermode": "closest",
          "mapbox": {
           "style": "light"
          },
          "paper_bgcolor": "white",
          "plot_bgcolor": "#E5ECF6",
          "polar": {
           "angularaxis": {
            "gridcolor": "white",
            "linecolor": "white",
            "ticks": ""
           },
           "bgcolor": "#E5ECF6",
           "radialaxis": {
            "gridcolor": "white",
            "linecolor": "white",
            "ticks": ""
           }
          },
          "scene": {
           "xaxis": {
            "backgroundcolor": "#E5ECF6",
            "gridcolor": "white",
            "gridwidth": 2,
            "linecolor": "white",
            "showbackground": true,
            "ticks": "",
            "zerolinecolor": "white"
           },
           "yaxis": {
            "backgroundcolor": "#E5ECF6",
            "gridcolor": "white",
            "gridwidth": 2,
            "linecolor": "white",
            "showbackground": true,
            "ticks": "",
            "zerolinecolor": "white"
           },
           "zaxis": {
            "backgroundcolor": "#E5ECF6",
            "gridcolor": "white",
            "gridwidth": 2,
            "linecolor": "white",
            "showbackground": true,
            "ticks": "",
            "zerolinecolor": "white"
           }
          },
          "shapedefaults": {
           "line": {
            "color": "#2a3f5f"
           }
          },
          "ternary": {
           "aaxis": {
            "gridcolor": "white",
            "linecolor": "white",
            "ticks": ""
           },
           "baxis": {
            "gridcolor": "white",
            "linecolor": "white",
            "ticks": ""
           },
           "bgcolor": "#E5ECF6",
           "caxis": {
            "gridcolor": "white",
            "linecolor": "white",
            "ticks": ""
           }
          },
          "title": {
           "x": 0.05
          },
          "xaxis": {
           "automargin": true,
           "gridcolor": "white",
           "linecolor": "white",
           "ticks": "",
           "title": {
            "standoff": 15
           },
           "zerolinecolor": "white",
           "zerolinewidth": 2
          },
          "yaxis": {
           "automargin": true,
           "gridcolor": "white",
           "linecolor": "white",
           "ticks": "",
           "title": {
            "standoff": 15
           },
           "zerolinecolor": "white",
           "zerolinewidth": 2
          }
         }
        },
        "title": {
         "text": "Ownership vs Selling Price"
        },
        "width": 800,
        "xaxis": {
         "anchor": "y",
         "categoryarray": [
          0,
          1,
          3
         ],
         "categoryorder": "array",
         "domain": [
          0,
          1
         ],
         "title": {
          "text": "Owner"
         }
        },
        "yaxis": {
         "anchor": "x",
         "domain": [
          0,
          1
         ],
         "title": {
          "text": "Selling_Price"
         }
        }
       }
      }
     },
     "metadata": {},
     "output_type": "display_data"
    }
   ],
   "source": [
    "# Ownership vs Selling Price\n",
    "\n",
    "fig = px.box(df, x='Owner', y='Selling_Price', color='Owner', title='Ownership vs Selling Price')\n",
    "fig.update_layout(width=800, height=600)\n",
    "fig.show()"
   ]
  },
  {
   "cell_type": "code",
   "execution_count": 63,
   "metadata": {},
   "outputs": [
    {
     "data": {
      "application/vnd.plotly.v1+json": {
       "config": {
        "plotlyServerURL": "https://plot.ly"
       },
       "data": [
        {
         "domain": {
          "x": [
           0,
           1
          ],
          "y": [
           0,
           1
          ]
         },
         "hovertemplate": "Fuel_Type=%{label}<br>Selling_Price=%{value}<extra></extra>",
         "labels": {
          "bdata": "AgAAAAEAAAACAAAAAgAAAAEAAAABAAAAAgAAAAEAAAABAAAAAQAAAAIAAAABAAAAAgAAAAIAAAACAAAAAQAAAAEAAAABAAAAAAAAAAIAAAACAAAAAgAAAAIAAAACAAAAAgAAAAIAAAACAAAAAgAAAAIAAAABAAAAAQAAAAIAAAABAAAAAQAAAAEAAAAAAAAAAgAAAAIAAAACAAAAAgAAAAIAAAACAAAAAgAAAAEAAAACAAAAAgAAAAIAAAACAAAAAgAAAAIAAAABAAAAAQAAAAEAAAABAAAAAgAAAAIAAAACAAAAAgAAAAIAAAABAAAAAgAAAAIAAAABAAAAAQAAAAEAAAABAAAAAgAAAAEAAAACAAAAAgAAAAEAAAABAAAAAgAAAAIAAAABAAAAAgAAAAIAAAACAAAAAgAAAAEAAAABAAAAAQAAAAEAAAABAAAAAQAAAAIAAAABAAAAAgAAAAIAAAACAAAAAgAAAAEAAAACAAAAAQAAAAIAAAACAAAAAQAAAAIAAAACAAAAAQAAAAIAAAACAAAAAgAAAAIAAAACAAAAAgAAAAIAAAACAAAAAgAAAAIAAAACAAAAAgAAAAIAAAACAAAAAgAAAAIAAAACAAAAAgAAAAIAAAACAAAAAgAAAAIAAAACAAAAAgAAAAIAAAACAAAAAgAAAAIAAAACAAAAAgAAAAIAAAACAAAAAgAAAAIAAAACAAAAAgAAAAIAAAACAAAAAgAAAAIAAAACAAAAAgAAAAIAAAACAAAAAgAAAAIAAAACAAAAAgAAAAIAAAACAAAAAgAAAAIAAAACAAAAAgAAAAIAAAACAAAAAgAAAAIAAAACAAAAAgAAAAIAAAACAAAAAgAAAAIAAAACAAAAAgAAAAIAAAACAAAAAgAAAAIAAAACAAAAAgAAAAIAAAACAAAAAgAAAAIAAAACAAAAAgAAAAIAAAACAAAAAgAAAAIAAAACAAAAAgAAAAIAAAACAAAAAgAAAAIAAAACAAAAAgAAAAIAAAACAAAAAgAAAAIAAAACAAAAAgAAAAIAAAACAAAAAgAAAAIAAAACAAAAAQAAAAIAAAACAAAAAgAAAAIAAAACAAAAAgAAAAIAAAABAAAAAgAAAAEAAAACAAAAAgAAAAIAAAACAAAAAgAAAAIAAAACAAAAAgAAAAIAAAACAAAAAQAAAAEAAAACAAAAAgAAAAIAAAACAAAAAQAAAAEAAAABAAAAAgAAAAIAAAABAAAAAgAAAAIAAAACAAAAAQAAAAIAAAACAAAAAQAAAAIAAAACAAAAAgAAAAEAAAABAAAAAgAAAAIAAAACAAAAAgAAAAEAAAACAAAAAgAAAAEAAAACAAAAAgAAAAIAAAACAAAAAgAAAAIAAAACAAAAAgAAAAIAAAACAAAAAgAAAAIAAAACAAAAAQAAAAIAAAACAAAAAgAAAAIAAAACAAAAAgAAAAIAAAACAAAAAgAAAAIAAAACAAAAAgAAAAIAAAACAAAAAQAAAAIAAAACAAAAAgAAAAIAAAACAAAAAgAAAAIAAAACAAAAAgAAAAIAAAACAAAAAgAAAAEAAAABAAAAAgAAAAIAAAABAAAAAgAAAA==",
          "dtype": "i4"
         },
         "legendgroup": "",
         "name": "",
         "showlegend": true,
         "type": "pie",
         "values": {
          "bdata": "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",
          "dtype": "f8"
         }
        }
       ],
       "layout": {
        "height": 600,
        "legend": {
         "tracegroupgap": 0
        },
        "piecolorway": [
         "#2E91E5",
         "#E15F99",
         "#1CA71C",
         "#FB0D0D",
         "#DA16FF",
         "#222A2A",
         "#B68100",
         "#750D86",
         "#EB663B",
         "#511CFB",
         "#00A08B",
         "#FB00D1",
         "#FC0080",
         "#B2828D",
         "#6C7C32",
         "#778AAE",
         "#862A16",
         "#A777F1",
         "#620042",
         "#1616A7",
         "#DA60CA",
         "#6C4516",
         "#0D2A63",
         "#AF0038"
        ],
        "template": {
         "data": {
          "bar": [
           {
            "error_x": {
             "color": "#2a3f5f"
            },
            "error_y": {
             "color": "#2a3f5f"
            },
            "marker": {
             "line": {
              "color": "#E5ECF6",
              "width": 0.5
             },
             "pattern": {
              "fillmode": "overlay",
              "size": 10,
              "solidity": 0.2
             }
            },
            "type": "bar"
           }
          ],
          "barpolar": [
           {
            "marker": {
             "line": {
              "color": "#E5ECF6",
              "width": 0.5
             },
             "pattern": {
              "fillmode": "overlay",
              "size": 10,
              "solidity": 0.2
             }
            },
            "type": "barpolar"
           }
          ],
          "carpet": [
           {
            "aaxis": {
             "endlinecolor": "#2a3f5f",
             "gridcolor": "white",
             "linecolor": "white",
             "minorgridcolor": "white",
             "startlinecolor": "#2a3f5f"
            },
            "baxis": {
             "endlinecolor": "#2a3f5f",
             "gridcolor": "white",
             "linecolor": "white",
             "minorgridcolor": "white",
             "startlinecolor": "#2a3f5f"
            },
            "type": "carpet"
           }
          ],
          "choropleth": [
           {
            "colorbar": {
             "outlinewidth": 0,
             "ticks": ""
            },
            "type": "choropleth"
           }
          ],
          "contour": [
           {
            "colorbar": {
             "outlinewidth": 0,
             "ticks": ""
            },
            "colorscale": [
             [
              0,
              "#0d0887"
             ],
             [
              0.1111111111111111,
              "#46039f"
             ],
             [
              0.2222222222222222,
              "#7201a8"
             ],
             [
              0.3333333333333333,
              "#9c179e"
             ],
             [
              0.4444444444444444,
              "#bd3786"
             ],
             [
              0.5555555555555556,
              "#d8576b"
             ],
             [
              0.6666666666666666,
              "#ed7953"
             ],
             [
              0.7777777777777778,
              "#fb9f3a"
             ],
             [
              0.8888888888888888,
              "#fdca26"
             ],
             [
              1,
              "#f0f921"
             ]
            ],
            "type": "contour"
           }
          ],
          "contourcarpet": [
           {
            "colorbar": {
             "outlinewidth": 0,
             "ticks": ""
            },
            "type": "contourcarpet"
           }
          ],
          "heatmap": [
           {
            "colorbar": {
             "outlinewidth": 0,
             "ticks": ""
            },
            "colorscale": [
             [
              0,
              "#0d0887"
             ],
             [
              0.1111111111111111,
              "#46039f"
             ],
             [
              0.2222222222222222,
              "#7201a8"
             ],
             [
              0.3333333333333333,
              "#9c179e"
             ],
             [
              0.4444444444444444,
              "#bd3786"
             ],
             [
              0.5555555555555556,
              "#d8576b"
             ],
             [
              0.6666666666666666,
              "#ed7953"
             ],
             [
              0.7777777777777778,
              "#fb9f3a"
             ],
             [
              0.8888888888888888,
              "#fdca26"
             ],
             [
              1,
              "#f0f921"
             ]
            ],
            "type": "heatmap"
           }
          ],
          "histogram": [
           {
            "marker": {
             "pattern": {
              "fillmode": "overlay",
              "size": 10,
              "solidity": 0.2
             }
            },
            "type": "histogram"
           }
          ],
          "histogram2d": [
           {
            "colorbar": {
             "outlinewidth": 0,
             "ticks": ""
            },
            "colorscale": [
             [
              0,
              "#0d0887"
             ],
             [
              0.1111111111111111,
              "#46039f"
             ],
             [
              0.2222222222222222,
              "#7201a8"
             ],
             [
              0.3333333333333333,
              "#9c179e"
             ],
             [
              0.4444444444444444,
              "#bd3786"
             ],
             [
              0.5555555555555556,
              "#d8576b"
             ],
             [
              0.6666666666666666,
              "#ed7953"
             ],
             [
              0.7777777777777778,
              "#fb9f3a"
             ],
             [
              0.8888888888888888,
              "#fdca26"
             ],
             [
              1,
              "#f0f921"
             ]
            ],
            "type": "histogram2d"
           }
          ],
          "histogram2dcontour": [
           {
            "colorbar": {
             "outlinewidth": 0,
             "ticks": ""
            },
            "colorscale": [
             [
              0,
              "#0d0887"
             ],
             [
              0.1111111111111111,
              "#46039f"
             ],
             [
              0.2222222222222222,
              "#7201a8"
             ],
             [
              0.3333333333333333,
              "#9c179e"
             ],
             [
              0.4444444444444444,
              "#bd3786"
             ],
             [
              0.5555555555555556,
              "#d8576b"
             ],
             [
              0.6666666666666666,
              "#ed7953"
             ],
             [
              0.7777777777777778,
              "#fb9f3a"
             ],
             [
              0.8888888888888888,
              "#fdca26"
             ],
             [
              1,
              "#f0f921"
             ]
            ],
            "type": "histogram2dcontour"
           }
          ],
          "mesh3d": [
           {
            "colorbar": {
             "outlinewidth": 0,
             "ticks": ""
            },
            "type": "mesh3d"
           }
          ],
          "parcoords": [
           {
            "line": {
             "colorbar": {
              "outlinewidth": 0,
              "ticks": ""
             }
            },
            "type": "parcoords"
           }
          ],
          "pie": [
           {
            "automargin": true,
            "type": "pie"
           }
          ],
          "scatter": [
           {
            "fillpattern": {
             "fillmode": "overlay",
             "size": 10,
             "solidity": 0.2
            },
            "type": "scatter"
           }
          ],
          "scatter3d": [
           {
            "line": {
             "colorbar": {
              "outlinewidth": 0,
              "ticks": ""
             }
            },
            "marker": {
             "colorbar": {
              "outlinewidth": 0,
              "ticks": ""
             }
            },
            "type": "scatter3d"
           }
          ],
          "scattercarpet": [
           {
            "marker": {
             "colorbar": {
              "outlinewidth": 0,
              "ticks": ""
             }
            },
            "type": "scattercarpet"
           }
          ],
          "scattergeo": [
           {
            "marker": {
             "colorbar": {
              "outlinewidth": 0,
              "ticks": ""
             }
            },
            "type": "scattergeo"
           }
          ],
          "scattergl": [
           {
            "marker": {
             "colorbar": {
              "outlinewidth": 0,
              "ticks": ""
             }
            },
            "type": "scattergl"
           }
          ],
          "scattermap": [
           {
            "marker": {
             "colorbar": {
              "outlinewidth": 0,
              "ticks": ""
             }
            },
            "type": "scattermap"
           }
          ],
          "scattermapbox": [
           {
            "marker": {
             "colorbar": {
              "outlinewidth": 0,
              "ticks": ""
             }
            },
            "type": "scattermapbox"
           }
          ],
          "scatterpolar": [
           {
            "marker": {
             "colorbar": {
              "outlinewidth": 0,
              "ticks": ""
             }
            },
            "type": "scatterpolar"
           }
          ],
          "scatterpolargl": [
           {
            "marker": {
             "colorbar": {
              "outlinewidth": 0,
              "ticks": ""
             }
            },
            "type": "scatterpolargl"
           }
          ],
          "scatterternary": [
           {
            "marker": {
             "colorbar": {
              "outlinewidth": 0,
              "ticks": ""
             }
            },
            "type": "scatterternary"
           }
          ],
          "surface": [
           {
            "colorbar": {
             "outlinewidth": 0,
             "ticks": ""
            },
            "colorscale": [
             [
              0,
              "#0d0887"
             ],
             [
              0.1111111111111111,
              "#46039f"
             ],
             [
              0.2222222222222222,
              "#7201a8"
             ],
             [
              0.3333333333333333,
              "#9c179e"
             ],
             [
              0.4444444444444444,
              "#bd3786"
             ],
             [
              0.5555555555555556,
              "#d8576b"
             ],
             [
              0.6666666666666666,
              "#ed7953"
             ],
             [
              0.7777777777777778,
              "#fb9f3a"
             ],
             [
              0.8888888888888888,
              "#fdca26"
             ],
             [
              1,
              "#f0f921"
             ]
            ],
            "type": "surface"
           }
          ],
          "table": [
           {
            "cells": {
             "fill": {
              "color": "#EBF0F8"
             },
             "line": {
              "color": "white"
             }
            },
            "header": {
             "fill": {
              "color": "#C8D4E3"
             },
             "line": {
              "color": "white"
             }
            },
            "type": "table"
           }
          ]
         },
         "layout": {
          "annotationdefaults": {
           "arrowcolor": "#2a3f5f",
           "arrowhead": 0,
           "arrowwidth": 1
          },
          "autotypenumbers": "strict",
          "coloraxis": {
           "colorbar": {
            "outlinewidth": 0,
            "ticks": ""
           }
          },
          "colorscale": {
           "diverging": [
            [
             0,
             "#8e0152"
            ],
            [
             0.1,
             "#c51b7d"
            ],
            [
             0.2,
             "#de77ae"
            ],
            [
             0.3,
             "#f1b6da"
            ],
            [
             0.4,
             "#fde0ef"
            ],
            [
             0.5,
             "#f7f7f7"
            ],
            [
             0.6,
             "#e6f5d0"
            ],
            [
             0.7,
             "#b8e186"
            ],
            [
             0.8,
             "#7fbc41"
            ],
            [
             0.9,
             "#4d9221"
            ],
            [
             1,
             "#276419"
            ]
           ],
           "sequential": [
            [
             0,
             "#0d0887"
            ],
            [
             0.1111111111111111,
             "#46039f"
            ],
            [
             0.2222222222222222,
             "#7201a8"
            ],
            [
             0.3333333333333333,
             "#9c179e"
            ],
            [
             0.4444444444444444,
             "#bd3786"
            ],
            [
             0.5555555555555556,
             "#d8576b"
            ],
            [
             0.6666666666666666,
             "#ed7953"
            ],
            [
             0.7777777777777778,
             "#fb9f3a"
            ],
            [
             0.8888888888888888,
             "#fdca26"
            ],
            [
             1,
             "#f0f921"
            ]
           ],
           "sequentialminus": [
            [
             0,
             "#0d0887"
            ],
            [
             0.1111111111111111,
             "#46039f"
            ],
            [
             0.2222222222222222,
             "#7201a8"
            ],
            [
             0.3333333333333333,
             "#9c179e"
            ],
            [
             0.4444444444444444,
             "#bd3786"
            ],
            [
             0.5555555555555556,
             "#d8576b"
            ],
            [
             0.6666666666666666,
             "#ed7953"
            ],
            [
             0.7777777777777778,
             "#fb9f3a"
            ],
            [
             0.8888888888888888,
             "#fdca26"
            ],
            [
             1,
             "#f0f921"
            ]
           ]
          },
          "colorway": [
           "#636efa",
           "#EF553B",
           "#00cc96",
           "#ab63fa",
           "#FFA15A",
           "#19d3f3",
           "#FF6692",
           "#B6E880",
           "#FF97FF",
           "#FECB52"
          ],
          "font": {
           "color": "#2a3f5f"
          },
          "geo": {
           "bgcolor": "white",
           "lakecolor": "white",
           "landcolor": "#E5ECF6",
           "showlakes": true,
           "showland": true,
           "subunitcolor": "white"
          },
          "hoverlabel": {
           "align": "left"
          },
          "hovermode": "closest",
          "mapbox": {
           "style": "light"
          },
          "paper_bgcolor": "white",
          "plot_bgcolor": "#E5ECF6",
          "polar": {
           "angularaxis": {
            "gridcolor": "white",
            "linecolor": "white",
            "ticks": ""
           },
           "bgcolor": "#E5ECF6",
           "radialaxis": {
            "gridcolor": "white",
            "linecolor": "white",
            "ticks": ""
           }
          },
          "scene": {
           "xaxis": {
            "backgroundcolor": "#E5ECF6",
            "gridcolor": "white",
            "gridwidth": 2,
            "linecolor": "white",
            "showbackground": true,
            "ticks": "",
            "zerolinecolor": "white"
           },
           "yaxis": {
            "backgroundcolor": "#E5ECF6",
            "gridcolor": "white",
            "gridwidth": 2,
            "linecolor": "white",
            "showbackground": true,
            "ticks": "",
            "zerolinecolor": "white"
           },
           "zaxis": {
            "backgroundcolor": "#E5ECF6",
            "gridcolor": "white",
            "gridwidth": 2,
            "linecolor": "white",
            "showbackground": true,
            "ticks": "",
            "zerolinecolor": "white"
           }
          },
          "shapedefaults": {
           "line": {
            "color": "#2a3f5f"
           }
          },
          "ternary": {
           "aaxis": {
            "gridcolor": "white",
            "linecolor": "white",
            "ticks": ""
           },
           "baxis": {
            "gridcolor": "white",
            "linecolor": "white",
            "ticks": ""
           },
           "bgcolor": "#E5ECF6",
           "caxis": {
            "gridcolor": "white",
            "linecolor": "white",
            "ticks": ""
           }
          },
          "title": {
           "x": 0.05
          },
          "xaxis": {
           "automargin": true,
           "gridcolor": "white",
           "linecolor": "white",
           "ticks": "",
           "title": {
            "standoff": 15
           },
           "zerolinecolor": "white",
           "zerolinewidth": 2
          },
          "yaxis": {
           "automargin": true,
           "gridcolor": "white",
           "linecolor": "white",
           "ticks": "",
           "title": {
            "standoff": 15
           },
           "zerolinecolor": "white",
           "zerolinewidth": 2
          }
         }
        },
        "title": {
         "text": "Fuel Type Distribution"
        },
        "width": 800
       }
      }
     },
     "metadata": {},
     "output_type": "display_data"
    }
   ],
   "source": [
    "# Fuel Type Distribution\n",
    "\n",
    "fig = px.pie(df, values='Selling_Price', names='Fuel_Type', color_discrete_sequence=px.colors.qualitative.Dark24, title='Fuel Type Distribution')\n",
    "fig.update_layout(width=800, height=600)\n",
    "fig.show()"
   ]
  },
  {
   "cell_type": "code",
   "execution_count": 79,
   "metadata": {},
   "outputs": [
    {
     "data": {
      "application/vnd.plotly.v1+json": {
       "config": {
        "plotlyServerURL": "https://plot.ly"
       },
       "data": [
        {
         "domain": {
          "x": [
           0,
           1
          ],
          "y": [
           0,
           1
          ]
         },
         "hovertemplate": "Transmission=%{label}<br>Selling_Price=%{value}<extra></extra>",
         "labels": {
          "bdata": "AQAAAAEAAAABAAAAAQAAAAEAAAABAAAAAQAAAAEAAAABAAAAAQAAAAEAAAABAAAAAAAAAAEAAAABAAAAAQAAAAEAAAABAAAAAQAAAAEAAAABAAAAAQAAAAAAAAABAAAAAQAAAAEAAAABAAAAAQAAAAEAAAABAAAAAQAAAAEAAAABAAAAAQAAAAEAAAABAAAAAQAAAAEAAAABAAAAAQAAAAAAAAABAAAAAQAAAAEAAAABAAAAAAAAAAEAAAABAAAAAQAAAAAAAAAAAAAAAAAAAAAAAAAAAAAAAQAAAAAAAAABAAAAAQAAAAEAAAAAAAAAAQAAAAEAAAAAAAAAAAAAAAAAAAABAAAAAAAAAAEAAAABAAAAAQAAAAEAAAABAAAAAQAAAAEAAAABAAAAAQAAAAEAAAAAAAAAAAAAAAAAAAABAAAAAQAAAAAAAAABAAAAAQAAAAAAAAABAAAAAQAAAAEAAAABAAAAAQAAAAEAAAABAAAAAAAAAAAAAAABAAAAAAAAAAEAAAABAAAAAQAAAAEAAAABAAAAAQAAAAEAAAABAAAAAQAAAAEAAAABAAAAAQAAAAEAAAABAAAAAQAAAAEAAAABAAAAAQAAAAEAAAABAAAAAQAAAAEAAAABAAAAAQAAAAEAAAABAAAAAQAAAAEAAAABAAAAAQAAAAEAAAABAAAAAQAAAAEAAAABAAAAAQAAAAEAAAABAAAAAQAAAAEAAAABAAAAAQAAAAEAAAABAAAAAQAAAAEAAAABAAAAAQAAAAEAAAABAAAAAQAAAAEAAAABAAAAAQAAAAEAAAABAAAAAQAAAAEAAAAAAAAAAQAAAAEAAAABAAAAAAAAAAEAAAABAAAAAQAAAAEAAAABAAAAAAAAAAEAAAABAAAAAQAAAAEAAAABAAAAAQAAAAEAAAAAAAAAAQAAAAEAAAABAAAAAAAAAAAAAAABAAAAAQAAAAEAAAABAAAAAQAAAAEAAAAAAAAAAAAAAAEAAAABAAAAAQAAAAEAAAABAAAAAQAAAAEAAAABAAAAAQAAAAAAAAABAAAAAQAAAAEAAAABAAAAAQAAAAEAAAABAAAAAQAAAAEAAAABAAAAAAAAAAEAAAABAAAAAQAAAAEAAAABAAAAAQAAAAEAAAABAAAAAQAAAAEAAAABAAAAAQAAAAEAAAAAAAAAAQAAAAEAAAAAAAAAAQAAAAEAAAABAAAAAQAAAAEAAAABAAAAAQAAAAAAAAABAAAAAQAAAAEAAAABAAAAAQAAAAEAAAABAAAAAQAAAAEAAAABAAAAAQAAAAEAAAABAAAAAQAAAAEAAAABAAAAAQAAAAEAAAABAAAAAAAAAAEAAAABAAAAAQAAAAEAAAABAAAAAQAAAAEAAAABAAAAAQAAAAEAAAABAAAAAQAAAAEAAAABAAAAAQAAAAEAAAABAAAAAQAAAAEAAAABAAAAAQAAAAEAAAAAAAAAAQAAAAEAAAABAAAAAQAAAAEAAAABAAAAAQAAAAEAAAABAAAAAAAAAAEAAAAAAAAAAQAAAAEAAAABAAAAAQAAAAEAAAABAAAAAQAAAAEAAAABAAAAAQAAAAEAAAABAAAAAQAAAA==",
          "dtype": "i4"
         },
         "legendgroup": "",
         "name": "",
         "showlegend": true,
         "type": "pie",
         "values": {
          "bdata": "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",
          "dtype": "f8"
         }
        }
       ],
       "layout": {
        "height": 600,
        "legend": {
         "tracegroupgap": 0
        },
        "piecolorway": [
         "#1F77B4",
         "#FF7F0E",
         "#2CA02C",
         "#D62728",
         "#9467BD",
         "#8C564B",
         "#E377C2",
         "#7F7F7F",
         "#BCBD22",
         "#17BECF"
        ],
        "template": {
         "data": {
          "bar": [
           {
            "error_x": {
             "color": "#2a3f5f"
            },
            "error_y": {
             "color": "#2a3f5f"
            },
            "marker": {
             "line": {
              "color": "#E5ECF6",
              "width": 0.5
             },
             "pattern": {
              "fillmode": "overlay",
              "size": 10,
              "solidity": 0.2
             }
            },
            "type": "bar"
           }
          ],
          "barpolar": [
           {
            "marker": {
             "line": {
              "color": "#E5ECF6",
              "width": 0.5
             },
             "pattern": {
              "fillmode": "overlay",
              "size": 10,
              "solidity": 0.2
             }
            },
            "type": "barpolar"
           }
          ],
          "carpet": [
           {
            "aaxis": {
             "endlinecolor": "#2a3f5f",
             "gridcolor": "white",
             "linecolor": "white",
             "minorgridcolor": "white",
             "startlinecolor": "#2a3f5f"
            },
            "baxis": {
             "endlinecolor": "#2a3f5f",
             "gridcolor": "white",
             "linecolor": "white",
             "minorgridcolor": "white",
             "startlinecolor": "#2a3f5f"
            },
            "type": "carpet"
           }
          ],
          "choropleth": [
           {
            "colorbar": {
             "outlinewidth": 0,
             "ticks": ""
            },
            "type": "choropleth"
           }
          ],
          "contour": [
           {
            "colorbar": {
             "outlinewidth": 0,
             "ticks": ""
            },
            "colorscale": [
             [
              0,
              "#0d0887"
             ],
             [
              0.1111111111111111,
              "#46039f"
             ],
             [
              0.2222222222222222,
              "#7201a8"
             ],
             [
              0.3333333333333333,
              "#9c179e"
             ],
             [
              0.4444444444444444,
              "#bd3786"
             ],
             [
              0.5555555555555556,
              "#d8576b"
             ],
             [
              0.6666666666666666,
              "#ed7953"
             ],
             [
              0.7777777777777778,
              "#fb9f3a"
             ],
             [
              0.8888888888888888,
              "#fdca26"
             ],
             [
              1,
              "#f0f921"
             ]
            ],
            "type": "contour"
           }
          ],
          "contourcarpet": [
           {
            "colorbar": {
             "outlinewidth": 0,
             "ticks": ""
            },
            "type": "contourcarpet"
           }
          ],
          "heatmap": [
           {
            "colorbar": {
             "outlinewidth": 0,
             "ticks": ""
            },
            "colorscale": [
             [
              0,
              "#0d0887"
             ],
             [
              0.1111111111111111,
              "#46039f"
             ],
             [
              0.2222222222222222,
              "#7201a8"
             ],
             [
              0.3333333333333333,
              "#9c179e"
             ],
             [
              0.4444444444444444,
              "#bd3786"
             ],
             [
              0.5555555555555556,
              "#d8576b"
             ],
             [
              0.6666666666666666,
              "#ed7953"
             ],
             [
              0.7777777777777778,
              "#fb9f3a"
             ],
             [
              0.8888888888888888,
              "#fdca26"
             ],
             [
              1,
              "#f0f921"
             ]
            ],
            "type": "heatmap"
           }
          ],
          "histogram": [
           {
            "marker": {
             "pattern": {
              "fillmode": "overlay",
              "size": 10,
              "solidity": 0.2
             }
            },
            "type": "histogram"
           }
          ],
          "histogram2d": [
           {
            "colorbar": {
             "outlinewidth": 0,
             "ticks": ""
            },
            "colorscale": [
             [
              0,
              "#0d0887"
             ],
             [
              0.1111111111111111,
              "#46039f"
             ],
             [
              0.2222222222222222,
              "#7201a8"
             ],
             [
              0.3333333333333333,
              "#9c179e"
             ],
             [
              0.4444444444444444,
              "#bd3786"
             ],
             [
              0.5555555555555556,
              "#d8576b"
             ],
             [
              0.6666666666666666,
              "#ed7953"
             ],
             [
              0.7777777777777778,
              "#fb9f3a"
             ],
             [
              0.8888888888888888,
              "#fdca26"
             ],
             [
              1,
              "#f0f921"
             ]
            ],
            "type": "histogram2d"
           }
          ],
          "histogram2dcontour": [
           {
            "colorbar": {
             "outlinewidth": 0,
             "ticks": ""
            },
            "colorscale": [
             [
              0,
              "#0d0887"
             ],
             [
              0.1111111111111111,
              "#46039f"
             ],
             [
              0.2222222222222222,
              "#7201a8"
             ],
             [
              0.3333333333333333,
              "#9c179e"
             ],
             [
              0.4444444444444444,
              "#bd3786"
             ],
             [
              0.5555555555555556,
              "#d8576b"
             ],
             [
              0.6666666666666666,
              "#ed7953"
             ],
             [
              0.7777777777777778,
              "#fb9f3a"
             ],
             [
              0.8888888888888888,
              "#fdca26"
             ],
             [
              1,
              "#f0f921"
             ]
            ],
            "type": "histogram2dcontour"
           }
          ],
          "mesh3d": [
           {
            "colorbar": {
             "outlinewidth": 0,
             "ticks": ""
            },
            "type": "mesh3d"
           }
          ],
          "parcoords": [
           {
            "line": {
             "colorbar": {
              "outlinewidth": 0,
              "ticks": ""
             }
            },
            "type": "parcoords"
           }
          ],
          "pie": [
           {
            "automargin": true,
            "type": "pie"
           }
          ],
          "scatter": [
           {
            "fillpattern": {
             "fillmode": "overlay",
             "size": 10,
             "solidity": 0.2
            },
            "type": "scatter"
           }
          ],
          "scatter3d": [
           {
            "line": {
             "colorbar": {
              "outlinewidth": 0,
              "ticks": ""
             }
            },
            "marker": {
             "colorbar": {
              "outlinewidth": 0,
              "ticks": ""
             }
            },
            "type": "scatter3d"
           }
          ],
          "scattercarpet": [
           {
            "marker": {
             "colorbar": {
              "outlinewidth": 0,
              "ticks": ""
             }
            },
            "type": "scattercarpet"
           }
          ],
          "scattergeo": [
           {
            "marker": {
             "colorbar": {
              "outlinewidth": 0,
              "ticks": ""
             }
            },
            "type": "scattergeo"
           }
          ],
          "scattergl": [
           {
            "marker": {
             "colorbar": {
              "outlinewidth": 0,
              "ticks": ""
             }
            },
            "type": "scattergl"
           }
          ],
          "scattermap": [
           {
            "marker": {
             "colorbar": {
              "outlinewidth": 0,
              "ticks": ""
             }
            },
            "type": "scattermap"
           }
          ],
          "scattermapbox": [
           {
            "marker": {
             "colorbar": {
              "outlinewidth": 0,
              "ticks": ""
             }
            },
            "type": "scattermapbox"
           }
          ],
          "scatterpolar": [
           {
            "marker": {
             "colorbar": {
              "outlinewidth": 0,
              "ticks": ""
             }
            },
            "type": "scatterpolar"
           }
          ],
          "scatterpolargl": [
           {
            "marker": {
             "colorbar": {
              "outlinewidth": 0,
              "ticks": ""
             }
            },
            "type": "scatterpolargl"
           }
          ],
          "scatterternary": [
           {
            "marker": {
             "colorbar": {
              "outlinewidth": 0,
              "ticks": ""
             }
            },
            "type": "scatterternary"
           }
          ],
          "surface": [
           {
            "colorbar": {
             "outlinewidth": 0,
             "ticks": ""
            },
            "colorscale": [
             [
              0,
              "#0d0887"
             ],
             [
              0.1111111111111111,
              "#46039f"
             ],
             [
              0.2222222222222222,
              "#7201a8"
             ],
             [
              0.3333333333333333,
              "#9c179e"
             ],
             [
              0.4444444444444444,
              "#bd3786"
             ],
             [
              0.5555555555555556,
              "#d8576b"
             ],
             [
              0.6666666666666666,
              "#ed7953"
             ],
             [
              0.7777777777777778,
              "#fb9f3a"
             ],
             [
              0.8888888888888888,
              "#fdca26"
             ],
             [
              1,
              "#f0f921"
             ]
            ],
            "type": "surface"
           }
          ],
          "table": [
           {
            "cells": {
             "fill": {
              "color": "#EBF0F8"
             },
             "line": {
              "color": "white"
             }
            },
            "header": {
             "fill": {
              "color": "#C8D4E3"
             },
             "line": {
              "color": "white"
             }
            },
            "type": "table"
           }
          ]
         },
         "layout": {
          "annotationdefaults": {
           "arrowcolor": "#2a3f5f",
           "arrowhead": 0,
           "arrowwidth": 1
          },
          "autotypenumbers": "strict",
          "coloraxis": {
           "colorbar": {
            "outlinewidth": 0,
            "ticks": ""
           }
          },
          "colorscale": {
           "diverging": [
            [
             0,
             "#8e0152"
            ],
            [
             0.1,
             "#c51b7d"
            ],
            [
             0.2,
             "#de77ae"
            ],
            [
             0.3,
             "#f1b6da"
            ],
            [
             0.4,
             "#fde0ef"
            ],
            [
             0.5,
             "#f7f7f7"
            ],
            [
             0.6,
             "#e6f5d0"
            ],
            [
             0.7,
             "#b8e186"
            ],
            [
             0.8,
             "#7fbc41"
            ],
            [
             0.9,
             "#4d9221"
            ],
            [
             1,
             "#276419"
            ]
           ],
           "sequential": [
            [
             0,
             "#0d0887"
            ],
            [
             0.1111111111111111,
             "#46039f"
            ],
            [
             0.2222222222222222,
             "#7201a8"
            ],
            [
             0.3333333333333333,
             "#9c179e"
            ],
            [
             0.4444444444444444,
             "#bd3786"
            ],
            [
             0.5555555555555556,
             "#d8576b"
            ],
            [
             0.6666666666666666,
             "#ed7953"
            ],
            [
             0.7777777777777778,
             "#fb9f3a"
            ],
            [
             0.8888888888888888,
             "#fdca26"
            ],
            [
             1,
             "#f0f921"
            ]
           ],
           "sequentialminus": [
            [
             0,
             "#0d0887"
            ],
            [
             0.1111111111111111,
             "#46039f"
            ],
            [
             0.2222222222222222,
             "#7201a8"
            ],
            [
             0.3333333333333333,
             "#9c179e"
            ],
            [
             0.4444444444444444,
             "#bd3786"
            ],
            [
             0.5555555555555556,
             "#d8576b"
            ],
            [
             0.6666666666666666,
             "#ed7953"
            ],
            [
             0.7777777777777778,
             "#fb9f3a"
            ],
            [
             0.8888888888888888,
             "#fdca26"
            ],
            [
             1,
             "#f0f921"
            ]
           ]
          },
          "colorway": [
           "#636efa",
           "#EF553B",
           "#00cc96",
           "#ab63fa",
           "#FFA15A",
           "#19d3f3",
           "#FF6692",
           "#B6E880",
           "#FF97FF",
           "#FECB52"
          ],
          "font": {
           "color": "#2a3f5f"
          },
          "geo": {
           "bgcolor": "white",
           "lakecolor": "white",
           "landcolor": "#E5ECF6",
           "showlakes": true,
           "showland": true,
           "subunitcolor": "white"
          },
          "hoverlabel": {
           "align": "left"
          },
          "hovermode": "closest",
          "mapbox": {
           "style": "light"
          },
          "paper_bgcolor": "white",
          "plot_bgcolor": "#E5ECF6",
          "polar": {
           "angularaxis": {
            "gridcolor": "white",
            "linecolor": "white",
            "ticks": ""
           },
           "bgcolor": "#E5ECF6",
           "radialaxis": {
            "gridcolor": "white",
            "linecolor": "white",
            "ticks": ""
           }
          },
          "scene": {
           "xaxis": {
            "backgroundcolor": "#E5ECF6",
            "gridcolor": "white",
            "gridwidth": 2,
            "linecolor": "white",
            "showbackground": true,
            "ticks": "",
            "zerolinecolor": "white"
           },
           "yaxis": {
            "backgroundcolor": "#E5ECF6",
            "gridcolor": "white",
            "gridwidth": 2,
            "linecolor": "white",
            "showbackground": true,
            "ticks": "",
            "zerolinecolor": "white"
           },
           "zaxis": {
            "backgroundcolor": "#E5ECF6",
            "gridcolor": "white",
            "gridwidth": 2,
            "linecolor": "white",
            "showbackground": true,
            "ticks": "",
            "zerolinecolor": "white"
           }
          },
          "shapedefaults": {
           "line": {
            "color": "#2a3f5f"
           }
          },
          "ternary": {
           "aaxis": {
            "gridcolor": "white",
            "linecolor": "white",
            "ticks": ""
           },
           "baxis": {
            "gridcolor": "white",
            "linecolor": "white",
            "ticks": ""
           },
           "bgcolor": "#E5ECF6",
           "caxis": {
            "gridcolor": "white",
            "linecolor": "white",
            "ticks": ""
           }
          },
          "title": {
           "x": 0.05
          },
          "xaxis": {
           "automargin": true,
           "gridcolor": "white",
           "linecolor": "white",
           "ticks": "",
           "title": {
            "standoff": 15
           },
           "zerolinecolor": "white",
           "zerolinewidth": 2
          },
          "yaxis": {
           "automargin": true,
           "gridcolor": "white",
           "linecolor": "white",
           "ticks": "",
           "title": {
            "standoff": 15
           },
           "zerolinecolor": "white",
           "zerolinewidth": 2
          }
         }
        },
        "title": {
         "text": "Transmission Type Distribution"
        },
        "width": 800
       }
      }
     },
     "metadata": {},
     "output_type": "display_data"
    }
   ],
   "source": [
    "# Transmission Type Distribution\n",
    "\n",
    "fig = px.pie(df, values='Selling_Price', names='Transmission', color_discrete_sequence=px.colors.qualitative.D3, title='Transmission Type Distribution')\n",
    "fig.update_layout(width=800, height=600)\n",
    "fig.show()"
   ]
  }
 ],
 "metadata": {
  "kernelspec": {
   "display_name": "Python 3",
   "language": "python",
   "name": "python3"
  },
  "language_info": {
   "codemirror_mode": {
    "name": "ipython",
    "version": 3
   },
   "file_extension": ".py",
   "mimetype": "text/x-python",
   "name": "python",
   "nbconvert_exporter": "python",
   "pygments_lexer": "ipython3",
   "version": "3.12.6"
  }
 },
 "nbformat": 4,
 "nbformat_minor": 2
}
