{
 "cells": [
  {
   "cell_type": "markdown",
   "metadata": {},
   "source": [
    "# Loading Dataset"
   ]
  },
  {
   "cell_type": "code",
   "execution_count": 2,
   "metadata": {},
   "outputs": [],
   "source": [
    "import numpy as np\n",
    "import pandas as pd\n",
    "import matplotlib.pyplot as plt\n",
    "import seaborn as sns\n",
    "import plotly.express as px\n",
    "import plotly.graph_objects as go\n",
    "import warnings\n",
    "warnings.filterwarnings('ignore')\n",
    "\n",
    "\n",
    "df1 = pd.read_csv('Unemployment in India.csv')\n",
    "df2 = pd.read_csv('Unemployment_Rate_upto_11_2020.csv')"
   ]
  },
  {
   "cell_type": "code",
   "execution_count": null,
   "metadata": {},
   "outputs": [
    {
     "data": {
      "text/html": [
       "<div>\n",
       "<style scoped>\n",
       "    .dataframe tbody tr th:only-of-type {\n",
       "        vertical-align: middle;\n",
       "    }\n",
       "\n",
       "    .dataframe tbody tr th {\n",
       "        vertical-align: top;\n",
       "    }\n",
       "\n",
       "    .dataframe thead th {\n",
       "        text-align: right;\n",
       "    }\n",
       "</style>\n",
       "<table border=\"1\" class=\"dataframe\">\n",
       "  <thead>\n",
       "    <tr style=\"text-align: right;\">\n",
       "      <th></th>\n",
       "      <th>Region</th>\n",
       "      <th>Date</th>\n",
       "      <th>Frequency</th>\n",
       "      <th>Estimated Unemployment Rate (%)</th>\n",
       "      <th>Estimated Employed</th>\n",
       "      <th>Estimated Labour Participation Rate (%)</th>\n",
       "      <th>Area</th>\n",
       "    </tr>\n",
       "  </thead>\n",
       "  <tbody>\n",
       "    <tr>\n",
       "      <th>0</th>\n",
       "      <td>Andhra Pradesh</td>\n",
       "      <td>31-05-2019</td>\n",
       "      <td>Monthly</td>\n",
       "      <td>3.65</td>\n",
       "      <td>11999139.0</td>\n",
       "      <td>43.24</td>\n",
       "      <td>Rural</td>\n",
       "    </tr>\n",
       "    <tr>\n",
       "      <th>1</th>\n",
       "      <td>Andhra Pradesh</td>\n",
       "      <td>30-06-2019</td>\n",
       "      <td>Monthly</td>\n",
       "      <td>3.05</td>\n",
       "      <td>11755881.0</td>\n",
       "      <td>42.05</td>\n",
       "      <td>Rural</td>\n",
       "    </tr>\n",
       "    <tr>\n",
       "      <th>2</th>\n",
       "      <td>Andhra Pradesh</td>\n",
       "      <td>31-07-2019</td>\n",
       "      <td>Monthly</td>\n",
       "      <td>3.75</td>\n",
       "      <td>12086707.0</td>\n",
       "      <td>43.50</td>\n",
       "      <td>Rural</td>\n",
       "    </tr>\n",
       "    <tr>\n",
       "      <th>3</th>\n",
       "      <td>Andhra Pradesh</td>\n",
       "      <td>31-08-2019</td>\n",
       "      <td>Monthly</td>\n",
       "      <td>3.32</td>\n",
       "      <td>12285693.0</td>\n",
       "      <td>43.97</td>\n",
       "      <td>Rural</td>\n",
       "    </tr>\n",
       "    <tr>\n",
       "      <th>4</th>\n",
       "      <td>Andhra Pradesh</td>\n",
       "      <td>30-09-2019</td>\n",
       "      <td>Monthly</td>\n",
       "      <td>5.17</td>\n",
       "      <td>12256762.0</td>\n",
       "      <td>44.68</td>\n",
       "      <td>Rural</td>\n",
       "    </tr>\n",
       "  </tbody>\n",
       "</table>\n",
       "</div>"
      ],
      "text/plain": [
       "           Region         Date  Frequency   Estimated Unemployment Rate (%)  \\\n",
       "0  Andhra Pradesh   31-05-2019    Monthly                              3.65   \n",
       "1  Andhra Pradesh   30-06-2019    Monthly                              3.05   \n",
       "2  Andhra Pradesh   31-07-2019    Monthly                              3.75   \n",
       "3  Andhra Pradesh   31-08-2019    Monthly                              3.32   \n",
       "4  Andhra Pradesh   30-09-2019    Monthly                              5.17   \n",
       "\n",
       "    Estimated Employed   Estimated Labour Participation Rate (%)   Area  \n",
       "0           11999139.0                                     43.24  Rural  \n",
       "1           11755881.0                                     42.05  Rural  \n",
       "2           12086707.0                                     43.50  Rural  \n",
       "3           12285693.0                                     43.97  Rural  \n",
       "4           12256762.0                                     44.68  Rural  "
      ]
     },
     "execution_count": 3,
     "metadata": {},
     "output_type": "execute_result"
    }
   ],
   "source": [
    "# displaying the first 5 rows\n",
    "df1.head()"
   ]
  },
  {
   "cell_type": "code",
   "execution_count": null,
   "metadata": {},
   "outputs": [
    {
     "data": {
      "text/html": [
       "<div>\n",
       "<style scoped>\n",
       "    .dataframe tbody tr th:only-of-type {\n",
       "        vertical-align: middle;\n",
       "    }\n",
       "\n",
       "    .dataframe tbody tr th {\n",
       "        vertical-align: top;\n",
       "    }\n",
       "\n",
       "    .dataframe thead th {\n",
       "        text-align: right;\n",
       "    }\n",
       "</style>\n",
       "<table border=\"1\" class=\"dataframe\">\n",
       "  <thead>\n",
       "    <tr style=\"text-align: right;\">\n",
       "      <th></th>\n",
       "      <th>Region</th>\n",
       "      <th>Date</th>\n",
       "      <th>Frequency</th>\n",
       "      <th>Estimated Unemployment Rate (%)</th>\n",
       "      <th>Estimated Employed</th>\n",
       "      <th>Estimated Labour Participation Rate (%)</th>\n",
       "      <th>Region.1</th>\n",
       "      <th>longitude</th>\n",
       "      <th>latitude</th>\n",
       "    </tr>\n",
       "  </thead>\n",
       "  <tbody>\n",
       "    <tr>\n",
       "      <th>0</th>\n",
       "      <td>Andhra Pradesh</td>\n",
       "      <td>31-01-2020</td>\n",
       "      <td>M</td>\n",
       "      <td>5.48</td>\n",
       "      <td>16635535</td>\n",
       "      <td>41.02</td>\n",
       "      <td>South</td>\n",
       "      <td>15.9129</td>\n",
       "      <td>79.74</td>\n",
       "    </tr>\n",
       "    <tr>\n",
       "      <th>1</th>\n",
       "      <td>Andhra Pradesh</td>\n",
       "      <td>29-02-2020</td>\n",
       "      <td>M</td>\n",
       "      <td>5.83</td>\n",
       "      <td>16545652</td>\n",
       "      <td>40.90</td>\n",
       "      <td>South</td>\n",
       "      <td>15.9129</td>\n",
       "      <td>79.74</td>\n",
       "    </tr>\n",
       "    <tr>\n",
       "      <th>2</th>\n",
       "      <td>Andhra Pradesh</td>\n",
       "      <td>31-03-2020</td>\n",
       "      <td>M</td>\n",
       "      <td>5.79</td>\n",
       "      <td>15881197</td>\n",
       "      <td>39.18</td>\n",
       "      <td>South</td>\n",
       "      <td>15.9129</td>\n",
       "      <td>79.74</td>\n",
       "    </tr>\n",
       "    <tr>\n",
       "      <th>3</th>\n",
       "      <td>Andhra Pradesh</td>\n",
       "      <td>30-04-2020</td>\n",
       "      <td>M</td>\n",
       "      <td>20.51</td>\n",
       "      <td>11336911</td>\n",
       "      <td>33.10</td>\n",
       "      <td>South</td>\n",
       "      <td>15.9129</td>\n",
       "      <td>79.74</td>\n",
       "    </tr>\n",
       "    <tr>\n",
       "      <th>4</th>\n",
       "      <td>Andhra Pradesh</td>\n",
       "      <td>31-05-2020</td>\n",
       "      <td>M</td>\n",
       "      <td>17.43</td>\n",
       "      <td>12988845</td>\n",
       "      <td>36.46</td>\n",
       "      <td>South</td>\n",
       "      <td>15.9129</td>\n",
       "      <td>79.74</td>\n",
       "    </tr>\n",
       "  </tbody>\n",
       "</table>\n",
       "</div>"
      ],
      "text/plain": [
       "           Region         Date  Frequency   Estimated Unemployment Rate (%)  \\\n",
       "0  Andhra Pradesh   31-01-2020          M                              5.48   \n",
       "1  Andhra Pradesh   29-02-2020          M                              5.83   \n",
       "2  Andhra Pradesh   31-03-2020          M                              5.79   \n",
       "3  Andhra Pradesh   30-04-2020          M                             20.51   \n",
       "4  Andhra Pradesh   31-05-2020          M                             17.43   \n",
       "\n",
       "    Estimated Employed   Estimated Labour Participation Rate (%) Region.1  \\\n",
       "0             16635535                                     41.02    South   \n",
       "1             16545652                                     40.90    South   \n",
       "2             15881197                                     39.18    South   \n",
       "3             11336911                                     33.10    South   \n",
       "4             12988845                                     36.46    South   \n",
       "\n",
       "   longitude  latitude  \n",
       "0    15.9129     79.74  \n",
       "1    15.9129     79.74  \n",
       "2    15.9129     79.74  \n",
       "3    15.9129     79.74  \n",
       "4    15.9129     79.74  "
      ]
     },
     "execution_count": 4,
     "metadata": {},
     "output_type": "execute_result"
    }
   ],
   "source": [
    "# displaying the first 5 rows\n",
    "df2.head()"
   ]
  },
  {
   "cell_type": "markdown",
   "metadata": {},
   "source": [
    "# Data Preprocessing"
   ]
  },
  {
   "cell_type": "code",
   "execution_count": 5,
   "metadata": {},
   "outputs": [
    {
     "data": {
      "text/html": [
       "<div>\n",
       "<style scoped>\n",
       "    .dataframe tbody tr th:only-of-type {\n",
       "        vertical-align: middle;\n",
       "    }\n",
       "\n",
       "    .dataframe tbody tr th {\n",
       "        vertical-align: top;\n",
       "    }\n",
       "\n",
       "    .dataframe thead th {\n",
       "        text-align: right;\n",
       "    }\n",
       "</style>\n",
       "<table border=\"1\" class=\"dataframe\">\n",
       "  <thead>\n",
       "    <tr style=\"text-align: right;\">\n",
       "      <th></th>\n",
       "      <th>Region</th>\n",
       "      <th>Date</th>\n",
       "      <th>Frequency</th>\n",
       "      <th>Estimated Unemployment Rate (%)</th>\n",
       "      <th>Estimated Employed</th>\n",
       "      <th>Estimated Labour Participation Rate (%)</th>\n",
       "      <th>Region.1</th>\n",
       "    </tr>\n",
       "  </thead>\n",
       "  <tbody>\n",
       "    <tr>\n",
       "      <th>0</th>\n",
       "      <td>Andhra Pradesh</td>\n",
       "      <td>31-01-2020</td>\n",
       "      <td>M</td>\n",
       "      <td>5.48</td>\n",
       "      <td>16635535</td>\n",
       "      <td>41.02</td>\n",
       "      <td>South</td>\n",
       "    </tr>\n",
       "    <tr>\n",
       "      <th>1</th>\n",
       "      <td>Andhra Pradesh</td>\n",
       "      <td>29-02-2020</td>\n",
       "      <td>M</td>\n",
       "      <td>5.83</td>\n",
       "      <td>16545652</td>\n",
       "      <td>40.90</td>\n",
       "      <td>South</td>\n",
       "    </tr>\n",
       "    <tr>\n",
       "      <th>2</th>\n",
       "      <td>Andhra Pradesh</td>\n",
       "      <td>31-03-2020</td>\n",
       "      <td>M</td>\n",
       "      <td>5.79</td>\n",
       "      <td>15881197</td>\n",
       "      <td>39.18</td>\n",
       "      <td>South</td>\n",
       "    </tr>\n",
       "    <tr>\n",
       "      <th>3</th>\n",
       "      <td>Andhra Pradesh</td>\n",
       "      <td>30-04-2020</td>\n",
       "      <td>M</td>\n",
       "      <td>20.51</td>\n",
       "      <td>11336911</td>\n",
       "      <td>33.10</td>\n",
       "      <td>South</td>\n",
       "    </tr>\n",
       "    <tr>\n",
       "      <th>4</th>\n",
       "      <td>Andhra Pradesh</td>\n",
       "      <td>31-05-2020</td>\n",
       "      <td>M</td>\n",
       "      <td>17.43</td>\n",
       "      <td>12988845</td>\n",
       "      <td>36.46</td>\n",
       "      <td>South</td>\n",
       "    </tr>\n",
       "  </tbody>\n",
       "</table>\n",
       "</div>"
      ],
      "text/plain": [
       "           Region         Date  Frequency   Estimated Unemployment Rate (%)  \\\n",
       "0  Andhra Pradesh   31-01-2020          M                              5.48   \n",
       "1  Andhra Pradesh   29-02-2020          M                              5.83   \n",
       "2  Andhra Pradesh   31-03-2020          M                              5.79   \n",
       "3  Andhra Pradesh   30-04-2020          M                             20.51   \n",
       "4  Andhra Pradesh   31-05-2020          M                             17.43   \n",
       "\n",
       "    Estimated Employed   Estimated Labour Participation Rate (%) Region.1  \n",
       "0             16635535                                     41.02    South  \n",
       "1             16545652                                     40.90    South  \n",
       "2             15881197                                     39.18    South  \n",
       "3             11336911                                     33.10    South  \n",
       "4             12988845                                     36.46    South  "
      ]
     },
     "execution_count": 5,
     "metadata": {},
     "output_type": "execute_result"
    }
   ],
   "source": [
    "# dropping unnecessary columns\n",
    "df2.drop(columns=['longitude', 'latitude'], inplace=True)\n",
    "df2.head()"
   ]
  },
  {
   "cell_type": "code",
   "execution_count": 6,
   "metadata": {},
   "outputs": [
    {
     "data": {
      "text/plain": [
       "Region                                      0\n",
       " Date                                       0\n",
       " Frequency                                  0\n",
       " Estimated Unemployment Rate (%)            0\n",
       " Estimated Employed                         0\n",
       " Estimated Labour Participation Rate (%)    0\n",
       "Area                                        0\n",
       "dtype: int64"
      ]
     },
     "execution_count": 6,
     "metadata": {},
     "output_type": "execute_result"
    }
   ],
   "source": [
    "# handling missing values\n",
    "df1.dropna(inplace=True)\n",
    "df2.dropna(inplace=True)\n",
    "\n",
    "# checking for null values\n",
    "df1.isnull().sum()"
   ]
  },
  {
   "cell_type": "code",
   "execution_count": 7,
   "metadata": {},
   "outputs": [
    {
     "data": {
      "text/html": [
       "<div>\n",
       "<style scoped>\n",
       "    .dataframe tbody tr th:only-of-type {\n",
       "        vertical-align: middle;\n",
       "    }\n",
       "\n",
       "    .dataframe tbody tr th {\n",
       "        vertical-align: top;\n",
       "    }\n",
       "\n",
       "    .dataframe thead th {\n",
       "        text-align: right;\n",
       "    }\n",
       "</style>\n",
       "<table border=\"1\" class=\"dataframe\">\n",
       "  <thead>\n",
       "    <tr style=\"text-align: right;\">\n",
       "      <th></th>\n",
       "      <th>Estimated Unemployment Rate (%)</th>\n",
       "      <th>Estimated Employed</th>\n",
       "      <th>Estimated Labour Participation Rate (%)</th>\n",
       "    </tr>\n",
       "  </thead>\n",
       "  <tbody>\n",
       "    <tr>\n",
       "      <th>count</th>\n",
       "      <td>740.000000</td>\n",
       "      <td>7.400000e+02</td>\n",
       "      <td>740.000000</td>\n",
       "    </tr>\n",
       "    <tr>\n",
       "      <th>mean</th>\n",
       "      <td>11.787946</td>\n",
       "      <td>7.204460e+06</td>\n",
       "      <td>42.630122</td>\n",
       "    </tr>\n",
       "    <tr>\n",
       "      <th>std</th>\n",
       "      <td>10.721298</td>\n",
       "      <td>8.087988e+06</td>\n",
       "      <td>8.111094</td>\n",
       "    </tr>\n",
       "    <tr>\n",
       "      <th>min</th>\n",
       "      <td>0.000000</td>\n",
       "      <td>4.942000e+04</td>\n",
       "      <td>13.330000</td>\n",
       "    </tr>\n",
       "    <tr>\n",
       "      <th>25%</th>\n",
       "      <td>4.657500</td>\n",
       "      <td>1.190404e+06</td>\n",
       "      <td>38.062500</td>\n",
       "    </tr>\n",
       "    <tr>\n",
       "      <th>50%</th>\n",
       "      <td>8.350000</td>\n",
       "      <td>4.744178e+06</td>\n",
       "      <td>41.160000</td>\n",
       "    </tr>\n",
       "    <tr>\n",
       "      <th>75%</th>\n",
       "      <td>15.887500</td>\n",
       "      <td>1.127549e+07</td>\n",
       "      <td>45.505000</td>\n",
       "    </tr>\n",
       "    <tr>\n",
       "      <th>max</th>\n",
       "      <td>76.740000</td>\n",
       "      <td>4.577751e+07</td>\n",
       "      <td>72.570000</td>\n",
       "    </tr>\n",
       "  </tbody>\n",
       "</table>\n",
       "</div>"
      ],
      "text/plain": [
       "       Estimated Unemployment Rate (%)  Estimated Employed  \\\n",
       "count                       740.000000        7.400000e+02   \n",
       "mean                         11.787946        7.204460e+06   \n",
       "std                          10.721298        8.087988e+06   \n",
       "min                           0.000000        4.942000e+04   \n",
       "25%                           4.657500        1.190404e+06   \n",
       "50%                           8.350000        4.744178e+06   \n",
       "75%                          15.887500        1.127549e+07   \n",
       "max                          76.740000        4.577751e+07   \n",
       "\n",
       "       Estimated Labour Participation Rate (%)  \n",
       "count                               740.000000  \n",
       "mean                                 42.630122  \n",
       "std                                   8.111094  \n",
       "min                                  13.330000  \n",
       "25%                                  38.062500  \n",
       "50%                                  41.160000  \n",
       "75%                                  45.505000  \n",
       "max                                  72.570000  "
      ]
     },
     "execution_count": 7,
     "metadata": {},
     "output_type": "execute_result"
    }
   ],
   "source": [
    "df1.describe()"
   ]
  },
  {
   "cell_type": "code",
   "execution_count": 8,
   "metadata": {},
   "outputs": [
    {
     "name": "stdout",
     "output_type": "stream",
     "text": [
      "<class 'pandas.core.frame.DataFrame'>\n",
      "Index: 740 entries, 0 to 753\n",
      "Data columns (total 7 columns):\n",
      " #   Column                                    Non-Null Count  Dtype  \n",
      "---  ------                                    --------------  -----  \n",
      " 0   Region                                    740 non-null    object \n",
      " 1    Date                                     740 non-null    object \n",
      " 2    Frequency                                740 non-null    object \n",
      " 3    Estimated Unemployment Rate (%)          740 non-null    float64\n",
      " 4    Estimated Employed                       740 non-null    float64\n",
      " 5    Estimated Labour Participation Rate (%)  740 non-null    float64\n",
      " 6   Area                                      740 non-null    object \n",
      "dtypes: float64(3), object(4)\n",
      "memory usage: 46.2+ KB\n",
      "<class 'pandas.core.frame.DataFrame'>\n",
      "RangeIndex: 267 entries, 0 to 266\n",
      "Data columns (total 7 columns):\n",
      " #   Column                                    Non-Null Count  Dtype  \n",
      "---  ------                                    --------------  -----  \n",
      " 0   Region                                    267 non-null    object \n",
      " 1    Date                                     267 non-null    object \n",
      " 2    Frequency                                267 non-null    object \n",
      " 3    Estimated Unemployment Rate (%)          267 non-null    float64\n",
      " 4    Estimated Employed                       267 non-null    int64  \n",
      " 5    Estimated Labour Participation Rate (%)  267 non-null    float64\n",
      " 6   Region.1                                  267 non-null    object \n",
      "dtypes: float64(2), int64(1), object(4)\n",
      "memory usage: 14.7+ KB\n"
     ]
    }
   ],
   "source": [
    "df1.info()\n",
    "df2.info()"
   ]
  },
  {
   "cell_type": "code",
   "execution_count": 9,
   "metadata": {},
   "outputs": [
    {
     "data": {
      "text/plain": [
       "0"
      ]
     },
     "execution_count": 9,
     "metadata": {},
     "output_type": "execute_result"
    }
   ],
   "source": [
    "# checking for duplicates\n",
    "df1.duplicated().sum()\n",
    "df2.duplicated().sum()"
   ]
  },
  {
   "cell_type": "code",
   "execution_count": null,
   "metadata": {},
   "outputs": [],
   "source": [
    "from datetime import datetime\n",
    "\n",
    "# removing spaces from column names\n",
    "df1.columns = df1.columns.str.replace(' ', '')\n",
    "df2.columns = df2.columns.str.replace(' ', '')\n",
    "\n",
    "# converting date column to datetime format\n",
    "df1['Date'] = pd.to_datetime(df1['Date'])\n",
    "df2['Date'] = pd.to_datetime(df2['Date'])"
   ]
  },
  {
   "cell_type": "code",
   "execution_count": 11,
   "metadata": {},
   "outputs": [
    {
     "data": {
      "text/html": [
       "<div>\n",
       "<style scoped>\n",
       "    .dataframe tbody tr th:only-of-type {\n",
       "        vertical-align: middle;\n",
       "    }\n",
       "\n",
       "    .dataframe tbody tr th {\n",
       "        vertical-align: top;\n",
       "    }\n",
       "\n",
       "    .dataframe thead th {\n",
       "        text-align: right;\n",
       "    }\n",
       "</style>\n",
       "<table border=\"1\" class=\"dataframe\">\n",
       "  <thead>\n",
       "    <tr style=\"text-align: right;\">\n",
       "      <th></th>\n",
       "      <th>Region</th>\n",
       "      <th>Date</th>\n",
       "      <th>Frequency</th>\n",
       "      <th>EstimatedUnemploymentRate(%)</th>\n",
       "      <th>EstimatedEmployed</th>\n",
       "      <th>EstimatedLabourParticipationRate(%)</th>\n",
       "      <th>Area</th>\n",
       "      <th>Region.1</th>\n",
       "    </tr>\n",
       "  </thead>\n",
       "  <tbody>\n",
       "    <tr>\n",
       "      <th>0</th>\n",
       "      <td>Andhra Pradesh</td>\n",
       "      <td>2019-05-31</td>\n",
       "      <td>Monthly</td>\n",
       "      <td>3.65</td>\n",
       "      <td>11999139.0</td>\n",
       "      <td>43.24</td>\n",
       "      <td>Rural</td>\n",
       "      <td>NaN</td>\n",
       "    </tr>\n",
       "    <tr>\n",
       "      <th>1</th>\n",
       "      <td>Andhra Pradesh</td>\n",
       "      <td>2019-06-30</td>\n",
       "      <td>Monthly</td>\n",
       "      <td>3.05</td>\n",
       "      <td>11755881.0</td>\n",
       "      <td>42.05</td>\n",
       "      <td>Rural</td>\n",
       "      <td>NaN</td>\n",
       "    </tr>\n",
       "    <tr>\n",
       "      <th>2</th>\n",
       "      <td>Andhra Pradesh</td>\n",
       "      <td>2019-07-31</td>\n",
       "      <td>Monthly</td>\n",
       "      <td>3.75</td>\n",
       "      <td>12086707.0</td>\n",
       "      <td>43.50</td>\n",
       "      <td>Rural</td>\n",
       "      <td>NaN</td>\n",
       "    </tr>\n",
       "    <tr>\n",
       "      <th>3</th>\n",
       "      <td>Andhra Pradesh</td>\n",
       "      <td>2019-08-31</td>\n",
       "      <td>Monthly</td>\n",
       "      <td>3.32</td>\n",
       "      <td>12285693.0</td>\n",
       "      <td>43.97</td>\n",
       "      <td>Rural</td>\n",
       "      <td>NaN</td>\n",
       "    </tr>\n",
       "    <tr>\n",
       "      <th>4</th>\n",
       "      <td>Andhra Pradesh</td>\n",
       "      <td>2019-09-30</td>\n",
       "      <td>Monthly</td>\n",
       "      <td>5.17</td>\n",
       "      <td>12256762.0</td>\n",
       "      <td>44.68</td>\n",
       "      <td>Rural</td>\n",
       "      <td>NaN</td>\n",
       "    </tr>\n",
       "    <tr>\n",
       "      <th>...</th>\n",
       "      <td>...</td>\n",
       "      <td>...</td>\n",
       "      <td>...</td>\n",
       "      <td>...</td>\n",
       "      <td>...</td>\n",
       "      <td>...</td>\n",
       "      <td>...</td>\n",
       "      <td>...</td>\n",
       "    </tr>\n",
       "    <tr>\n",
       "      <th>1002</th>\n",
       "      <td>West Bengal</td>\n",
       "      <td>2020-06-30</td>\n",
       "      <td>M</td>\n",
       "      <td>7.29</td>\n",
       "      <td>30726310.0</td>\n",
       "      <td>40.39</td>\n",
       "      <td>NaN</td>\n",
       "      <td>East</td>\n",
       "    </tr>\n",
       "    <tr>\n",
       "      <th>1003</th>\n",
       "      <td>West Bengal</td>\n",
       "      <td>2020-07-31</td>\n",
       "      <td>M</td>\n",
       "      <td>6.83</td>\n",
       "      <td>35372506.0</td>\n",
       "      <td>46.17</td>\n",
       "      <td>NaN</td>\n",
       "      <td>East</td>\n",
       "    </tr>\n",
       "    <tr>\n",
       "      <th>1004</th>\n",
       "      <td>West Bengal</td>\n",
       "      <td>2020-08-31</td>\n",
       "      <td>M</td>\n",
       "      <td>14.87</td>\n",
       "      <td>33298644.0</td>\n",
       "      <td>47.48</td>\n",
       "      <td>NaN</td>\n",
       "      <td>East</td>\n",
       "    </tr>\n",
       "    <tr>\n",
       "      <th>1005</th>\n",
       "      <td>West Bengal</td>\n",
       "      <td>2020-09-30</td>\n",
       "      <td>M</td>\n",
       "      <td>9.35</td>\n",
       "      <td>35707239.0</td>\n",
       "      <td>47.73</td>\n",
       "      <td>NaN</td>\n",
       "      <td>East</td>\n",
       "    </tr>\n",
       "    <tr>\n",
       "      <th>1006</th>\n",
       "      <td>West Bengal</td>\n",
       "      <td>2020-10-31</td>\n",
       "      <td>M</td>\n",
       "      <td>9.98</td>\n",
       "      <td>33962549.0</td>\n",
       "      <td>45.63</td>\n",
       "      <td>NaN</td>\n",
       "      <td>East</td>\n",
       "    </tr>\n",
       "  </tbody>\n",
       "</table>\n",
       "<p>1007 rows × 8 columns</p>\n",
       "</div>"
      ],
      "text/plain": [
       "              Region       Date Frequency  EstimatedUnemploymentRate(%)  \\\n",
       "0     Andhra Pradesh 2019-05-31   Monthly                          3.65   \n",
       "1     Andhra Pradesh 2019-06-30   Monthly                          3.05   \n",
       "2     Andhra Pradesh 2019-07-31   Monthly                          3.75   \n",
       "3     Andhra Pradesh 2019-08-31   Monthly                          3.32   \n",
       "4     Andhra Pradesh 2019-09-30   Monthly                          5.17   \n",
       "...              ...        ...       ...                           ...   \n",
       "1002     West Bengal 2020-06-30         M                          7.29   \n",
       "1003     West Bengal 2020-07-31         M                          6.83   \n",
       "1004     West Bengal 2020-08-31         M                         14.87   \n",
       "1005     West Bengal 2020-09-30         M                          9.35   \n",
       "1006     West Bengal 2020-10-31         M                          9.98   \n",
       "\n",
       "      EstimatedEmployed  EstimatedLabourParticipationRate(%)   Area Region.1  \n",
       "0            11999139.0                                43.24  Rural      NaN  \n",
       "1            11755881.0                                42.05  Rural      NaN  \n",
       "2            12086707.0                                43.50  Rural      NaN  \n",
       "3            12285693.0                                43.97  Rural      NaN  \n",
       "4            12256762.0                                44.68  Rural      NaN  \n",
       "...                 ...                                  ...    ...      ...  \n",
       "1002         30726310.0                                40.39    NaN     East  \n",
       "1003         35372506.0                                46.17    NaN     East  \n",
       "1004         33298644.0                                47.48    NaN     East  \n",
       "1005         35707239.0                                47.73    NaN     East  \n",
       "1006         33962549.0                                45.63    NaN     East  \n",
       "\n",
       "[1007 rows x 8 columns]"
      ]
     },
     "execution_count": 11,
     "metadata": {},
     "output_type": "execute_result"
    }
   ],
   "source": [
    "# merging the dataframes\n",
    "df = pd.concat([df1, df2], ignore_index=True)\n",
    "df"
   ]
  },
  {
   "cell_type": "code",
   "execution_count": null,
   "metadata": {},
   "outputs": [],
   "source": [
    "# feature engineering\n",
    "#\n",
    "df['month'] = df['Date'].dt.month\n",
    "df['year'] = df['Date'].dt.year\n",
    "df['Covid-19 Impact'] = np.where(df['Date'] >= '2020-04-01', 'Post-COVID', 'Pre-COVID')\n"
   ]
  },
  {
   "cell_type": "markdown",
   "metadata": {},
   "source": [
    "# Exploratory Data Analysis (EDA)"
   ]
  },
  {
   "cell_type": "code",
   "execution_count": 13,
   "metadata": {},
   "outputs": [
    {
     "data": {
      "application/vnd.plotly.v1+json": {
       "config": {
        "plotlyServerURL": "https://plot.ly"
       },
       "data": [
        {
         "hovertemplate": "Region=Andhra Pradesh<br>Date=%{x}<br>EstimatedUnemploymentRate(%)=%{y}<extra></extra>",
         "legendgroup": "Andhra Pradesh",
         "line": {
          "color": "#636efa",
          "dash": "solid"
         },
         "marker": {
          "symbol": "circle"
         },
         "mode": "lines",
         "name": "Andhra Pradesh",
         "showlegend": true,
         "type": "scattergl",
         "x": [
          "2019-05-31T00:00:00.000000000",
          "2019-06-30T00:00:00.000000000",
          "2019-07-31T00:00:00.000000000",
          "2019-08-31T00:00:00.000000000",
          "2019-09-30T00:00:00.000000000",
          "2019-10-31T00:00:00.000000000",
          "2019-11-30T00:00:00.000000000",
          "2019-12-31T00:00:00.000000000",
          "2020-01-31T00:00:00.000000000",
          "2020-02-29T00:00:00.000000000",
          "2020-03-31T00:00:00.000000000",
          "2020-04-30T00:00:00.000000000",
          "2020-05-31T00:00:00.000000000",
          "2020-06-30T00:00:00.000000000",
          "2019-05-31T00:00:00.000000000",
          "2019-06-30T00:00:00.000000000",
          "2019-07-31T00:00:00.000000000",
          "2019-08-31T00:00:00.000000000",
          "2019-09-30T00:00:00.000000000",
          "2019-10-31T00:00:00.000000000",
          "2019-11-30T00:00:00.000000000",
          "2019-12-31T00:00:00.000000000",
          "2020-01-31T00:00:00.000000000",
          "2020-02-29T00:00:00.000000000",
          "2020-03-31T00:00:00.000000000",
          "2020-04-30T00:00:00.000000000",
          "2020-05-31T00:00:00.000000000",
          "2020-06-30T00:00:00.000000000",
          "2020-01-31T00:00:00.000000000",
          "2020-02-29T00:00:00.000000000",
          "2020-03-31T00:00:00.000000000",
          "2020-04-30T00:00:00.000000000",
          "2020-05-31T00:00:00.000000000",
          "2020-06-30T00:00:00.000000000",
          "2020-07-31T00:00:00.000000000",
          "2020-08-31T00:00:00.000000000",
          "2020-09-30T00:00:00.000000000",
          "2020-10-31T00:00:00.000000000"
         ],
         "xaxis": "x",
         "y": {
          "bdata": "MzMzMzMzDUBmZmZmZmYIQAAAAAAAAA5Aj8L1KFyPCkCuR+F6FK4UQClcj8L1KAxAexSuR+F6EECF61G4HoURQFyPwvUoXBNApHA9CtejF0A9CtejcD0QQArXo3A9SjBA7FG4HoXrLEAzMzMzMzPrP1yPwvUoXBhAZmZmZmZmDkCPwvUoXI8WQHE9CtejcBJACtejcD0KGEDNzMzMzMwSQClcj8L1KB5AhetRuB6FH0BxPQrXo3AcQKRwPQrXoxZAw/UoXI/CI0BmZmZmZiZAQClcj8L16DhAcT0K16NwF0DsUbgehesVQFK4HoXrURdAKVyPwvUoF0DD9Shcj4I0QK5H4XoUbjFAexSuR+F6CkCuR+F6FK4gQNejcD0K1xtAmpmZmZmZGUBcj8L1KFwaQA==",
          "dtype": "f8"
         },
         "yaxis": "y"
        },
        {
         "hovertemplate": "Region=Assam<br>Date=%{x}<br>EstimatedUnemploymentRate(%)=%{y}<extra></extra>",
         "legendgroup": "Assam",
         "line": {
          "color": "#EF553B",
          "dash": "solid"
         },
         "marker": {
          "symbol": "circle"
         },
         "mode": "lines",
         "name": "Assam",
         "showlegend": true,
         "type": "scattergl",
         "x": [
          "2019-05-31T00:00:00.000000000",
          "2019-06-30T00:00:00.000000000",
          "2019-07-31T00:00:00.000000000",
          "2019-08-31T00:00:00.000000000",
          "2019-09-30T00:00:00.000000000",
          "2019-10-31T00:00:00.000000000",
          "2019-11-30T00:00:00.000000000",
          "2020-01-31T00:00:00.000000000",
          "2020-02-29T00:00:00.000000000",
          "2020-03-31T00:00:00.000000000",
          "2020-05-31T00:00:00.000000000",
          "2020-06-30T00:00:00.000000000",
          "2019-05-31T00:00:00.000000000",
          "2019-06-30T00:00:00.000000000",
          "2019-07-31T00:00:00.000000000",
          "2019-08-31T00:00:00.000000000",
          "2019-09-30T00:00:00.000000000",
          "2019-10-31T00:00:00.000000000",
          "2019-11-30T00:00:00.000000000",
          "2019-12-31T00:00:00.000000000",
          "2020-01-31T00:00:00.000000000",
          "2020-02-29T00:00:00.000000000",
          "2020-03-31T00:00:00.000000000",
          "2020-04-30T00:00:00.000000000",
          "2020-05-31T00:00:00.000000000",
          "2020-06-30T00:00:00.000000000",
          "2020-01-31T00:00:00.000000000",
          "2020-02-29T00:00:00.000000000",
          "2020-03-31T00:00:00.000000000",
          "2020-04-30T00:00:00.000000000",
          "2020-05-31T00:00:00.000000000",
          "2020-06-30T00:00:00.000000000",
          "2020-07-31T00:00:00.000000000",
          "2020-08-31T00:00:00.000000000",
          "2020-09-30T00:00:00.000000000",
          "2020-10-31T00:00:00.000000000"
         ],
         "xaxis": "x",
         "y": {
          "bdata": "KVyPwvUoEUBSuB6F61EUQArXo3A9ChFAKVyPwvUoF0DXo3A9CtcRQJqZmZmZmRJApHA9CtejEkApXI/C9SgRQBSuR+F6FApAKVyPwvUoDkDD9Shcj8IiQAAAAAAAAAAAexSuR+F6H0BI4XoUrscjQK5H4XoUrglASOF6FK7HJECF61G4HoUiQNejcD0KVyZAPQrXo3A9GUAUrkfhehQUQPYoXI/C9RxA9ihcj8L1I0CuR+F6FK4kQD0K16NwvSBACtejcD2KJUBcj8L1KFwLQKRwPQrXoxJApHA9CtejEUAUrkfhehQTQB+F61G4HiZAmpmZmZkZI0AzMzMzMzPjPylcj8L1KA5AH4XrUbgeFkAK16NwPQrzPylcj8L1KAhA",
          "dtype": "f8"
         },
         "yaxis": "y"
        },
        {
         "hovertemplate": "Region=Bihar<br>Date=%{x}<br>EstimatedUnemploymentRate(%)=%{y}<extra></extra>",
         "legendgroup": "Bihar",
         "line": {
          "color": "#00cc96",
          "dash": "solid"
         },
         "marker": {
          "symbol": "circle"
         },
         "mode": "lines",
         "name": "Bihar",
         "showlegend": true,
         "type": "scattergl",
         "x": [
          "2019-05-31T00:00:00.000000000",
          "2019-06-30T00:00:00.000000000",
          "2019-07-31T00:00:00.000000000",
          "2019-08-31T00:00:00.000000000",
          "2019-09-30T00:00:00.000000000",
          "2019-10-31T00:00:00.000000000",
          "2019-11-30T00:00:00.000000000",
          "2019-12-31T00:00:00.000000000",
          "2020-01-31T00:00:00.000000000",
          "2020-02-29T00:00:00.000000000",
          "2020-03-31T00:00:00.000000000",
          "2020-04-30T00:00:00.000000000",
          "2020-05-31T00:00:00.000000000",
          "2020-06-30T00:00:00.000000000",
          "2019-05-31T00:00:00.000000000",
          "2019-06-30T00:00:00.000000000",
          "2019-07-31T00:00:00.000000000",
          "2019-08-31T00:00:00.000000000",
          "2019-09-30T00:00:00.000000000",
          "2019-10-31T00:00:00.000000000",
          "2019-11-30T00:00:00.000000000",
          "2019-12-31T00:00:00.000000000",
          "2020-01-31T00:00:00.000000000",
          "2020-02-29T00:00:00.000000000",
          "2020-03-31T00:00:00.000000000",
          "2020-04-30T00:00:00.000000000",
          "2020-05-31T00:00:00.000000000",
          "2020-06-30T00:00:00.000000000",
          "2020-01-31T00:00:00.000000000",
          "2020-02-29T00:00:00.000000000",
          "2020-03-31T00:00:00.000000000",
          "2020-04-30T00:00:00.000000000",
          "2020-05-31T00:00:00.000000000",
          "2020-06-30T00:00:00.000000000",
          "2020-07-31T00:00:00.000000000",
          "2020-08-31T00:00:00.000000000",
          "2020-09-30T00:00:00.000000000",
          "2020-10-31T00:00:00.000000000"
         ],
         "xaxis": "x",
         "y": {
          "bdata": "CtejcD2KIkBmZmZmZmYkQOF6FK5H4SpAAAAAAAAAJkA9CtejcL0hQHE9Ctej8ChAzczMzMzMKEBSuB6F61EkQMP1KFyPQiJAuB6F61E4I0BI4XoUrscuQOxRuB6Fi0ZA4XoUrkehR0A9CtejcH00QGZmZmZm5jNAFK5H4XqUKkApXI/C9WgwQClcj8L1qDFA9ihcj8J1NEAfhetRuB4sQB+F61G4njFAUrgehevRLUBxPQrXo7A0QLgehetROC5A9ihcj8J1L0DD9Shcj2JNQI/C9Shc70JAZmZmZmbmKEC4HoXrUTglQBSuR+F6lCRAXI/C9SjcLkBSuB6F61FHQHsUrkfh+kZAUrgehevRMUAUrkfhepQpQOF6FK5H4SpAUrgehevRJ0CkcD0K16MjQA==",
          "dtype": "f8"
         },
         "yaxis": "y"
        },
        {
         "hovertemplate": "Region=Chhattisgarh<br>Date=%{x}<br>EstimatedUnemploymentRate(%)=%{y}<extra></extra>",
         "legendgroup": "Chhattisgarh",
         "line": {
          "color": "#ab63fa",
          "dash": "solid"
         },
         "marker": {
          "symbol": "circle"
         },
         "mode": "lines",
         "name": "Chhattisgarh",
         "showlegend": true,
         "type": "scattergl",
         "x": [
          "2019-05-31T00:00:00.000000000",
          "2019-06-30T00:00:00.000000000",
          "2019-07-31T00:00:00.000000000",
          "2019-08-31T00:00:00.000000000",
          "2019-09-30T00:00:00.000000000",
          "2019-10-31T00:00:00.000000000",
          "2019-11-30T00:00:00.000000000",
          "2019-12-31T00:00:00.000000000",
          "2020-01-31T00:00:00.000000000",
          "2020-02-29T00:00:00.000000000",
          "2020-03-31T00:00:00.000000000",
          "2020-04-30T00:00:00.000000000",
          "2020-05-31T00:00:00.000000000",
          "2020-06-30T00:00:00.000000000",
          "2019-05-31T00:00:00.000000000",
          "2019-06-30T00:00:00.000000000",
          "2019-07-31T00:00:00.000000000",
          "2019-08-31T00:00:00.000000000",
          "2019-09-30T00:00:00.000000000",
          "2019-10-31T00:00:00.000000000",
          "2019-11-30T00:00:00.000000000",
          "2019-12-31T00:00:00.000000000",
          "2020-01-31T00:00:00.000000000",
          "2020-02-29T00:00:00.000000000",
          "2020-03-31T00:00:00.000000000",
          "2020-04-30T00:00:00.000000000",
          "2020-05-31T00:00:00.000000000",
          "2020-06-30T00:00:00.000000000",
          "2020-01-31T00:00:00.000000000",
          "2020-02-29T00:00:00.000000000",
          "2020-03-31T00:00:00.000000000",
          "2020-04-30T00:00:00.000000000",
          "2020-05-31T00:00:00.000000000",
          "2020-06-30T00:00:00.000000000",
          "2020-07-31T00:00:00.000000000",
          "2020-08-31T00:00:00.000000000",
          "2020-09-30T00:00:00.000000000",
          "2020-10-31T00:00:00.000000000"
         ],
         "xaxis": "x",
         "y": {
          "bdata": "pHA9CtejI0AK16NwPQobQClcj8L1KBJAj8L1KFyPEkApXI/C9aggQNejcD0K1xtAKVyPwvUoBkBxPQrXo3AYQEjhehSuxyNAj8L1KFyPH0A9CtejcD0dQAAAAAAAAAAAj8L1KFyPHkBI4XoUrkckQArXo3A9iiNACtejcD2KJ0DXo3A9ClcgQClcj8L1KBlA7FG4HoXrIkAK16NwPYokQKRwPQrXoyBAj8L1KFyPDECF61G4HgUiQBSuR+F6lCNA7FG4HoVrIEDhehSuRyE0QJqZmZmZGThAUrgehesRO0DNzMzMzEwjQMP1KFyPwiBAKVyPwvUoHkBI4XoUrkcLQAAAAAAAACVA9ihcj8J1LEAK16NwPYokQIXrUbgehRZAXI/C9Shc/z97FK5H4XoaQA==",
          "dtype": "f8"
         },
         "yaxis": "y"
        },
        {
         "hovertemplate": "Region=Delhi<br>Date=%{x}<br>EstimatedUnemploymentRate(%)=%{y}<extra></extra>",
         "legendgroup": "Delhi",
         "line": {
          "color": "#FFA15A",
          "dash": "solid"
         },
         "marker": {
          "symbol": "circle"
         },
         "mode": "lines",
         "name": "Delhi",
         "showlegend": true,
         "type": "scattergl",
         "x": [
          "2019-05-31T00:00:00.000000000",
          "2019-06-30T00:00:00.000000000",
          "2019-07-31T00:00:00.000000000",
          "2019-08-31T00:00:00.000000000",
          "2019-09-30T00:00:00.000000000",
          "2019-10-31T00:00:00.000000000",
          "2019-11-30T00:00:00.000000000",
          "2019-12-31T00:00:00.000000000",
          "2020-01-31T00:00:00.000000000",
          "2020-02-29T00:00:00.000000000",
          "2020-03-31T00:00:00.000000000",
          "2020-04-30T00:00:00.000000000",
          "2020-05-31T00:00:00.000000000",
          "2020-06-30T00:00:00.000000000",
          "2019-05-31T00:00:00.000000000",
          "2019-06-30T00:00:00.000000000",
          "2019-07-31T00:00:00.000000000",
          "2019-08-31T00:00:00.000000000",
          "2019-09-30T00:00:00.000000000",
          "2019-10-31T00:00:00.000000000",
          "2019-11-30T00:00:00.000000000",
          "2019-12-31T00:00:00.000000000",
          "2020-01-31T00:00:00.000000000",
          "2020-02-29T00:00:00.000000000",
          "2020-03-31T00:00:00.000000000",
          "2020-04-30T00:00:00.000000000",
          "2020-05-31T00:00:00.000000000",
          "2020-06-30T00:00:00.000000000",
          "2020-01-31T00:00:00.000000000",
          "2020-02-29T00:00:00.000000000",
          "2020-03-31T00:00:00.000000000",
          "2020-04-30T00:00:00.000000000",
          "2020-05-31T00:00:00.000000000",
          "2020-06-30T00:00:00.000000000",
          "2020-07-31T00:00:00.000000000",
          "2020-08-31T00:00:00.000000000",
          "2020-09-30T00:00:00.000000000",
          "2020-10-31T00:00:00.000000000"
         ],
         "xaxis": "x",
         "y": {
          "bdata": "H4XrUbgeKUApXI/C9agiQKRwPQrXIyZArkfhehQuMUAAAAAAAAApQK5H4XoUri9AuB6F61E4JkC4HoXrUfgwQPYoXI/C9SpAH4XrUbieK0Bcj8L1KFwuQHE9CtejsDRAw/UoXI/CNkCkcD0K1yM1QB+F61G4nihAhetRuB6FKUBcj8L1KFwtQArXo3A9CitA16NwPQqXNEBSuB6F69EoQFyPwvUoHDBApHA9CtcjJkAzMzMzM3M2QLgehetRuC1A16NwPQoXMUDD9Shcj4IwQKRwPQrX40ZAXI/C9SgcMkB7FK5H4To2QK5H4XoUri1ACtejcD0KMUCuR+F6FK4wQMP1KFyPIkVAcT0K16MwMkDNzMzMzEw0QBSuR+F6lCtAj8L1KFwPKUAUrkfhehQZQA==",
          "dtype": "f8"
         },
         "yaxis": "y"
        },
        {
         "hovertemplate": "Region=Goa<br>Date=%{x}<br>EstimatedUnemploymentRate(%)=%{y}<extra></extra>",
         "legendgroup": "Goa",
         "line": {
          "color": "#19d3f3",
          "dash": "solid"
         },
         "marker": {
          "symbol": "circle"
         },
         "mode": "lines",
         "name": "Goa",
         "showlegend": true,
         "type": "scattergl",
         "x": [
          "2019-05-31T00:00:00.000000000",
          "2019-06-30T00:00:00.000000000",
          "2019-07-31T00:00:00.000000000",
          "2019-08-31T00:00:00.000000000",
          "2019-09-30T00:00:00.000000000",
          "2019-10-31T00:00:00.000000000",
          "2019-11-30T00:00:00.000000000",
          "2019-12-31T00:00:00.000000000",
          "2020-01-31T00:00:00.000000000",
          "2020-02-29T00:00:00.000000000",
          "2020-04-30T00:00:00.000000000",
          "2020-05-31T00:00:00.000000000",
          "2019-05-31T00:00:00.000000000",
          "2019-06-30T00:00:00.000000000",
          "2019-07-31T00:00:00.000000000",
          "2019-08-31T00:00:00.000000000",
          "2019-09-30T00:00:00.000000000",
          "2019-10-31T00:00:00.000000000",
          "2019-11-30T00:00:00.000000000",
          "2019-12-31T00:00:00.000000000",
          "2020-01-31T00:00:00.000000000",
          "2020-02-29T00:00:00.000000000",
          "2020-03-31T00:00:00.000000000",
          "2020-04-30T00:00:00.000000000",
          "2020-01-31T00:00:00.000000000",
          "2020-02-29T00:00:00.000000000",
          "2020-03-31T00:00:00.000000000",
          "2020-04-30T00:00:00.000000000",
          "2020-05-31T00:00:00.000000000",
          "2020-06-30T00:00:00.000000000",
          "2020-07-31T00:00:00.000000000",
          "2020-08-31T00:00:00.000000000",
          "2020-09-30T00:00:00.000000000",
          "2020-10-31T00:00:00.000000000"
         ],
         "xaxis": "x",
         "y": {
          "bdata": "SOF6FK5HB0DNzMzMzMwVQPYoXI/C9SVArkfhehSu/z/hehSuR+EMQNejcD0K1xxA9ihcj8K1N0BSuB6F61EMQIXrUbgehRVAAAAAAAAAAABSuB6F69EvQAAAAAAAADRAAAAAAAAABkApXI/C9agqQI/C9ShcjyhAmpmZmZmZE0BI4XoUrkcJQB+F61G4nihAMzMzMzMzOUC4HoXrUTgwQNejcD0K1yVAPQrXo3A9EUAK16NwPQoTQIXrUbgehSdASOF6FK7HIUB7FK5H4XoGQAAAAAAAABVAH4XrUbieKkAAAAAAAEA1QOxRuB6F6yNAUrgehesRMUD2KFyPwjUwQMP1KFyPwi5AFK5H4XoUJ0A=",
          "dtype": "f8"
         },
         "yaxis": "y"
        },
        {
         "hovertemplate": "Region=Gujarat<br>Date=%{x}<br>EstimatedUnemploymentRate(%)=%{y}<extra></extra>",
         "legendgroup": "Gujarat",
         "line": {
          "color": "#FF6692",
          "dash": "solid"
         },
         "marker": {
          "symbol": "circle"
         },
         "mode": "lines",
         "name": "Gujarat",
         "showlegend": true,
         "type": "scattergl",
         "x": [
          "2019-05-31T00:00:00.000000000",
          "2019-06-30T00:00:00.000000000",
          "2019-07-31T00:00:00.000000000",
          "2019-08-31T00:00:00.000000000",
          "2019-09-30T00:00:00.000000000",
          "2019-10-31T00:00:00.000000000",
          "2019-11-30T00:00:00.000000000",
          "2019-12-31T00:00:00.000000000",
          "2020-01-31T00:00:00.000000000",
          "2020-02-29T00:00:00.000000000",
          "2020-03-31T00:00:00.000000000",
          "2020-04-30T00:00:00.000000000",
          "2020-05-31T00:00:00.000000000",
          "2020-06-30T00:00:00.000000000",
          "2019-05-31T00:00:00.000000000",
          "2019-06-30T00:00:00.000000000",
          "2019-07-31T00:00:00.000000000",
          "2019-08-31T00:00:00.000000000",
          "2019-09-30T00:00:00.000000000",
          "2019-10-31T00:00:00.000000000",
          "2019-11-30T00:00:00.000000000",
          "2019-12-31T00:00:00.000000000",
          "2020-01-31T00:00:00.000000000",
          "2020-02-29T00:00:00.000000000",
          "2020-03-31T00:00:00.000000000",
          "2020-04-30T00:00:00.000000000",
          "2020-05-31T00:00:00.000000000",
          "2020-06-30T00:00:00.000000000",
          "2020-01-31T00:00:00.000000000",
          "2020-02-29T00:00:00.000000000",
          "2020-03-31T00:00:00.000000000",
          "2020-04-30T00:00:00.000000000",
          "2020-05-31T00:00:00.000000000",
          "2020-06-30T00:00:00.000000000",
          "2020-07-31T00:00:00.000000000",
          "2020-08-31T00:00:00.000000000",
          "2020-09-30T00:00:00.000000000",
          "2020-10-31T00:00:00.000000000"
         ],
         "xaxis": "x",
         "y": {
          "bdata": "CtejcD0KB0AUrkfhehQTQFK4HoXrURJAmpmZmZmZDUApXI/C9SgZQKRwPQrXoxNAuB6F61G4EkCuR+F6FK4LQGZmZmZmZhVAj8L1KFyPGkBcj8L1KFweQAAAAAAAAChAKVyPwvUoLUCPwvUoXI/2P1yPwvUoXBBAPQrXo3A9GUCamZmZmZkUQM3MzMzMzBBA16NwPQrXF0DNzMzMzMwVQB+F61G4Hh5A16NwPQrXFkBI4XoUrkcXQClcj8L1KBhAj8L1KFyPFUBxPQrXo/A5QD0K16NwPSdAKVyPwvUoEkApXI/C9SgWQIXrUbgehRlApHA9CtejGkD2KFyPwrUyQLgehetROChAmpmZmZmZCUBxPQrXo3D9P+xRuB6F6/0/XI/C9ShcC0AfhetRuB4QQA==",
          "dtype": "f8"
         },
         "yaxis": "y"
        },
        {
         "hovertemplate": "Region=Haryana<br>Date=%{x}<br>EstimatedUnemploymentRate(%)=%{y}<extra></extra>",
         "legendgroup": "Haryana",
         "line": {
          "color": "#B6E880",
          "dash": "solid"
         },
         "marker": {
          "symbol": "circle"
         },
         "mode": "lines",
         "name": "Haryana",
         "showlegend": true,
         "type": "scattergl",
         "x": [
          "2019-05-31T00:00:00.000000000",
          "2019-06-30T00:00:00.000000000",
          "2019-07-31T00:00:00.000000000",
          "2019-08-31T00:00:00.000000000",
          "2019-09-30T00:00:00.000000000",
          "2019-10-31T00:00:00.000000000",
          "2019-11-30T00:00:00.000000000",
          "2019-12-31T00:00:00.000000000",
          "2020-01-31T00:00:00.000000000",
          "2020-02-29T00:00:00.000000000",
          "2020-03-31T00:00:00.000000000",
          "2020-04-30T00:00:00.000000000",
          "2020-05-31T00:00:00.000000000",
          "2020-06-30T00:00:00.000000000",
          "2019-05-31T00:00:00.000000000",
          "2019-06-30T00:00:00.000000000",
          "2019-07-31T00:00:00.000000000",
          "2019-08-31T00:00:00.000000000",
          "2019-09-30T00:00:00.000000000",
          "2019-10-31T00:00:00.000000000",
          "2019-11-30T00:00:00.000000000",
          "2019-12-31T00:00:00.000000000",
          "2020-01-31T00:00:00.000000000",
          "2020-02-29T00:00:00.000000000",
          "2020-03-31T00:00:00.000000000",
          "2020-04-30T00:00:00.000000000",
          "2020-05-31T00:00:00.000000000",
          "2020-06-30T00:00:00.000000000",
          "2020-01-31T00:00:00.000000000",
          "2020-02-29T00:00:00.000000000",
          "2020-03-31T00:00:00.000000000",
          "2020-04-30T00:00:00.000000000",
          "2020-05-31T00:00:00.000000000",
          "2020-06-30T00:00:00.000000000",
          "2020-07-31T00:00:00.000000000",
          "2020-08-31T00:00:00.000000000",
          "2020-09-30T00:00:00.000000000",
          "2020-10-31T00:00:00.000000000"
         ],
         "xaxis": "x",
         "y": {
          "bdata": "FK5H4XoULUAUrkfhehQ3QLgehetRODBAcT0K16PwPkBcj8L1KFwwQOxRuB6FKzhA16NwPQqXMECPwvUoXI89QPYoXI/CNTBAcT0K16MwO0DsUbgehes3QK5H4XoUzkRAXI/C9SgcQUApXI/C9chBQOxRuB6FqzhA7FG4HoVrNEAzMzMzM3M5QHE9CtejMDhA16NwPQrXOkAK16NwPQo1QI/C9ShcDztAZmZmZmamN0A9CtejcD07QArXo3A9SjdApHA9CtcjO0BSuB6F63FHQHsUrkfhOkNAKVyPwvVoPUDXo3A9Clc0QIXrUbgexTlAzczMzMwMOUBcj8L1KJxFQIXrUbgeBT1AMzMzMzOzOkCuR+F6FC44QAAAAAAAwEBArkfhehSuM0CPwvUoXE87QA==",
          "dtype": "f8"
         },
         "yaxis": "y"
        },
        {
         "hovertemplate": "Region=Himachal Pradesh<br>Date=%{x}<br>EstimatedUnemploymentRate(%)=%{y}<extra></extra>",
         "legendgroup": "Himachal Pradesh",
         "line": {
          "color": "#FF97FF",
          "dash": "solid"
         },
         "marker": {
          "symbol": "circle"
         },
         "mode": "lines",
         "name": "Himachal Pradesh",
         "showlegend": true,
         "type": "scattergl",
         "x": [
          "2019-05-31T00:00:00.000000000",
          "2019-06-30T00:00:00.000000000",
          "2019-07-31T00:00:00.000000000",
          "2019-08-31T00:00:00.000000000",
          "2019-09-30T00:00:00.000000000",
          "2019-10-31T00:00:00.000000000",
          "2019-11-30T00:00:00.000000000",
          "2019-12-31T00:00:00.000000000",
          "2020-01-31T00:00:00.000000000",
          "2020-02-29T00:00:00.000000000",
          "2020-03-31T00:00:00.000000000",
          "2020-04-30T00:00:00.000000000",
          "2020-05-31T00:00:00.000000000",
          "2020-06-30T00:00:00.000000000",
          "2019-05-31T00:00:00.000000000",
          "2019-06-30T00:00:00.000000000",
          "2019-07-31T00:00:00.000000000",
          "2019-08-31T00:00:00.000000000",
          "2019-09-30T00:00:00.000000000",
          "2019-10-31T00:00:00.000000000",
          "2019-11-30T00:00:00.000000000",
          "2019-12-31T00:00:00.000000000",
          "2020-01-31T00:00:00.000000000",
          "2020-02-29T00:00:00.000000000",
          "2020-03-31T00:00:00.000000000",
          "2020-04-30T00:00:00.000000000",
          "2020-05-31T00:00:00.000000000",
          "2020-06-30T00:00:00.000000000",
          "2020-01-31T00:00:00.000000000",
          "2020-02-29T00:00:00.000000000",
          "2020-03-31T00:00:00.000000000",
          "2020-04-30T00:00:00.000000000",
          "2020-05-31T00:00:00.000000000",
          "2020-06-30T00:00:00.000000000",
          "2020-07-31T00:00:00.000000000",
          "2020-08-31T00:00:00.000000000",
          "2020-09-30T00:00:00.000000000",
          "2020-10-31T00:00:00.000000000"
         ],
         "xaxis": "x",
         "y": {
          "bdata": "XI/C9ShcK0Bcj8L1KNwmQNejcD0KlzRAj8L1KFyPMkD2KFyPwvUvQB+F61G4ni9AXI/C9SjcNkD2KFyPwnUzQOxRuB6FqzBA16NwPQrXLkD2KFyPwrUxQArXo3A9CgFApHA9CtejOUDsUbgehevxP8P1KFyPwiVArkfhehRuNUDD9Shcj4I1QHsUrkfhejhAAAAAAAAAKECF61G4HsU3QIXrUbgeRTtAUrgehetROUBmZmZmZiYyQI/C9ShcTztAcT0K16NwOkCamZmZmZkFQAAAAAAAAElAH4XrUbieJUAUrkfhetQwQNejcD0K1zBAw/UoXI/CMkCamZmZmZkBQDMzMzMz8zpAcT0K16PwKkCPwvUoXE84QBSuR+F6lC9AFK5H4XoUKEDsUbgehesqQA==",
          "dtype": "f8"
         },
         "yaxis": "y"
        },
        {
         "hovertemplate": "Region=Jammu & Kashmir<br>Date=%{x}<br>EstimatedUnemploymentRate(%)=%{y}<extra></extra>",
         "legendgroup": "Jammu & Kashmir",
         "line": {
          "color": "#FECB52",
          "dash": "solid"
         },
         "marker": {
          "symbol": "circle"
         },
         "mode": "lines",
         "name": "Jammu & Kashmir",
         "showlegend": true,
         "type": "scattergl",
         "x": [
          "2019-05-31T00:00:00.000000000",
          "2019-06-30T00:00:00.000000000",
          "2019-07-31T00:00:00.000000000",
          "2019-08-31T00:00:00.000000000",
          "2019-10-31T00:00:00.000000000",
          "2019-11-30T00:00:00.000000000",
          "2020-01-31T00:00:00.000000000",
          "2020-02-29T00:00:00.000000000",
          "2020-03-31T00:00:00.000000000",
          "2020-05-31T00:00:00.000000000",
          "2020-06-30T00:00:00.000000000",
          "2019-05-31T00:00:00.000000000",
          "2019-06-30T00:00:00.000000000",
          "2019-07-31T00:00:00.000000000",
          "2019-10-31T00:00:00.000000000",
          "2019-11-30T00:00:00.000000000",
          "2019-12-31T00:00:00.000000000",
          "2020-01-31T00:00:00.000000000",
          "2020-02-29T00:00:00.000000000",
          "2020-03-31T00:00:00.000000000",
          "2020-05-31T00:00:00.000000000",
          "2020-01-31T00:00:00.000000000",
          "2020-02-29T00:00:00.000000000",
          "2020-03-31T00:00:00.000000000",
          "2020-05-31T00:00:00.000000000",
          "2020-06-30T00:00:00.000000000",
          "2020-07-31T00:00:00.000000000",
          "2020-08-31T00:00:00.000000000",
          "2020-09-30T00:00:00.000000000",
          "2020-10-31T00:00:00.000000000"
         ],
         "xaxis": "x",
         "y": {
          "bdata": "j8L1KFyPKUCuR+F6FC4oQNejcD0KVytApHA9CtejJkCF61G4HkUzQPYoXI/CdS1AcT0K16MwNkB7FK5H4To1QAAAAAAAADBAw/UoXI/CAUC4HoXrUfgyQArXo3A9CjdA4XoUrkfhM0DNzMzMzIw1QI/C9ShcDzhAFK5H4XqULEAUrkfhehQcQArXo3A9ijJAXI/C9SjcM0AUrkfhepQsQOxRuB6F6ylAFK5H4XoUNUBI4XoUrsc0QAAAAAAAAC9APQrXo3C9MkDsUbgehesxQMP1KFyPwiVArkfhehQuJkDsUbgehSswQKRwPQrXIzBA",
          "dtype": "f8"
         },
         "yaxis": "y"
        },
        {
         "hovertemplate": "Region=Jharkhand<br>Date=%{x}<br>EstimatedUnemploymentRate(%)=%{y}<extra></extra>",
         "legendgroup": "Jharkhand",
         "line": {
          "color": "#636efa",
          "dash": "solid"
         },
         "marker": {
          "symbol": "circle"
         },
         "mode": "lines",
         "name": "Jharkhand",
         "showlegend": true,
         "type": "scattergl",
         "x": [
          "2019-05-31T00:00:00.000000000",
          "2019-06-30T00:00:00.000000000",
          "2019-07-31T00:00:00.000000000",
          "2019-08-31T00:00:00.000000000",
          "2019-09-30T00:00:00.000000000",
          "2019-10-31T00:00:00.000000000",
          "2019-11-30T00:00:00.000000000",
          "2019-12-31T00:00:00.000000000",
          "2020-01-31T00:00:00.000000000",
          "2020-02-29T00:00:00.000000000",
          "2020-03-31T00:00:00.000000000",
          "2020-04-30T00:00:00.000000000",
          "2020-05-31T00:00:00.000000000",
          "2020-06-30T00:00:00.000000000",
          "2019-05-31T00:00:00.000000000",
          "2019-06-30T00:00:00.000000000",
          "2019-07-31T00:00:00.000000000",
          "2019-08-31T00:00:00.000000000",
          "2019-09-30T00:00:00.000000000",
          "2019-10-31T00:00:00.000000000",
          "2019-11-30T00:00:00.000000000",
          "2019-12-31T00:00:00.000000000",
          "2020-01-31T00:00:00.000000000",
          "2020-02-29T00:00:00.000000000",
          "2020-03-31T00:00:00.000000000",
          "2020-04-30T00:00:00.000000000",
          "2020-05-31T00:00:00.000000000",
          "2020-06-30T00:00:00.000000000",
          "2020-01-31T00:00:00.000000000",
          "2020-02-29T00:00:00.000000000",
          "2020-03-31T00:00:00.000000000",
          "2020-04-30T00:00:00.000000000",
          "2020-05-31T00:00:00.000000000",
          "2020-06-30T00:00:00.000000000",
          "2020-07-31T00:00:00.000000000",
          "2020-08-31T00:00:00.000000000",
          "2020-09-30T00:00:00.000000000",
          "2020-10-31T00:00:00.000000000"
         ],
         "xaxis": "x",
         "y": {
          "bdata": "cT0K16NwHEDsUbgehesgQPYoXI/C9SNAH4XrUbgeKEB7FK5H4XocQEjhehSuRxpApHA9CtcjIEDNzMzMzEwuQKRwPQrXoxhAH4XrUbgeIkAK16NwPQoUQFyPwvUo3ERAzczMzMyMS0BI4XoUroc1QHsUrkfhOjFAw/UoXI+CNEDXo3A9ClcvQAAAAAAAQDRAKVyPwvUoNUDNzMzMzAwzQNejcD0KVzFAw/UoXI8CNkD2KFyPwvU2QOxRuB6FqzNAZmZmZmZmMEA9CtejcL1OQHsUrkfhilFA4XoUrkdhM0C4HoXrUTglQDMzMzMzsydA9ihcj8J1IEDsUbgehYtHQD0K16NwnU1AMzMzMzPzNECF61G4HoUeQIXrUbgehSNAexSuR+F6IECamZmZmZknQA==",
          "dtype": "f8"
         },
         "yaxis": "y"
        },
        {
         "hovertemplate": "Region=Karnataka<br>Date=%{x}<br>EstimatedUnemploymentRate(%)=%{y}<extra></extra>",
         "legendgroup": "Karnataka",
         "line": {
          "color": "#EF553B",
          "dash": "solid"
         },
         "marker": {
          "symbol": "circle"
         },
         "mode": "lines",
         "name": "Karnataka",
         "showlegend": true,
         "type": "scattergl",
         "x": [
          "2019-05-31T00:00:00.000000000",
          "2019-06-30T00:00:00.000000000",
          "2019-07-31T00:00:00.000000000",
          "2019-08-31T00:00:00.000000000",
          "2019-09-30T00:00:00.000000000",
          "2019-10-31T00:00:00.000000000",
          "2019-11-30T00:00:00.000000000",
          "2019-12-31T00:00:00.000000000",
          "2020-01-31T00:00:00.000000000",
          "2020-02-29T00:00:00.000000000",
          "2020-03-31T00:00:00.000000000",
          "2020-04-30T00:00:00.000000000",
          "2020-05-31T00:00:00.000000000",
          "2020-06-30T00:00:00.000000000",
          "2019-05-31T00:00:00.000000000",
          "2019-06-30T00:00:00.000000000",
          "2019-07-31T00:00:00.000000000",
          "2019-08-31T00:00:00.000000000",
          "2019-09-30T00:00:00.000000000",
          "2019-10-31T00:00:00.000000000",
          "2019-11-30T00:00:00.000000000",
          "2019-12-31T00:00:00.000000000",
          "2020-01-31T00:00:00.000000000",
          "2020-02-29T00:00:00.000000000",
          "2020-03-31T00:00:00.000000000",
          "2020-04-30T00:00:00.000000000",
          "2020-05-31T00:00:00.000000000",
          "2020-06-30T00:00:00.000000000",
          "2020-01-31T00:00:00.000000000",
          "2020-02-29T00:00:00.000000000",
          "2020-03-31T00:00:00.000000000",
          "2020-04-30T00:00:00.000000000",
          "2020-05-31T00:00:00.000000000",
          "2020-06-30T00:00:00.000000000",
          "2020-07-31T00:00:00.000000000",
          "2020-08-31T00:00:00.000000000",
          "2020-09-30T00:00:00.000000000",
          "2020-10-31T00:00:00.000000000"
         ],
         "xaxis": "x",
         "y": {
          "bdata": "16NwPQrXFUDsUbgehesXQKRwPQrXo+A/rkfhehSu1z+amZmZmZkJQIXrUbgehRxACtejcD0K8z89CtejcD3aP4/C9ShcjwRAcT0K16NwEEAfhetRuB4DQPYoXI/ClUBAuB6F61G4N0DXo3A9CtclQD0K16NwPRpAAAAAAAAAFEBSuB6F61ECQFK4HoXrUfQ/j8L1KFyPDED2KFyPwvUOQIXrUbgehQtA9ihcj8L1+D97FK5H4XoKQArXo3A9CgdArkfhehSuE0AfhetRuB45QMP1KFyPwi9AexSuR+F6GEDhehSuR+EGQOF6FK5H4QxArkfhehSuC0DXo3A9Ctc9QLgehetR+DNA4XoUrkfhIEAK16NwPQoQQAAAAAAAAOA/SOF6FK5HA0BI4XoUrkf5Pw==",
          "dtype": "f8"
         },
         "yaxis": "y"
        },
        {
         "hovertemplate": "Region=Kerala<br>Date=%{x}<br>EstimatedUnemploymentRate(%)=%{y}<extra></extra>",
         "legendgroup": "Kerala",
         "line": {
          "color": "#00cc96",
          "dash": "solid"
         },
         "marker": {
          "symbol": "circle"
         },
         "mode": "lines",
         "name": "Kerala",
         "showlegend": true,
         "type": "scattergl",
         "x": [
          "2019-05-31T00:00:00.000000000",
          "2019-06-30T00:00:00.000000000",
          "2019-07-31T00:00:00.000000000",
          "2019-08-31T00:00:00.000000000",
          "2019-09-30T00:00:00.000000000",
          "2019-10-31T00:00:00.000000000",
          "2019-11-30T00:00:00.000000000",
          "2019-12-31T00:00:00.000000000",
          "2020-01-31T00:00:00.000000000",
          "2020-02-29T00:00:00.000000000",
          "2020-03-31T00:00:00.000000000",
          "2020-04-30T00:00:00.000000000",
          "2020-05-31T00:00:00.000000000",
          "2020-06-30T00:00:00.000000000",
          "2019-05-31T00:00:00.000000000",
          "2019-06-30T00:00:00.000000000",
          "2019-07-31T00:00:00.000000000",
          "2019-08-31T00:00:00.000000000",
          "2019-09-30T00:00:00.000000000",
          "2019-10-31T00:00:00.000000000",
          "2019-11-30T00:00:00.000000000",
          "2019-12-31T00:00:00.000000000",
          "2020-01-31T00:00:00.000000000",
          "2020-02-29T00:00:00.000000000",
          "2020-03-31T00:00:00.000000000",
          "2020-04-30T00:00:00.000000000",
          "2020-05-31T00:00:00.000000000",
          "2020-06-30T00:00:00.000000000",
          "2020-01-31T00:00:00.000000000",
          "2020-02-29T00:00:00.000000000",
          "2020-03-31T00:00:00.000000000",
          "2020-04-30T00:00:00.000000000",
          "2020-05-31T00:00:00.000000000",
          "2020-06-30T00:00:00.000000000",
          "2020-07-31T00:00:00.000000000",
          "2020-08-31T00:00:00.000000000",
          "2020-09-30T00:00:00.000000000",
          "2020-10-31T00:00:00.000000000"
         ],
         "xaxis": "x",
         "y": {
          "bdata": "hetRuB6FGkAAAAAAAAAiQM3MzMzMzBNApHA9CtejJEBmZmZmZmYVQEjhehSuRyJAAAAAAAAAFEAK16NwPYolQHE9CtejcBBAUrgehevRIUAzMzMzM7MhQOxRuB6FayVA4XoUrkdhN0ApXI/C9ag7QHE9CtejcBhArkfhehSuGkBSuB6F61EeQMP1KFyPwh5AFK5H4XoUFkBmZmZmZmYVQNejcD0K1xpAPQrXo3A9HUCamZmZmZkaQFK4HoXrURhASOF6FK5HIkCuR+F6FG41QEjhehSuRz5A16NwPQpXKEA9CtejcD0VQGZmZmZmZh5AexSuR+H6IUA9CtejcP0wQOF6FK5H4TFA7FG4HoVrI0Bcj8L1KFwcQPYoXI/C9SVApHA9CtejF0AK16NwPQoPQA==",
          "dtype": "f8"
         },
         "yaxis": "y"
        },
        {
         "hovertemplate": "Region=Madhya Pradesh<br>Date=%{x}<br>EstimatedUnemploymentRate(%)=%{y}<extra></extra>",
         "legendgroup": "Madhya Pradesh",
         "line": {
          "color": "#ab63fa",
          "dash": "solid"
         },
         "marker": {
          "symbol": "circle"
         },
         "mode": "lines",
         "name": "Madhya Pradesh",
         "showlegend": true,
         "type": "scattergl",
         "x": [
          "2019-05-31T00:00:00.000000000",
          "2019-06-30T00:00:00.000000000",
          "2019-07-31T00:00:00.000000000",
          "2019-08-31T00:00:00.000000000",
          "2019-09-30T00:00:00.000000000",
          "2019-10-31T00:00:00.000000000",
          "2019-11-30T00:00:00.000000000",
          "2019-12-31T00:00:00.000000000",
          "2020-01-31T00:00:00.000000000",
          "2020-02-29T00:00:00.000000000",
          "2020-03-31T00:00:00.000000000",
          "2020-04-30T00:00:00.000000000",
          "2020-05-31T00:00:00.000000000",
          "2020-06-30T00:00:00.000000000",
          "2019-05-31T00:00:00.000000000",
          "2019-06-30T00:00:00.000000000",
          "2019-07-31T00:00:00.000000000",
          "2019-08-31T00:00:00.000000000",
          "2019-09-30T00:00:00.000000000",
          "2019-10-31T00:00:00.000000000",
          "2019-11-30T00:00:00.000000000",
          "2019-12-31T00:00:00.000000000",
          "2020-01-31T00:00:00.000000000",
          "2020-02-29T00:00:00.000000000",
          "2020-03-31T00:00:00.000000000",
          "2020-04-30T00:00:00.000000000",
          "2020-05-31T00:00:00.000000000",
          "2020-06-30T00:00:00.000000000",
          "2020-01-31T00:00:00.000000000",
          "2020-02-29T00:00:00.000000000",
          "2020-03-31T00:00:00.000000000",
          "2020-04-30T00:00:00.000000000",
          "2020-05-31T00:00:00.000000000",
          "2020-06-30T00:00:00.000000000",
          "2020-07-31T00:00:00.000000000",
          "2020-08-31T00:00:00.000000000",
          "2020-09-30T00:00:00.000000000",
          "2020-10-31T00:00:00.000000000"
         ],
         "xaxis": "x",
         "y": {
          "bdata": "CtejcD0KDUAAAAAAAAARQFyPwvUoXA9Aw/UoXI/CE0CkcD0K16MIQNejcD0K1wdAw/UoXI/CBUCF61G4HoUHQEjhehSuRw1ArkfhehSuEUAK16NwPQrzPwAAAAAAAClA9ihcj8J1NkDXo3A9CtcZQEjhehSuRw9AhetRuB6FGUCF61G4HoUdQEjhehSuRxtAAAAAAAAAHECamZmZmZkRQD0K16NwPRhAzczMzMzMGECuR+F6FK4UQNejcD0K1xNAMzMzMzMzE0DhehSuR+EnQB+F61G4PkRAcT0K16NwKUBxPQrXo3AQQEjhehSuRxJAw/UoXI/CAUC4HoXrUbgoQHsUrkfh+jVA7FG4HoXrGUBSuB6F61EUQM3MzMzMzBJASOF6FK5HD0AK16NwPQoJQA==",
          "dtype": "f8"
         },
         "yaxis": "y"
        },
        {
         "hovertemplate": "Region=Maharashtra<br>Date=%{x}<br>EstimatedUnemploymentRate(%)=%{y}<extra></extra>",
         "legendgroup": "Maharashtra",
         "line": {
          "color": "#FFA15A",
          "dash": "solid"
         },
         "marker": {
          "symbol": "circle"
         },
         "mode": "lines",
         "name": "Maharashtra",
         "showlegend": true,
         "type": "scattergl",
         "x": [
          "2019-05-31T00:00:00.000000000",
          "2019-06-30T00:00:00.000000000",
          "2019-07-31T00:00:00.000000000",
          "2019-08-31T00:00:00.000000000",
          "2019-09-30T00:00:00.000000000",
          "2019-10-31T00:00:00.000000000",
          "2019-11-30T00:00:00.000000000",
          "2019-12-31T00:00:00.000000000",
          "2020-01-31T00:00:00.000000000",
          "2020-02-29T00:00:00.000000000",
          "2020-03-31T00:00:00.000000000",
          "2020-04-30T00:00:00.000000000",
          "2020-05-31T00:00:00.000000000",
          "2020-06-30T00:00:00.000000000",
          "2019-05-31T00:00:00.000000000",
          "2019-06-30T00:00:00.000000000",
          "2019-07-31T00:00:00.000000000",
          "2019-08-31T00:00:00.000000000",
          "2019-09-30T00:00:00.000000000",
          "2019-10-31T00:00:00.000000000",
          "2019-11-30T00:00:00.000000000",
          "2019-12-31T00:00:00.000000000",
          "2020-01-31T00:00:00.000000000",
          "2020-02-29T00:00:00.000000000",
          "2020-03-31T00:00:00.000000000",
          "2020-04-30T00:00:00.000000000",
          "2020-05-31T00:00:00.000000000",
          "2020-06-30T00:00:00.000000000",
          "2020-01-31T00:00:00.000000000",
          "2020-02-29T00:00:00.000000000",
          "2020-03-31T00:00:00.000000000",
          "2020-04-30T00:00:00.000000000",
          "2020-05-31T00:00:00.000000000",
          "2020-06-30T00:00:00.000000000",
          "2020-07-31T00:00:00.000000000",
          "2020-08-31T00:00:00.000000000",
          "2020-09-30T00:00:00.000000000",
          "2020-10-31T00:00:00.000000000"
         ],
         "xaxis": "x",
         "y": {
          "bdata": "XI/C9ShcDUBcj8L1KFwRQEjhehSuRw1AFK5H4XoUDkCamZmZmZkRQHsUrkfheg5AcT0K16NwDUA9CtejcD0IQGZmZmZmZg5A9ihcj8L1EECF61G4HoUVQEjhehSuRzlApHA9CtfjMEDNzMzMzMwiQFK4HoXrURhA16NwPQrXGUBmZmZmZmYZQEjhehSuRx5AZmZmZmZmHkAK16NwPQoeQGZmZmZmZh5AUrgehetRH0CuR+F6FK4aQFyPwvUoXBVAXI/C9ShcGUB7FK5H4fotQNejcD0K1y9AhetRuB4FJEDNzMzMzMwTQMP1KFyPwhJAKVyPwvUoF0BmZmZmZuY0QOxRuB6F6y5A9ihcj8J1IkAfhetRuB4PQOxRuB6F6xhAMzMzMzMzEkBmZmZmZmYQQA==",
          "dtype": "f8"
         },
         "yaxis": "y"
        },
        {
         "hovertemplate": "Region=Meghalaya<br>Date=%{x}<br>EstimatedUnemploymentRate(%)=%{y}<extra></extra>",
         "legendgroup": "Meghalaya",
         "line": {
          "color": "#19d3f3",
          "dash": "solid"
         },
         "marker": {
          "symbol": "circle"
         },
         "mode": "lines",
         "name": "Meghalaya",
         "showlegend": true,
         "type": "scattergl",
         "x": [
          "2019-05-31T00:00:00.000000000",
          "2019-06-30T00:00:00.000000000",
          "2019-07-31T00:00:00.000000000",
          "2019-08-31T00:00:00.000000000",
          "2019-09-30T00:00:00.000000000",
          "2019-10-31T00:00:00.000000000",
          "2019-11-30T00:00:00.000000000",
          "2019-12-31T00:00:00.000000000",
          "2020-01-31T00:00:00.000000000",
          "2020-02-29T00:00:00.000000000",
          "2020-03-31T00:00:00.000000000",
          "2020-04-30T00:00:00.000000000",
          "2020-05-31T00:00:00.000000000",
          "2020-06-30T00:00:00.000000000",
          "2019-05-31T00:00:00.000000000",
          "2019-06-30T00:00:00.000000000",
          "2019-07-31T00:00:00.000000000",
          "2019-08-31T00:00:00.000000000",
          "2019-09-30T00:00:00.000000000",
          "2019-10-31T00:00:00.000000000",
          "2019-11-30T00:00:00.000000000",
          "2019-12-31T00:00:00.000000000",
          "2020-01-31T00:00:00.000000000",
          "2020-02-29T00:00:00.000000000",
          "2020-03-31T00:00:00.000000000",
          "2020-04-30T00:00:00.000000000",
          "2020-05-31T00:00:00.000000000",
          "2020-01-31T00:00:00.000000000",
          "2020-02-29T00:00:00.000000000",
          "2020-03-31T00:00:00.000000000",
          "2020-04-30T00:00:00.000000000",
          "2020-05-31T00:00:00.000000000",
          "2020-06-30T00:00:00.000000000",
          "2020-07-31T00:00:00.000000000",
          "2020-08-31T00:00:00.000000000",
          "2020-09-30T00:00:00.000000000",
          "2020-10-31T00:00:00.000000000"
         ],
         "xaxis": "x",
         "y": {
          "bdata": "SOF6FK5HCUDsUbgehesQQHsUrkfhevA/pHA9Ctej4D+4HoXrUbjOP5qZmZmZmQ1AAAAAAAAA+D/NzMzMzMz8PwrXo3A9Cu8/FK5H4XoUBkB7FK5H4Xr0P8P1KFyPwiBA16NwPQrXDUCamZmZmZn1P83MzMzMzCBAUrgehetRIUC4HoXrUbgRQDMzMzMzMxdAMzMzMzMzFUDNzMzMzMwcQClcj8L1KAhA16NwPQrXFEAK16NwPQoTQHsUrkfheh1AZmZmZmZmBkCkcD0K12MxQClcj8L1KC1Aj8L1KFyP+j+4HoXrUbgMQEjhehSuR/k/j8L1KFwPJECuR+F6FK4XQGZmZmZmZvI/zczMzMzMAEDsUbgehesNQClcj8L1KBFAZmZmZmZmEkA=",
          "dtype": "f8"
         },
         "yaxis": "y"
        },
        {
         "hovertemplate": "Region=Odisha<br>Date=%{x}<br>EstimatedUnemploymentRate(%)=%{y}<extra></extra>",
         "legendgroup": "Odisha",
         "line": {
          "color": "#FF6692",
          "dash": "solid"
         },
         "marker": {
          "symbol": "circle"
         },
         "mode": "lines",
         "name": "Odisha",
         "showlegend": true,
         "type": "scattergl",
         "x": [
          "2019-05-31T00:00:00.000000000",
          "2019-06-30T00:00:00.000000000",
          "2019-07-31T00:00:00.000000000",
          "2019-08-31T00:00:00.000000000",
          "2019-09-30T00:00:00.000000000",
          "2019-10-31T00:00:00.000000000",
          "2019-11-30T00:00:00.000000000",
          "2019-12-31T00:00:00.000000000",
          "2020-01-31T00:00:00.000000000",
          "2020-02-29T00:00:00.000000000",
          "2020-03-31T00:00:00.000000000",
          "2020-04-30T00:00:00.000000000",
          "2020-05-31T00:00:00.000000000",
          "2020-06-30T00:00:00.000000000",
          "2019-05-31T00:00:00.000000000",
          "2019-06-30T00:00:00.000000000",
          "2019-07-31T00:00:00.000000000",
          "2019-08-31T00:00:00.000000000",
          "2019-09-30T00:00:00.000000000",
          "2019-10-31T00:00:00.000000000",
          "2019-11-30T00:00:00.000000000",
          "2019-12-31T00:00:00.000000000",
          "2020-01-31T00:00:00.000000000",
          "2020-02-29T00:00:00.000000000",
          "2020-03-31T00:00:00.000000000",
          "2020-04-30T00:00:00.000000000",
          "2020-05-31T00:00:00.000000000",
          "2020-06-30T00:00:00.000000000",
          "2020-01-31T00:00:00.000000000",
          "2020-02-29T00:00:00.000000000",
          "2020-03-31T00:00:00.000000000",
          "2020-04-30T00:00:00.000000000",
          "2020-05-31T00:00:00.000000000",
          "2020-06-30T00:00:00.000000000",
          "2020-07-31T00:00:00.000000000",
          "2020-08-31T00:00:00.000000000",
          "2020-09-30T00:00:00.000000000",
          "2020-10-31T00:00:00.000000000"
         ],
         "xaxis": "x",
         "y": {
          "bdata": "rkfhehSuEEDXo3A9CtcSQHsUrkfhegpAcT0K16NwDUA9CtejcD0RQB+F61G4HhFA4XoUrkfhEkCuR+F6FK4SQPYoXI/C9fw/exSuR+F6CkCuR+F6FC4uQHsUrkfhejhAZmZmZmbmIkBcj8L1KFwSQJqZmZmZmQdACtejcD0KBUB7FK5H4Xr8PwAAAAAAAAxAPQrXo3A9DkAAAAAAAAASQNejcD0K1wFA4XoUrkfhCkA9CtejcD0CQIXrUbgehQFArkfhehSuD0AAAAAAAIA0QAAAAAAAACRAcT0K16NwAUBmZmZmZmb+P/YoXI/C9QhAKVyPwvUoKkDD9Shcj8I3QFK4HoXr0SZAKVyPwvUoDkAUrkfhehT+P7gehetRuPY/zczMzMzMAEBxPQrXo3ABQA==",
          "dtype": "f8"
         },
         "yaxis": "y"
        },
        {
         "hovertemplate": "Region=Puducherry<br>Date=%{x}<br>EstimatedUnemploymentRate(%)=%{y}<extra></extra>",
         "legendgroup": "Puducherry",
         "line": {
          "color": "#B6E880",
          "dash": "solid"
         },
         "marker": {
          "symbol": "circle"
         },
         "mode": "lines",
         "name": "Puducherry",
         "showlegend": true,
         "type": "scattergl",
         "x": [
          "2019-05-31T00:00:00.000000000",
          "2019-06-30T00:00:00.000000000",
          "2019-07-31T00:00:00.000000000",
          "2019-08-31T00:00:00.000000000",
          "2019-09-30T00:00:00.000000000",
          "2019-10-31T00:00:00.000000000",
          "2019-11-30T00:00:00.000000000",
          "2019-12-31T00:00:00.000000000",
          "2020-01-31T00:00:00.000000000",
          "2020-02-29T00:00:00.000000000",
          "2020-03-31T00:00:00.000000000",
          "2020-04-30T00:00:00.000000000",
          "2019-05-31T00:00:00.000000000",
          "2019-06-30T00:00:00.000000000",
          "2019-07-31T00:00:00.000000000",
          "2019-08-31T00:00:00.000000000",
          "2019-09-30T00:00:00.000000000",
          "2019-10-31T00:00:00.000000000",
          "2019-11-30T00:00:00.000000000",
          "2019-12-31T00:00:00.000000000",
          "2020-01-31T00:00:00.000000000",
          "2020-02-29T00:00:00.000000000",
          "2020-03-31T00:00:00.000000000",
          "2020-04-30T00:00:00.000000000",
          "2020-05-31T00:00:00.000000000",
          "2020-06-30T00:00:00.000000000",
          "2020-01-31T00:00:00.000000000",
          "2020-02-29T00:00:00.000000000",
          "2020-03-31T00:00:00.000000000",
          "2020-04-30T00:00:00.000000000",
          "2020-05-31T00:00:00.000000000",
          "2020-06-30T00:00:00.000000000",
          "2020-07-31T00:00:00.000000000",
          "2020-08-31T00:00:00.000000000",
          "2020-09-30T00:00:00.000000000",
          "2020-10-31T00:00:00.000000000"
         ],
         "xaxis": "x",
         "y": {
          "bdata": "AAAAAAAAAAAAAAAAAAAAAAAAAAAAAAAAZmZmZmZmE0AAAAAAAAAAAOF6FK5H4fI/AAAAAAAAAADXo3A9Ctf/P4/C9Shcj+I/16NwPQrX+z97FK5H4XoCQHE9CtejoFJAAAAAAAAA9D8AAAAAAAAAAAAAAAAAAAAAZmZmZmbmIUCF61G4HoXzP7gehetRuPI/7FG4HoXr9T/Xo3A9CtcUQD0K16NwPeI/exSuR+F6/D/Xo3A9CtfjP4/C9ShcL1NAAAAAAADAUkAzMzMzMzMSQI/C9Shcj+I/KVyPwvUo/D8zMzMzMzPzP2ZmZmZm9lJAuB6F61EYTUD2KFyPwvUQQHE9Ctej8C5AMzMzMzMzFEDNzMzMzMwlQLgehetRuBhA",
          "dtype": "f8"
         },
         "yaxis": "y"
        },
        {
         "hovertemplate": "Region=Punjab<br>Date=%{x}<br>EstimatedUnemploymentRate(%)=%{y}<extra></extra>",
         "legendgroup": "Punjab",
         "line": {
          "color": "#FF97FF",
          "dash": "solid"
         },
         "marker": {
          "symbol": "circle"
         },
         "mode": "lines",
         "name": "Punjab",
         "showlegend": true,
         "type": "scattergl",
         "x": [
          "2019-05-31T00:00:00.000000000",
          "2019-06-30T00:00:00.000000000",
          "2019-07-31T00:00:00.000000000",
          "2019-08-31T00:00:00.000000000",
          "2019-09-30T00:00:00.000000000",
          "2019-10-31T00:00:00.000000000",
          "2019-11-30T00:00:00.000000000",
          "2019-12-31T00:00:00.000000000",
          "2020-01-31T00:00:00.000000000",
          "2020-02-29T00:00:00.000000000",
          "2020-03-31T00:00:00.000000000",
          "2020-04-30T00:00:00.000000000",
          "2020-05-31T00:00:00.000000000",
          "2020-06-30T00:00:00.000000000",
          "2019-05-31T00:00:00.000000000",
          "2019-06-30T00:00:00.000000000",
          "2019-07-31T00:00:00.000000000",
          "2019-08-31T00:00:00.000000000",
          "2019-09-30T00:00:00.000000000",
          "2019-10-31T00:00:00.000000000",
          "2019-11-30T00:00:00.000000000",
          "2019-12-31T00:00:00.000000000",
          "2020-01-31T00:00:00.000000000",
          "2020-02-29T00:00:00.000000000",
          "2020-03-31T00:00:00.000000000",
          "2020-04-30T00:00:00.000000000",
          "2020-05-31T00:00:00.000000000",
          "2020-06-30T00:00:00.000000000",
          "2020-01-31T00:00:00.000000000",
          "2020-02-29T00:00:00.000000000",
          "2020-03-31T00:00:00.000000000",
          "2020-04-30T00:00:00.000000000",
          "2020-05-31T00:00:00.000000000",
          "2020-06-30T00:00:00.000000000",
          "2020-07-31T00:00:00.000000000",
          "2020-08-31T00:00:00.000000000",
          "2020-09-30T00:00:00.000000000",
          "2020-10-31T00:00:00.000000000"
         ],
         "xaxis": "x",
         "y": {
          "bdata": "16NwPQpXIkDsUbgehWsoQEjhehSuRyNAw/UoXI/CGkCuR+F6FC4hQB+F61G4HilASOF6FK5HHECF61G4HoUYQOF6FK5HYSNAUrgehevRJECF61G4HgUlQIXrUbgehQ1A7FG4HoVLREAAAAAAAAA0QHsUrkfh+ipA16NwPQpXKkC4HoXrUTgnQHsUrkfh+idA4XoUrkdhL0AAAAAAAIArQEjhehSuxyRAcT0K16PwJ0Bcj8L1KFwrQHsUrkfh+idAcT0K16PwI0AUrkfhehTyPwrXo3A9ijRAmpmZmZkZJUC4HoXrUTgmQHE9Ctej8CVApHA9CtejJEDhehSuR+EGQBSuR+F6VDxAzczMzMyMMEDhehSuR2EiQHsUrkfh+iVAuB6F61E4I0DD9Shcj8IjQA==",
          "dtype": "f8"
         },
         "yaxis": "y"
        },
        {
         "hovertemplate": "Region=Rajasthan<br>Date=%{x}<br>EstimatedUnemploymentRate(%)=%{y}<extra></extra>",
         "legendgroup": "Rajasthan",
         "line": {
          "color": "#FECB52",
          "dash": "solid"
         },
         "marker": {
          "symbol": "circle"
         },
         "mode": "lines",
         "name": "Rajasthan",
         "showlegend": true,
         "type": "scattergl",
         "x": [
          "2019-05-31T00:00:00.000000000",
          "2019-06-30T00:00:00.000000000",
          "2019-07-31T00:00:00.000000000",
          "2019-08-31T00:00:00.000000000",
          "2019-09-30T00:00:00.000000000",
          "2019-10-31T00:00:00.000000000",
          "2019-11-30T00:00:00.000000000",
          "2019-12-31T00:00:00.000000000",
          "2020-01-31T00:00:00.000000000",
          "2020-02-29T00:00:00.000000000",
          "2020-03-31T00:00:00.000000000",
          "2020-04-30T00:00:00.000000000",
          "2020-05-31T00:00:00.000000000",
          "2020-06-30T00:00:00.000000000",
          "2019-05-31T00:00:00.000000000",
          "2019-06-30T00:00:00.000000000",
          "2019-07-31T00:00:00.000000000",
          "2019-08-31T00:00:00.000000000",
          "2019-09-30T00:00:00.000000000",
          "2019-10-31T00:00:00.000000000",
          "2019-11-30T00:00:00.000000000",
          "2019-12-31T00:00:00.000000000",
          "2020-01-31T00:00:00.000000000",
          "2020-02-29T00:00:00.000000000",
          "2020-03-31T00:00:00.000000000",
          "2020-04-30T00:00:00.000000000",
          "2020-05-31T00:00:00.000000000",
          "2020-06-30T00:00:00.000000000",
          "2020-01-31T00:00:00.000000000",
          "2020-02-29T00:00:00.000000000",
          "2020-03-31T00:00:00.000000000",
          "2020-04-30T00:00:00.000000000",
          "2020-05-31T00:00:00.000000000",
          "2020-06-30T00:00:00.000000000",
          "2020-07-31T00:00:00.000000000",
          "2020-08-31T00:00:00.000000000",
          "2020-09-30T00:00:00.000000000",
          "2020-10-31T00:00:00.000000000"
         ],
         "xaxis": "x",
         "y": {
          "bdata": "H4XrUbgeEEBmZmZmZmYrQGZmZmZmZiNAAAAAAAAAKUDNzMzMzMwVQFK4HoXrUS1AcT0K16PwJEDsUbgehesrQAAAAAAAACBA9ihcj8L1LEBxPQrXo/AiQAAAAAAAgChAZmZmZmbmJEC4HoXrUbgrQD0K16NwPStAuB6F61G4LEDXo3A9ClcnQOxRuB6Fay1Aw/UoXI9CKUAK16NwPQoqQJqZmZmZmSxACtejcD0KMkBSuB6F69EyQIXrUbgeBTFACtejcD2KMkCkcD0K18NBQJqZmZmZWTlAFK5H4XoUKkBxPQrXo/AlQFK4HoXrUS5AzczMzMzMJ0AzMzMzM7MxQHsUrkfhei9ASOF6FK7HLEAfhetRuJ4vQMP1KFyPgjFAMzMzMzOzLkBmZmZmZiY4QA==",
          "dtype": "f8"
         },
         "yaxis": "y"
        },
        {
         "hovertemplate": "Region=Sikkim<br>Date=%{x}<br>EstimatedUnemploymentRate(%)=%{y}<extra></extra>",
         "legendgroup": "Sikkim",
         "line": {
          "color": "#636efa",
          "dash": "solid"
         },
         "marker": {
          "symbol": "circle"
         },
         "mode": "lines",
         "name": "Sikkim",
         "showlegend": true,
         "type": "scattergl",
         "x": [
          "2019-10-31T00:00:00.000000000",
          "2019-11-30T00:00:00.000000000",
          "2019-12-31T00:00:00.000000000",
          "2020-04-30T00:00:00.000000000",
          "2020-06-30T00:00:00.000000000",
          "2019-05-31T00:00:00.000000000",
          "2019-06-30T00:00:00.000000000",
          "2019-07-31T00:00:00.000000000",
          "2019-08-31T00:00:00.000000000",
          "2019-09-30T00:00:00.000000000",
          "2019-10-31T00:00:00.000000000",
          "2019-11-30T00:00:00.000000000",
          "2019-12-31T00:00:00.000000000",
          "2020-03-31T00:00:00.000000000",
          "2020-04-30T00:00:00.000000000",
          "2020-05-31T00:00:00.000000000",
          "2020-06-30T00:00:00.000000000",
          "2020-03-31T00:00:00.000000000",
          "2020-04-30T00:00:00.000000000",
          "2020-05-31T00:00:00.000000000",
          "2020-06-30T00:00:00.000000000",
          "2020-07-31T00:00:00.000000000",
          "2020-08-31T00:00:00.000000000",
          "2020-09-30T00:00:00.000000000",
          "2020-10-31T00:00:00.000000000"
         ],
         "xaxis": "x",
         "y": {
          "bdata": "7FG4HoXrFUC4HoXrUTgqQAAAAAAAAPA/AAAAAAAAAAA9CtejcD0XQGZmZmZmZiBACtejcD0KH0B7FK5H4XoEQEjhehSuRxNAPQrXo3A9E0Bcj8L1KFwjQClcj8L1KBBAexSuR+F6HUAzMzMzM3M0QBSuR+F6FBdAAAAAAADAM0AK16NwPQoFQFK4HoXrkTdAPQrXo3A9AkDD9Shcj4I4QNejcD0K1xFAzczMzMzMEUB7FK5H4fooQM3MzMzMzBZAKVyPwvUo7D8=",
          "dtype": "f8"
         },
         "yaxis": "y"
        },
        {
         "hovertemplate": "Region=Tamil Nadu<br>Date=%{x}<br>EstimatedUnemploymentRate(%)=%{y}<extra></extra>",
         "legendgroup": "Tamil Nadu",
         "line": {
          "color": "#EF553B",
          "dash": "solid"
         },
         "marker": {
          "symbol": "circle"
         },
         "mode": "lines",
         "name": "Tamil Nadu",
         "showlegend": true,
         "type": "scattergl",
         "x": [
          "2019-05-31T00:00:00.000000000",
          "2019-06-30T00:00:00.000000000",
          "2019-07-31T00:00:00.000000000",
          "2019-08-31T00:00:00.000000000",
          "2019-09-30T00:00:00.000000000",
          "2019-10-31T00:00:00.000000000",
          "2019-11-30T00:00:00.000000000",
          "2019-12-31T00:00:00.000000000",
          "2020-01-31T00:00:00.000000000",
          "2020-02-29T00:00:00.000000000",
          "2020-03-31T00:00:00.000000000",
          "2020-04-30T00:00:00.000000000",
          "2020-05-31T00:00:00.000000000",
          "2020-06-30T00:00:00.000000000",
          "2019-05-31T00:00:00.000000000",
          "2019-06-30T00:00:00.000000000",
          "2019-07-31T00:00:00.000000000",
          "2019-08-31T00:00:00.000000000",
          "2019-09-30T00:00:00.000000000",
          "2019-10-31T00:00:00.000000000",
          "2019-11-30T00:00:00.000000000",
          "2019-12-31T00:00:00.000000000",
          "2020-01-31T00:00:00.000000000",
          "2020-02-29T00:00:00.000000000",
          "2020-03-31T00:00:00.000000000",
          "2020-04-30T00:00:00.000000000",
          "2020-05-31T00:00:00.000000000",
          "2020-06-30T00:00:00.000000000",
          "2020-01-31T00:00:00.000000000",
          "2020-02-29T00:00:00.000000000",
          "2020-03-31T00:00:00.000000000",
          "2020-04-30T00:00:00.000000000",
          "2020-05-31T00:00:00.000000000",
          "2020-06-30T00:00:00.000000000",
          "2020-07-31T00:00:00.000000000",
          "2020-08-31T00:00:00.000000000",
          "2020-09-30T00:00:00.000000000",
          "2020-10-31T00:00:00.000000000"
         ],
         "xaxis": "x",
         "y": {
          "bdata": "CtejcD0K7z9xPQrXo3DtPwrXo3A9ChhASOF6FK5HB0Bcj8L1KFz7P1yPwvUoXPc/rkfhehSuA0DXo3A9CtcNQOF6FK5H4fI/uB6F61G48j9xPQrXo3AZQLgehetRmEpAPQrXo3BdQ0B7FK5H4XoAQHsUrkfheuw/9ihcj8L1+D9xPQrXo3AJQI/C9ShcDyNAw/UoXI/C/T8UrkfhehTyPzMzMzMzMwVAmpmZmZkZIEBmZmZmZmYAQHsUrkfhegpA16NwPQrXGUBmZmZmZsZGQDMzMzMz8zlArkfhehTuOEAfhetRuB75P7gehetRuABAmpmZmZmZGUAK16NwPepIQBSuR+F6lEBAZmZmZmZmKEA9CtejcD0bQDMzMzMzMwVAAAAAAAAAFEBI4XoUrkcBQA==",
          "dtype": "f8"
         },
         "yaxis": "y"
        },
        {
         "hovertemplate": "Region=Telangana<br>Date=%{x}<br>EstimatedUnemploymentRate(%)=%{y}<extra></extra>",
         "legendgroup": "Telangana",
         "line": {
          "color": "#00cc96",
          "dash": "solid"
         },
         "marker": {
          "symbol": "circle"
         },
         "mode": "lines",
         "name": "Telangana",
         "showlegend": true,
         "type": "scattergl",
         "x": [
          "2019-05-31T00:00:00.000000000",
          "2019-06-30T00:00:00.000000000",
          "2019-07-31T00:00:00.000000000",
          "2019-08-31T00:00:00.000000000",
          "2019-09-30T00:00:00.000000000",
          "2019-10-31T00:00:00.000000000",
          "2019-11-30T00:00:00.000000000",
          "2019-12-31T00:00:00.000000000",
          "2020-01-31T00:00:00.000000000",
          "2020-02-29T00:00:00.000000000",
          "2020-03-31T00:00:00.000000000",
          "2020-04-30T00:00:00.000000000",
          "2020-05-31T00:00:00.000000000",
          "2020-06-30T00:00:00.000000000",
          "2019-05-31T00:00:00.000000000",
          "2019-06-30T00:00:00.000000000",
          "2019-07-31T00:00:00.000000000",
          "2019-08-31T00:00:00.000000000",
          "2019-09-30T00:00:00.000000000",
          "2019-10-31T00:00:00.000000000",
          "2019-11-30T00:00:00.000000000",
          "2019-12-31T00:00:00.000000000",
          "2020-01-31T00:00:00.000000000",
          "2020-02-29T00:00:00.000000000",
          "2020-03-31T00:00:00.000000000",
          "2020-04-30T00:00:00.000000000",
          "2020-05-31T00:00:00.000000000",
          "2020-06-30T00:00:00.000000000",
          "2020-01-31T00:00:00.000000000",
          "2020-02-29T00:00:00.000000000",
          "2020-03-31T00:00:00.000000000",
          "2020-04-30T00:00:00.000000000",
          "2020-05-31T00:00:00.000000000",
          "2020-06-30T00:00:00.000000000",
          "2020-07-31T00:00:00.000000000",
          "2020-08-31T00:00:00.000000000",
          "2020-09-30T00:00:00.000000000",
          "2020-10-31T00:00:00.000000000"
         ],
         "xaxis": "x",
         "y": {
          "bdata": "16NwPQrXAUCuR+F6FK4XQJqZmZmZmQNAZmZmZmZm9j/2KFyPwvUVQClcj8L1KB1A4XoUrkfhGUCamZmZmZn1PxSuR+F6FBRACtejcD0KIkCF61G4HoUWQArXo3A9ChJA4XoUrkcBQUDNzMzMzEwzQFK4HoXrUfg/4XoUrkfh9j/Xo3A9CtcNQMP1KFyPwhBAw/UoXI/CGED2KFyPwvUaQOxRuB6F6xRA4XoUrkfhEED2KFyPwvUZQPYoXI/C9RpAZmZmZmZmGEAAAAAAAAAlQClcj8L1SEJArkfhehSuG0D2KFyPwvUVQBSuR+F6lCBAFK5H4XoUF0AAAAAAAAAZQGZmZmZmZi1AmpmZmZkZJUBxPQrXo3AVQClcj8L1KBdAKVyPwvUoCkDhehSuR+EGQA==",
          "dtype": "f8"
         },
         "yaxis": "y"
        },
        {
         "hovertemplate": "Region=Tripura<br>Date=%{x}<br>EstimatedUnemploymentRate(%)=%{y}<extra></extra>",
         "legendgroup": "Tripura",
         "line": {
          "color": "#ab63fa",
          "dash": "solid"
         },
         "marker": {
          "symbol": "circle"
         },
         "mode": "lines",
         "name": "Tripura",
         "showlegend": true,
         "type": "scattergl",
         "x": [
          "2019-05-31T00:00:00.000000000",
          "2019-06-30T00:00:00.000000000",
          "2019-07-31T00:00:00.000000000",
          "2019-08-31T00:00:00.000000000",
          "2019-09-30T00:00:00.000000000",
          "2019-10-31T00:00:00.000000000",
          "2019-11-30T00:00:00.000000000",
          "2019-12-31T00:00:00.000000000",
          "2020-01-31T00:00:00.000000000",
          "2020-02-29T00:00:00.000000000",
          "2020-03-31T00:00:00.000000000",
          "2020-04-30T00:00:00.000000000",
          "2020-05-31T00:00:00.000000000",
          "2020-06-30T00:00:00.000000000",
          "2019-05-31T00:00:00.000000000",
          "2019-06-30T00:00:00.000000000",
          "2019-07-31T00:00:00.000000000",
          "2019-08-31T00:00:00.000000000",
          "2019-09-30T00:00:00.000000000",
          "2019-10-31T00:00:00.000000000",
          "2019-11-30T00:00:00.000000000",
          "2019-12-31T00:00:00.000000000",
          "2020-01-31T00:00:00.000000000",
          "2020-02-29T00:00:00.000000000",
          "2020-03-31T00:00:00.000000000",
          "2020-04-30T00:00:00.000000000",
          "2020-05-31T00:00:00.000000000",
          "2020-06-30T00:00:00.000000000",
          "2020-01-31T00:00:00.000000000",
          "2020-02-29T00:00:00.000000000",
          "2020-03-31T00:00:00.000000000",
          "2020-04-30T00:00:00.000000000",
          "2020-05-31T00:00:00.000000000",
          "2020-06-30T00:00:00.000000000",
          "2020-07-31T00:00:00.000000000",
          "2020-08-31T00:00:00.000000000",
          "2020-09-30T00:00:00.000000000",
          "2020-10-31T00:00:00.000000000"
         ],
         "xaxis": "x",
         "y": {
          "bdata": "AAAAAABAPUCkcD0K16M6QLgehetReDZAPQrXo3B9OUB7FK5H4To+QArXo3A9ijtAAAAAAABAOUBI4XoUroc6QClcj8L16D9AuB6F61E4OkBcj8L1KJw/QFK4HoXr0UVA7FG4HoVrLUDXo3A9CtcyQLgehetRWEFA16NwPQqXOUCPwvUoXM85QJqZmZmZuUBAKVyPwvXIQEDsUbgehas6QGZmZmZmJjtAPQrXo3C9QECPwvUoXC9BQHE9Ctej8EBAcT0K16OwOUBxPQrXo3BBQEjhehSuxzBAuB6F61F4O0D2KFyPwlVAQGZmZmZmZjxAMzMzMzPzPUA9CtejcJ1EQMP1KFyPgjVA9ihcj8K1NUA9CtejcD0yQOxRuB6F6ztAmpmZmZlZMUCkcD0K1yMnQA==",
          "dtype": "f8"
         },
         "yaxis": "y"
        },
        {
         "hovertemplate": "Region=Uttar Pradesh<br>Date=%{x}<br>EstimatedUnemploymentRate(%)=%{y}<extra></extra>",
         "legendgroup": "Uttar Pradesh",
         "line": {
          "color": "#FFA15A",
          "dash": "solid"
         },
         "marker": {
          "symbol": "circle"
         },
         "mode": "lines",
         "name": "Uttar Pradesh",
         "showlegend": true,
         "type": "scattergl",
         "x": [
          "2019-05-31T00:00:00.000000000",
          "2019-06-30T00:00:00.000000000",
          "2019-07-31T00:00:00.000000000",
          "2019-08-31T00:00:00.000000000",
          "2019-09-30T00:00:00.000000000",
          "2019-10-31T00:00:00.000000000",
          "2019-11-30T00:00:00.000000000",
          "2019-12-31T00:00:00.000000000",
          "2020-01-31T00:00:00.000000000",
          "2020-02-29T00:00:00.000000000",
          "2020-03-31T00:00:00.000000000",
          "2020-04-30T00:00:00.000000000",
          "2020-05-31T00:00:00.000000000",
          "2020-06-30T00:00:00.000000000",
          "2019-05-31T00:00:00.000000000",
          "2019-06-30T00:00:00.000000000",
          "2019-07-31T00:00:00.000000000",
          "2019-08-31T00:00:00.000000000",
          "2019-09-30T00:00:00.000000000",
          "2019-10-31T00:00:00.000000000",
          "2019-11-30T00:00:00.000000000",
          "2019-12-31T00:00:00.000000000",
          "2020-01-31T00:00:00.000000000",
          "2020-02-29T00:00:00.000000000",
          "2020-03-31T00:00:00.000000000",
          "2020-04-30T00:00:00.000000000",
          "2020-05-31T00:00:00.000000000",
          "2020-06-30T00:00:00.000000000",
          "2020-01-31T00:00:00.000000000",
          "2020-02-29T00:00:00.000000000",
          "2020-03-31T00:00:00.000000000",
          "2020-04-30T00:00:00.000000000",
          "2020-05-31T00:00:00.000000000",
          "2020-06-30T00:00:00.000000000",
          "2020-07-31T00:00:00.000000000",
          "2020-08-31T00:00:00.000000000",
          "2020-09-30T00:00:00.000000000",
          "2020-10-31T00:00:00.000000000"
         ],
         "xaxis": "x",
         "y": {
          "bdata": "hetRuB6FJEDD9Shcj0ImQOF6FK5HYSJAcT0K16PwJkDNzMzMzMwZQFyPwvUoXCRAw/UoXI/CG0Bcj8L1KNwgQD0K16NwPRhAPQrXo3A9IEA9CtejcL0iQOxRuB6F6zNApHA9CtfjMECF61G4HgUhQM3MzMzMzCxAPQrXo3A9J0CamZmZmZknQPYoXI/CdS1AKVyPwvUoK0AzMzMzM7MkQB+F61G4niZAPQrXo3C9KECuR+F6FK4oQM3MzMzMTCdApHA9CtejKEBxPQrXo/A6QEjhehSuB0BAmpmZmZkZKkBSuB6F61EeQPYoXI/C9SFAuB6F61E4JEAK16NwPYo1QClcj8L1aDRAcT0K16PwIkA9CtejcD0WQClcj8L1KBdAuB6F61G4EEAAAAAAAAAOQA==",
          "dtype": "f8"
         },
         "yaxis": "y"
        },
        {
         "hovertemplate": "Region=Uttarakhand<br>Date=%{x}<br>EstimatedUnemploymentRate(%)=%{y}<extra></extra>",
         "legendgroup": "Uttarakhand",
         "line": {
          "color": "#19d3f3",
          "dash": "solid"
         },
         "marker": {
          "symbol": "circle"
         },
         "mode": "lines",
         "name": "Uttarakhand",
         "showlegend": true,
         "type": "scattergl",
         "x": [
          "2019-05-31T00:00:00.000000000",
          "2019-06-30T00:00:00.000000000",
          "2019-07-31T00:00:00.000000000",
          "2019-08-31T00:00:00.000000000",
          "2019-09-30T00:00:00.000000000",
          "2019-10-31T00:00:00.000000000",
          "2019-11-30T00:00:00.000000000",
          "2019-12-31T00:00:00.000000000",
          "2020-01-31T00:00:00.000000000",
          "2020-02-29T00:00:00.000000000",
          "2020-04-30T00:00:00.000000000",
          "2020-05-31T00:00:00.000000000",
          "2020-06-30T00:00:00.000000000",
          "2019-05-31T00:00:00.000000000",
          "2019-06-30T00:00:00.000000000",
          "2019-07-31T00:00:00.000000000",
          "2019-08-31T00:00:00.000000000",
          "2019-09-30T00:00:00.000000000",
          "2019-10-31T00:00:00.000000000",
          "2019-11-30T00:00:00.000000000",
          "2019-12-31T00:00:00.000000000",
          "2020-01-31T00:00:00.000000000",
          "2020-02-29T00:00:00.000000000",
          "2020-03-31T00:00:00.000000000",
          "2020-04-30T00:00:00.000000000",
          "2020-05-31T00:00:00.000000000",
          "2020-06-30T00:00:00.000000000",
          "2020-01-31T00:00:00.000000000",
          "2020-02-29T00:00:00.000000000",
          "2020-03-31T00:00:00.000000000",
          "2020-04-30T00:00:00.000000000",
          "2020-05-31T00:00:00.000000000",
          "2020-06-30T00:00:00.000000000",
          "2020-07-31T00:00:00.000000000",
          "2020-08-31T00:00:00.000000000",
          "2020-09-30T00:00:00.000000000",
          "2020-10-31T00:00:00.000000000"
         ],
         "xaxis": "x",
         "y": {
          "bdata": "FK5H4XoU+j+amZmZmZkSQPYoXI/C9RZAcT0K16NwGEDD9Shcj8ILQFK4HoXrURNAPQrXo3A9FkAUrkfhehQSQK5H4XoUrhBAZmZmZmZmE0BI4XoUrkcNQI/C9ShcjwxA7FG4HoVrJUDXo3A9ClciQMP1KFyPwhJAw/UoXI/CG0C4HoXrUbgdQD0K16NwPSNA4XoUrkfhEkBcj8L1KFwZQI/C9Shcjx1A16NwPQrXIUAfhetRuB4VQM3MzMzMTCBAXI/C9ShcKkBcj8L1KFwxQFK4HoXrURRA9ihcj8L1FUD2KFyPwvUTQJqZmZmZ2TNA7FG4HoXrGUCF61G4HgUgQLgehetROCFAw/UoXI/CKECF61G4HoUsQMP1KFyPQjZA9ihcj8J1IkA=",
          "dtype": "f8"
         },
         "yaxis": "y"
        },
        {
         "hovertemplate": "Region=West Bengal<br>Date=%{x}<br>EstimatedUnemploymentRate(%)=%{y}<extra></extra>",
         "legendgroup": "West Bengal",
         "line": {
          "color": "#FF6692",
          "dash": "solid"
         },
         "marker": {
          "symbol": "circle"
         },
         "mode": "lines",
         "name": "West Bengal",
         "showlegend": true,
         "type": "scattergl",
         "x": [
          "2019-05-31T00:00:00.000000000",
          "2019-06-30T00:00:00.000000000",
          "2019-07-31T00:00:00.000000000",
          "2019-08-31T00:00:00.000000000",
          "2019-09-30T00:00:00.000000000",
          "2019-10-31T00:00:00.000000000",
          "2019-11-30T00:00:00.000000000",
          "2019-12-31T00:00:00.000000000",
          "2020-01-31T00:00:00.000000000",
          "2020-02-29T00:00:00.000000000",
          "2020-03-31T00:00:00.000000000",
          "2020-04-30T00:00:00.000000000",
          "2020-05-31T00:00:00.000000000",
          "2020-06-30T00:00:00.000000000",
          "2019-05-31T00:00:00.000000000",
          "2019-06-30T00:00:00.000000000",
          "2019-07-31T00:00:00.000000000",
          "2019-08-31T00:00:00.000000000",
          "2019-09-30T00:00:00.000000000",
          "2019-10-31T00:00:00.000000000",
          "2019-11-30T00:00:00.000000000",
          "2019-12-31T00:00:00.000000000",
          "2020-01-31T00:00:00.000000000",
          "2020-02-29T00:00:00.000000000",
          "2020-03-31T00:00:00.000000000",
          "2020-04-30T00:00:00.000000000",
          "2020-05-31T00:00:00.000000000",
          "2020-06-30T00:00:00.000000000",
          "2020-01-31T00:00:00.000000000",
          "2020-02-29T00:00:00.000000000",
          "2020-03-31T00:00:00.000000000",
          "2020-04-30T00:00:00.000000000",
          "2020-05-31T00:00:00.000000000",
          "2020-06-30T00:00:00.000000000",
          "2020-07-31T00:00:00.000000000",
          "2020-08-31T00:00:00.000000000",
          "2020-09-30T00:00:00.000000000",
          "2020-10-31T00:00:00.000000000"
         ],
         "xaxis": "x",
         "y": {
          "bdata": "FK5H4XoUGEBmZmZmZmYXQHsUrkfhehZAUrgehetRFkAK16NwPQoVQB+F61G4HhtAUrgehetRF0ApXI/C9SgXQClcj8L1KBtAPQrXo3A9DkAUrkfhehQcQFK4HoXrUTJArkfhehRuMkDD9Shcj8ITQAAAAAAAAB1AhetRuB6FHUCkcD0K16MfQBSuR+F6FB1AKVyPwvUoH0BSuB6F61EfQHE9CtejcBpA9ihcj8L1HEAUrkfhehQdQDMzMzMzMx5ArkfhehSuGkDD9Shcj0IvQHE9CtejcC5AuB6F61G4I0DD9Shcj8IbQK5H4XoUrhNArkfhehSuG0ApXI/C9WgxQClcj8L1aDFAKVyPwvUoHUBSuB6F61EbQD0K16NwvS1AMzMzMzOzIkD2KFyPwvUjQA==",
          "dtype": "f8"
         },
         "yaxis": "y"
        },
        {
         "hovertemplate": "Region=Chandigarh<br>Date=%{x}<br>EstimatedUnemploymentRate(%)=%{y}<extra></extra>",
         "legendgroup": "Chandigarh",
         "line": {
          "color": "#B6E880",
          "dash": "solid"
         },
         "marker": {
          "symbol": "circle"
         },
         "mode": "lines",
         "name": "Chandigarh",
         "showlegend": true,
         "type": "scattergl",
         "x": [
          "2019-05-31T00:00:00.000000000",
          "2019-06-30T00:00:00.000000000",
          "2019-07-31T00:00:00.000000000",
          "2019-08-31T00:00:00.000000000",
          "2019-09-30T00:00:00.000000000",
          "2019-10-31T00:00:00.000000000",
          "2019-11-30T00:00:00.000000000",
          "2019-12-31T00:00:00.000000000",
          "2020-01-31T00:00:00.000000000",
          "2020-02-29T00:00:00.000000000",
          "2020-03-31T00:00:00.000000000",
          "2020-06-30T00:00:00.000000000"
         ],
         "xaxis": "x",
         "y": {
          "bdata": "mpmZmZlZMkDNzMzMzMwoQM3MzMzMzDVACtejcD0KI0CkcD0K1yM0QHsUrkfh+itAzczMzMwMNkApXI/C9aggQAAAAAAAADRA7FG4HoWrMECuR+F6FG41QOF6FK5H4RxA",
          "dtype": "f8"
         },
         "yaxis": "y"
        }
       ],
       "layout": {
        "legend": {
         "title": {
          "text": "Region"
         },
         "tracegroupgap": 0
        },
        "template": {
         "data": {
          "bar": [
           {
            "error_x": {
             "color": "#2a3f5f"
            },
            "error_y": {
             "color": "#2a3f5f"
            },
            "marker": {
             "line": {
              "color": "#E5ECF6",
              "width": 0.5
             },
             "pattern": {
              "fillmode": "overlay",
              "size": 10,
              "solidity": 0.2
             }
            },
            "type": "bar"
           }
          ],
          "barpolar": [
           {
            "marker": {
             "line": {
              "color": "#E5ECF6",
              "width": 0.5
             },
             "pattern": {
              "fillmode": "overlay",
              "size": 10,
              "solidity": 0.2
             }
            },
            "type": "barpolar"
           }
          ],
          "carpet": [
           {
            "aaxis": {
             "endlinecolor": "#2a3f5f",
             "gridcolor": "white",
             "linecolor": "white",
             "minorgridcolor": "white",
             "startlinecolor": "#2a3f5f"
            },
            "baxis": {
             "endlinecolor": "#2a3f5f",
             "gridcolor": "white",
             "linecolor": "white",
             "minorgridcolor": "white",
             "startlinecolor": "#2a3f5f"
            },
            "type": "carpet"
           }
          ],
          "choropleth": [
           {
            "colorbar": {
             "outlinewidth": 0,
             "ticks": ""
            },
            "type": "choropleth"
           }
          ],
          "contour": [
           {
            "colorbar": {
             "outlinewidth": 0,
             "ticks": ""
            },
            "colorscale": [
             [
              0,
              "#0d0887"
             ],
             [
              0.1111111111111111,
              "#46039f"
             ],
             [
              0.2222222222222222,
              "#7201a8"
             ],
             [
              0.3333333333333333,
              "#9c179e"
             ],
             [
              0.4444444444444444,
              "#bd3786"
             ],
             [
              0.5555555555555556,
              "#d8576b"
             ],
             [
              0.6666666666666666,
              "#ed7953"
             ],
             [
              0.7777777777777778,
              "#fb9f3a"
             ],
             [
              0.8888888888888888,
              "#fdca26"
             ],
             [
              1,
              "#f0f921"
             ]
            ],
            "type": "contour"
           }
          ],
          "contourcarpet": [
           {
            "colorbar": {
             "outlinewidth": 0,
             "ticks": ""
            },
            "type": "contourcarpet"
           }
          ],
          "heatmap": [
           {
            "colorbar": {
             "outlinewidth": 0,
             "ticks": ""
            },
            "colorscale": [
             [
              0,
              "#0d0887"
             ],
             [
              0.1111111111111111,
              "#46039f"
             ],
             [
              0.2222222222222222,
              "#7201a8"
             ],
             [
              0.3333333333333333,
              "#9c179e"
             ],
             [
              0.4444444444444444,
              "#bd3786"
             ],
             [
              0.5555555555555556,
              "#d8576b"
             ],
             [
              0.6666666666666666,
              "#ed7953"
             ],
             [
              0.7777777777777778,
              "#fb9f3a"
             ],
             [
              0.8888888888888888,
              "#fdca26"
             ],
             [
              1,
              "#f0f921"
             ]
            ],
            "type": "heatmap"
           }
          ],
          "histogram": [
           {
            "marker": {
             "pattern": {
              "fillmode": "overlay",
              "size": 10,
              "solidity": 0.2
             }
            },
            "type": "histogram"
           }
          ],
          "histogram2d": [
           {
            "colorbar": {
             "outlinewidth": 0,
             "ticks": ""
            },
            "colorscale": [
             [
              0,
              "#0d0887"
             ],
             [
              0.1111111111111111,
              "#46039f"
             ],
             [
              0.2222222222222222,
              "#7201a8"
             ],
             [
              0.3333333333333333,
              "#9c179e"
             ],
             [
              0.4444444444444444,
              "#bd3786"
             ],
             [
              0.5555555555555556,
              "#d8576b"
             ],
             [
              0.6666666666666666,
              "#ed7953"
             ],
             [
              0.7777777777777778,
              "#fb9f3a"
             ],
             [
              0.8888888888888888,
              "#fdca26"
             ],
             [
              1,
              "#f0f921"
             ]
            ],
            "type": "histogram2d"
           }
          ],
          "histogram2dcontour": [
           {
            "colorbar": {
             "outlinewidth": 0,
             "ticks": ""
            },
            "colorscale": [
             [
              0,
              "#0d0887"
             ],
             [
              0.1111111111111111,
              "#46039f"
             ],
             [
              0.2222222222222222,
              "#7201a8"
             ],
             [
              0.3333333333333333,
              "#9c179e"
             ],
             [
              0.4444444444444444,
              "#bd3786"
             ],
             [
              0.5555555555555556,
              "#d8576b"
             ],
             [
              0.6666666666666666,
              "#ed7953"
             ],
             [
              0.7777777777777778,
              "#fb9f3a"
             ],
             [
              0.8888888888888888,
              "#fdca26"
             ],
             [
              1,
              "#f0f921"
             ]
            ],
            "type": "histogram2dcontour"
           }
          ],
          "mesh3d": [
           {
            "colorbar": {
             "outlinewidth": 0,
             "ticks": ""
            },
            "type": "mesh3d"
           }
          ],
          "parcoords": [
           {
            "line": {
             "colorbar": {
              "outlinewidth": 0,
              "ticks": ""
             }
            },
            "type": "parcoords"
           }
          ],
          "pie": [
           {
            "automargin": true,
            "type": "pie"
           }
          ],
          "scatter": [
           {
            "fillpattern": {
             "fillmode": "overlay",
             "size": 10,
             "solidity": 0.2
            },
            "type": "scatter"
           }
          ],
          "scatter3d": [
           {
            "line": {
             "colorbar": {
              "outlinewidth": 0,
              "ticks": ""
             }
            },
            "marker": {
             "colorbar": {
              "outlinewidth": 0,
              "ticks": ""
             }
            },
            "type": "scatter3d"
           }
          ],
          "scattercarpet": [
           {
            "marker": {
             "colorbar": {
              "outlinewidth": 0,
              "ticks": ""
             }
            },
            "type": "scattercarpet"
           }
          ],
          "scattergeo": [
           {
            "marker": {
             "colorbar": {
              "outlinewidth": 0,
              "ticks": ""
             }
            },
            "type": "scattergeo"
           }
          ],
          "scattergl": [
           {
            "marker": {
             "colorbar": {
              "outlinewidth": 0,
              "ticks": ""
             }
            },
            "type": "scattergl"
           }
          ],
          "scattermap": [
           {
            "marker": {
             "colorbar": {
              "outlinewidth": 0,
              "ticks": ""
             }
            },
            "type": "scattermap"
           }
          ],
          "scattermapbox": [
           {
            "marker": {
             "colorbar": {
              "outlinewidth": 0,
              "ticks": ""
             }
            },
            "type": "scattermapbox"
           }
          ],
          "scatterpolar": [
           {
            "marker": {
             "colorbar": {
              "outlinewidth": 0,
              "ticks": ""
             }
            },
            "type": "scatterpolar"
           }
          ],
          "scatterpolargl": [
           {
            "marker": {
             "colorbar": {
              "outlinewidth": 0,
              "ticks": ""
             }
            },
            "type": "scatterpolargl"
           }
          ],
          "scatterternary": [
           {
            "marker": {
             "colorbar": {
              "outlinewidth": 0,
              "ticks": ""
             }
            },
            "type": "scatterternary"
           }
          ],
          "surface": [
           {
            "colorbar": {
             "outlinewidth": 0,
             "ticks": ""
            },
            "colorscale": [
             [
              0,
              "#0d0887"
             ],
             [
              0.1111111111111111,
              "#46039f"
             ],
             [
              0.2222222222222222,
              "#7201a8"
             ],
             [
              0.3333333333333333,
              "#9c179e"
             ],
             [
              0.4444444444444444,
              "#bd3786"
             ],
             [
              0.5555555555555556,
              "#d8576b"
             ],
             [
              0.6666666666666666,
              "#ed7953"
             ],
             [
              0.7777777777777778,
              "#fb9f3a"
             ],
             [
              0.8888888888888888,
              "#fdca26"
             ],
             [
              1,
              "#f0f921"
             ]
            ],
            "type": "surface"
           }
          ],
          "table": [
           {
            "cells": {
             "fill": {
              "color": "#EBF0F8"
             },
             "line": {
              "color": "white"
             }
            },
            "header": {
             "fill": {
              "color": "#C8D4E3"
             },
             "line": {
              "color": "white"
             }
            },
            "type": "table"
           }
          ]
         },
         "layout": {
          "annotationdefaults": {
           "arrowcolor": "#2a3f5f",
           "arrowhead": 0,
           "arrowwidth": 1
          },
          "autotypenumbers": "strict",
          "coloraxis": {
           "colorbar": {
            "outlinewidth": 0,
            "ticks": ""
           }
          },
          "colorscale": {
           "diverging": [
            [
             0,
             "#8e0152"
            ],
            [
             0.1,
             "#c51b7d"
            ],
            [
             0.2,
             "#de77ae"
            ],
            [
             0.3,
             "#f1b6da"
            ],
            [
             0.4,
             "#fde0ef"
            ],
            [
             0.5,
             "#f7f7f7"
            ],
            [
             0.6,
             "#e6f5d0"
            ],
            [
             0.7,
             "#b8e186"
            ],
            [
             0.8,
             "#7fbc41"
            ],
            [
             0.9,
             "#4d9221"
            ],
            [
             1,
             "#276419"
            ]
           ],
           "sequential": [
            [
             0,
             "#0d0887"
            ],
            [
             0.1111111111111111,
             "#46039f"
            ],
            [
             0.2222222222222222,
             "#7201a8"
            ],
            [
             0.3333333333333333,
             "#9c179e"
            ],
            [
             0.4444444444444444,
             "#bd3786"
            ],
            [
             0.5555555555555556,
             "#d8576b"
            ],
            [
             0.6666666666666666,
             "#ed7953"
            ],
            [
             0.7777777777777778,
             "#fb9f3a"
            ],
            [
             0.8888888888888888,
             "#fdca26"
            ],
            [
             1,
             "#f0f921"
            ]
           ],
           "sequentialminus": [
            [
             0,
             "#0d0887"
            ],
            [
             0.1111111111111111,
             "#46039f"
            ],
            [
             0.2222222222222222,
             "#7201a8"
            ],
            [
             0.3333333333333333,
             "#9c179e"
            ],
            [
             0.4444444444444444,
             "#bd3786"
            ],
            [
             0.5555555555555556,
             "#d8576b"
            ],
            [
             0.6666666666666666,
             "#ed7953"
            ],
            [
             0.7777777777777778,
             "#fb9f3a"
            ],
            [
             0.8888888888888888,
             "#fdca26"
            ],
            [
             1,
             "#f0f921"
            ]
           ]
          },
          "colorway": [
           "#636efa",
           "#EF553B",
           "#00cc96",
           "#ab63fa",
           "#FFA15A",
           "#19d3f3",
           "#FF6692",
           "#B6E880",
           "#FF97FF",
           "#FECB52"
          ],
          "font": {
           "color": "#2a3f5f"
          },
          "geo": {
           "bgcolor": "white",
           "lakecolor": "white",
           "landcolor": "#E5ECF6",
           "showlakes": true,
           "showland": true,
           "subunitcolor": "white"
          },
          "hoverlabel": {
           "align": "left"
          },
          "hovermode": "closest",
          "mapbox": {
           "style": "light"
          },
          "paper_bgcolor": "white",
          "plot_bgcolor": "#E5ECF6",
          "polar": {
           "angularaxis": {
            "gridcolor": "white",
            "linecolor": "white",
            "ticks": ""
           },
           "bgcolor": "#E5ECF6",
           "radialaxis": {
            "gridcolor": "white",
            "linecolor": "white",
            "ticks": ""
           }
          },
          "scene": {
           "xaxis": {
            "backgroundcolor": "#E5ECF6",
            "gridcolor": "white",
            "gridwidth": 2,
            "linecolor": "white",
            "showbackground": true,
            "ticks": "",
            "zerolinecolor": "white"
           },
           "yaxis": {
            "backgroundcolor": "#E5ECF6",
            "gridcolor": "white",
            "gridwidth": 2,
            "linecolor": "white",
            "showbackground": true,
            "ticks": "",
            "zerolinecolor": "white"
           },
           "zaxis": {
            "backgroundcolor": "#E5ECF6",
            "gridcolor": "white",
            "gridwidth": 2,
            "linecolor": "white",
            "showbackground": true,
            "ticks": "",
            "zerolinecolor": "white"
           }
          },
          "shapedefaults": {
           "line": {
            "color": "#2a3f5f"
           }
          },
          "ternary": {
           "aaxis": {
            "gridcolor": "white",
            "linecolor": "white",
            "ticks": ""
           },
           "baxis": {
            "gridcolor": "white",
            "linecolor": "white",
            "ticks": ""
           },
           "bgcolor": "#E5ECF6",
           "caxis": {
            "gridcolor": "white",
            "linecolor": "white",
            "ticks": ""
           }
          },
          "title": {
           "x": 0.05
          },
          "xaxis": {
           "automargin": true,
           "gridcolor": "white",
           "linecolor": "white",
           "ticks": "",
           "title": {
            "standoff": 15
           },
           "zerolinecolor": "white",
           "zerolinewidth": 2
          },
          "yaxis": {
           "automargin": true,
           "gridcolor": "white",
           "linecolor": "white",
           "ticks": "",
           "title": {
            "standoff": 15
           },
           "zerolinecolor": "white",
           "zerolinewidth": 2
          }
         }
        },
        "title": {
         "text": "Unemployment Rate Over Time"
        },
        "xaxis": {
         "anchor": "y",
         "domain": [
          0,
          1
         ],
         "title": {
          "text": "Date"
         }
        },
        "yaxis": {
         "anchor": "x",
         "domain": [
          0,
          1
         ],
         "title": {
          "text": "EstimatedUnemploymentRate(%)"
         }
        }
       }
      }
     },
     "metadata": {},
     "output_type": "display_data"
    }
   ],
   "source": [
    "# Unemployment Rate Over Time\n",
    "fig = px.colors.qualitative.swatches()\n",
    "fig = px.line(df, x='Date', y='EstimatedUnemploymentRate(%)', color='Region', title='Unemployment Rate Over Time', )\n",
    "fig.show()"
   ]
  },
  {
   "cell_type": "code",
   "execution_count": 14,
   "metadata": {},
   "outputs": [
    {
     "data": {
      "application/vnd.plotly.v1+json": {
       "config": {
        "plotlyServerURL": "https://plot.ly"
       },
       "data": [
        {
         "hovertemplate": "Region=%{x}<br>EstimatedUnemploymentRate(%)=%{y}<extra></extra>",
         "legendgroup": "Andhra Pradesh",
         "marker": {
          "color": "#636efa",
          "pattern": {
           "shape": ""
          }
         },
         "name": "Andhra Pradesh",
         "orientation": "v",
         "showlegend": true,
         "textposition": "auto",
         "type": "bar",
         "x": [
          "Andhra Pradesh",
          "Andhra Pradesh",
          "Andhra Pradesh",
          "Andhra Pradesh",
          "Andhra Pradesh",
          "Andhra Pradesh",
          "Andhra Pradesh",
          "Andhra Pradesh",
          "Andhra Pradesh",
          "Andhra Pradesh",
          "Andhra Pradesh",
          "Andhra Pradesh",
          "Andhra Pradesh",
          "Andhra Pradesh",
          "Andhra Pradesh",
          "Andhra Pradesh",
          "Andhra Pradesh",
          "Andhra Pradesh",
          "Andhra Pradesh",
          "Andhra Pradesh",
          "Andhra Pradesh",
          "Andhra Pradesh",
          "Andhra Pradesh",
          "Andhra Pradesh",
          "Andhra Pradesh",
          "Andhra Pradesh",
          "Andhra Pradesh",
          "Andhra Pradesh",
          "Andhra Pradesh",
          "Andhra Pradesh",
          "Andhra Pradesh",
          "Andhra Pradesh",
          "Andhra Pradesh",
          "Andhra Pradesh",
          "Andhra Pradesh",
          "Andhra Pradesh",
          "Andhra Pradesh",
          "Andhra Pradesh"
         ],
         "xaxis": "x",
         "y": {
          "bdata": "MzMzMzMzDUBmZmZmZmYIQAAAAAAAAA5Aj8L1KFyPCkCuR+F6FK4UQClcj8L1KAxAexSuR+F6EECF61G4HoURQFyPwvUoXBNApHA9CtejF0A9CtejcD0QQArXo3A9SjBA7FG4HoXrLEAzMzMzMzPrP1yPwvUoXBhAZmZmZmZmDkCPwvUoXI8WQHE9CtejcBJACtejcD0KGEDNzMzMzMwSQClcj8L1KB5AhetRuB6FH0BxPQrXo3AcQKRwPQrXoxZAw/UoXI/CI0BmZmZmZiZAQClcj8L16DhAcT0K16NwF0DsUbgehesVQFK4HoXrURdAKVyPwvUoF0DD9Shcj4I0QK5H4XoUbjFAexSuR+F6CkCuR+F6FK4gQNejcD0K1xtAmpmZmZmZGUBcj8L1KFwaQA==",
          "dtype": "f8"
         },
         "yaxis": "y"
        },
        {
         "hovertemplate": "Region=%{x}<br>EstimatedUnemploymentRate(%)=%{y}<extra></extra>",
         "legendgroup": "Assam",
         "marker": {
          "color": "#EF553B",
          "pattern": {
           "shape": ""
          }
         },
         "name": "Assam",
         "orientation": "v",
         "showlegend": true,
         "textposition": "auto",
         "type": "bar",
         "x": [
          "Assam",
          "Assam",
          "Assam",
          "Assam",
          "Assam",
          "Assam",
          "Assam",
          "Assam",
          "Assam",
          "Assam",
          "Assam",
          "Assam",
          "Assam",
          "Assam",
          "Assam",
          "Assam",
          "Assam",
          "Assam",
          "Assam",
          "Assam",
          "Assam",
          "Assam",
          "Assam",
          "Assam",
          "Assam",
          "Assam",
          "Assam",
          "Assam",
          "Assam",
          "Assam",
          "Assam",
          "Assam",
          "Assam",
          "Assam",
          "Assam",
          "Assam"
         ],
         "xaxis": "x",
         "y": {
          "bdata": "KVyPwvUoEUBSuB6F61EUQArXo3A9ChFAKVyPwvUoF0DXo3A9CtcRQJqZmZmZmRJApHA9CtejEkApXI/C9SgRQBSuR+F6FApAKVyPwvUoDkDD9Shcj8IiQAAAAAAAAAAAexSuR+F6H0BI4XoUrscjQK5H4XoUrglASOF6FK7HJECF61G4HoUiQNejcD0KVyZAPQrXo3A9GUAUrkfhehQUQPYoXI/C9RxA9ihcj8L1I0CuR+F6FK4kQD0K16NwvSBACtejcD2KJUBcj8L1KFwLQKRwPQrXoxJApHA9CtejEUAUrkfhehQTQB+F61G4HiZAmpmZmZkZI0AzMzMzMzPjPylcj8L1KA5AH4XrUbgeFkAK16NwPQrzPylcj8L1KAhA",
          "dtype": "f8"
         },
         "yaxis": "y"
        },
        {
         "hovertemplate": "Region=%{x}<br>EstimatedUnemploymentRate(%)=%{y}<extra></extra>",
         "legendgroup": "Bihar",
         "marker": {
          "color": "#00cc96",
          "pattern": {
           "shape": ""
          }
         },
         "name": "Bihar",
         "orientation": "v",
         "showlegend": true,
         "textposition": "auto",
         "type": "bar",
         "x": [
          "Bihar",
          "Bihar",
          "Bihar",
          "Bihar",
          "Bihar",
          "Bihar",
          "Bihar",
          "Bihar",
          "Bihar",
          "Bihar",
          "Bihar",
          "Bihar",
          "Bihar",
          "Bihar",
          "Bihar",
          "Bihar",
          "Bihar",
          "Bihar",
          "Bihar",
          "Bihar",
          "Bihar",
          "Bihar",
          "Bihar",
          "Bihar",
          "Bihar",
          "Bihar",
          "Bihar",
          "Bihar",
          "Bihar",
          "Bihar",
          "Bihar",
          "Bihar",
          "Bihar",
          "Bihar",
          "Bihar",
          "Bihar",
          "Bihar",
          "Bihar"
         ],
         "xaxis": "x",
         "y": {
          "bdata": "CtejcD2KIkBmZmZmZmYkQOF6FK5H4SpAAAAAAAAAJkA9CtejcL0hQHE9Ctej8ChAzczMzMzMKEBSuB6F61EkQMP1KFyPQiJAuB6F61E4I0BI4XoUrscuQOxRuB6Fi0ZA4XoUrkehR0A9CtejcH00QGZmZmZm5jNAFK5H4XqUKkApXI/C9WgwQClcj8L1qDFA9ihcj8J1NEAfhetRuB4sQB+F61G4njFAUrgehevRLUBxPQrXo7A0QLgehetROC5A9ihcj8J1L0DD9Shcj2JNQI/C9Shc70JAZmZmZmbmKEC4HoXrUTglQBSuR+F6lCRAXI/C9SjcLkBSuB6F61FHQHsUrkfh+kZAUrgehevRMUAUrkfhepQpQOF6FK5H4SpAUrgehevRJ0CkcD0K16MjQA==",
          "dtype": "f8"
         },
         "yaxis": "y"
        },
        {
         "hovertemplate": "Region=%{x}<br>EstimatedUnemploymentRate(%)=%{y}<extra></extra>",
         "legendgroup": "Chhattisgarh",
         "marker": {
          "color": "#ab63fa",
          "pattern": {
           "shape": ""
          }
         },
         "name": "Chhattisgarh",
         "orientation": "v",
         "showlegend": true,
         "textposition": "auto",
         "type": "bar",
         "x": [
          "Chhattisgarh",
          "Chhattisgarh",
          "Chhattisgarh",
          "Chhattisgarh",
          "Chhattisgarh",
          "Chhattisgarh",
          "Chhattisgarh",
          "Chhattisgarh",
          "Chhattisgarh",
          "Chhattisgarh",
          "Chhattisgarh",
          "Chhattisgarh",
          "Chhattisgarh",
          "Chhattisgarh",
          "Chhattisgarh",
          "Chhattisgarh",
          "Chhattisgarh",
          "Chhattisgarh",
          "Chhattisgarh",
          "Chhattisgarh",
          "Chhattisgarh",
          "Chhattisgarh",
          "Chhattisgarh",
          "Chhattisgarh",
          "Chhattisgarh",
          "Chhattisgarh",
          "Chhattisgarh",
          "Chhattisgarh",
          "Chhattisgarh",
          "Chhattisgarh",
          "Chhattisgarh",
          "Chhattisgarh",
          "Chhattisgarh",
          "Chhattisgarh",
          "Chhattisgarh",
          "Chhattisgarh",
          "Chhattisgarh",
          "Chhattisgarh"
         ],
         "xaxis": "x",
         "y": {
          "bdata": "pHA9CtejI0AK16NwPQobQClcj8L1KBJAj8L1KFyPEkApXI/C9aggQNejcD0K1xtAKVyPwvUoBkBxPQrXo3AYQEjhehSuxyNAj8L1KFyPH0A9CtejcD0dQAAAAAAAAAAAj8L1KFyPHkBI4XoUrkckQArXo3A9iiNACtejcD2KJ0DXo3A9ClcgQClcj8L1KBlA7FG4HoXrIkAK16NwPYokQKRwPQrXoyBAj8L1KFyPDECF61G4HgUiQBSuR+F6lCNA7FG4HoVrIEDhehSuRyE0QJqZmZmZGThAUrgehesRO0DNzMzMzEwjQMP1KFyPwiBAKVyPwvUoHkBI4XoUrkcLQAAAAAAAACVA9ihcj8J1LEAK16NwPYokQIXrUbgehRZAXI/C9Shc/z97FK5H4XoaQA==",
          "dtype": "f8"
         },
         "yaxis": "y"
        },
        {
         "hovertemplate": "Region=%{x}<br>EstimatedUnemploymentRate(%)=%{y}<extra></extra>",
         "legendgroup": "Delhi",
         "marker": {
          "color": "#FFA15A",
          "pattern": {
           "shape": ""
          }
         },
         "name": "Delhi",
         "orientation": "v",
         "showlegend": true,
         "textposition": "auto",
         "type": "bar",
         "x": [
          "Delhi",
          "Delhi",
          "Delhi",
          "Delhi",
          "Delhi",
          "Delhi",
          "Delhi",
          "Delhi",
          "Delhi",
          "Delhi",
          "Delhi",
          "Delhi",
          "Delhi",
          "Delhi",
          "Delhi",
          "Delhi",
          "Delhi",
          "Delhi",
          "Delhi",
          "Delhi",
          "Delhi",
          "Delhi",
          "Delhi",
          "Delhi",
          "Delhi",
          "Delhi",
          "Delhi",
          "Delhi",
          "Delhi",
          "Delhi",
          "Delhi",
          "Delhi",
          "Delhi",
          "Delhi",
          "Delhi",
          "Delhi",
          "Delhi",
          "Delhi"
         ],
         "xaxis": "x",
         "y": {
          "bdata": "H4XrUbgeKUApXI/C9agiQKRwPQrXIyZArkfhehQuMUAAAAAAAAApQK5H4XoUri9AuB6F61E4JkC4HoXrUfgwQPYoXI/C9SpAH4XrUbieK0Bcj8L1KFwuQHE9CtejsDRAw/UoXI/CNkCkcD0K1yM1QB+F61G4nihAhetRuB6FKUBcj8L1KFwtQArXo3A9CitA16NwPQqXNEBSuB6F69EoQFyPwvUoHDBApHA9CtcjJkAzMzMzM3M2QLgehetRuC1A16NwPQoXMUDD9Shcj4IwQKRwPQrX40ZAXI/C9SgcMkB7FK5H4To2QK5H4XoUri1ACtejcD0KMUCuR+F6FK4wQMP1KFyPIkVAcT0K16MwMkDNzMzMzEw0QBSuR+F6lCtAj8L1KFwPKUAUrkfhehQZQA==",
          "dtype": "f8"
         },
         "yaxis": "y"
        },
        {
         "hovertemplate": "Region=%{x}<br>EstimatedUnemploymentRate(%)=%{y}<extra></extra>",
         "legendgroup": "Goa",
         "marker": {
          "color": "#19d3f3",
          "pattern": {
           "shape": ""
          }
         },
         "name": "Goa",
         "orientation": "v",
         "showlegend": true,
         "textposition": "auto",
         "type": "bar",
         "x": [
          "Goa",
          "Goa",
          "Goa",
          "Goa",
          "Goa",
          "Goa",
          "Goa",
          "Goa",
          "Goa",
          "Goa",
          "Goa",
          "Goa",
          "Goa",
          "Goa",
          "Goa",
          "Goa",
          "Goa",
          "Goa",
          "Goa",
          "Goa",
          "Goa",
          "Goa",
          "Goa",
          "Goa",
          "Goa",
          "Goa",
          "Goa",
          "Goa",
          "Goa",
          "Goa",
          "Goa",
          "Goa",
          "Goa",
          "Goa"
         ],
         "xaxis": "x",
         "y": {
          "bdata": "SOF6FK5HB0DNzMzMzMwVQPYoXI/C9SVArkfhehSu/z/hehSuR+EMQNejcD0K1xxA9ihcj8K1N0BSuB6F61EMQIXrUbgehRVAAAAAAAAAAABSuB6F69EvQAAAAAAAADRAAAAAAAAABkApXI/C9agqQI/C9ShcjyhAmpmZmZmZE0BI4XoUrkcJQB+F61G4nihAMzMzMzMzOUC4HoXrUTgwQNejcD0K1yVAPQrXo3A9EUAK16NwPQoTQIXrUbgehSdASOF6FK7HIUB7FK5H4XoGQAAAAAAAABVAH4XrUbieKkAAAAAAAEA1QOxRuB6F6yNAUrgehesRMUD2KFyPwjUwQMP1KFyPwi5AFK5H4XoUJ0A=",
          "dtype": "f8"
         },
         "yaxis": "y"
        },
        {
         "hovertemplate": "Region=%{x}<br>EstimatedUnemploymentRate(%)=%{y}<extra></extra>",
         "legendgroup": "Gujarat",
         "marker": {
          "color": "#FF6692",
          "pattern": {
           "shape": ""
          }
         },
         "name": "Gujarat",
         "orientation": "v",
         "showlegend": true,
         "textposition": "auto",
         "type": "bar",
         "x": [
          "Gujarat",
          "Gujarat",
          "Gujarat",
          "Gujarat",
          "Gujarat",
          "Gujarat",
          "Gujarat",
          "Gujarat",
          "Gujarat",
          "Gujarat",
          "Gujarat",
          "Gujarat",
          "Gujarat",
          "Gujarat",
          "Gujarat",
          "Gujarat",
          "Gujarat",
          "Gujarat",
          "Gujarat",
          "Gujarat",
          "Gujarat",
          "Gujarat",
          "Gujarat",
          "Gujarat",
          "Gujarat",
          "Gujarat",
          "Gujarat",
          "Gujarat",
          "Gujarat",
          "Gujarat",
          "Gujarat",
          "Gujarat",
          "Gujarat",
          "Gujarat",
          "Gujarat",
          "Gujarat",
          "Gujarat",
          "Gujarat"
         ],
         "xaxis": "x",
         "y": {
          "bdata": "CtejcD0KB0AUrkfhehQTQFK4HoXrURJAmpmZmZmZDUApXI/C9SgZQKRwPQrXoxNAuB6F61G4EkCuR+F6FK4LQGZmZmZmZhVAj8L1KFyPGkBcj8L1KFweQAAAAAAAAChAKVyPwvUoLUCPwvUoXI/2P1yPwvUoXBBAPQrXo3A9GUCamZmZmZkUQM3MzMzMzBBA16NwPQrXF0DNzMzMzMwVQB+F61G4Hh5A16NwPQrXFkBI4XoUrkcXQClcj8L1KBhAj8L1KFyPFUBxPQrXo/A5QD0K16NwPSdAKVyPwvUoEkApXI/C9SgWQIXrUbgehRlApHA9CtejGkD2KFyPwrUyQLgehetROChAmpmZmZmZCUBxPQrXo3D9P+xRuB6F6/0/XI/C9ShcC0AfhetRuB4QQA==",
          "dtype": "f8"
         },
         "yaxis": "y"
        },
        {
         "hovertemplate": "Region=%{x}<br>EstimatedUnemploymentRate(%)=%{y}<extra></extra>",
         "legendgroup": "Haryana",
         "marker": {
          "color": "#B6E880",
          "pattern": {
           "shape": ""
          }
         },
         "name": "Haryana",
         "orientation": "v",
         "showlegend": true,
         "textposition": "auto",
         "type": "bar",
         "x": [
          "Haryana",
          "Haryana",
          "Haryana",
          "Haryana",
          "Haryana",
          "Haryana",
          "Haryana",
          "Haryana",
          "Haryana",
          "Haryana",
          "Haryana",
          "Haryana",
          "Haryana",
          "Haryana",
          "Haryana",
          "Haryana",
          "Haryana",
          "Haryana",
          "Haryana",
          "Haryana",
          "Haryana",
          "Haryana",
          "Haryana",
          "Haryana",
          "Haryana",
          "Haryana",
          "Haryana",
          "Haryana",
          "Haryana",
          "Haryana",
          "Haryana",
          "Haryana",
          "Haryana",
          "Haryana",
          "Haryana",
          "Haryana",
          "Haryana",
          "Haryana"
         ],
         "xaxis": "x",
         "y": {
          "bdata": "FK5H4XoULUAUrkfhehQ3QLgehetRODBAcT0K16PwPkBcj8L1KFwwQOxRuB6FKzhA16NwPQqXMECPwvUoXI89QPYoXI/CNTBAcT0K16MwO0DsUbgehes3QK5H4XoUzkRAXI/C9SgcQUApXI/C9chBQOxRuB6FqzhA7FG4HoVrNEAzMzMzM3M5QHE9CtejMDhA16NwPQrXOkAK16NwPQo1QI/C9ShcDztAZmZmZmamN0A9CtejcD07QArXo3A9SjdApHA9CtcjO0BSuB6F63FHQHsUrkfhOkNAKVyPwvVoPUDXo3A9Clc0QIXrUbgexTlAzczMzMwMOUBcj8L1KJxFQIXrUbgeBT1AMzMzMzOzOkCuR+F6FC44QAAAAAAAwEBArkfhehSuM0CPwvUoXE87QA==",
          "dtype": "f8"
         },
         "yaxis": "y"
        },
        {
         "hovertemplate": "Region=%{x}<br>EstimatedUnemploymentRate(%)=%{y}<extra></extra>",
         "legendgroup": "Himachal Pradesh",
         "marker": {
          "color": "#FF97FF",
          "pattern": {
           "shape": ""
          }
         },
         "name": "Himachal Pradesh",
         "orientation": "v",
         "showlegend": true,
         "textposition": "auto",
         "type": "bar",
         "x": [
          "Himachal Pradesh",
          "Himachal Pradesh",
          "Himachal Pradesh",
          "Himachal Pradesh",
          "Himachal Pradesh",
          "Himachal Pradesh",
          "Himachal Pradesh",
          "Himachal Pradesh",
          "Himachal Pradesh",
          "Himachal Pradesh",
          "Himachal Pradesh",
          "Himachal Pradesh",
          "Himachal Pradesh",
          "Himachal Pradesh",
          "Himachal Pradesh",
          "Himachal Pradesh",
          "Himachal Pradesh",
          "Himachal Pradesh",
          "Himachal Pradesh",
          "Himachal Pradesh",
          "Himachal Pradesh",
          "Himachal Pradesh",
          "Himachal Pradesh",
          "Himachal Pradesh",
          "Himachal Pradesh",
          "Himachal Pradesh",
          "Himachal Pradesh",
          "Himachal Pradesh",
          "Himachal Pradesh",
          "Himachal Pradesh",
          "Himachal Pradesh",
          "Himachal Pradesh",
          "Himachal Pradesh",
          "Himachal Pradesh",
          "Himachal Pradesh",
          "Himachal Pradesh",
          "Himachal Pradesh",
          "Himachal Pradesh"
         ],
         "xaxis": "x",
         "y": {
          "bdata": "XI/C9ShcK0Bcj8L1KNwmQNejcD0KlzRAj8L1KFyPMkD2KFyPwvUvQB+F61G4ni9AXI/C9SjcNkD2KFyPwnUzQOxRuB6FqzBA16NwPQrXLkD2KFyPwrUxQArXo3A9CgFApHA9CtejOUDsUbgehevxP8P1KFyPwiVArkfhehRuNUDD9Shcj4I1QHsUrkfhejhAAAAAAAAAKECF61G4HsU3QIXrUbgeRTtAUrgehetROUBmZmZmZiYyQI/C9ShcTztAcT0K16NwOkCamZmZmZkFQAAAAAAAAElAH4XrUbieJUAUrkfhetQwQNejcD0K1zBAw/UoXI/CMkCamZmZmZkBQDMzMzMz8zpAcT0K16PwKkCPwvUoXE84QBSuR+F6lC9AFK5H4XoUKEDsUbgehesqQA==",
          "dtype": "f8"
         },
         "yaxis": "y"
        },
        {
         "hovertemplate": "Region=%{x}<br>EstimatedUnemploymentRate(%)=%{y}<extra></extra>",
         "legendgroup": "Jammu & Kashmir",
         "marker": {
          "color": "#FECB52",
          "pattern": {
           "shape": ""
          }
         },
         "name": "Jammu & Kashmir",
         "orientation": "v",
         "showlegend": true,
         "textposition": "auto",
         "type": "bar",
         "x": [
          "Jammu & Kashmir",
          "Jammu & Kashmir",
          "Jammu & Kashmir",
          "Jammu & Kashmir",
          "Jammu & Kashmir",
          "Jammu & Kashmir",
          "Jammu & Kashmir",
          "Jammu & Kashmir",
          "Jammu & Kashmir",
          "Jammu & Kashmir",
          "Jammu & Kashmir",
          "Jammu & Kashmir",
          "Jammu & Kashmir",
          "Jammu & Kashmir",
          "Jammu & Kashmir",
          "Jammu & Kashmir",
          "Jammu & Kashmir",
          "Jammu & Kashmir",
          "Jammu & Kashmir",
          "Jammu & Kashmir",
          "Jammu & Kashmir",
          "Jammu & Kashmir",
          "Jammu & Kashmir",
          "Jammu & Kashmir",
          "Jammu & Kashmir",
          "Jammu & Kashmir",
          "Jammu & Kashmir",
          "Jammu & Kashmir",
          "Jammu & Kashmir",
          "Jammu & Kashmir"
         ],
         "xaxis": "x",
         "y": {
          "bdata": "j8L1KFyPKUCuR+F6FC4oQNejcD0KVytApHA9CtejJkCF61G4HkUzQPYoXI/CdS1AcT0K16MwNkB7FK5H4To1QAAAAAAAADBAw/UoXI/CAUC4HoXrUfgyQArXo3A9CjdA4XoUrkfhM0DNzMzMzIw1QI/C9ShcDzhAFK5H4XqULEAUrkfhehQcQArXo3A9ijJAXI/C9SjcM0AUrkfhepQsQOxRuB6F6ylAFK5H4XoUNUBI4XoUrsc0QAAAAAAAAC9APQrXo3C9MkDsUbgehesxQMP1KFyPwiVArkfhehQuJkDsUbgehSswQKRwPQrXIzBA",
          "dtype": "f8"
         },
         "yaxis": "y"
        },
        {
         "hovertemplate": "Region=%{x}<br>EstimatedUnemploymentRate(%)=%{y}<extra></extra>",
         "legendgroup": "Jharkhand",
         "marker": {
          "color": "#636efa",
          "pattern": {
           "shape": ""
          }
         },
         "name": "Jharkhand",
         "orientation": "v",
         "showlegend": true,
         "textposition": "auto",
         "type": "bar",
         "x": [
          "Jharkhand",
          "Jharkhand",
          "Jharkhand",
          "Jharkhand",
          "Jharkhand",
          "Jharkhand",
          "Jharkhand",
          "Jharkhand",
          "Jharkhand",
          "Jharkhand",
          "Jharkhand",
          "Jharkhand",
          "Jharkhand",
          "Jharkhand",
          "Jharkhand",
          "Jharkhand",
          "Jharkhand",
          "Jharkhand",
          "Jharkhand",
          "Jharkhand",
          "Jharkhand",
          "Jharkhand",
          "Jharkhand",
          "Jharkhand",
          "Jharkhand",
          "Jharkhand",
          "Jharkhand",
          "Jharkhand",
          "Jharkhand",
          "Jharkhand",
          "Jharkhand",
          "Jharkhand",
          "Jharkhand",
          "Jharkhand",
          "Jharkhand",
          "Jharkhand",
          "Jharkhand",
          "Jharkhand"
         ],
         "xaxis": "x",
         "y": {
          "bdata": "cT0K16NwHEDsUbgehesgQPYoXI/C9SNAH4XrUbgeKEB7FK5H4XocQEjhehSuRxpApHA9CtcjIEDNzMzMzEwuQKRwPQrXoxhAH4XrUbgeIkAK16NwPQoUQFyPwvUo3ERAzczMzMyMS0BI4XoUroc1QHsUrkfhOjFAw/UoXI+CNEDXo3A9ClcvQAAAAAAAQDRAKVyPwvUoNUDNzMzMzAwzQNejcD0KVzFAw/UoXI8CNkD2KFyPwvU2QOxRuB6FqzNAZmZmZmZmMEA9CtejcL1OQHsUrkfhilFA4XoUrkdhM0C4HoXrUTglQDMzMzMzsydA9ihcj8J1IEDsUbgehYtHQD0K16NwnU1AMzMzMzPzNECF61G4HoUeQIXrUbgehSNAexSuR+F6IECamZmZmZknQA==",
          "dtype": "f8"
         },
         "yaxis": "y"
        },
        {
         "hovertemplate": "Region=%{x}<br>EstimatedUnemploymentRate(%)=%{y}<extra></extra>",
         "legendgroup": "Karnataka",
         "marker": {
          "color": "#EF553B",
          "pattern": {
           "shape": ""
          }
         },
         "name": "Karnataka",
         "orientation": "v",
         "showlegend": true,
         "textposition": "auto",
         "type": "bar",
         "x": [
          "Karnataka",
          "Karnataka",
          "Karnataka",
          "Karnataka",
          "Karnataka",
          "Karnataka",
          "Karnataka",
          "Karnataka",
          "Karnataka",
          "Karnataka",
          "Karnataka",
          "Karnataka",
          "Karnataka",
          "Karnataka",
          "Karnataka",
          "Karnataka",
          "Karnataka",
          "Karnataka",
          "Karnataka",
          "Karnataka",
          "Karnataka",
          "Karnataka",
          "Karnataka",
          "Karnataka",
          "Karnataka",
          "Karnataka",
          "Karnataka",
          "Karnataka",
          "Karnataka",
          "Karnataka",
          "Karnataka",
          "Karnataka",
          "Karnataka",
          "Karnataka",
          "Karnataka",
          "Karnataka",
          "Karnataka",
          "Karnataka"
         ],
         "xaxis": "x",
         "y": {
          "bdata": "16NwPQrXFUDsUbgehesXQKRwPQrXo+A/rkfhehSu1z+amZmZmZkJQIXrUbgehRxACtejcD0K8z89CtejcD3aP4/C9ShcjwRAcT0K16NwEEAfhetRuB4DQPYoXI/ClUBAuB6F61G4N0DXo3A9CtclQD0K16NwPRpAAAAAAAAAFEBSuB6F61ECQFK4HoXrUfQ/j8L1KFyPDED2KFyPwvUOQIXrUbgehQtA9ihcj8L1+D97FK5H4XoKQArXo3A9CgdArkfhehSuE0AfhetRuB45QMP1KFyPwi9AexSuR+F6GEDhehSuR+EGQOF6FK5H4QxArkfhehSuC0DXo3A9Ctc9QLgehetR+DNA4XoUrkfhIEAK16NwPQoQQAAAAAAAAOA/SOF6FK5HA0BI4XoUrkf5Pw==",
          "dtype": "f8"
         },
         "yaxis": "y"
        },
        {
         "hovertemplate": "Region=%{x}<br>EstimatedUnemploymentRate(%)=%{y}<extra></extra>",
         "legendgroup": "Kerala",
         "marker": {
          "color": "#00cc96",
          "pattern": {
           "shape": ""
          }
         },
         "name": "Kerala",
         "orientation": "v",
         "showlegend": true,
         "textposition": "auto",
         "type": "bar",
         "x": [
          "Kerala",
          "Kerala",
          "Kerala",
          "Kerala",
          "Kerala",
          "Kerala",
          "Kerala",
          "Kerala",
          "Kerala",
          "Kerala",
          "Kerala",
          "Kerala",
          "Kerala",
          "Kerala",
          "Kerala",
          "Kerala",
          "Kerala",
          "Kerala",
          "Kerala",
          "Kerala",
          "Kerala",
          "Kerala",
          "Kerala",
          "Kerala",
          "Kerala",
          "Kerala",
          "Kerala",
          "Kerala",
          "Kerala",
          "Kerala",
          "Kerala",
          "Kerala",
          "Kerala",
          "Kerala",
          "Kerala",
          "Kerala",
          "Kerala",
          "Kerala"
         ],
         "xaxis": "x",
         "y": {
          "bdata": "hetRuB6FGkAAAAAAAAAiQM3MzMzMzBNApHA9CtejJEBmZmZmZmYVQEjhehSuRyJAAAAAAAAAFEAK16NwPYolQHE9CtejcBBAUrgehevRIUAzMzMzM7MhQOxRuB6FayVA4XoUrkdhN0ApXI/C9ag7QHE9CtejcBhArkfhehSuGkBSuB6F61EeQMP1KFyPwh5AFK5H4XoUFkBmZmZmZmYVQNejcD0K1xpAPQrXo3A9HUCamZmZmZkaQFK4HoXrURhASOF6FK5HIkCuR+F6FG41QEjhehSuRz5A16NwPQpXKEA9CtejcD0VQGZmZmZmZh5AexSuR+H6IUA9CtejcP0wQOF6FK5H4TFA7FG4HoVrI0Bcj8L1KFwcQPYoXI/C9SVApHA9CtejF0AK16NwPQoPQA==",
          "dtype": "f8"
         },
         "yaxis": "y"
        },
        {
         "hovertemplate": "Region=%{x}<br>EstimatedUnemploymentRate(%)=%{y}<extra></extra>",
         "legendgroup": "Madhya Pradesh",
         "marker": {
          "color": "#ab63fa",
          "pattern": {
           "shape": ""
          }
         },
         "name": "Madhya Pradesh",
         "orientation": "v",
         "showlegend": true,
         "textposition": "auto",
         "type": "bar",
         "x": [
          "Madhya Pradesh",
          "Madhya Pradesh",
          "Madhya Pradesh",
          "Madhya Pradesh",
          "Madhya Pradesh",
          "Madhya Pradesh",
          "Madhya Pradesh",
          "Madhya Pradesh",
          "Madhya Pradesh",
          "Madhya Pradesh",
          "Madhya Pradesh",
          "Madhya Pradesh",
          "Madhya Pradesh",
          "Madhya Pradesh",
          "Madhya Pradesh",
          "Madhya Pradesh",
          "Madhya Pradesh",
          "Madhya Pradesh",
          "Madhya Pradesh",
          "Madhya Pradesh",
          "Madhya Pradesh",
          "Madhya Pradesh",
          "Madhya Pradesh",
          "Madhya Pradesh",
          "Madhya Pradesh",
          "Madhya Pradesh",
          "Madhya Pradesh",
          "Madhya Pradesh",
          "Madhya Pradesh",
          "Madhya Pradesh",
          "Madhya Pradesh",
          "Madhya Pradesh",
          "Madhya Pradesh",
          "Madhya Pradesh",
          "Madhya Pradesh",
          "Madhya Pradesh",
          "Madhya Pradesh",
          "Madhya Pradesh"
         ],
         "xaxis": "x",
         "y": {
          "bdata": "CtejcD0KDUAAAAAAAAARQFyPwvUoXA9Aw/UoXI/CE0CkcD0K16MIQNejcD0K1wdAw/UoXI/CBUCF61G4HoUHQEjhehSuRw1ArkfhehSuEUAK16NwPQrzPwAAAAAAAClA9ihcj8J1NkDXo3A9CtcZQEjhehSuRw9AhetRuB6FGUCF61G4HoUdQEjhehSuRxtAAAAAAAAAHECamZmZmZkRQD0K16NwPRhAzczMzMzMGECuR+F6FK4UQNejcD0K1xNAMzMzMzMzE0DhehSuR+EnQB+F61G4PkRAcT0K16NwKUBxPQrXo3AQQEjhehSuRxJAw/UoXI/CAUC4HoXrUbgoQHsUrkfh+jVA7FG4HoXrGUBSuB6F61EUQM3MzMzMzBJASOF6FK5HD0AK16NwPQoJQA==",
          "dtype": "f8"
         },
         "yaxis": "y"
        },
        {
         "hovertemplate": "Region=%{x}<br>EstimatedUnemploymentRate(%)=%{y}<extra></extra>",
         "legendgroup": "Maharashtra",
         "marker": {
          "color": "#FFA15A",
          "pattern": {
           "shape": ""
          }
         },
         "name": "Maharashtra",
         "orientation": "v",
         "showlegend": true,
         "textposition": "auto",
         "type": "bar",
         "x": [
          "Maharashtra",
          "Maharashtra",
          "Maharashtra",
          "Maharashtra",
          "Maharashtra",
          "Maharashtra",
          "Maharashtra",
          "Maharashtra",
          "Maharashtra",
          "Maharashtra",
          "Maharashtra",
          "Maharashtra",
          "Maharashtra",
          "Maharashtra",
          "Maharashtra",
          "Maharashtra",
          "Maharashtra",
          "Maharashtra",
          "Maharashtra",
          "Maharashtra",
          "Maharashtra",
          "Maharashtra",
          "Maharashtra",
          "Maharashtra",
          "Maharashtra",
          "Maharashtra",
          "Maharashtra",
          "Maharashtra",
          "Maharashtra",
          "Maharashtra",
          "Maharashtra",
          "Maharashtra",
          "Maharashtra",
          "Maharashtra",
          "Maharashtra",
          "Maharashtra",
          "Maharashtra",
          "Maharashtra"
         ],
         "xaxis": "x",
         "y": {
          "bdata": "XI/C9ShcDUBcj8L1KFwRQEjhehSuRw1AFK5H4XoUDkCamZmZmZkRQHsUrkfheg5AcT0K16NwDUA9CtejcD0IQGZmZmZmZg5A9ihcj8L1EECF61G4HoUVQEjhehSuRzlApHA9CtfjMEDNzMzMzMwiQFK4HoXrURhA16NwPQrXGUBmZmZmZmYZQEjhehSuRx5AZmZmZmZmHkAK16NwPQoeQGZmZmZmZh5AUrgehetRH0CuR+F6FK4aQFyPwvUoXBVAXI/C9ShcGUB7FK5H4fotQNejcD0K1y9AhetRuB4FJEDNzMzMzMwTQMP1KFyPwhJAKVyPwvUoF0BmZmZmZuY0QOxRuB6F6y5A9ihcj8J1IkAfhetRuB4PQOxRuB6F6xhAMzMzMzMzEkBmZmZmZmYQQA==",
          "dtype": "f8"
         },
         "yaxis": "y"
        },
        {
         "hovertemplate": "Region=%{x}<br>EstimatedUnemploymentRate(%)=%{y}<extra></extra>",
         "legendgroup": "Meghalaya",
         "marker": {
          "color": "#19d3f3",
          "pattern": {
           "shape": ""
          }
         },
         "name": "Meghalaya",
         "orientation": "v",
         "showlegend": true,
         "textposition": "auto",
         "type": "bar",
         "x": [
          "Meghalaya",
          "Meghalaya",
          "Meghalaya",
          "Meghalaya",
          "Meghalaya",
          "Meghalaya",
          "Meghalaya",
          "Meghalaya",
          "Meghalaya",
          "Meghalaya",
          "Meghalaya",
          "Meghalaya",
          "Meghalaya",
          "Meghalaya",
          "Meghalaya",
          "Meghalaya",
          "Meghalaya",
          "Meghalaya",
          "Meghalaya",
          "Meghalaya",
          "Meghalaya",
          "Meghalaya",
          "Meghalaya",
          "Meghalaya",
          "Meghalaya",
          "Meghalaya",
          "Meghalaya",
          "Meghalaya",
          "Meghalaya",
          "Meghalaya",
          "Meghalaya",
          "Meghalaya",
          "Meghalaya",
          "Meghalaya",
          "Meghalaya",
          "Meghalaya",
          "Meghalaya"
         ],
         "xaxis": "x",
         "y": {
          "bdata": "SOF6FK5HCUDsUbgehesQQHsUrkfhevA/pHA9Ctej4D+4HoXrUbjOP5qZmZmZmQ1AAAAAAAAA+D/NzMzMzMz8PwrXo3A9Cu8/FK5H4XoUBkB7FK5H4Xr0P8P1KFyPwiBA16NwPQrXDUCamZmZmZn1P83MzMzMzCBAUrgehetRIUC4HoXrUbgRQDMzMzMzMxdAMzMzMzMzFUDNzMzMzMwcQClcj8L1KAhA16NwPQrXFEAK16NwPQoTQHsUrkfheh1AZmZmZmZmBkCkcD0K12MxQClcj8L1KC1Aj8L1KFyP+j+4HoXrUbgMQEjhehSuR/k/j8L1KFwPJECuR+F6FK4XQGZmZmZmZvI/zczMzMzMAEDsUbgehesNQClcj8L1KBFAZmZmZmZmEkA=",
          "dtype": "f8"
         },
         "yaxis": "y"
        },
        {
         "hovertemplate": "Region=%{x}<br>EstimatedUnemploymentRate(%)=%{y}<extra></extra>",
         "legendgroup": "Odisha",
         "marker": {
          "color": "#FF6692",
          "pattern": {
           "shape": ""
          }
         },
         "name": "Odisha",
         "orientation": "v",
         "showlegend": true,
         "textposition": "auto",
         "type": "bar",
         "x": [
          "Odisha",
          "Odisha",
          "Odisha",
          "Odisha",
          "Odisha",
          "Odisha",
          "Odisha",
          "Odisha",
          "Odisha",
          "Odisha",
          "Odisha",
          "Odisha",
          "Odisha",
          "Odisha",
          "Odisha",
          "Odisha",
          "Odisha",
          "Odisha",
          "Odisha",
          "Odisha",
          "Odisha",
          "Odisha",
          "Odisha",
          "Odisha",
          "Odisha",
          "Odisha",
          "Odisha",
          "Odisha",
          "Odisha",
          "Odisha",
          "Odisha",
          "Odisha",
          "Odisha",
          "Odisha",
          "Odisha",
          "Odisha",
          "Odisha",
          "Odisha"
         ],
         "xaxis": "x",
         "y": {
          "bdata": "rkfhehSuEEDXo3A9CtcSQHsUrkfhegpAcT0K16NwDUA9CtejcD0RQB+F61G4HhFA4XoUrkfhEkCuR+F6FK4SQPYoXI/C9fw/exSuR+F6CkCuR+F6FC4uQHsUrkfhejhAZmZmZmbmIkBcj8L1KFwSQJqZmZmZmQdACtejcD0KBUB7FK5H4Xr8PwAAAAAAAAxAPQrXo3A9DkAAAAAAAAASQNejcD0K1wFA4XoUrkfhCkA9CtejcD0CQIXrUbgehQFArkfhehSuD0AAAAAAAIA0QAAAAAAAACRAcT0K16NwAUBmZmZmZmb+P/YoXI/C9QhAKVyPwvUoKkDD9Shcj8I3QFK4HoXr0SZAKVyPwvUoDkAUrkfhehT+P7gehetRuPY/zczMzMzMAEBxPQrXo3ABQA==",
          "dtype": "f8"
         },
         "yaxis": "y"
        },
        {
         "hovertemplate": "Region=%{x}<br>EstimatedUnemploymentRate(%)=%{y}<extra></extra>",
         "legendgroup": "Puducherry",
         "marker": {
          "color": "#B6E880",
          "pattern": {
           "shape": ""
          }
         },
         "name": "Puducherry",
         "orientation": "v",
         "showlegend": true,
         "textposition": "auto",
         "type": "bar",
         "x": [
          "Puducherry",
          "Puducherry",
          "Puducherry",
          "Puducherry",
          "Puducherry",
          "Puducherry",
          "Puducherry",
          "Puducherry",
          "Puducherry",
          "Puducherry",
          "Puducherry",
          "Puducherry",
          "Puducherry",
          "Puducherry",
          "Puducherry",
          "Puducherry",
          "Puducherry",
          "Puducherry",
          "Puducherry",
          "Puducherry",
          "Puducherry",
          "Puducherry",
          "Puducherry",
          "Puducherry",
          "Puducherry",
          "Puducherry",
          "Puducherry",
          "Puducherry",
          "Puducherry",
          "Puducherry",
          "Puducherry",
          "Puducherry",
          "Puducherry",
          "Puducherry",
          "Puducherry",
          "Puducherry"
         ],
         "xaxis": "x",
         "y": {
          "bdata": "AAAAAAAAAAAAAAAAAAAAAAAAAAAAAAAAZmZmZmZmE0AAAAAAAAAAAOF6FK5H4fI/AAAAAAAAAADXo3A9Ctf/P4/C9Shcj+I/16NwPQrX+z97FK5H4XoCQHE9CtejoFJAAAAAAAAA9D8AAAAAAAAAAAAAAAAAAAAAZmZmZmbmIUCF61G4HoXzP7gehetRuPI/7FG4HoXr9T/Xo3A9CtcUQD0K16NwPeI/exSuR+F6/D/Xo3A9CtfjP4/C9ShcL1NAAAAAAADAUkAzMzMzMzMSQI/C9Shcj+I/KVyPwvUo/D8zMzMzMzPzP2ZmZmZm9lJAuB6F61EYTUD2KFyPwvUQQHE9Ctej8C5AMzMzMzMzFEDNzMzMzMwlQLgehetRuBhA",
          "dtype": "f8"
         },
         "yaxis": "y"
        },
        {
         "hovertemplate": "Region=%{x}<br>EstimatedUnemploymentRate(%)=%{y}<extra></extra>",
         "legendgroup": "Punjab",
         "marker": {
          "color": "#FF97FF",
          "pattern": {
           "shape": ""
          }
         },
         "name": "Punjab",
         "orientation": "v",
         "showlegend": true,
         "textposition": "auto",
         "type": "bar",
         "x": [
          "Punjab",
          "Punjab",
          "Punjab",
          "Punjab",
          "Punjab",
          "Punjab",
          "Punjab",
          "Punjab",
          "Punjab",
          "Punjab",
          "Punjab",
          "Punjab",
          "Punjab",
          "Punjab",
          "Punjab",
          "Punjab",
          "Punjab",
          "Punjab",
          "Punjab",
          "Punjab",
          "Punjab",
          "Punjab",
          "Punjab",
          "Punjab",
          "Punjab",
          "Punjab",
          "Punjab",
          "Punjab",
          "Punjab",
          "Punjab",
          "Punjab",
          "Punjab",
          "Punjab",
          "Punjab",
          "Punjab",
          "Punjab",
          "Punjab",
          "Punjab"
         ],
         "xaxis": "x",
         "y": {
          "bdata": "16NwPQpXIkDsUbgehWsoQEjhehSuRyNAw/UoXI/CGkCuR+F6FC4hQB+F61G4HilASOF6FK5HHECF61G4HoUYQOF6FK5HYSNAUrgehevRJECF61G4HgUlQIXrUbgehQ1A7FG4HoVLREAAAAAAAAA0QHsUrkfh+ipA16NwPQpXKkC4HoXrUTgnQHsUrkfh+idA4XoUrkdhL0AAAAAAAIArQEjhehSuxyRAcT0K16PwJ0Bcj8L1KFwrQHsUrkfh+idAcT0K16PwI0AUrkfhehTyPwrXo3A9ijRAmpmZmZkZJUC4HoXrUTgmQHE9Ctej8CVApHA9CtejJEDhehSuR+EGQBSuR+F6VDxAzczMzMyMMEDhehSuR2EiQHsUrkfh+iVAuB6F61E4I0DD9Shcj8IjQA==",
          "dtype": "f8"
         },
         "yaxis": "y"
        },
        {
         "hovertemplate": "Region=%{x}<br>EstimatedUnemploymentRate(%)=%{y}<extra></extra>",
         "legendgroup": "Rajasthan",
         "marker": {
          "color": "#FECB52",
          "pattern": {
           "shape": ""
          }
         },
         "name": "Rajasthan",
         "orientation": "v",
         "showlegend": true,
         "textposition": "auto",
         "type": "bar",
         "x": [
          "Rajasthan",
          "Rajasthan",
          "Rajasthan",
          "Rajasthan",
          "Rajasthan",
          "Rajasthan",
          "Rajasthan",
          "Rajasthan",
          "Rajasthan",
          "Rajasthan",
          "Rajasthan",
          "Rajasthan",
          "Rajasthan",
          "Rajasthan",
          "Rajasthan",
          "Rajasthan",
          "Rajasthan",
          "Rajasthan",
          "Rajasthan",
          "Rajasthan",
          "Rajasthan",
          "Rajasthan",
          "Rajasthan",
          "Rajasthan",
          "Rajasthan",
          "Rajasthan",
          "Rajasthan",
          "Rajasthan",
          "Rajasthan",
          "Rajasthan",
          "Rajasthan",
          "Rajasthan",
          "Rajasthan",
          "Rajasthan",
          "Rajasthan",
          "Rajasthan",
          "Rajasthan",
          "Rajasthan"
         ],
         "xaxis": "x",
         "y": {
          "bdata": "H4XrUbgeEEBmZmZmZmYrQGZmZmZmZiNAAAAAAAAAKUDNzMzMzMwVQFK4HoXrUS1AcT0K16PwJEDsUbgehesrQAAAAAAAACBA9ihcj8L1LEBxPQrXo/AiQAAAAAAAgChAZmZmZmbmJEC4HoXrUbgrQD0K16NwPStAuB6F61G4LEDXo3A9ClcnQOxRuB6Fay1Aw/UoXI9CKUAK16NwPQoqQJqZmZmZmSxACtejcD0KMkBSuB6F69EyQIXrUbgeBTFACtejcD2KMkCkcD0K18NBQJqZmZmZWTlAFK5H4XoUKkBxPQrXo/AlQFK4HoXrUS5AzczMzMzMJ0AzMzMzM7MxQHsUrkfhei9ASOF6FK7HLEAfhetRuJ4vQMP1KFyPgjFAMzMzMzOzLkBmZmZmZiY4QA==",
          "dtype": "f8"
         },
         "yaxis": "y"
        },
        {
         "hovertemplate": "Region=%{x}<br>EstimatedUnemploymentRate(%)=%{y}<extra></extra>",
         "legendgroup": "Sikkim",
         "marker": {
          "color": "#636efa",
          "pattern": {
           "shape": ""
          }
         },
         "name": "Sikkim",
         "orientation": "v",
         "showlegend": true,
         "textposition": "auto",
         "type": "bar",
         "x": [
          "Sikkim",
          "Sikkim",
          "Sikkim",
          "Sikkim",
          "Sikkim",
          "Sikkim",
          "Sikkim",
          "Sikkim",
          "Sikkim",
          "Sikkim",
          "Sikkim",
          "Sikkim",
          "Sikkim",
          "Sikkim",
          "Sikkim",
          "Sikkim",
          "Sikkim",
          "Sikkim",
          "Sikkim",
          "Sikkim",
          "Sikkim",
          "Sikkim",
          "Sikkim",
          "Sikkim",
          "Sikkim"
         ],
         "xaxis": "x",
         "y": {
          "bdata": "7FG4HoXrFUC4HoXrUTgqQAAAAAAAAPA/AAAAAAAAAAA9CtejcD0XQGZmZmZmZiBACtejcD0KH0B7FK5H4XoEQEjhehSuRxNAPQrXo3A9E0Bcj8L1KFwjQClcj8L1KBBAexSuR+F6HUAzMzMzM3M0QBSuR+F6FBdAAAAAAADAM0AK16NwPQoFQFK4HoXrkTdAPQrXo3A9AkDD9Shcj4I4QNejcD0K1xFAzczMzMzMEUB7FK5H4fooQM3MzMzMzBZAKVyPwvUo7D8=",
          "dtype": "f8"
         },
         "yaxis": "y"
        },
        {
         "hovertemplate": "Region=%{x}<br>EstimatedUnemploymentRate(%)=%{y}<extra></extra>",
         "legendgroup": "Tamil Nadu",
         "marker": {
          "color": "#EF553B",
          "pattern": {
           "shape": ""
          }
         },
         "name": "Tamil Nadu",
         "orientation": "v",
         "showlegend": true,
         "textposition": "auto",
         "type": "bar",
         "x": [
          "Tamil Nadu",
          "Tamil Nadu",
          "Tamil Nadu",
          "Tamil Nadu",
          "Tamil Nadu",
          "Tamil Nadu",
          "Tamil Nadu",
          "Tamil Nadu",
          "Tamil Nadu",
          "Tamil Nadu",
          "Tamil Nadu",
          "Tamil Nadu",
          "Tamil Nadu",
          "Tamil Nadu",
          "Tamil Nadu",
          "Tamil Nadu",
          "Tamil Nadu",
          "Tamil Nadu",
          "Tamil Nadu",
          "Tamil Nadu",
          "Tamil Nadu",
          "Tamil Nadu",
          "Tamil Nadu",
          "Tamil Nadu",
          "Tamil Nadu",
          "Tamil Nadu",
          "Tamil Nadu",
          "Tamil Nadu",
          "Tamil Nadu",
          "Tamil Nadu",
          "Tamil Nadu",
          "Tamil Nadu",
          "Tamil Nadu",
          "Tamil Nadu",
          "Tamil Nadu",
          "Tamil Nadu",
          "Tamil Nadu",
          "Tamil Nadu"
         ],
         "xaxis": "x",
         "y": {
          "bdata": "CtejcD0K7z9xPQrXo3DtPwrXo3A9ChhASOF6FK5HB0Bcj8L1KFz7P1yPwvUoXPc/rkfhehSuA0DXo3A9CtcNQOF6FK5H4fI/uB6F61G48j9xPQrXo3AZQLgehetRmEpAPQrXo3BdQ0B7FK5H4XoAQHsUrkfheuw/9ihcj8L1+D9xPQrXo3AJQI/C9ShcDyNAw/UoXI/C/T8UrkfhehTyPzMzMzMzMwVAmpmZmZkZIEBmZmZmZmYAQHsUrkfhegpA16NwPQrXGUBmZmZmZsZGQDMzMzMz8zlArkfhehTuOEAfhetRuB75P7gehetRuABAmpmZmZmZGUAK16NwPepIQBSuR+F6lEBAZmZmZmZmKEA9CtejcD0bQDMzMzMzMwVAAAAAAAAAFEBI4XoUrkcBQA==",
          "dtype": "f8"
         },
         "yaxis": "y"
        },
        {
         "hovertemplate": "Region=%{x}<br>EstimatedUnemploymentRate(%)=%{y}<extra></extra>",
         "legendgroup": "Telangana",
         "marker": {
          "color": "#00cc96",
          "pattern": {
           "shape": ""
          }
         },
         "name": "Telangana",
         "orientation": "v",
         "showlegend": true,
         "textposition": "auto",
         "type": "bar",
         "x": [
          "Telangana",
          "Telangana",
          "Telangana",
          "Telangana",
          "Telangana",
          "Telangana",
          "Telangana",
          "Telangana",
          "Telangana",
          "Telangana",
          "Telangana",
          "Telangana",
          "Telangana",
          "Telangana",
          "Telangana",
          "Telangana",
          "Telangana",
          "Telangana",
          "Telangana",
          "Telangana",
          "Telangana",
          "Telangana",
          "Telangana",
          "Telangana",
          "Telangana",
          "Telangana",
          "Telangana",
          "Telangana",
          "Telangana",
          "Telangana",
          "Telangana",
          "Telangana",
          "Telangana",
          "Telangana",
          "Telangana",
          "Telangana",
          "Telangana",
          "Telangana"
         ],
         "xaxis": "x",
         "y": {
          "bdata": "16NwPQrXAUCuR+F6FK4XQJqZmZmZmQNAZmZmZmZm9j/2KFyPwvUVQClcj8L1KB1A4XoUrkfhGUCamZmZmZn1PxSuR+F6FBRACtejcD0KIkCF61G4HoUWQArXo3A9ChJA4XoUrkcBQUDNzMzMzEwzQFK4HoXrUfg/4XoUrkfh9j/Xo3A9CtcNQMP1KFyPwhBAw/UoXI/CGED2KFyPwvUaQOxRuB6F6xRA4XoUrkfhEED2KFyPwvUZQPYoXI/C9RpAZmZmZmZmGEAAAAAAAAAlQClcj8L1SEJArkfhehSuG0D2KFyPwvUVQBSuR+F6lCBAFK5H4XoUF0AAAAAAAAAZQGZmZmZmZi1AmpmZmZkZJUBxPQrXo3AVQClcj8L1KBdAKVyPwvUoCkDhehSuR+EGQA==",
          "dtype": "f8"
         },
         "yaxis": "y"
        },
        {
         "hovertemplate": "Region=%{x}<br>EstimatedUnemploymentRate(%)=%{y}<extra></extra>",
         "legendgroup": "Tripura",
         "marker": {
          "color": "#ab63fa",
          "pattern": {
           "shape": ""
          }
         },
         "name": "Tripura",
         "orientation": "v",
         "showlegend": true,
         "textposition": "auto",
         "type": "bar",
         "x": [
          "Tripura",
          "Tripura",
          "Tripura",
          "Tripura",
          "Tripura",
          "Tripura",
          "Tripura",
          "Tripura",
          "Tripura",
          "Tripura",
          "Tripura",
          "Tripura",
          "Tripura",
          "Tripura",
          "Tripura",
          "Tripura",
          "Tripura",
          "Tripura",
          "Tripura",
          "Tripura",
          "Tripura",
          "Tripura",
          "Tripura",
          "Tripura",
          "Tripura",
          "Tripura",
          "Tripura",
          "Tripura",
          "Tripura",
          "Tripura",
          "Tripura",
          "Tripura",
          "Tripura",
          "Tripura",
          "Tripura",
          "Tripura",
          "Tripura",
          "Tripura"
         ],
         "xaxis": "x",
         "y": {
          "bdata": "AAAAAABAPUCkcD0K16M6QLgehetReDZAPQrXo3B9OUB7FK5H4To+QArXo3A9ijtAAAAAAABAOUBI4XoUroc6QClcj8L16D9AuB6F61E4OkBcj8L1KJw/QFK4HoXr0UVA7FG4HoVrLUDXo3A9CtcyQLgehetRWEFA16NwPQqXOUCPwvUoXM85QJqZmZmZuUBAKVyPwvXIQEDsUbgehas6QGZmZmZmJjtAPQrXo3C9QECPwvUoXC9BQHE9Ctej8EBAcT0K16OwOUBxPQrXo3BBQEjhehSuxzBAuB6F61F4O0D2KFyPwlVAQGZmZmZmZjxAMzMzMzPzPUA9CtejcJ1EQMP1KFyPgjVA9ihcj8K1NUA9CtejcD0yQOxRuB6F6ztAmpmZmZlZMUCkcD0K1yMnQA==",
          "dtype": "f8"
         },
         "yaxis": "y"
        },
        {
         "hovertemplate": "Region=%{x}<br>EstimatedUnemploymentRate(%)=%{y}<extra></extra>",
         "legendgroup": "Uttar Pradesh",
         "marker": {
          "color": "#FFA15A",
          "pattern": {
           "shape": ""
          }
         },
         "name": "Uttar Pradesh",
         "orientation": "v",
         "showlegend": true,
         "textposition": "auto",
         "type": "bar",
         "x": [
          "Uttar Pradesh",
          "Uttar Pradesh",
          "Uttar Pradesh",
          "Uttar Pradesh",
          "Uttar Pradesh",
          "Uttar Pradesh",
          "Uttar Pradesh",
          "Uttar Pradesh",
          "Uttar Pradesh",
          "Uttar Pradesh",
          "Uttar Pradesh",
          "Uttar Pradesh",
          "Uttar Pradesh",
          "Uttar Pradesh",
          "Uttar Pradesh",
          "Uttar Pradesh",
          "Uttar Pradesh",
          "Uttar Pradesh",
          "Uttar Pradesh",
          "Uttar Pradesh",
          "Uttar Pradesh",
          "Uttar Pradesh",
          "Uttar Pradesh",
          "Uttar Pradesh",
          "Uttar Pradesh",
          "Uttar Pradesh",
          "Uttar Pradesh",
          "Uttar Pradesh",
          "Uttar Pradesh",
          "Uttar Pradesh",
          "Uttar Pradesh",
          "Uttar Pradesh",
          "Uttar Pradesh",
          "Uttar Pradesh",
          "Uttar Pradesh",
          "Uttar Pradesh",
          "Uttar Pradesh",
          "Uttar Pradesh"
         ],
         "xaxis": "x",
         "y": {
          "bdata": "hetRuB6FJEDD9Shcj0ImQOF6FK5HYSJAcT0K16PwJkDNzMzMzMwZQFyPwvUoXCRAw/UoXI/CG0Bcj8L1KNwgQD0K16NwPRhAPQrXo3A9IEA9CtejcL0iQOxRuB6F6zNApHA9CtfjMECF61G4HgUhQM3MzMzMzCxAPQrXo3A9J0CamZmZmZknQPYoXI/CdS1AKVyPwvUoK0AzMzMzM7MkQB+F61G4niZAPQrXo3C9KECuR+F6FK4oQM3MzMzMTCdApHA9CtejKEBxPQrXo/A6QEjhehSuB0BAmpmZmZkZKkBSuB6F61EeQPYoXI/C9SFAuB6F61E4JEAK16NwPYo1QClcj8L1aDRAcT0K16PwIkA9CtejcD0WQClcj8L1KBdAuB6F61G4EEAAAAAAAAAOQA==",
          "dtype": "f8"
         },
         "yaxis": "y"
        },
        {
         "hovertemplate": "Region=%{x}<br>EstimatedUnemploymentRate(%)=%{y}<extra></extra>",
         "legendgroup": "Uttarakhand",
         "marker": {
          "color": "#19d3f3",
          "pattern": {
           "shape": ""
          }
         },
         "name": "Uttarakhand",
         "orientation": "v",
         "showlegend": true,
         "textposition": "auto",
         "type": "bar",
         "x": [
          "Uttarakhand",
          "Uttarakhand",
          "Uttarakhand",
          "Uttarakhand",
          "Uttarakhand",
          "Uttarakhand",
          "Uttarakhand",
          "Uttarakhand",
          "Uttarakhand",
          "Uttarakhand",
          "Uttarakhand",
          "Uttarakhand",
          "Uttarakhand",
          "Uttarakhand",
          "Uttarakhand",
          "Uttarakhand",
          "Uttarakhand",
          "Uttarakhand",
          "Uttarakhand",
          "Uttarakhand",
          "Uttarakhand",
          "Uttarakhand",
          "Uttarakhand",
          "Uttarakhand",
          "Uttarakhand",
          "Uttarakhand",
          "Uttarakhand",
          "Uttarakhand",
          "Uttarakhand",
          "Uttarakhand",
          "Uttarakhand",
          "Uttarakhand",
          "Uttarakhand",
          "Uttarakhand",
          "Uttarakhand",
          "Uttarakhand",
          "Uttarakhand"
         ],
         "xaxis": "x",
         "y": {
          "bdata": "FK5H4XoU+j+amZmZmZkSQPYoXI/C9RZAcT0K16NwGEDD9Shcj8ILQFK4HoXrURNAPQrXo3A9FkAUrkfhehQSQK5H4XoUrhBAZmZmZmZmE0BI4XoUrkcNQI/C9ShcjwxA7FG4HoVrJUDXo3A9ClciQMP1KFyPwhJAw/UoXI/CG0C4HoXrUbgdQD0K16NwPSNA4XoUrkfhEkBcj8L1KFwZQI/C9Shcjx1A16NwPQrXIUAfhetRuB4VQM3MzMzMTCBAXI/C9ShcKkBcj8L1KFwxQFK4HoXrURRA9ihcj8L1FUD2KFyPwvUTQJqZmZmZ2TNA7FG4HoXrGUCF61G4HgUgQLgehetROCFAw/UoXI/CKECF61G4HoUsQMP1KFyPQjZA9ihcj8J1IkA=",
          "dtype": "f8"
         },
         "yaxis": "y"
        },
        {
         "hovertemplate": "Region=%{x}<br>EstimatedUnemploymentRate(%)=%{y}<extra></extra>",
         "legendgroup": "West Bengal",
         "marker": {
          "color": "#FF6692",
          "pattern": {
           "shape": ""
          }
         },
         "name": "West Bengal",
         "orientation": "v",
         "showlegend": true,
         "textposition": "auto",
         "type": "bar",
         "x": [
          "West Bengal",
          "West Bengal",
          "West Bengal",
          "West Bengal",
          "West Bengal",
          "West Bengal",
          "West Bengal",
          "West Bengal",
          "West Bengal",
          "West Bengal",
          "West Bengal",
          "West Bengal",
          "West Bengal",
          "West Bengal",
          "West Bengal",
          "West Bengal",
          "West Bengal",
          "West Bengal",
          "West Bengal",
          "West Bengal",
          "West Bengal",
          "West Bengal",
          "West Bengal",
          "West Bengal",
          "West Bengal",
          "West Bengal",
          "West Bengal",
          "West Bengal",
          "West Bengal",
          "West Bengal",
          "West Bengal",
          "West Bengal",
          "West Bengal",
          "West Bengal",
          "West Bengal",
          "West Bengal",
          "West Bengal",
          "West Bengal"
         ],
         "xaxis": "x",
         "y": {
          "bdata": "FK5H4XoUGEBmZmZmZmYXQHsUrkfhehZAUrgehetRFkAK16NwPQoVQB+F61G4HhtAUrgehetRF0ApXI/C9SgXQClcj8L1KBtAPQrXo3A9DkAUrkfhehQcQFK4HoXrUTJArkfhehRuMkDD9Shcj8ITQAAAAAAAAB1AhetRuB6FHUCkcD0K16MfQBSuR+F6FB1AKVyPwvUoH0BSuB6F61EfQHE9CtejcBpA9ihcj8L1HEAUrkfhehQdQDMzMzMzMx5ArkfhehSuGkDD9Shcj0IvQHE9CtejcC5AuB6F61G4I0DD9Shcj8IbQK5H4XoUrhNArkfhehSuG0ApXI/C9WgxQClcj8L1aDFAKVyPwvUoHUBSuB6F61EbQD0K16NwvS1AMzMzMzOzIkD2KFyPwvUjQA==",
          "dtype": "f8"
         },
         "yaxis": "y"
        },
        {
         "hovertemplate": "Region=%{x}<br>EstimatedUnemploymentRate(%)=%{y}<extra></extra>",
         "legendgroup": "Chandigarh",
         "marker": {
          "color": "#B6E880",
          "pattern": {
           "shape": ""
          }
         },
         "name": "Chandigarh",
         "orientation": "v",
         "showlegend": true,
         "textposition": "auto",
         "type": "bar",
         "x": [
          "Chandigarh",
          "Chandigarh",
          "Chandigarh",
          "Chandigarh",
          "Chandigarh",
          "Chandigarh",
          "Chandigarh",
          "Chandigarh",
          "Chandigarh",
          "Chandigarh",
          "Chandigarh",
          "Chandigarh"
         ],
         "xaxis": "x",
         "y": {
          "bdata": "mpmZmZlZMkDNzMzMzMwoQM3MzMzMzDVACtejcD0KI0CkcD0K1yM0QHsUrkfh+itAzczMzMwMNkApXI/C9aggQAAAAAAAADRA7FG4HoWrMECuR+F6FG41QOF6FK5H4RxA",
          "dtype": "f8"
         },
         "yaxis": "y"
        }
       ],
       "layout": {
        "barmode": "relative",
        "legend": {
         "title": {
          "text": "Region"
         },
         "tracegroupgap": 0
        },
        "template": {
         "data": {
          "bar": [
           {
            "error_x": {
             "color": "#2a3f5f"
            },
            "error_y": {
             "color": "#2a3f5f"
            },
            "marker": {
             "line": {
              "color": "#E5ECF6",
              "width": 0.5
             },
             "pattern": {
              "fillmode": "overlay",
              "size": 10,
              "solidity": 0.2
             }
            },
            "type": "bar"
           }
          ],
          "barpolar": [
           {
            "marker": {
             "line": {
              "color": "#E5ECF6",
              "width": 0.5
             },
             "pattern": {
              "fillmode": "overlay",
              "size": 10,
              "solidity": 0.2
             }
            },
            "type": "barpolar"
           }
          ],
          "carpet": [
           {
            "aaxis": {
             "endlinecolor": "#2a3f5f",
             "gridcolor": "white",
             "linecolor": "white",
             "minorgridcolor": "white",
             "startlinecolor": "#2a3f5f"
            },
            "baxis": {
             "endlinecolor": "#2a3f5f",
             "gridcolor": "white",
             "linecolor": "white",
             "minorgridcolor": "white",
             "startlinecolor": "#2a3f5f"
            },
            "type": "carpet"
           }
          ],
          "choropleth": [
           {
            "colorbar": {
             "outlinewidth": 0,
             "ticks": ""
            },
            "type": "choropleth"
           }
          ],
          "contour": [
           {
            "colorbar": {
             "outlinewidth": 0,
             "ticks": ""
            },
            "colorscale": [
             [
              0,
              "#0d0887"
             ],
             [
              0.1111111111111111,
              "#46039f"
             ],
             [
              0.2222222222222222,
              "#7201a8"
             ],
             [
              0.3333333333333333,
              "#9c179e"
             ],
             [
              0.4444444444444444,
              "#bd3786"
             ],
             [
              0.5555555555555556,
              "#d8576b"
             ],
             [
              0.6666666666666666,
              "#ed7953"
             ],
             [
              0.7777777777777778,
              "#fb9f3a"
             ],
             [
              0.8888888888888888,
              "#fdca26"
             ],
             [
              1,
              "#f0f921"
             ]
            ],
            "type": "contour"
           }
          ],
          "contourcarpet": [
           {
            "colorbar": {
             "outlinewidth": 0,
             "ticks": ""
            },
            "type": "contourcarpet"
           }
          ],
          "heatmap": [
           {
            "colorbar": {
             "outlinewidth": 0,
             "ticks": ""
            },
            "colorscale": [
             [
              0,
              "#0d0887"
             ],
             [
              0.1111111111111111,
              "#46039f"
             ],
             [
              0.2222222222222222,
              "#7201a8"
             ],
             [
              0.3333333333333333,
              "#9c179e"
             ],
             [
              0.4444444444444444,
              "#bd3786"
             ],
             [
              0.5555555555555556,
              "#d8576b"
             ],
             [
              0.6666666666666666,
              "#ed7953"
             ],
             [
              0.7777777777777778,
              "#fb9f3a"
             ],
             [
              0.8888888888888888,
              "#fdca26"
             ],
             [
              1,
              "#f0f921"
             ]
            ],
            "type": "heatmap"
           }
          ],
          "histogram": [
           {
            "marker": {
             "pattern": {
              "fillmode": "overlay",
              "size": 10,
              "solidity": 0.2
             }
            },
            "type": "histogram"
           }
          ],
          "histogram2d": [
           {
            "colorbar": {
             "outlinewidth": 0,
             "ticks": ""
            },
            "colorscale": [
             [
              0,
              "#0d0887"
             ],
             [
              0.1111111111111111,
              "#46039f"
             ],
             [
              0.2222222222222222,
              "#7201a8"
             ],
             [
              0.3333333333333333,
              "#9c179e"
             ],
             [
              0.4444444444444444,
              "#bd3786"
             ],
             [
              0.5555555555555556,
              "#d8576b"
             ],
             [
              0.6666666666666666,
              "#ed7953"
             ],
             [
              0.7777777777777778,
              "#fb9f3a"
             ],
             [
              0.8888888888888888,
              "#fdca26"
             ],
             [
              1,
              "#f0f921"
             ]
            ],
            "type": "histogram2d"
           }
          ],
          "histogram2dcontour": [
           {
            "colorbar": {
             "outlinewidth": 0,
             "ticks": ""
            },
            "colorscale": [
             [
              0,
              "#0d0887"
             ],
             [
              0.1111111111111111,
              "#46039f"
             ],
             [
              0.2222222222222222,
              "#7201a8"
             ],
             [
              0.3333333333333333,
              "#9c179e"
             ],
             [
              0.4444444444444444,
              "#bd3786"
             ],
             [
              0.5555555555555556,
              "#d8576b"
             ],
             [
              0.6666666666666666,
              "#ed7953"
             ],
             [
              0.7777777777777778,
              "#fb9f3a"
             ],
             [
              0.8888888888888888,
              "#fdca26"
             ],
             [
              1,
              "#f0f921"
             ]
            ],
            "type": "histogram2dcontour"
           }
          ],
          "mesh3d": [
           {
            "colorbar": {
             "outlinewidth": 0,
             "ticks": ""
            },
            "type": "mesh3d"
           }
          ],
          "parcoords": [
           {
            "line": {
             "colorbar": {
              "outlinewidth": 0,
              "ticks": ""
             }
            },
            "type": "parcoords"
           }
          ],
          "pie": [
           {
            "automargin": true,
            "type": "pie"
           }
          ],
          "scatter": [
           {
            "fillpattern": {
             "fillmode": "overlay",
             "size": 10,
             "solidity": 0.2
            },
            "type": "scatter"
           }
          ],
          "scatter3d": [
           {
            "line": {
             "colorbar": {
              "outlinewidth": 0,
              "ticks": ""
             }
            },
            "marker": {
             "colorbar": {
              "outlinewidth": 0,
              "ticks": ""
             }
            },
            "type": "scatter3d"
           }
          ],
          "scattercarpet": [
           {
            "marker": {
             "colorbar": {
              "outlinewidth": 0,
              "ticks": ""
             }
            },
            "type": "scattercarpet"
           }
          ],
          "scattergeo": [
           {
            "marker": {
             "colorbar": {
              "outlinewidth": 0,
              "ticks": ""
             }
            },
            "type": "scattergeo"
           }
          ],
          "scattergl": [
           {
            "marker": {
             "colorbar": {
              "outlinewidth": 0,
              "ticks": ""
             }
            },
            "type": "scattergl"
           }
          ],
          "scattermap": [
           {
            "marker": {
             "colorbar": {
              "outlinewidth": 0,
              "ticks": ""
             }
            },
            "type": "scattermap"
           }
          ],
          "scattermapbox": [
           {
            "marker": {
             "colorbar": {
              "outlinewidth": 0,
              "ticks": ""
             }
            },
            "type": "scattermapbox"
           }
          ],
          "scatterpolar": [
           {
            "marker": {
             "colorbar": {
              "outlinewidth": 0,
              "ticks": ""
             }
            },
            "type": "scatterpolar"
           }
          ],
          "scatterpolargl": [
           {
            "marker": {
             "colorbar": {
              "outlinewidth": 0,
              "ticks": ""
             }
            },
            "type": "scatterpolargl"
           }
          ],
          "scatterternary": [
           {
            "marker": {
             "colorbar": {
              "outlinewidth": 0,
              "ticks": ""
             }
            },
            "type": "scatterternary"
           }
          ],
          "surface": [
           {
            "colorbar": {
             "outlinewidth": 0,
             "ticks": ""
            },
            "colorscale": [
             [
              0,
              "#0d0887"
             ],
             [
              0.1111111111111111,
              "#46039f"
             ],
             [
              0.2222222222222222,
              "#7201a8"
             ],
             [
              0.3333333333333333,
              "#9c179e"
             ],
             [
              0.4444444444444444,
              "#bd3786"
             ],
             [
              0.5555555555555556,
              "#d8576b"
             ],
             [
              0.6666666666666666,
              "#ed7953"
             ],
             [
              0.7777777777777778,
              "#fb9f3a"
             ],
             [
              0.8888888888888888,
              "#fdca26"
             ],
             [
              1,
              "#f0f921"
             ]
            ],
            "type": "surface"
           }
          ],
          "table": [
           {
            "cells": {
             "fill": {
              "color": "#EBF0F8"
             },
             "line": {
              "color": "white"
             }
            },
            "header": {
             "fill": {
              "color": "#C8D4E3"
             },
             "line": {
              "color": "white"
             }
            },
            "type": "table"
           }
          ]
         },
         "layout": {
          "annotationdefaults": {
           "arrowcolor": "#2a3f5f",
           "arrowhead": 0,
           "arrowwidth": 1
          },
          "autotypenumbers": "strict",
          "coloraxis": {
           "colorbar": {
            "outlinewidth": 0,
            "ticks": ""
           }
          },
          "colorscale": {
           "diverging": [
            [
             0,
             "#8e0152"
            ],
            [
             0.1,
             "#c51b7d"
            ],
            [
             0.2,
             "#de77ae"
            ],
            [
             0.3,
             "#f1b6da"
            ],
            [
             0.4,
             "#fde0ef"
            ],
            [
             0.5,
             "#f7f7f7"
            ],
            [
             0.6,
             "#e6f5d0"
            ],
            [
             0.7,
             "#b8e186"
            ],
            [
             0.8,
             "#7fbc41"
            ],
            [
             0.9,
             "#4d9221"
            ],
            [
             1,
             "#276419"
            ]
           ],
           "sequential": [
            [
             0,
             "#0d0887"
            ],
            [
             0.1111111111111111,
             "#46039f"
            ],
            [
             0.2222222222222222,
             "#7201a8"
            ],
            [
             0.3333333333333333,
             "#9c179e"
            ],
            [
             0.4444444444444444,
             "#bd3786"
            ],
            [
             0.5555555555555556,
             "#d8576b"
            ],
            [
             0.6666666666666666,
             "#ed7953"
            ],
            [
             0.7777777777777778,
             "#fb9f3a"
            ],
            [
             0.8888888888888888,
             "#fdca26"
            ],
            [
             1,
             "#f0f921"
            ]
           ],
           "sequentialminus": [
            [
             0,
             "#0d0887"
            ],
            [
             0.1111111111111111,
             "#46039f"
            ],
            [
             0.2222222222222222,
             "#7201a8"
            ],
            [
             0.3333333333333333,
             "#9c179e"
            ],
            [
             0.4444444444444444,
             "#bd3786"
            ],
            [
             0.5555555555555556,
             "#d8576b"
            ],
            [
             0.6666666666666666,
             "#ed7953"
            ],
            [
             0.7777777777777778,
             "#fb9f3a"
            ],
            [
             0.8888888888888888,
             "#fdca26"
            ],
            [
             1,
             "#f0f921"
            ]
           ]
          },
          "colorway": [
           "#636efa",
           "#EF553B",
           "#00cc96",
           "#ab63fa",
           "#FFA15A",
           "#19d3f3",
           "#FF6692",
           "#B6E880",
           "#FF97FF",
           "#FECB52"
          ],
          "font": {
           "color": "#2a3f5f"
          },
          "geo": {
           "bgcolor": "white",
           "lakecolor": "white",
           "landcolor": "#E5ECF6",
           "showlakes": true,
           "showland": true,
           "subunitcolor": "white"
          },
          "hoverlabel": {
           "align": "left"
          },
          "hovermode": "closest",
          "mapbox": {
           "style": "light"
          },
          "paper_bgcolor": "white",
          "plot_bgcolor": "#E5ECF6",
          "polar": {
           "angularaxis": {
            "gridcolor": "white",
            "linecolor": "white",
            "ticks": ""
           },
           "bgcolor": "#E5ECF6",
           "radialaxis": {
            "gridcolor": "white",
            "linecolor": "white",
            "ticks": ""
           }
          },
          "scene": {
           "xaxis": {
            "backgroundcolor": "#E5ECF6",
            "gridcolor": "white",
            "gridwidth": 2,
            "linecolor": "white",
            "showbackground": true,
            "ticks": "",
            "zerolinecolor": "white"
           },
           "yaxis": {
            "backgroundcolor": "#E5ECF6",
            "gridcolor": "white",
            "gridwidth": 2,
            "linecolor": "white",
            "showbackground": true,
            "ticks": "",
            "zerolinecolor": "white"
           },
           "zaxis": {
            "backgroundcolor": "#E5ECF6",
            "gridcolor": "white",
            "gridwidth": 2,
            "linecolor": "white",
            "showbackground": true,
            "ticks": "",
            "zerolinecolor": "white"
           }
          },
          "shapedefaults": {
           "line": {
            "color": "#2a3f5f"
           }
          },
          "ternary": {
           "aaxis": {
            "gridcolor": "white",
            "linecolor": "white",
            "ticks": ""
           },
           "baxis": {
            "gridcolor": "white",
            "linecolor": "white",
            "ticks": ""
           },
           "bgcolor": "#E5ECF6",
           "caxis": {
            "gridcolor": "white",
            "linecolor": "white",
            "ticks": ""
           }
          },
          "title": {
           "x": 0.05
          },
          "xaxis": {
           "automargin": true,
           "gridcolor": "white",
           "linecolor": "white",
           "ticks": "",
           "title": {
            "standoff": 15
           },
           "zerolinecolor": "white",
           "zerolinewidth": 2
          },
          "yaxis": {
           "automargin": true,
           "gridcolor": "white",
           "linecolor": "white",
           "ticks": "",
           "title": {
            "standoff": 15
           },
           "zerolinecolor": "white",
           "zerolinewidth": 2
          }
         }
        },
        "title": {
         "text": "Unemployment Rate by Region"
        },
        "xaxis": {
         "anchor": "y",
         "categoryarray": [
          "Andhra Pradesh",
          "Assam",
          "Bihar",
          "Chhattisgarh",
          "Delhi",
          "Goa",
          "Gujarat",
          "Haryana",
          "Himachal Pradesh",
          "Jammu & Kashmir",
          "Jharkhand",
          "Karnataka",
          "Kerala",
          "Madhya Pradesh",
          "Maharashtra",
          "Meghalaya",
          "Odisha",
          "Puducherry",
          "Punjab",
          "Rajasthan",
          "Sikkim",
          "Tamil Nadu",
          "Telangana",
          "Tripura",
          "Uttar Pradesh",
          "Uttarakhand",
          "West Bengal",
          "Chandigarh"
         ],
         "categoryorder": "array",
         "domain": [
          0,
          1
         ],
         "title": {
          "text": "Region"
         }
        },
        "yaxis": {
         "anchor": "x",
         "domain": [
          0,
          1
         ],
         "title": {
          "text": "EstimatedUnemploymentRate(%)"
         }
        }
       }
      }
     },
     "metadata": {},
     "output_type": "display_data"
    }
   ],
   "source": [
    "# Unemployment Rate by Region \n",
    "fig = px.bar(df, x='Region', y='EstimatedUnemploymentRate(%)', title='Unemployment Rate by Region', color='Region')\n",
    "fig.show()"
   ]
  },
  {
   "cell_type": "code",
   "execution_count": 42,
   "metadata": {},
   "outputs": [
    {
     "data": {
      "application/vnd.plotly.v1+json": {
       "config": {
        "plotlyServerURL": "https://plot.ly"
       },
       "data": [
        {
         "hovertemplate": "Covid-19 Impact=%{x}<br>EstimatedUnemploymentRate(%)=%{y}<extra></extra>",
         "legendgroup": "Pre-COVID",
         "marker": {
          "color": "#3366CC",
          "pattern": {
           "shape": ""
          }
         },
         "name": "Pre-COVID",
         "orientation": "v",
         "showlegend": true,
         "textposition": "auto",
         "type": "bar",
         "x": [
          "Pre-COVID",
          "Pre-COVID",
          "Pre-COVID",
          "Pre-COVID",
          "Pre-COVID",
          "Pre-COVID",
          "Pre-COVID",
          "Pre-COVID",
          "Pre-COVID",
          "Pre-COVID",
          "Pre-COVID",
          "Pre-COVID",
          "Pre-COVID",
          "Pre-COVID",
          "Pre-COVID",
          "Pre-COVID",
          "Pre-COVID",
          "Pre-COVID",
          "Pre-COVID",
          "Pre-COVID",
          "Pre-COVID",
          "Pre-COVID",
          "Pre-COVID",
          "Pre-COVID",
          "Pre-COVID",
          "Pre-COVID",
          "Pre-COVID",
          "Pre-COVID",
          "Pre-COVID",
          "Pre-COVID",
          "Pre-COVID",
          "Pre-COVID",
          "Pre-COVID",
          "Pre-COVID",
          "Pre-COVID",
          "Pre-COVID",
          "Pre-COVID",
          "Pre-COVID",
          "Pre-COVID",
          "Pre-COVID",
          "Pre-COVID",
          "Pre-COVID",
          "Pre-COVID",
          "Pre-COVID",
          "Pre-COVID",
          "Pre-COVID",
          "Pre-COVID",
          "Pre-COVID",
          "Pre-COVID",
          "Pre-COVID",
          "Pre-COVID",
          "Pre-COVID",
          "Pre-COVID",
          "Pre-COVID",
          "Pre-COVID",
          "Pre-COVID",
          "Pre-COVID",
          "Pre-COVID",
          "Pre-COVID",
          "Pre-COVID",
          "Pre-COVID",
          "Pre-COVID",
          "Pre-COVID",
          "Pre-COVID",
          "Pre-COVID",
          "Pre-COVID",
          "Pre-COVID",
          "Pre-COVID",
          "Pre-COVID",
          "Pre-COVID",
          "Pre-COVID",
          "Pre-COVID",
          "Pre-COVID",
          "Pre-COVID",
          "Pre-COVID",
          "Pre-COVID",
          "Pre-COVID",
          "Pre-COVID",
          "Pre-COVID",
          "Pre-COVID",
          "Pre-COVID",
          "Pre-COVID",
          "Pre-COVID",
          "Pre-COVID",
          "Pre-COVID",
          "Pre-COVID",
          "Pre-COVID",
          "Pre-COVID",
          "Pre-COVID",
          "Pre-COVID",
          "Pre-COVID",
          "Pre-COVID",
          "Pre-COVID",
          "Pre-COVID",
          "Pre-COVID",
          "Pre-COVID",
          "Pre-COVID",
          "Pre-COVID",
          "Pre-COVID",
          "Pre-COVID",
          "Pre-COVID",
          "Pre-COVID",
          "Pre-COVID",
          "Pre-COVID",
          "Pre-COVID",
          "Pre-COVID",
          "Pre-COVID",
          "Pre-COVID",
          "Pre-COVID",
          "Pre-COVID",
          "Pre-COVID",
          "Pre-COVID",
          "Pre-COVID",
          "Pre-COVID",
          "Pre-COVID",
          "Pre-COVID",
          "Pre-COVID",
          "Pre-COVID",
          "Pre-COVID",
          "Pre-COVID",
          "Pre-COVID",
          "Pre-COVID",
          "Pre-COVID",
          "Pre-COVID",
          "Pre-COVID",
          "Pre-COVID",
          "Pre-COVID",
          "Pre-COVID",
          "Pre-COVID",
          "Pre-COVID",
          "Pre-COVID",
          "Pre-COVID",
          "Pre-COVID",
          "Pre-COVID",
          "Pre-COVID",
          "Pre-COVID",
          "Pre-COVID",
          "Pre-COVID",
          "Pre-COVID",
          "Pre-COVID",
          "Pre-COVID",
          "Pre-COVID",
          "Pre-COVID",
          "Pre-COVID",
          "Pre-COVID",
          "Pre-COVID",
          "Pre-COVID",
          "Pre-COVID",
          "Pre-COVID",
          "Pre-COVID",
          "Pre-COVID",
          "Pre-COVID",
          "Pre-COVID",
          "Pre-COVID",
          "Pre-COVID",
          "Pre-COVID",
          "Pre-COVID",
          "Pre-COVID",
          "Pre-COVID",
          "Pre-COVID",
          "Pre-COVID",
          "Pre-COVID",
          "Pre-COVID",
          "Pre-COVID",
          "Pre-COVID",
          "Pre-COVID",
          "Pre-COVID",
          "Pre-COVID",
          "Pre-COVID",
          "Pre-COVID",
          "Pre-COVID",
          "Pre-COVID",
          "Pre-COVID",
          "Pre-COVID",
          "Pre-COVID",
          "Pre-COVID",
          "Pre-COVID",
          "Pre-COVID",
          "Pre-COVID",
          "Pre-COVID",
          "Pre-COVID",
          "Pre-COVID",
          "Pre-COVID",
          "Pre-COVID",
          "Pre-COVID",
          "Pre-COVID",
          "Pre-COVID",
          "Pre-COVID",
          "Pre-COVID",
          "Pre-COVID",
          "Pre-COVID",
          "Pre-COVID",
          "Pre-COVID",
          "Pre-COVID",
          "Pre-COVID",
          "Pre-COVID",
          "Pre-COVID",
          "Pre-COVID",
          "Pre-COVID",
          "Pre-COVID",
          "Pre-COVID",
          "Pre-COVID",
          "Pre-COVID",
          "Pre-COVID",
          "Pre-COVID",
          "Pre-COVID",
          "Pre-COVID",
          "Pre-COVID",
          "Pre-COVID",
          "Pre-COVID",
          "Pre-COVID",
          "Pre-COVID",
          "Pre-COVID",
          "Pre-COVID",
          "Pre-COVID",
          "Pre-COVID",
          "Pre-COVID",
          "Pre-COVID",
          "Pre-COVID",
          "Pre-COVID",
          "Pre-COVID",
          "Pre-COVID",
          "Pre-COVID",
          "Pre-COVID",
          "Pre-COVID",
          "Pre-COVID",
          "Pre-COVID",
          "Pre-COVID",
          "Pre-COVID",
          "Pre-COVID",
          "Pre-COVID",
          "Pre-COVID",
          "Pre-COVID",
          "Pre-COVID",
          "Pre-COVID",
          "Pre-COVID",
          "Pre-COVID",
          "Pre-COVID",
          "Pre-COVID",
          "Pre-COVID",
          "Pre-COVID",
          "Pre-COVID",
          "Pre-COVID",
          "Pre-COVID",
          "Pre-COVID",
          "Pre-COVID",
          "Pre-COVID",
          "Pre-COVID",
          "Pre-COVID",
          "Pre-COVID",
          "Pre-COVID",
          "Pre-COVID",
          "Pre-COVID",
          "Pre-COVID",
          "Pre-COVID",
          "Pre-COVID",
          "Pre-COVID",
          "Pre-COVID",
          "Pre-COVID",
          "Pre-COVID",
          "Pre-COVID",
          "Pre-COVID",
          "Pre-COVID",
          "Pre-COVID",
          "Pre-COVID",
          "Pre-COVID",
          "Pre-COVID",
          "Pre-COVID",
          "Pre-COVID",
          "Pre-COVID",
          "Pre-COVID",
          "Pre-COVID",
          "Pre-COVID",
          "Pre-COVID",
          "Pre-COVID",
          "Pre-COVID",
          "Pre-COVID",
          "Pre-COVID",
          "Pre-COVID",
          "Pre-COVID",
          "Pre-COVID",
          "Pre-COVID",
          "Pre-COVID",
          "Pre-COVID",
          "Pre-COVID",
          "Pre-COVID",
          "Pre-COVID",
          "Pre-COVID",
          "Pre-COVID",
          "Pre-COVID",
          "Pre-COVID",
          "Pre-COVID",
          "Pre-COVID",
          "Pre-COVID",
          "Pre-COVID",
          "Pre-COVID",
          "Pre-COVID",
          "Pre-COVID",
          "Pre-COVID",
          "Pre-COVID",
          "Pre-COVID",
          "Pre-COVID",
          "Pre-COVID",
          "Pre-COVID",
          "Pre-COVID",
          "Pre-COVID",
          "Pre-COVID",
          "Pre-COVID",
          "Pre-COVID",
          "Pre-COVID",
          "Pre-COVID",
          "Pre-COVID",
          "Pre-COVID",
          "Pre-COVID",
          "Pre-COVID",
          "Pre-COVID",
          "Pre-COVID",
          "Pre-COVID",
          "Pre-COVID",
          "Pre-COVID",
          "Pre-COVID",
          "Pre-COVID",
          "Pre-COVID",
          "Pre-COVID",
          "Pre-COVID",
          "Pre-COVID",
          "Pre-COVID",
          "Pre-COVID",
          "Pre-COVID",
          "Pre-COVID",
          "Pre-COVID",
          "Pre-COVID",
          "Pre-COVID",
          "Pre-COVID",
          "Pre-COVID",
          "Pre-COVID",
          "Pre-COVID",
          "Pre-COVID",
          "Pre-COVID",
          "Pre-COVID",
          "Pre-COVID",
          "Pre-COVID",
          "Pre-COVID",
          "Pre-COVID",
          "Pre-COVID",
          "Pre-COVID",
          "Pre-COVID",
          "Pre-COVID",
          "Pre-COVID",
          "Pre-COVID",
          "Pre-COVID",
          "Pre-COVID",
          "Pre-COVID",
          "Pre-COVID",
          "Pre-COVID",
          "Pre-COVID",
          "Pre-COVID",
          "Pre-COVID",
          "Pre-COVID",
          "Pre-COVID",
          "Pre-COVID",
          "Pre-COVID",
          "Pre-COVID",
          "Pre-COVID",
          "Pre-COVID",
          "Pre-COVID",
          "Pre-COVID",
          "Pre-COVID",
          "Pre-COVID",
          "Pre-COVID",
          "Pre-COVID",
          "Pre-COVID",
          "Pre-COVID",
          "Pre-COVID",
          "Pre-COVID",
          "Pre-COVID",
          "Pre-COVID",
          "Pre-COVID",
          "Pre-COVID",
          "Pre-COVID",
          "Pre-COVID",
          "Pre-COVID",
          "Pre-COVID",
          "Pre-COVID",
          "Pre-COVID",
          "Pre-COVID",
          "Pre-COVID",
          "Pre-COVID",
          "Pre-COVID",
          "Pre-COVID",
          "Pre-COVID",
          "Pre-COVID",
          "Pre-COVID",
          "Pre-COVID",
          "Pre-COVID",
          "Pre-COVID",
          "Pre-COVID",
          "Pre-COVID",
          "Pre-COVID",
          "Pre-COVID",
          "Pre-COVID",
          "Pre-COVID",
          "Pre-COVID",
          "Pre-COVID",
          "Pre-COVID",
          "Pre-COVID",
          "Pre-COVID",
          "Pre-COVID",
          "Pre-COVID",
          "Pre-COVID",
          "Pre-COVID",
          "Pre-COVID",
          "Pre-COVID",
          "Pre-COVID",
          "Pre-COVID",
          "Pre-COVID",
          "Pre-COVID",
          "Pre-COVID",
          "Pre-COVID",
          "Pre-COVID",
          "Pre-COVID",
          "Pre-COVID",
          "Pre-COVID",
          "Pre-COVID",
          "Pre-COVID",
          "Pre-COVID",
          "Pre-COVID",
          "Pre-COVID",
          "Pre-COVID",
          "Pre-COVID",
          "Pre-COVID",
          "Pre-COVID",
          "Pre-COVID",
          "Pre-COVID",
          "Pre-COVID",
          "Pre-COVID",
          "Pre-COVID",
          "Pre-COVID",
          "Pre-COVID",
          "Pre-COVID",
          "Pre-COVID",
          "Pre-COVID",
          "Pre-COVID",
          "Pre-COVID",
          "Pre-COVID",
          "Pre-COVID",
          "Pre-COVID",
          "Pre-COVID",
          "Pre-COVID",
          "Pre-COVID",
          "Pre-COVID",
          "Pre-COVID",
          "Pre-COVID",
          "Pre-COVID",
          "Pre-COVID",
          "Pre-COVID",
          "Pre-COVID",
          "Pre-COVID",
          "Pre-COVID",
          "Pre-COVID",
          "Pre-COVID",
          "Pre-COVID",
          "Pre-COVID",
          "Pre-COVID",
          "Pre-COVID",
          "Pre-COVID",
          "Pre-COVID",
          "Pre-COVID",
          "Pre-COVID",
          "Pre-COVID",
          "Pre-COVID",
          "Pre-COVID",
          "Pre-COVID",
          "Pre-COVID",
          "Pre-COVID",
          "Pre-COVID",
          "Pre-COVID",
          "Pre-COVID",
          "Pre-COVID",
          "Pre-COVID",
          "Pre-COVID",
          "Pre-COVID",
          "Pre-COVID",
          "Pre-COVID",
          "Pre-COVID",
          "Pre-COVID",
          "Pre-COVID",
          "Pre-COVID",
          "Pre-COVID",
          "Pre-COVID",
          "Pre-COVID",
          "Pre-COVID",
          "Pre-COVID",
          "Pre-COVID",
          "Pre-COVID",
          "Pre-COVID",
          "Pre-COVID",
          "Pre-COVID",
          "Pre-COVID",
          "Pre-COVID",
          "Pre-COVID",
          "Pre-COVID",
          "Pre-COVID",
          "Pre-COVID",
          "Pre-COVID",
          "Pre-COVID",
          "Pre-COVID",
          "Pre-COVID",
          "Pre-COVID",
          "Pre-COVID",
          "Pre-COVID",
          "Pre-COVID",
          "Pre-COVID",
          "Pre-COVID",
          "Pre-COVID",
          "Pre-COVID",
          "Pre-COVID",
          "Pre-COVID",
          "Pre-COVID",
          "Pre-COVID",
          "Pre-COVID",
          "Pre-COVID",
          "Pre-COVID",
          "Pre-COVID",
          "Pre-COVID",
          "Pre-COVID",
          "Pre-COVID",
          "Pre-COVID",
          "Pre-COVID",
          "Pre-COVID",
          "Pre-COVID",
          "Pre-COVID",
          "Pre-COVID",
          "Pre-COVID",
          "Pre-COVID",
          "Pre-COVID",
          "Pre-COVID",
          "Pre-COVID",
          "Pre-COVID",
          "Pre-COVID",
          "Pre-COVID",
          "Pre-COVID",
          "Pre-COVID",
          "Pre-COVID",
          "Pre-COVID",
          "Pre-COVID",
          "Pre-COVID",
          "Pre-COVID",
          "Pre-COVID",
          "Pre-COVID",
          "Pre-COVID",
          "Pre-COVID",
          "Pre-COVID",
          "Pre-COVID",
          "Pre-COVID",
          "Pre-COVID",
          "Pre-COVID",
          "Pre-COVID",
          "Pre-COVID",
          "Pre-COVID",
          "Pre-COVID",
          "Pre-COVID",
          "Pre-COVID",
          "Pre-COVID",
          "Pre-COVID",
          "Pre-COVID",
          "Pre-COVID",
          "Pre-COVID",
          "Pre-COVID",
          "Pre-COVID",
          "Pre-COVID",
          "Pre-COVID",
          "Pre-COVID",
          "Pre-COVID",
          "Pre-COVID",
          "Pre-COVID",
          "Pre-COVID",
          "Pre-COVID",
          "Pre-COVID",
          "Pre-COVID",
          "Pre-COVID",
          "Pre-COVID",
          "Pre-COVID",
          "Pre-COVID",
          "Pre-COVID",
          "Pre-COVID",
          "Pre-COVID",
          "Pre-COVID",
          "Pre-COVID",
          "Pre-COVID",
          "Pre-COVID",
          "Pre-COVID",
          "Pre-COVID",
          "Pre-COVID",
          "Pre-COVID",
          "Pre-COVID",
          "Pre-COVID",
          "Pre-COVID",
          "Pre-COVID",
          "Pre-COVID",
          "Pre-COVID",
          "Pre-COVID",
          "Pre-COVID",
          "Pre-COVID",
          "Pre-COVID",
          "Pre-COVID",
          "Pre-COVID",
          "Pre-COVID",
          "Pre-COVID",
          "Pre-COVID",
          "Pre-COVID",
          "Pre-COVID",
          "Pre-COVID",
          "Pre-COVID",
          "Pre-COVID",
          "Pre-COVID",
          "Pre-COVID",
          "Pre-COVID",
          "Pre-COVID",
          "Pre-COVID",
          "Pre-COVID",
          "Pre-COVID",
          "Pre-COVID",
          "Pre-COVID",
          "Pre-COVID",
          "Pre-COVID",
          "Pre-COVID",
          "Pre-COVID",
          "Pre-COVID",
          "Pre-COVID",
          "Pre-COVID",
          "Pre-COVID",
          "Pre-COVID",
          "Pre-COVID",
          "Pre-COVID",
          "Pre-COVID",
          "Pre-COVID",
          "Pre-COVID",
          "Pre-COVID",
          "Pre-COVID",
          "Pre-COVID",
          "Pre-COVID",
          "Pre-COVID",
          "Pre-COVID",
          "Pre-COVID",
          "Pre-COVID",
          "Pre-COVID",
          "Pre-COVID",
          "Pre-COVID",
          "Pre-COVID",
          "Pre-COVID",
          "Pre-COVID",
          "Pre-COVID",
          "Pre-COVID",
          "Pre-COVID",
          "Pre-COVID",
          "Pre-COVID",
          "Pre-COVID",
          "Pre-COVID",
          "Pre-COVID",
          "Pre-COVID",
          "Pre-COVID",
          "Pre-COVID",
          "Pre-COVID",
          "Pre-COVID",
          "Pre-COVID",
          "Pre-COVID"
         ],
         "xaxis": "x",
         "y": {
          "bdata": "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",
          "dtype": "f8"
         },
         "yaxis": "y"
        },
        {
         "hovertemplate": "Covid-19 Impact=%{x}<br>EstimatedUnemploymentRate(%)=%{y}<extra></extra>",
         "legendgroup": "Post-COVID",
         "marker": {
          "color": "#DC3912",
          "pattern": {
           "shape": ""
          }
         },
         "name": "Post-COVID",
         "orientation": "v",
         "showlegend": true,
         "textposition": "auto",
         "type": "bar",
         "x": [
          "Post-COVID",
          "Post-COVID",
          "Post-COVID",
          "Post-COVID",
          "Post-COVID",
          "Post-COVID",
          "Post-COVID",
          "Post-COVID",
          "Post-COVID",
          "Post-COVID",
          "Post-COVID",
          "Post-COVID",
          "Post-COVID",
          "Post-COVID",
          "Post-COVID",
          "Post-COVID",
          "Post-COVID",
          "Post-COVID",
          "Post-COVID",
          "Post-COVID",
          "Post-COVID",
          "Post-COVID",
          "Post-COVID",
          "Post-COVID",
          "Post-COVID",
          "Post-COVID",
          "Post-COVID",
          "Post-COVID",
          "Post-COVID",
          "Post-COVID",
          "Post-COVID",
          "Post-COVID",
          "Post-COVID",
          "Post-COVID",
          "Post-COVID",
          "Post-COVID",
          "Post-COVID",
          "Post-COVID",
          "Post-COVID",
          "Post-COVID",
          "Post-COVID",
          "Post-COVID",
          "Post-COVID",
          "Post-COVID",
          "Post-COVID",
          "Post-COVID",
          "Post-COVID",
          "Post-COVID",
          "Post-COVID",
          "Post-COVID",
          "Post-COVID",
          "Post-COVID",
          "Post-COVID",
          "Post-COVID",
          "Post-COVID",
          "Post-COVID",
          "Post-COVID",
          "Post-COVID",
          "Post-COVID",
          "Post-COVID",
          "Post-COVID",
          "Post-COVID",
          "Post-COVID",
          "Post-COVID",
          "Post-COVID",
          "Post-COVID",
          "Post-COVID",
          "Post-COVID",
          "Post-COVID",
          "Post-COVID",
          "Post-COVID",
          "Post-COVID",
          "Post-COVID",
          "Post-COVID",
          "Post-COVID",
          "Post-COVID",
          "Post-COVID",
          "Post-COVID",
          "Post-COVID",
          "Post-COVID",
          "Post-COVID",
          "Post-COVID",
          "Post-COVID",
          "Post-COVID",
          "Post-COVID",
          "Post-COVID",
          "Post-COVID",
          "Post-COVID",
          "Post-COVID",
          "Post-COVID",
          "Post-COVID",
          "Post-COVID",
          "Post-COVID",
          "Post-COVID",
          "Post-COVID",
          "Post-COVID",
          "Post-COVID",
          "Post-COVID",
          "Post-COVID",
          "Post-COVID",
          "Post-COVID",
          "Post-COVID",
          "Post-COVID",
          "Post-COVID",
          "Post-COVID",
          "Post-COVID",
          "Post-COVID",
          "Post-COVID",
          "Post-COVID",
          "Post-COVID",
          "Post-COVID",
          "Post-COVID",
          "Post-COVID",
          "Post-COVID",
          "Post-COVID",
          "Post-COVID",
          "Post-COVID",
          "Post-COVID",
          "Post-COVID",
          "Post-COVID",
          "Post-COVID",
          "Post-COVID",
          "Post-COVID",
          "Post-COVID",
          "Post-COVID",
          "Post-COVID",
          "Post-COVID",
          "Post-COVID",
          "Post-COVID",
          "Post-COVID",
          "Post-COVID",
          "Post-COVID",
          "Post-COVID",
          "Post-COVID",
          "Post-COVID",
          "Post-COVID",
          "Post-COVID",
          "Post-COVID",
          "Post-COVID",
          "Post-COVID",
          "Post-COVID",
          "Post-COVID",
          "Post-COVID",
          "Post-COVID",
          "Post-COVID",
          "Post-COVID",
          "Post-COVID",
          "Post-COVID",
          "Post-COVID",
          "Post-COVID",
          "Post-COVID",
          "Post-COVID",
          "Post-COVID",
          "Post-COVID",
          "Post-COVID",
          "Post-COVID",
          "Post-COVID",
          "Post-COVID",
          "Post-COVID",
          "Post-COVID",
          "Post-COVID",
          "Post-COVID",
          "Post-COVID",
          "Post-COVID",
          "Post-COVID",
          "Post-COVID",
          "Post-COVID",
          "Post-COVID",
          "Post-COVID",
          "Post-COVID",
          "Post-COVID",
          "Post-COVID",
          "Post-COVID",
          "Post-COVID",
          "Post-COVID",
          "Post-COVID",
          "Post-COVID",
          "Post-COVID",
          "Post-COVID",
          "Post-COVID",
          "Post-COVID",
          "Post-COVID",
          "Post-COVID",
          "Post-COVID",
          "Post-COVID",
          "Post-COVID",
          "Post-COVID",
          "Post-COVID",
          "Post-COVID",
          "Post-COVID",
          "Post-COVID",
          "Post-COVID",
          "Post-COVID",
          "Post-COVID",
          "Post-COVID",
          "Post-COVID",
          "Post-COVID",
          "Post-COVID",
          "Post-COVID",
          "Post-COVID",
          "Post-COVID",
          "Post-COVID",
          "Post-COVID",
          "Post-COVID",
          "Post-COVID",
          "Post-COVID",
          "Post-COVID",
          "Post-COVID",
          "Post-COVID",
          "Post-COVID",
          "Post-COVID",
          "Post-COVID",
          "Post-COVID",
          "Post-COVID",
          "Post-COVID",
          "Post-COVID",
          "Post-COVID",
          "Post-COVID",
          "Post-COVID",
          "Post-COVID",
          "Post-COVID",
          "Post-COVID",
          "Post-COVID",
          "Post-COVID",
          "Post-COVID",
          "Post-COVID",
          "Post-COVID",
          "Post-COVID",
          "Post-COVID",
          "Post-COVID",
          "Post-COVID",
          "Post-COVID",
          "Post-COVID",
          "Post-COVID",
          "Post-COVID",
          "Post-COVID",
          "Post-COVID",
          "Post-COVID",
          "Post-COVID",
          "Post-COVID",
          "Post-COVID",
          "Post-COVID",
          "Post-COVID",
          "Post-COVID",
          "Post-COVID",
          "Post-COVID",
          "Post-COVID",
          "Post-COVID",
          "Post-COVID",
          "Post-COVID",
          "Post-COVID",
          "Post-COVID",
          "Post-COVID",
          "Post-COVID",
          "Post-COVID",
          "Post-COVID",
          "Post-COVID",
          "Post-COVID",
          "Post-COVID",
          "Post-COVID",
          "Post-COVID",
          "Post-COVID",
          "Post-COVID",
          "Post-COVID",
          "Post-COVID",
          "Post-COVID",
          "Post-COVID",
          "Post-COVID",
          "Post-COVID",
          "Post-COVID",
          "Post-COVID",
          "Post-COVID",
          "Post-COVID",
          "Post-COVID",
          "Post-COVID",
          "Post-COVID",
          "Post-COVID",
          "Post-COVID",
          "Post-COVID",
          "Post-COVID",
          "Post-COVID",
          "Post-COVID",
          "Post-COVID",
          "Post-COVID",
          "Post-COVID",
          "Post-COVID",
          "Post-COVID",
          "Post-COVID",
          "Post-COVID",
          "Post-COVID",
          "Post-COVID",
          "Post-COVID",
          "Post-COVID",
          "Post-COVID",
          "Post-COVID",
          "Post-COVID",
          "Post-COVID",
          "Post-COVID",
          "Post-COVID",
          "Post-COVID",
          "Post-COVID",
          "Post-COVID",
          "Post-COVID",
          "Post-COVID",
          "Post-COVID",
          "Post-COVID",
          "Post-COVID",
          "Post-COVID",
          "Post-COVID",
          "Post-COVID",
          "Post-COVID",
          "Post-COVID",
          "Post-COVID",
          "Post-COVID",
          "Post-COVID",
          "Post-COVID",
          "Post-COVID",
          "Post-COVID",
          "Post-COVID",
          "Post-COVID",
          "Post-COVID",
          "Post-COVID",
          "Post-COVID",
          "Post-COVID",
          "Post-COVID",
          "Post-COVID",
          "Post-COVID",
          "Post-COVID",
          "Post-COVID",
          "Post-COVID",
          "Post-COVID",
          "Post-COVID",
          "Post-COVID",
          "Post-COVID",
          "Post-COVID",
          "Post-COVID",
          "Post-COVID",
          "Post-COVID",
          "Post-COVID",
          "Post-COVID"
         ],
         "xaxis": "x",
         "y": {
          "bdata": "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",
          "dtype": "f8"
         },
         "yaxis": "y"
        }
       ],
       "layout": {
        "bargap": 0.6,
        "barmode": "relative",
        "height": 600,
        "legend": {
         "title": {
          "text": "Covid-19 Impact"
         },
         "tracegroupgap": 0
        },
        "template": {
         "data": {
          "bar": [
           {
            "error_x": {
             "color": "#2a3f5f"
            },
            "error_y": {
             "color": "#2a3f5f"
            },
            "marker": {
             "line": {
              "color": "#E5ECF6",
              "width": 0.5
             },
             "pattern": {
              "fillmode": "overlay",
              "size": 10,
              "solidity": 0.2
             }
            },
            "type": "bar"
           }
          ],
          "barpolar": [
           {
            "marker": {
             "line": {
              "color": "#E5ECF6",
              "width": 0.5
             },
             "pattern": {
              "fillmode": "overlay",
              "size": 10,
              "solidity": 0.2
             }
            },
            "type": "barpolar"
           }
          ],
          "carpet": [
           {
            "aaxis": {
             "endlinecolor": "#2a3f5f",
             "gridcolor": "white",
             "linecolor": "white",
             "minorgridcolor": "white",
             "startlinecolor": "#2a3f5f"
            },
            "baxis": {
             "endlinecolor": "#2a3f5f",
             "gridcolor": "white",
             "linecolor": "white",
             "minorgridcolor": "white",
             "startlinecolor": "#2a3f5f"
            },
            "type": "carpet"
           }
          ],
          "choropleth": [
           {
            "colorbar": {
             "outlinewidth": 0,
             "ticks": ""
            },
            "type": "choropleth"
           }
          ],
          "contour": [
           {
            "colorbar": {
             "outlinewidth": 0,
             "ticks": ""
            },
            "colorscale": [
             [
              0,
              "#0d0887"
             ],
             [
              0.1111111111111111,
              "#46039f"
             ],
             [
              0.2222222222222222,
              "#7201a8"
             ],
             [
              0.3333333333333333,
              "#9c179e"
             ],
             [
              0.4444444444444444,
              "#bd3786"
             ],
             [
              0.5555555555555556,
              "#d8576b"
             ],
             [
              0.6666666666666666,
              "#ed7953"
             ],
             [
              0.7777777777777778,
              "#fb9f3a"
             ],
             [
              0.8888888888888888,
              "#fdca26"
             ],
             [
              1,
              "#f0f921"
             ]
            ],
            "type": "contour"
           }
          ],
          "contourcarpet": [
           {
            "colorbar": {
             "outlinewidth": 0,
             "ticks": ""
            },
            "type": "contourcarpet"
           }
          ],
          "heatmap": [
           {
            "colorbar": {
             "outlinewidth": 0,
             "ticks": ""
            },
            "colorscale": [
             [
              0,
              "#0d0887"
             ],
             [
              0.1111111111111111,
              "#46039f"
             ],
             [
              0.2222222222222222,
              "#7201a8"
             ],
             [
              0.3333333333333333,
              "#9c179e"
             ],
             [
              0.4444444444444444,
              "#bd3786"
             ],
             [
              0.5555555555555556,
              "#d8576b"
             ],
             [
              0.6666666666666666,
              "#ed7953"
             ],
             [
              0.7777777777777778,
              "#fb9f3a"
             ],
             [
              0.8888888888888888,
              "#fdca26"
             ],
             [
              1,
              "#f0f921"
             ]
            ],
            "type": "heatmap"
           }
          ],
          "histogram": [
           {
            "marker": {
             "pattern": {
              "fillmode": "overlay",
              "size": 10,
              "solidity": 0.2
             }
            },
            "type": "histogram"
           }
          ],
          "histogram2d": [
           {
            "colorbar": {
             "outlinewidth": 0,
             "ticks": ""
            },
            "colorscale": [
             [
              0,
              "#0d0887"
             ],
             [
              0.1111111111111111,
              "#46039f"
             ],
             [
              0.2222222222222222,
              "#7201a8"
             ],
             [
              0.3333333333333333,
              "#9c179e"
             ],
             [
              0.4444444444444444,
              "#bd3786"
             ],
             [
              0.5555555555555556,
              "#d8576b"
             ],
             [
              0.6666666666666666,
              "#ed7953"
             ],
             [
              0.7777777777777778,
              "#fb9f3a"
             ],
             [
              0.8888888888888888,
              "#fdca26"
             ],
             [
              1,
              "#f0f921"
             ]
            ],
            "type": "histogram2d"
           }
          ],
          "histogram2dcontour": [
           {
            "colorbar": {
             "outlinewidth": 0,
             "ticks": ""
            },
            "colorscale": [
             [
              0,
              "#0d0887"
             ],
             [
              0.1111111111111111,
              "#46039f"
             ],
             [
              0.2222222222222222,
              "#7201a8"
             ],
             [
              0.3333333333333333,
              "#9c179e"
             ],
             [
              0.4444444444444444,
              "#bd3786"
             ],
             [
              0.5555555555555556,
              "#d8576b"
             ],
             [
              0.6666666666666666,
              "#ed7953"
             ],
             [
              0.7777777777777778,
              "#fb9f3a"
             ],
             [
              0.8888888888888888,
              "#fdca26"
             ],
             [
              1,
              "#f0f921"
             ]
            ],
            "type": "histogram2dcontour"
           }
          ],
          "mesh3d": [
           {
            "colorbar": {
             "outlinewidth": 0,
             "ticks": ""
            },
            "type": "mesh3d"
           }
          ],
          "parcoords": [
           {
            "line": {
             "colorbar": {
              "outlinewidth": 0,
              "ticks": ""
             }
            },
            "type": "parcoords"
           }
          ],
          "pie": [
           {
            "automargin": true,
            "type": "pie"
           }
          ],
          "scatter": [
           {
            "fillpattern": {
             "fillmode": "overlay",
             "size": 10,
             "solidity": 0.2
            },
            "type": "scatter"
           }
          ],
          "scatter3d": [
           {
            "line": {
             "colorbar": {
              "outlinewidth": 0,
              "ticks": ""
             }
            },
            "marker": {
             "colorbar": {
              "outlinewidth": 0,
              "ticks": ""
             }
            },
            "type": "scatter3d"
           }
          ],
          "scattercarpet": [
           {
            "marker": {
             "colorbar": {
              "outlinewidth": 0,
              "ticks": ""
             }
            },
            "type": "scattercarpet"
           }
          ],
          "scattergeo": [
           {
            "marker": {
             "colorbar": {
              "outlinewidth": 0,
              "ticks": ""
             }
            },
            "type": "scattergeo"
           }
          ],
          "scattergl": [
           {
            "marker": {
             "colorbar": {
              "outlinewidth": 0,
              "ticks": ""
             }
            },
            "type": "scattergl"
           }
          ],
          "scattermap": [
           {
            "marker": {
             "colorbar": {
              "outlinewidth": 0,
              "ticks": ""
             }
            },
            "type": "scattermap"
           }
          ],
          "scattermapbox": [
           {
            "marker": {
             "colorbar": {
              "outlinewidth": 0,
              "ticks": ""
             }
            },
            "type": "scattermapbox"
           }
          ],
          "scatterpolar": [
           {
            "marker": {
             "colorbar": {
              "outlinewidth": 0,
              "ticks": ""
             }
            },
            "type": "scatterpolar"
           }
          ],
          "scatterpolargl": [
           {
            "marker": {
             "colorbar": {
              "outlinewidth": 0,
              "ticks": ""
             }
            },
            "type": "scatterpolargl"
           }
          ],
          "scatterternary": [
           {
            "marker": {
             "colorbar": {
              "outlinewidth": 0,
              "ticks": ""
             }
            },
            "type": "scatterternary"
           }
          ],
          "surface": [
           {
            "colorbar": {
             "outlinewidth": 0,
             "ticks": ""
            },
            "colorscale": [
             [
              0,
              "#0d0887"
             ],
             [
              0.1111111111111111,
              "#46039f"
             ],
             [
              0.2222222222222222,
              "#7201a8"
             ],
             [
              0.3333333333333333,
              "#9c179e"
             ],
             [
              0.4444444444444444,
              "#bd3786"
             ],
             [
              0.5555555555555556,
              "#d8576b"
             ],
             [
              0.6666666666666666,
              "#ed7953"
             ],
             [
              0.7777777777777778,
              "#fb9f3a"
             ],
             [
              0.8888888888888888,
              "#fdca26"
             ],
             [
              1,
              "#f0f921"
             ]
            ],
            "type": "surface"
           }
          ],
          "table": [
           {
            "cells": {
             "fill": {
              "color": "#EBF0F8"
             },
             "line": {
              "color": "white"
             }
            },
            "header": {
             "fill": {
              "color": "#C8D4E3"
             },
             "line": {
              "color": "white"
             }
            },
            "type": "table"
           }
          ]
         },
         "layout": {
          "annotationdefaults": {
           "arrowcolor": "#2a3f5f",
           "arrowhead": 0,
           "arrowwidth": 1
          },
          "autotypenumbers": "strict",
          "coloraxis": {
           "colorbar": {
            "outlinewidth": 0,
            "ticks": ""
           }
          },
          "colorscale": {
           "diverging": [
            [
             0,
             "#8e0152"
            ],
            [
             0.1,
             "#c51b7d"
            ],
            [
             0.2,
             "#de77ae"
            ],
            [
             0.3,
             "#f1b6da"
            ],
            [
             0.4,
             "#fde0ef"
            ],
            [
             0.5,
             "#f7f7f7"
            ],
            [
             0.6,
             "#e6f5d0"
            ],
            [
             0.7,
             "#b8e186"
            ],
            [
             0.8,
             "#7fbc41"
            ],
            [
             0.9,
             "#4d9221"
            ],
            [
             1,
             "#276419"
            ]
           ],
           "sequential": [
            [
             0,
             "#0d0887"
            ],
            [
             0.1111111111111111,
             "#46039f"
            ],
            [
             0.2222222222222222,
             "#7201a8"
            ],
            [
             0.3333333333333333,
             "#9c179e"
            ],
            [
             0.4444444444444444,
             "#bd3786"
            ],
            [
             0.5555555555555556,
             "#d8576b"
            ],
            [
             0.6666666666666666,
             "#ed7953"
            ],
            [
             0.7777777777777778,
             "#fb9f3a"
            ],
            [
             0.8888888888888888,
             "#fdca26"
            ],
            [
             1,
             "#f0f921"
            ]
           ],
           "sequentialminus": [
            [
             0,
             "#0d0887"
            ],
            [
             0.1111111111111111,
             "#46039f"
            ],
            [
             0.2222222222222222,
             "#7201a8"
            ],
            [
             0.3333333333333333,
             "#9c179e"
            ],
            [
             0.4444444444444444,
             "#bd3786"
            ],
            [
             0.5555555555555556,
             "#d8576b"
            ],
            [
             0.6666666666666666,
             "#ed7953"
            ],
            [
             0.7777777777777778,
             "#fb9f3a"
            ],
            [
             0.8888888888888888,
             "#fdca26"
            ],
            [
             1,
             "#f0f921"
            ]
           ]
          },
          "colorway": [
           "#636efa",
           "#EF553B",
           "#00cc96",
           "#ab63fa",
           "#FFA15A",
           "#19d3f3",
           "#FF6692",
           "#B6E880",
           "#FF97FF",
           "#FECB52"
          ],
          "font": {
           "color": "#2a3f5f"
          },
          "geo": {
           "bgcolor": "white",
           "lakecolor": "white",
           "landcolor": "#E5ECF6",
           "showlakes": true,
           "showland": true,
           "subunitcolor": "white"
          },
          "hoverlabel": {
           "align": "left"
          },
          "hovermode": "closest",
          "mapbox": {
           "style": "light"
          },
          "paper_bgcolor": "white",
          "plot_bgcolor": "#E5ECF6",
          "polar": {
           "angularaxis": {
            "gridcolor": "white",
            "linecolor": "white",
            "ticks": ""
           },
           "bgcolor": "#E5ECF6",
           "radialaxis": {
            "gridcolor": "white",
            "linecolor": "white",
            "ticks": ""
           }
          },
          "scene": {
           "xaxis": {
            "backgroundcolor": "#E5ECF6",
            "gridcolor": "white",
            "gridwidth": 2,
            "linecolor": "white",
            "showbackground": true,
            "ticks": "",
            "zerolinecolor": "white"
           },
           "yaxis": {
            "backgroundcolor": "#E5ECF6",
            "gridcolor": "white",
            "gridwidth": 2,
            "linecolor": "white",
            "showbackground": true,
            "ticks": "",
            "zerolinecolor": "white"
           },
           "zaxis": {
            "backgroundcolor": "#E5ECF6",
            "gridcolor": "white",
            "gridwidth": 2,
            "linecolor": "white",
            "showbackground": true,
            "ticks": "",
            "zerolinecolor": "white"
           }
          },
          "shapedefaults": {
           "line": {
            "color": "#2a3f5f"
           }
          },
          "ternary": {
           "aaxis": {
            "gridcolor": "white",
            "linecolor": "white",
            "ticks": ""
           },
           "baxis": {
            "gridcolor": "white",
            "linecolor": "white",
            "ticks": ""
           },
           "bgcolor": "#E5ECF6",
           "caxis": {
            "gridcolor": "white",
            "linecolor": "white",
            "ticks": ""
           }
          },
          "title": {
           "x": 0.05
          },
          "xaxis": {
           "automargin": true,
           "gridcolor": "white",
           "linecolor": "white",
           "ticks": "",
           "title": {
            "standoff": 15
           },
           "zerolinecolor": "white",
           "zerolinewidth": 2
          },
          "yaxis": {
           "automargin": true,
           "gridcolor": "white",
           "linecolor": "white",
           "ticks": "",
           "title": {
            "standoff": 15
           },
           "zerolinecolor": "white",
           "zerolinewidth": 2
          }
         }
        },
        "title": {
         "text": "Unemployment Rate Before and After COVID-19"
        },
        "width": 1000,
        "xaxis": {
         "anchor": "y",
         "categoryarray": [
          "Pre-COVID",
          "Post-COVID"
         ],
         "categoryorder": "array",
         "domain": [
          0,
          1
         ],
         "title": {
          "text": "Covid-19 Impact"
         }
        },
        "yaxis": {
         "anchor": "x",
         "domain": [
          0,
          1
         ],
         "title": {
          "text": "EstimatedUnemploymentRate(%)"
         }
        }
       }
      }
     },
     "metadata": {},
     "output_type": "display_data"
    }
   ],
   "source": [
    "# Unemployment Rate Before and After COVID-19\n",
    "fig = px.bar(df, x='Covid-19 Impact', y='EstimatedUnemploymentRate(%)', title='Unemployment Rate Before and After COVID-19', color='Covid-19 Impact',\n",
    "             color_discrete_sequence=px.colors.qualitative.G10)\n",
    "fig.update_layout(width=1000, height=600, bargap=0.6)\n",
    "fig.show()\n"
   ]
  },
  {
   "cell_type": "code",
   "execution_count": 16,
   "metadata": {},
   "outputs": [
    {
     "data": {
      "application/vnd.plotly.v1+json": {
       "config": {
        "plotlyServerURL": "https://plot.ly"
       },
       "data": [
        {
         "hovertemplate": "Region=Andhra Pradesh<br>Date=%{x}<br>EstimatedLabourParticipationRate(%)=%{y}<extra></extra>",
         "legendgroup": "Andhra Pradesh",
         "line": {
          "color": "#636efa",
          "dash": "solid"
         },
         "marker": {
          "symbol": "circle"
         },
         "mode": "lines",
         "name": "Andhra Pradesh",
         "showlegend": true,
         "type": "scattergl",
         "x": [
          "2019-05-31T00:00:00.000000000",
          "2019-06-30T00:00:00.000000000",
          "2019-07-31T00:00:00.000000000",
          "2019-08-31T00:00:00.000000000",
          "2019-09-30T00:00:00.000000000",
          "2019-10-31T00:00:00.000000000",
          "2019-11-30T00:00:00.000000000",
          "2019-12-31T00:00:00.000000000",
          "2020-01-31T00:00:00.000000000",
          "2020-02-29T00:00:00.000000000",
          "2020-03-31T00:00:00.000000000",
          "2020-04-30T00:00:00.000000000",
          "2020-05-31T00:00:00.000000000",
          "2020-06-30T00:00:00.000000000",
          "2019-05-31T00:00:00.000000000",
          "2019-06-30T00:00:00.000000000",
          "2019-07-31T00:00:00.000000000",
          "2019-08-31T00:00:00.000000000",
          "2019-09-30T00:00:00.000000000",
          "2019-10-31T00:00:00.000000000",
          "2019-11-30T00:00:00.000000000",
          "2019-12-31T00:00:00.000000000",
          "2020-01-31T00:00:00.000000000",
          "2020-02-29T00:00:00.000000000",
          "2020-03-31T00:00:00.000000000",
          "2020-04-30T00:00:00.000000000",
          "2020-05-31T00:00:00.000000000",
          "2020-06-30T00:00:00.000000000",
          "2020-01-31T00:00:00.000000000",
          "2020-02-29T00:00:00.000000000",
          "2020-03-31T00:00:00.000000000",
          "2020-04-30T00:00:00.000000000",
          "2020-05-31T00:00:00.000000000",
          "2020-06-30T00:00:00.000000000",
          "2020-07-31T00:00:00.000000000",
          "2020-08-31T00:00:00.000000000",
          "2020-09-30T00:00:00.000000000",
          "2020-10-31T00:00:00.000000000"
         ],
         "xaxis": "x",
         "y": {
          "bdata": "H4XrUbieRUBmZmZmZgZFQAAAAAAAwEVAXI/C9Sj8RUDXo3A9CldGQOF6FK5HgUVAAAAAAACAREBSuB6F65FGQHsUrkfhukVACtejcD1qRUAUrkfhelREQKRwPQrXA0JAFK5H4XoUQ0DhehSuR+FKQJqZmZmZuUJA4XoUrkdhQkDNzMzMzAxCQIXrUbgeJUJAuB6F61FYQkAUrkfhejRCQI/C9ShcT0JArkfhehROQ0AUrkfhevRBQOxRuB6Fa0JACtejcD0KQkC4HoXrUfg6QLgehetRWEBArkfhehTOQkDD9Shcj4JEQDMzMzMzc0RA16NwPQqXQ0DNzMzMzIxAQHsUrkfhOkJAFK5H4Xq0R0AUrkfhenRDQArXo3A96kJAXI/C9Si8QkDsUbgehatCQA==",
          "dtype": "f8"
         },
         "yaxis": "y"
        },
        {
         "hovertemplate": "Region=Assam<br>Date=%{x}<br>EstimatedLabourParticipationRate(%)=%{y}<extra></extra>",
         "legendgroup": "Assam",
         "line": {
          "color": "#EF553B",
          "dash": "solid"
         },
         "marker": {
          "symbol": "circle"
         },
         "mode": "lines",
         "name": "Assam",
         "showlegend": true,
         "type": "scattergl",
         "x": [
          "2019-05-31T00:00:00.000000000",
          "2019-06-30T00:00:00.000000000",
          "2019-07-31T00:00:00.000000000",
          "2019-08-31T00:00:00.000000000",
          "2019-09-30T00:00:00.000000000",
          "2019-10-31T00:00:00.000000000",
          "2019-11-30T00:00:00.000000000",
          "2020-01-31T00:00:00.000000000",
          "2020-02-29T00:00:00.000000000",
          "2020-03-31T00:00:00.000000000",
          "2020-05-31T00:00:00.000000000",
          "2020-06-30T00:00:00.000000000",
          "2019-05-31T00:00:00.000000000",
          "2019-06-30T00:00:00.000000000",
          "2019-07-31T00:00:00.000000000",
          "2019-08-31T00:00:00.000000000",
          "2019-09-30T00:00:00.000000000",
          "2019-10-31T00:00:00.000000000",
          "2019-11-30T00:00:00.000000000",
          "2019-12-31T00:00:00.000000000",
          "2020-01-31T00:00:00.000000000",
          "2020-02-29T00:00:00.000000000",
          "2020-03-31T00:00:00.000000000",
          "2020-04-30T00:00:00.000000000",
          "2020-05-31T00:00:00.000000000",
          "2020-06-30T00:00:00.000000000",
          "2020-01-31T00:00:00.000000000",
          "2020-02-29T00:00:00.000000000",
          "2020-03-31T00:00:00.000000000",
          "2020-04-30T00:00:00.000000000",
          "2020-05-31T00:00:00.000000000",
          "2020-06-30T00:00:00.000000000",
          "2020-07-31T00:00:00.000000000",
          "2020-08-31T00:00:00.000000000",
          "2020-09-30T00:00:00.000000000",
          "2020-10-31T00:00:00.000000000"
         ],
         "xaxis": "x",
         "y": {
          "bdata": "UrgeheuxTECPwvUoXO9FQHsUrkfhGkhACtejcD3qRkD2KFyPwtVLQOF6FK5HYURAUrgehetRR0AzMzMzM3NLQPYoXI/CFURAZmZmZmaGR0AAAAAAAABJQHE9CtejMEFA9ihcj8J1RkD2KFyPwpVGQClcj8L1KEZASOF6FK7nRUAUrkfhelRFQOF6FK5HAUZA7FG4HoVLRkDhehSuRyFGQClcj8L1aEVAMzMzMzPzRUCkcD0K14NGQJqZmZmZOUNAhetRuB6FQ0A9CtejcF1DQD0K16NwfUpAw/UoXI9iREA9CtejcF1HQM3MzMzMjD1A4XoUrkchSEApXI/C9YhBQHE9CtejcERAw/UoXI/CQ0BxPQrXozBLQOxRuB6Fa0dA",
          "dtype": "f8"
         },
         "yaxis": "y"
        },
        {
         "hovertemplate": "Region=Bihar<br>Date=%{x}<br>EstimatedLabourParticipationRate(%)=%{y}<extra></extra>",
         "legendgroup": "Bihar",
         "line": {
          "color": "#00cc96",
          "dash": "solid"
         },
         "marker": {
          "symbol": "circle"
         },
         "mode": "lines",
         "name": "Bihar",
         "showlegend": true,
         "type": "scattergl",
         "x": [
          "2019-05-31T00:00:00.000000000",
          "2019-06-30T00:00:00.000000000",
          "2019-07-31T00:00:00.000000000",
          "2019-08-31T00:00:00.000000000",
          "2019-09-30T00:00:00.000000000",
          "2019-10-31T00:00:00.000000000",
          "2019-11-30T00:00:00.000000000",
          "2019-12-31T00:00:00.000000000",
          "2020-01-31T00:00:00.000000000",
          "2020-02-29T00:00:00.000000000",
          "2020-03-31T00:00:00.000000000",
          "2020-04-30T00:00:00.000000000",
          "2020-05-31T00:00:00.000000000",
          "2020-06-30T00:00:00.000000000",
          "2019-05-31T00:00:00.000000000",
          "2019-06-30T00:00:00.000000000",
          "2019-07-31T00:00:00.000000000",
          "2019-08-31T00:00:00.000000000",
          "2019-09-30T00:00:00.000000000",
          "2019-10-31T00:00:00.000000000",
          "2019-11-30T00:00:00.000000000",
          "2019-12-31T00:00:00.000000000",
          "2020-01-31T00:00:00.000000000",
          "2020-02-29T00:00:00.000000000",
          "2020-03-31T00:00:00.000000000",
          "2020-04-30T00:00:00.000000000",
          "2020-05-31T00:00:00.000000000",
          "2020-06-30T00:00:00.000000000",
          "2020-01-31T00:00:00.000000000",
          "2020-02-29T00:00:00.000000000",
          "2020-03-31T00:00:00.000000000",
          "2020-04-30T00:00:00.000000000",
          "2020-05-31T00:00:00.000000000",
          "2020-06-30T00:00:00.000000000",
          "2020-07-31T00:00:00.000000000",
          "2020-08-31T00:00:00.000000000",
          "2020-09-30T00:00:00.000000000",
          "2020-10-31T00:00:00.000000000"
         ],
         "xaxis": "x",
         "y": {
          "bdata": "AAAAAADgQ0B7FK5H4dpDQBSuR+F61ENAzczMzMxsQkApXI/C9UhDQEjhehSuJ0RA4XoUrkfBQkAAAAAAAKBCQIXrUbgexUJApHA9CtejQkBxPQrXo3BDQHE9CtejUENAAAAAAABAQ0AzMzMzM7NCQGZmZmZm5kNAzczMzMysQ0CuR+F6FC5DQKRwPQrXA0NAAAAAAACgQ0CamZmZmTlDQK5H4XoUbkNAhetRuB4lQkAfhetRuH5DQI/C9Shc70JAhetRuB6lQkC4HoXrUXhBQJqZmZmZOUJAhetRuB5FQkBcj8L1KNxCQM3MzMzMrEJAuB6F61FYQ0D2KFyPwhVDQBSuR+F6FENArkfhehRuQkBSuB6F6xFCQOxRuB6FS0FAzczMzMwsQ0CamZmZmdlBQA==",
          "dtype": "f8"
         },
         "yaxis": "y"
        },
        {
         "hovertemplate": "Region=Chhattisgarh<br>Date=%{x}<br>EstimatedLabourParticipationRate(%)=%{y}<extra></extra>",
         "legendgroup": "Chhattisgarh",
         "line": {
          "color": "#ab63fa",
          "dash": "solid"
         },
         "marker": {
          "symbol": "circle"
         },
         "mode": "lines",
         "name": "Chhattisgarh",
         "showlegend": true,
         "type": "scattergl",
         "x": [
          "2019-05-31T00:00:00.000000000",
          "2019-06-30T00:00:00.000000000",
          "2019-07-31T00:00:00.000000000",
          "2019-08-31T00:00:00.000000000",
          "2019-09-30T00:00:00.000000000",
          "2019-10-31T00:00:00.000000000",
          "2019-11-30T00:00:00.000000000",
          "2019-12-31T00:00:00.000000000",
          "2020-01-31T00:00:00.000000000",
          "2020-02-29T00:00:00.000000000",
          "2020-03-31T00:00:00.000000000",
          "2020-04-30T00:00:00.000000000",
          "2020-05-31T00:00:00.000000000",
          "2020-06-30T00:00:00.000000000",
          "2019-05-31T00:00:00.000000000",
          "2019-06-30T00:00:00.000000000",
          "2019-07-31T00:00:00.000000000",
          "2019-08-31T00:00:00.000000000",
          "2019-09-30T00:00:00.000000000",
          "2019-10-31T00:00:00.000000000",
          "2019-11-30T00:00:00.000000000",
          "2019-12-31T00:00:00.000000000",
          "2020-01-31T00:00:00.000000000",
          "2020-02-29T00:00:00.000000000",
          "2020-03-31T00:00:00.000000000",
          "2020-04-30T00:00:00.000000000",
          "2020-05-31T00:00:00.000000000",
          "2020-06-30T00:00:00.000000000",
          "2020-01-31T00:00:00.000000000",
          "2020-02-29T00:00:00.000000000",
          "2020-03-31T00:00:00.000000000",
          "2020-04-30T00:00:00.000000000",
          "2020-05-31T00:00:00.000000000",
          "2020-06-30T00:00:00.000000000",
          "2020-07-31T00:00:00.000000000",
          "2020-08-31T00:00:00.000000000",
          "2020-09-30T00:00:00.000000000",
          "2020-10-31T00:00:00.000000000"
         ],
         "xaxis": "x",
         "y": {
          "bdata": "UrgehetxRUB7FK5H4dpFQKRwPQrXw0VAZmZmZmZGRUBxPQrXo7BFQKRwPQrXI0dASOF6FK7HRUDsUbgehUtFQKRwPQrXA0VAZmZmZmaGRkA9CtejcH1GQNejcD0Kt0NASOF6FK7HQUAUrkfhelRDQK5H4XoUzkZAcT0K16PwRkDNzMzMzOxGQBSuR+F6dEdAZmZmZmZmR0ApXI/C9WhHQOxRuB6FS0dA7FG4HoXLRkB7FK5H4RpHQFK4HoXrkUdAUrgeheuxR0CPwvUoXA84QD0K16NwPT5AFK5H4Xq0Q0AK16NwPYpFQArXo3A9ykZA7FG4HoXLRkAK16NwPcpBQD0K16NwnUFAPQrXo3A9Q0BSuB6F65FFQFyPwvUofEVAUrgeheuRREApXI/C9WhEQA==",
          "dtype": "f8"
         },
         "yaxis": "y"
        },
        {
         "hovertemplate": "Region=Delhi<br>Date=%{x}<br>EstimatedLabourParticipationRate(%)=%{y}<extra></extra>",
         "legendgroup": "Delhi",
         "line": {
          "color": "#FFA15A",
          "dash": "solid"
         },
         "marker": {
          "symbol": "circle"
         },
         "mode": "lines",
         "name": "Delhi",
         "showlegend": true,
         "type": "scattergl",
         "x": [
          "2019-05-31T00:00:00.000000000",
          "2019-06-30T00:00:00.000000000",
          "2019-07-31T00:00:00.000000000",
          "2019-08-31T00:00:00.000000000",
          "2019-09-30T00:00:00.000000000",
          "2019-10-31T00:00:00.000000000",
          "2019-11-30T00:00:00.000000000",
          "2019-12-31T00:00:00.000000000",
          "2020-01-31T00:00:00.000000000",
          "2020-02-29T00:00:00.000000000",
          "2020-03-31T00:00:00.000000000",
          "2020-04-30T00:00:00.000000000",
          "2020-05-31T00:00:00.000000000",
          "2020-06-30T00:00:00.000000000",
          "2019-05-31T00:00:00.000000000",
          "2019-06-30T00:00:00.000000000",
          "2019-07-31T00:00:00.000000000",
          "2019-08-31T00:00:00.000000000",
          "2019-09-30T00:00:00.000000000",
          "2019-10-31T00:00:00.000000000",
          "2019-11-30T00:00:00.000000000",
          "2019-12-31T00:00:00.000000000",
          "2020-01-31T00:00:00.000000000",
          "2020-02-29T00:00:00.000000000",
          "2020-03-31T00:00:00.000000000",
          "2020-04-30T00:00:00.000000000",
          "2020-05-31T00:00:00.000000000",
          "2020-06-30T00:00:00.000000000",
          "2020-01-31T00:00:00.000000000",
          "2020-02-29T00:00:00.000000000",
          "2020-03-31T00:00:00.000000000",
          "2020-04-30T00:00:00.000000000",
          "2020-05-31T00:00:00.000000000",
          "2020-06-30T00:00:00.000000000",
          "2020-07-31T00:00:00.000000000",
          "2020-08-31T00:00:00.000000000",
          "2020-09-30T00:00:00.000000000",
          "2020-10-31T00:00:00.000000000"
         ],
         "xaxis": "x",
         "y": {
          "bdata": "CtejcD0qRUAfhetRuN5BQKRwPQrXQ0RAexSuR+GaQUDXo3A9CldEQDMzMzMz80JAexSuR+FaRUAK16NwPYpCQK5H4XoULkNA7FG4HoXrQUCamZmZmblCQPYoXI/CNT5AMzMzMzNTQUC4HoXrUTg9QPYoXI/CFUZAexSuR+FaRUDsUbgehStFQDMzMzMzc0VArkfhehSuR0CkcD0K1+NGQMP1KFyPgkVASOF6FK5HRUDsUbgehQtIQNejcD0KF0ZAKVyPwvVoRUDXo3A9Cpc3QEjhehSuRzxAKVyPwvUoQUCF61G4HuVHQPYoXI/C9UVAMzMzMzNTRUDNzMzMzMw3QClcj8L16DxA9ihcj8IVQUBcj8L1KPxAQBSuR+F6tEFA7FG4HoXLQUCuR+F6FC5AQA==",
          "dtype": "f8"
         },
         "yaxis": "y"
        },
        {
         "hovertemplate": "Region=Goa<br>Date=%{x}<br>EstimatedLabourParticipationRate(%)=%{y}<extra></extra>",
         "legendgroup": "Goa",
         "line": {
          "color": "#19d3f3",
          "dash": "solid"
         },
         "marker": {
          "symbol": "circle"
         },
         "mode": "lines",
         "name": "Goa",
         "showlegend": true,
         "type": "scattergl",
         "x": [
          "2019-05-31T00:00:00.000000000",
          "2019-06-30T00:00:00.000000000",
          "2019-07-31T00:00:00.000000000",
          "2019-08-31T00:00:00.000000000",
          "2019-09-30T00:00:00.000000000",
          "2019-10-31T00:00:00.000000000",
          "2019-11-30T00:00:00.000000000",
          "2019-12-31T00:00:00.000000000",
          "2020-01-31T00:00:00.000000000",
          "2020-02-29T00:00:00.000000000",
          "2020-04-30T00:00:00.000000000",
          "2020-05-31T00:00:00.000000000",
          "2019-05-31T00:00:00.000000000",
          "2019-06-30T00:00:00.000000000",
          "2019-07-31T00:00:00.000000000",
          "2019-08-31T00:00:00.000000000",
          "2019-09-30T00:00:00.000000000",
          "2019-10-31T00:00:00.000000000",
          "2019-11-30T00:00:00.000000000",
          "2019-12-31T00:00:00.000000000",
          "2020-01-31T00:00:00.000000000",
          "2020-02-29T00:00:00.000000000",
          "2020-03-31T00:00:00.000000000",
          "2020-04-30T00:00:00.000000000",
          "2020-01-31T00:00:00.000000000",
          "2020-02-29T00:00:00.000000000",
          "2020-03-31T00:00:00.000000000",
          "2020-04-30T00:00:00.000000000",
          "2020-05-31T00:00:00.000000000",
          "2020-06-30T00:00:00.000000000",
          "2020-07-31T00:00:00.000000000",
          "2020-08-31T00:00:00.000000000",
          "2020-09-30T00:00:00.000000000",
          "2020-10-31T00:00:00.000000000"
         ],
         "xaxis": "x",
         "y": {
          "bdata": "FK5H4XqUQ0C4HoXrURhDQEjhehSu50NArkfhehTOQ0CkcD0K1+NBQK5H4XoULkRA7FG4HoULRkCamZmZmVlDQK5H4XoUrkFArkfhehQOQkCuR+F6FK5GQHsUrkfh2kBA9ihcj8IVQUB7FK5H4fpFQAAAAAAAAERAuB6F61H4P0D2KFyPwvVDQMP1KFyPokRAXI/C9SicRkDD9Shcj2JFQJqZmZmZ+UFAPQrXo3DdQ0BmZmZmZgZCQB+F61G4XkZAPQrXo3DdQUBxPQrXozBDQHE9Ctej8EBAXI/C9Sh8RkCuR+F6FK5CQHsUrkfhGkVAuB6F61F4RUDhehSuR+FFQFK4HoXrcUNAZmZmZmYmQUA=",
          "dtype": "f8"
         },
         "yaxis": "y"
        },
        {
         "hovertemplate": "Region=Gujarat<br>Date=%{x}<br>EstimatedLabourParticipationRate(%)=%{y}<extra></extra>",
         "legendgroup": "Gujarat",
         "line": {
          "color": "#FF6692",
          "dash": "solid"
         },
         "marker": {
          "symbol": "circle"
         },
         "mode": "lines",
         "name": "Gujarat",
         "showlegend": true,
         "type": "scattergl",
         "x": [
          "2019-05-31T00:00:00.000000000",
          "2019-06-30T00:00:00.000000000",
          "2019-07-31T00:00:00.000000000",
          "2019-08-31T00:00:00.000000000",
          "2019-09-30T00:00:00.000000000",
          "2019-10-31T00:00:00.000000000",
          "2019-11-30T00:00:00.000000000",
          "2019-12-31T00:00:00.000000000",
          "2020-01-31T00:00:00.000000000",
          "2020-02-29T00:00:00.000000000",
          "2020-03-31T00:00:00.000000000",
          "2020-04-30T00:00:00.000000000",
          "2020-05-31T00:00:00.000000000",
          "2020-06-30T00:00:00.000000000",
          "2019-05-31T00:00:00.000000000",
          "2019-06-30T00:00:00.000000000",
          "2019-07-31T00:00:00.000000000",
          "2019-08-31T00:00:00.000000000",
          "2019-09-30T00:00:00.000000000",
          "2019-10-31T00:00:00.000000000",
          "2019-11-30T00:00:00.000000000",
          "2019-12-31T00:00:00.000000000",
          "2020-01-31T00:00:00.000000000",
          "2020-02-29T00:00:00.000000000",
          "2020-03-31T00:00:00.000000000",
          "2020-04-30T00:00:00.000000000",
          "2020-05-31T00:00:00.000000000",
          "2020-06-30T00:00:00.000000000",
          "2020-01-31T00:00:00.000000000",
          "2020-02-29T00:00:00.000000000",
          "2020-03-31T00:00:00.000000000",
          "2020-04-30T00:00:00.000000000",
          "2020-05-31T00:00:00.000000000",
          "2020-06-30T00:00:00.000000000",
          "2020-07-31T00:00:00.000000000",
          "2020-08-31T00:00:00.000000000",
          "2020-09-30T00:00:00.000000000",
          "2020-10-31T00:00:00.000000000"
         ],
         "xaxis": "x",
         "y": {
          "bdata": "pHA9CtcDSkCPwvUoXA9JQHsUrkfhGktAKVyPwvVISUDhehSuR4FJQMP1KFyPIkpAZmZmZmZGS0DhehSuR8FJQClcj8L1CEtAPQrXo3C9SkBI4XoUrgdKQMP1KFyPYkFASOF6FK4nR0Bcj8L1KNxHQPYoXI/C1URAKVyPwvVIRkCF61G4HkVFQFyPwvUo3EVAAAAAAADgREBSuB6F65FGQAAAAAAAwEVAAAAAAADgRUC4HoXrURhFQEjhehSuJ0dAMzMzMzNzRUAK16NwPSpCQIXrUbgehTtA4XoUrkchRkAfhetRuD5IQK5H4XoUDklAAAAAAADgR0AAAAAAAMBBQD0K16NwHUNAexSuR+H6RkAUrkfhejRHQGZmZmZmxkVAFK5H4Xo0SEAfhetRuD5JQA==",
          "dtype": "f8"
         },
         "yaxis": "y"
        },
        {
         "hovertemplate": "Region=Haryana<br>Date=%{x}<br>EstimatedLabourParticipationRate(%)=%{y}<extra></extra>",
         "legendgroup": "Haryana",
         "line": {
          "color": "#B6E880",
          "dash": "solid"
         },
         "marker": {
          "symbol": "circle"
         },
         "mode": "lines",
         "name": "Haryana",
         "showlegend": true,
         "type": "scattergl",
         "x": [
          "2019-05-31T00:00:00.000000000",
          "2019-06-30T00:00:00.000000000",
          "2019-07-31T00:00:00.000000000",
          "2019-08-31T00:00:00.000000000",
          "2019-09-30T00:00:00.000000000",
          "2019-10-31T00:00:00.000000000",
          "2019-11-30T00:00:00.000000000",
          "2019-12-31T00:00:00.000000000",
          "2020-01-31T00:00:00.000000000",
          "2020-02-29T00:00:00.000000000",
          "2020-03-31T00:00:00.000000000",
          "2020-04-30T00:00:00.000000000",
          "2020-05-31T00:00:00.000000000",
          "2020-06-30T00:00:00.000000000",
          "2019-05-31T00:00:00.000000000",
          "2019-06-30T00:00:00.000000000",
          "2019-07-31T00:00:00.000000000",
          "2019-08-31T00:00:00.000000000",
          "2019-09-30T00:00:00.000000000",
          "2019-10-31T00:00:00.000000000",
          "2019-11-30T00:00:00.000000000",
          "2019-12-31T00:00:00.000000000",
          "2020-01-31T00:00:00.000000000",
          "2020-02-29T00:00:00.000000000",
          "2020-03-31T00:00:00.000000000",
          "2020-04-30T00:00:00.000000000",
          "2020-05-31T00:00:00.000000000",
          "2020-06-30T00:00:00.000000000",
          "2020-01-31T00:00:00.000000000",
          "2020-02-29T00:00:00.000000000",
          "2020-03-31T00:00:00.000000000",
          "2020-04-30T00:00:00.000000000",
          "2020-05-31T00:00:00.000000000",
          "2020-06-30T00:00:00.000000000",
          "2020-07-31T00:00:00.000000000",
          "2020-08-31T00:00:00.000000000",
          "2020-09-30T00:00:00.000000000",
          "2020-10-31T00:00:00.000000000"
         ],
         "xaxis": "x",
         "y": {
          "bdata": "j8L1KFyPRkA9CtejcJ1GQPYoXI/CFUVAPQrXo3AdSEBcj8L1KFxGQClcj8L1CEdAPQrXo3A9RUAzMzMzM7NHQB+F61G43kVAj8L1KFyvRkAzMzMzM7NEQM3MzMzM7EhApHA9CtdjRUCkcD0K10NIQNejcD0Kl0VASOF6FK6HRUDD9Shcj2JDQI/C9Shc70NAmpmZmZnZRUAK16NwPUpFQNejcD0Kl0NAKVyPwvXIQ0AAAAAAAGBFQClcj8L1KEVAPQrXo3BdQkA9CtejcL1BQMP1KFyPIkNA7FG4HoULQ0CuR+F6FK5FQHsUrkfhGkZAcT0K16PQQ0BxPQrXozBGQFK4HoXrMURAUrgehesRRUDD9Shcj+JDQClcj8L1qEdAmpmZmZmZQ0DNzMzMzExEQA==",
          "dtype": "f8"
         },
         "yaxis": "y"
        },
        {
         "hovertemplate": "Region=Himachal Pradesh<br>Date=%{x}<br>EstimatedLabourParticipationRate(%)=%{y}<extra></extra>",
         "legendgroup": "Himachal Pradesh",
         "line": {
          "color": "#FF97FF",
          "dash": "solid"
         },
         "marker": {
          "symbol": "circle"
         },
         "mode": "lines",
         "name": "Himachal Pradesh",
         "showlegend": true,
         "type": "scattergl",
         "x": [
          "2019-05-31T00:00:00.000000000",
          "2019-06-30T00:00:00.000000000",
          "2019-07-31T00:00:00.000000000",
          "2019-08-31T00:00:00.000000000",
          "2019-09-30T00:00:00.000000000",
          "2019-10-31T00:00:00.000000000",
          "2019-11-30T00:00:00.000000000",
          "2019-12-31T00:00:00.000000000",
          "2020-01-31T00:00:00.000000000",
          "2020-02-29T00:00:00.000000000",
          "2020-03-31T00:00:00.000000000",
          "2020-04-30T00:00:00.000000000",
          "2020-05-31T00:00:00.000000000",
          "2020-06-30T00:00:00.000000000",
          "2019-05-31T00:00:00.000000000",
          "2019-06-30T00:00:00.000000000",
          "2019-07-31T00:00:00.000000000",
          "2019-08-31T00:00:00.000000000",
          "2019-09-30T00:00:00.000000000",
          "2019-10-31T00:00:00.000000000",
          "2019-11-30T00:00:00.000000000",
          "2019-12-31T00:00:00.000000000",
          "2020-01-31T00:00:00.000000000",
          "2020-02-29T00:00:00.000000000",
          "2020-03-31T00:00:00.000000000",
          "2020-04-30T00:00:00.000000000",
          "2020-05-31T00:00:00.000000000",
          "2020-06-30T00:00:00.000000000",
          "2020-01-31T00:00:00.000000000",
          "2020-02-29T00:00:00.000000000",
          "2020-03-31T00:00:00.000000000",
          "2020-04-30T00:00:00.000000000",
          "2020-05-31T00:00:00.000000000",
          "2020-06-30T00:00:00.000000000",
          "2020-07-31T00:00:00.000000000",
          "2020-08-31T00:00:00.000000000",
          "2020-09-30T00:00:00.000000000",
          "2020-10-31T00:00:00.000000000"
         ],
         "xaxis": "x",
         "y": {
          "bdata": "PQrXo3AdRkDXo3A9CpdEQBSuR+F6dEZAFK5H4Xp0RkDD9Shcj4JGQEjhehSuZ0VAAAAAAABASEBmZmZmZgZGQK5H4XoUjkZAmpmZmZk5RUD2KFyPwhVEQK5H4XoUbjJAj8L1KFxPRUCamZmZmZlEQMP1KFyPokZACtejcD3KSEBcj8L1KJxIQPYoXI/ClUlAj8L1KFzvRkC4HoXrUdhIQPYoXI/CFUpAZmZmZmZGSkD2KFyPwnVIQClcj8L1aElAH4XrUbheSEDsUbgehWs4QGZmZmZmxkVAFK5H4XpUREAAAAAAAMBGQGZmZmZmpkVAhetRuB6FREAK16NwPQozQJqZmZmZWUVAXI/C9SjcREAAAAAAACBIQPYoXI/CtUNAhetRuB7FREDhehSuRwFEQA==",
          "dtype": "f8"
         },
         "yaxis": "y"
        },
        {
         "hovertemplate": "Region=Jammu & Kashmir<br>Date=%{x}<br>EstimatedLabourParticipationRate(%)=%{y}<extra></extra>",
         "legendgroup": "Jammu & Kashmir",
         "line": {
          "color": "#FECB52",
          "dash": "solid"
         },
         "marker": {
          "symbol": "circle"
         },
         "mode": "lines",
         "name": "Jammu & Kashmir",
         "showlegend": true,
         "type": "scattergl",
         "x": [
          "2019-05-31T00:00:00.000000000",
          "2019-06-30T00:00:00.000000000",
          "2019-07-31T00:00:00.000000000",
          "2019-08-31T00:00:00.000000000",
          "2019-10-31T00:00:00.000000000",
          "2019-11-30T00:00:00.000000000",
          "2020-01-31T00:00:00.000000000",
          "2020-02-29T00:00:00.000000000",
          "2020-03-31T00:00:00.000000000",
          "2020-05-31T00:00:00.000000000",
          "2020-06-30T00:00:00.000000000",
          "2019-05-31T00:00:00.000000000",
          "2019-06-30T00:00:00.000000000",
          "2019-07-31T00:00:00.000000000",
          "2019-10-31T00:00:00.000000000",
          "2019-11-30T00:00:00.000000000",
          "2019-12-31T00:00:00.000000000",
          "2020-01-31T00:00:00.000000000",
          "2020-02-29T00:00:00.000000000",
          "2020-03-31T00:00:00.000000000",
          "2020-05-31T00:00:00.000000000",
          "2020-01-31T00:00:00.000000000",
          "2020-02-29T00:00:00.000000000",
          "2020-03-31T00:00:00.000000000",
          "2020-05-31T00:00:00.000000000",
          "2020-06-30T00:00:00.000000000",
          "2020-07-31T00:00:00.000000000",
          "2020-08-31T00:00:00.000000000",
          "2020-09-30T00:00:00.000000000",
          "2020-10-31T00:00:00.000000000"
         ],
         "xaxis": "x",
         "y": {
          "bdata": "KVyPwvVIREDD9Shcj4JDQHsUrkfh2kRA9ihcj8IVRkAK16NwPYpFQLgehetR2ENASOF6FK5HRUAAAAAAACBDQEjhehSuh0NAexSuR+E6Q0C4HoXrUXhBQB+F61G4XkdA9ihcj8KVRkBmZmZmZuZHQHE9CtejUEVA9ihcj8J1RkB7FK5H4VpEQDMzMzMzs0RAPQrXo3CdREB7FK5H4RpCQArXo3A9qkBAmpmZmZkZRUD2KFyPwpVDQNejcD0KF0NAexSuR+EaQ0AfhetRuJ5CQKRwPQrXA0NAFK5H4XpUQkBI4XoUridCQGZmZmZmhkFA",
          "dtype": "f8"
         },
         "yaxis": "y"
        },
        {
         "hovertemplate": "Region=Jharkhand<br>Date=%{x}<br>EstimatedLabourParticipationRate(%)=%{y}<extra></extra>",
         "legendgroup": "Jharkhand",
         "line": {
          "color": "#636efa",
          "dash": "solid"
         },
         "marker": {
          "symbol": "circle"
         },
         "mode": "lines",
         "name": "Jharkhand",
         "showlegend": true,
         "type": "scattergl",
         "x": [
          "2019-05-31T00:00:00.000000000",
          "2019-06-30T00:00:00.000000000",
          "2019-07-31T00:00:00.000000000",
          "2019-08-31T00:00:00.000000000",
          "2019-09-30T00:00:00.000000000",
          "2019-10-31T00:00:00.000000000",
          "2019-11-30T00:00:00.000000000",
          "2019-12-31T00:00:00.000000000",
          "2020-01-31T00:00:00.000000000",
          "2020-02-29T00:00:00.000000000",
          "2020-03-31T00:00:00.000000000",
          "2020-04-30T00:00:00.000000000",
          "2020-05-31T00:00:00.000000000",
          "2020-06-30T00:00:00.000000000",
          "2019-05-31T00:00:00.000000000",
          "2019-06-30T00:00:00.000000000",
          "2019-07-31T00:00:00.000000000",
          "2019-08-31T00:00:00.000000000",
          "2019-09-30T00:00:00.000000000",
          "2019-10-31T00:00:00.000000000",
          "2019-11-30T00:00:00.000000000",
          "2019-12-31T00:00:00.000000000",
          "2020-01-31T00:00:00.000000000",
          "2020-02-29T00:00:00.000000000",
          "2020-03-31T00:00:00.000000000",
          "2020-04-30T00:00:00.000000000",
          "2020-05-31T00:00:00.000000000",
          "2020-06-30T00:00:00.000000000",
          "2020-01-31T00:00:00.000000000",
          "2020-02-29T00:00:00.000000000",
          "2020-03-31T00:00:00.000000000",
          "2020-04-30T00:00:00.000000000",
          "2020-05-31T00:00:00.000000000",
          "2020-06-30T00:00:00.000000000",
          "2020-07-31T00:00:00.000000000",
          "2020-08-31T00:00:00.000000000",
          "2020-09-30T00:00:00.000000000",
          "2020-10-31T00:00:00.000000000"
         ],
         "xaxis": "x",
         "y": {
          "bdata": "hetRuB6FQ0CPwvUoXI9EQBSuR+F61ENACtejcD1qREAfhetRuJ5EQArXo3A9KkVA4XoUrkchREDsUbgehYtEQNejcD0KN0VAZmZmZmYGRkB7FK5H4fpCQPYoXI/CdUJApHA9CteDQkAzMzMzM1NEQAAAAAAAoEVA4XoUrkfBRUApXI/C9WhFQM3MzMzMrEVA16NwPQoXRkApXI/C9WhGQPYoXI/ClUVAUrgeheuRRUAK16NwPSpGQPYoXI/CtUZA7FG4HoWrRUD2KFyPwvVDQB+F61G4PkRA16NwPQo3RED2KFyPwnVFQDMzMzMzM0ZA7FG4HoWrQ0C4HoXrUdhCQPYoXI/C9UJA7FG4HoVLREDD9ShcjyJDQEjhehSuJ0NAhetRuB6FREAK16NwPYpFQA==",
          "dtype": "f8"
         },
         "yaxis": "y"
        },
        {
         "hovertemplate": "Region=Karnataka<br>Date=%{x}<br>EstimatedLabourParticipationRate(%)=%{y}<extra></extra>",
         "legendgroup": "Karnataka",
         "line": {
          "color": "#EF553B",
          "dash": "solid"
         },
         "marker": {
          "symbol": "circle"
         },
         "mode": "lines",
         "name": "Karnataka",
         "showlegend": true,
         "type": "scattergl",
         "x": [
          "2019-05-31T00:00:00.000000000",
          "2019-06-30T00:00:00.000000000",
          "2019-07-31T00:00:00.000000000",
          "2019-08-31T00:00:00.000000000",
          "2019-09-30T00:00:00.000000000",
          "2019-10-31T00:00:00.000000000",
          "2019-11-30T00:00:00.000000000",
          "2019-12-31T00:00:00.000000000",
          "2020-01-31T00:00:00.000000000",
          "2020-02-29T00:00:00.000000000",
          "2020-03-31T00:00:00.000000000",
          "2020-04-30T00:00:00.000000000",
          "2020-05-31T00:00:00.000000000",
          "2020-06-30T00:00:00.000000000",
          "2019-05-31T00:00:00.000000000",
          "2019-06-30T00:00:00.000000000",
          "2019-07-31T00:00:00.000000000",
          "2019-08-31T00:00:00.000000000",
          "2019-09-30T00:00:00.000000000",
          "2019-10-31T00:00:00.000000000",
          "2019-11-30T00:00:00.000000000",
          "2019-12-31T00:00:00.000000000",
          "2020-01-31T00:00:00.000000000",
          "2020-02-29T00:00:00.000000000",
          "2020-03-31T00:00:00.000000000",
          "2020-04-30T00:00:00.000000000",
          "2020-05-31T00:00:00.000000000",
          "2020-06-30T00:00:00.000000000",
          "2020-01-31T00:00:00.000000000",
          "2020-02-29T00:00:00.000000000",
          "2020-03-31T00:00:00.000000000",
          "2020-04-30T00:00:00.000000000",
          "2020-05-31T00:00:00.000000000",
          "2020-06-30T00:00:00.000000000",
          "2020-07-31T00:00:00.000000000",
          "2020-08-31T00:00:00.000000000",
          "2020-09-30T00:00:00.000000000",
          "2020-10-31T00:00:00.000000000"
         ],
         "xaxis": "x",
         "y": {
          "bdata": "rkfhehQuR0CPwvUoXI9FQPYoXI/CNUNA16NwPQr3Q0CamZmZmTlGQM3MzMzMjEVAmpmZmZk5QkD2KFyPwvVDQMP1KFyPQkZACtejcD2qREDNzMzMzGxEQAAAAAAAoEVA7FG4HoWLRUCPwvUoXK9KQI/C9ShcT0RAUrgehetxREDsUbgehYtDQIXrUbgeBUNAAAAAAACAQ0CamZmZmdlDQM3MzMzMTENAFK5H4XrUQkC4HoXrUXhDQJqZmZmZuUNAZmZmZmbGREBSuB6F6xFFQDMzMzMz80VA16NwPQr3Q0DXo3A9ChdFQIXrUbgeRURAUrgeheuRRECkcD0K12NFQNejcD0Kt0VAhetRuB6lR0BmZmZmZkZFQHE9CtejkEVAFK5H4XpUQkBmZmZmZiZEQA==",
          "dtype": "f8"
         },
         "yaxis": "y"
        },
        {
         "hovertemplate": "Region=Kerala<br>Date=%{x}<br>EstimatedLabourParticipationRate(%)=%{y}<extra></extra>",
         "legendgroup": "Kerala",
         "line": {
          "color": "#00cc96",
          "dash": "solid"
         },
         "marker": {
          "symbol": "circle"
         },
         "mode": "lines",
         "name": "Kerala",
         "showlegend": true,
         "type": "scattergl",
         "x": [
          "2019-05-31T00:00:00.000000000",
          "2019-06-30T00:00:00.000000000",
          "2019-07-31T00:00:00.000000000",
          "2019-08-31T00:00:00.000000000",
          "2019-09-30T00:00:00.000000000",
          "2019-10-31T00:00:00.000000000",
          "2019-11-30T00:00:00.000000000",
          "2019-12-31T00:00:00.000000000",
          "2020-01-31T00:00:00.000000000",
          "2020-02-29T00:00:00.000000000",
          "2020-03-31T00:00:00.000000000",
          "2020-04-30T00:00:00.000000000",
          "2020-05-31T00:00:00.000000000",
          "2020-06-30T00:00:00.000000000",
          "2019-05-31T00:00:00.000000000",
          "2019-06-30T00:00:00.000000000",
          "2019-07-31T00:00:00.000000000",
          "2019-08-31T00:00:00.000000000",
          "2019-09-30T00:00:00.000000000",
          "2019-10-31T00:00:00.000000000",
          "2019-11-30T00:00:00.000000000",
          "2019-12-31T00:00:00.000000000",
          "2020-01-31T00:00:00.000000000",
          "2020-02-29T00:00:00.000000000",
          "2020-03-31T00:00:00.000000000",
          "2020-04-30T00:00:00.000000000",
          "2020-05-31T00:00:00.000000000",
          "2020-06-30T00:00:00.000000000",
          "2020-01-31T00:00:00.000000000",
          "2020-02-29T00:00:00.000000000",
          "2020-03-31T00:00:00.000000000",
          "2020-04-30T00:00:00.000000000",
          "2020-05-31T00:00:00.000000000",
          "2020-06-30T00:00:00.000000000",
          "2020-07-31T00:00:00.000000000",
          "2020-08-31T00:00:00.000000000",
          "2020-09-30T00:00:00.000000000",
          "2020-10-31T00:00:00.000000000"
         ],
         "xaxis": "x",
         "y": {
          "bdata": "KVyPwvUIQ0C4HoXrURhFQHsUrkfhekFAMzMzMzPzQ0Bcj8L1KHxDQMP1KFyPAkRAexSuR+FaQED2KFyPwlVDQBSuR+F61EJA7FG4HoVrQ0AfhetRuN4+QClcj8L1qCpAj8L1KFzPQEDhehSuR4FCQDMzMzMzU0JA9ihcj8K1QkBxPQrXo5BAQBSuR+F69EFAKVyPwvVIQkAfhetRuD5CQK5H4XoULkBASOF6FK7HQUCkcD0K10NCQD0K16NwPUJAH4XrUbieQEDD9Shcj4I0QDMzMzMz8z1A16NwPQpXQ0CPwvUoXI9CQHsUrkfh2kJAAAAAAAAAQECF61G4HsUwQK5H4XoUDkFArkfhehQOQkDNzMzMzAxCQKRwPQrX40FAzczMzMxMQUDD9Shcj8JAQA==",
          "dtype": "f8"
         },
         "yaxis": "y"
        },
        {
         "hovertemplate": "Region=Madhya Pradesh<br>Date=%{x}<br>EstimatedLabourParticipationRate(%)=%{y}<extra></extra>",
         "legendgroup": "Madhya Pradesh",
         "line": {
          "color": "#ab63fa",
          "dash": "solid"
         },
         "marker": {
          "symbol": "circle"
         },
         "mode": "lines",
         "name": "Madhya Pradesh",
         "showlegend": true,
         "type": "scattergl",
         "x": [
          "2019-05-31T00:00:00.000000000",
          "2019-06-30T00:00:00.000000000",
          "2019-07-31T00:00:00.000000000",
          "2019-08-31T00:00:00.000000000",
          "2019-09-30T00:00:00.000000000",
          "2019-10-31T00:00:00.000000000",
          "2019-11-30T00:00:00.000000000",
          "2019-12-31T00:00:00.000000000",
          "2020-01-31T00:00:00.000000000",
          "2020-02-29T00:00:00.000000000",
          "2020-03-31T00:00:00.000000000",
          "2020-04-30T00:00:00.000000000",
          "2020-05-31T00:00:00.000000000",
          "2020-06-30T00:00:00.000000000",
          "2019-05-31T00:00:00.000000000",
          "2019-06-30T00:00:00.000000000",
          "2019-07-31T00:00:00.000000000",
          "2019-08-31T00:00:00.000000000",
          "2019-09-30T00:00:00.000000000",
          "2019-10-31T00:00:00.000000000",
          "2019-11-30T00:00:00.000000000",
          "2019-12-31T00:00:00.000000000",
          "2020-01-31T00:00:00.000000000",
          "2020-02-29T00:00:00.000000000",
          "2020-03-31T00:00:00.000000000",
          "2020-04-30T00:00:00.000000000",
          "2020-05-31T00:00:00.000000000",
          "2020-06-30T00:00:00.000000000",
          "2020-01-31T00:00:00.000000000",
          "2020-02-29T00:00:00.000000000",
          "2020-03-31T00:00:00.000000000",
          "2020-04-30T00:00:00.000000000",
          "2020-05-31T00:00:00.000000000",
          "2020-06-30T00:00:00.000000000",
          "2020-07-31T00:00:00.000000000",
          "2020-08-31T00:00:00.000000000",
          "2020-09-30T00:00:00.000000000",
          "2020-10-31T00:00:00.000000000"
         ],
         "xaxis": "x",
         "y": {
          "bdata": "XI/C9Sj8QkA9CtejcD1EQJqZmZmZGURAAAAAAACgREAzMzMzM7NDQHsUrkfhukRAuB6F61G4Q0DD9Shcj2JEQM3MzMzMrENAKVyPwvXIQ0AzMzMzM3NDQHE9Ctej8EJAH4XrUbieQ0AAAAAAAMBEQHsUrkfhekNAZmZmZmZmQ0D2KFyPwtVCQM3MzMzMTERA9ihcj8LVQ0CamZmZmRlDQLgehetR+EJACtejcD3qQ0DsUbgehctDQNejcD0K10JA16NwPQpXQkDD9Shcj8I9QB+F61G4vkFAXI/C9ShcQ0D2KFyPwrVDQAAAAAAAgENAH4XrUbgeQ0CamZmZmblBQD0K16NwPUNAhetRuB4FREBxPQrXo3BEQArXo3A9CkRAmpmZmZmZQ0Bcj8L1KDxDQA==",
          "dtype": "f8"
         },
         "yaxis": "y"
        },
        {
         "hovertemplate": "Region=Maharashtra<br>Date=%{x}<br>EstimatedLabourParticipationRate(%)=%{y}<extra></extra>",
         "legendgroup": "Maharashtra",
         "line": {
          "color": "#FFA15A",
          "dash": "solid"
         },
         "marker": {
          "symbol": "circle"
         },
         "mode": "lines",
         "name": "Maharashtra",
         "showlegend": true,
         "type": "scattergl",
         "x": [
          "2019-05-31T00:00:00.000000000",
          "2019-06-30T00:00:00.000000000",
          "2019-07-31T00:00:00.000000000",
          "2019-08-31T00:00:00.000000000",
          "2019-09-30T00:00:00.000000000",
          "2019-10-31T00:00:00.000000000",
          "2019-11-30T00:00:00.000000000",
          "2019-12-31T00:00:00.000000000",
          "2020-01-31T00:00:00.000000000",
          "2020-02-29T00:00:00.000000000",
          "2020-03-31T00:00:00.000000000",
          "2020-04-30T00:00:00.000000000",
          "2020-05-31T00:00:00.000000000",
          "2020-06-30T00:00:00.000000000",
          "2019-05-31T00:00:00.000000000",
          "2019-06-30T00:00:00.000000000",
          "2019-07-31T00:00:00.000000000",
          "2019-08-31T00:00:00.000000000",
          "2019-09-30T00:00:00.000000000",
          "2019-10-31T00:00:00.000000000",
          "2019-11-30T00:00:00.000000000",
          "2019-12-31T00:00:00.000000000",
          "2020-01-31T00:00:00.000000000",
          "2020-02-29T00:00:00.000000000",
          "2020-03-31T00:00:00.000000000",
          "2020-04-30T00:00:00.000000000",
          "2020-05-31T00:00:00.000000000",
          "2020-06-30T00:00:00.000000000",
          "2020-01-31T00:00:00.000000000",
          "2020-02-29T00:00:00.000000000",
          "2020-03-31T00:00:00.000000000",
          "2020-04-30T00:00:00.000000000",
          "2020-05-31T00:00:00.000000000",
          "2020-06-30T00:00:00.000000000",
          "2020-07-31T00:00:00.000000000",
          "2020-08-31T00:00:00.000000000",
          "2020-09-30T00:00:00.000000000",
          "2020-10-31T00:00:00.000000000"
         ],
         "xaxis": "x",
         "y": {
          "bdata": "rkfhehSOR0C4HoXrUdhGQGZmZmZmZkhA9ihcj8JVSkAfhetRuN5IQK5H4XoUzkdApHA9CtdDSEA9CtejcH1JQK5H4XoULklArkfhehSuSEDNzMzMzMxGQPYoXI/CtUJAexSuR+GaREDsUbgehStIQGZmZmZmJkNAZmZmZmamQ0BI4XoUrmdDQOxRuB6F60JACtejcD3KQ0BmZmZmZoZDQK5H4XoUzkNAKVyPwvXIQkApXI/C9ahCQK5H4XoUzkJAZmZmZmbmQkBcj8L1KNw+QOF6FK5HYT5AhetRuB6FQkC4HoXrURhGQGZmZmZm5kVAFK5H4Xr0REApXI/C9ShBQPYoXI/ClUJAexSuR+FaRUApXI/C9chEQB+F61G4PkVAAAAAAABgRUAAAAAAAOBFQA==",
          "dtype": "f8"
         },
         "yaxis": "y"
        },
        {
         "hovertemplate": "Region=Meghalaya<br>Date=%{x}<br>EstimatedLabourParticipationRate(%)=%{y}<extra></extra>",
         "legendgroup": "Meghalaya",
         "line": {
          "color": "#19d3f3",
          "dash": "solid"
         },
         "marker": {
          "symbol": "circle"
         },
         "mode": "lines",
         "name": "Meghalaya",
         "showlegend": true,
         "type": "scattergl",
         "x": [
          "2019-05-31T00:00:00.000000000",
          "2019-06-30T00:00:00.000000000",
          "2019-07-31T00:00:00.000000000",
          "2019-08-31T00:00:00.000000000",
          "2019-09-30T00:00:00.000000000",
          "2019-10-31T00:00:00.000000000",
          "2019-11-30T00:00:00.000000000",
          "2019-12-31T00:00:00.000000000",
          "2020-01-31T00:00:00.000000000",
          "2020-02-29T00:00:00.000000000",
          "2020-03-31T00:00:00.000000000",
          "2020-04-30T00:00:00.000000000",
          "2020-05-31T00:00:00.000000000",
          "2020-06-30T00:00:00.000000000",
          "2019-05-31T00:00:00.000000000",
          "2019-06-30T00:00:00.000000000",
          "2019-07-31T00:00:00.000000000",
          "2019-08-31T00:00:00.000000000",
          "2019-09-30T00:00:00.000000000",
          "2019-10-31T00:00:00.000000000",
          "2019-11-30T00:00:00.000000000",
          "2019-12-31T00:00:00.000000000",
          "2020-01-31T00:00:00.000000000",
          "2020-02-29T00:00:00.000000000",
          "2020-03-31T00:00:00.000000000",
          "2020-04-30T00:00:00.000000000",
          "2020-05-31T00:00:00.000000000",
          "2020-01-31T00:00:00.000000000",
          "2020-02-29T00:00:00.000000000",
          "2020-03-31T00:00:00.000000000",
          "2020-04-30T00:00:00.000000000",
          "2020-05-31T00:00:00.000000000",
          "2020-06-30T00:00:00.000000000",
          "2020-07-31T00:00:00.000000000",
          "2020-08-31T00:00:00.000000000",
          "2020-09-30T00:00:00.000000000",
          "2020-10-31T00:00:00.000000000"
         ],
         "xaxis": "x",
         "y": {
          "bdata": "uB6F61GIUEDsUbgehYtOQHsUrkfhqlBArkfhehRuTkDhehSuR4FQQLgehetRuE9AUrgehetBUUDXo3A9CpdPQArXo3A9alFApHA9CtcDUEA9CtejcN1QQArXo3A9akhA4XoUrkehTEC4HoXrUShQQIXrUbge5UdAhetRuB4lSEBmZmZmZkZMQMP1KFyPIkpAw/UoXI9iSUB7FK5H4dpHQMP1KFyPgkxAhetRuB6FSkCkcD0K18NJQOF6FK5HoUdAUrgehevRS0DhehSuR0FCQD0K16NwPUhAj8L1KFxfUECamZmZmRlOQI/C9ShcL1BAH4XrUbj+RkAfhetRuJ5LQEjhehSuJ01AexSuR+F6T0BxPQrXo/BNQGZmZmZmJlBA16NwPQqXTkA=",
          "dtype": "f8"
         },
         "yaxis": "y"
        },
        {
         "hovertemplate": "Region=Odisha<br>Date=%{x}<br>EstimatedLabourParticipationRate(%)=%{y}<extra></extra>",
         "legendgroup": "Odisha",
         "line": {
          "color": "#FF6692",
          "dash": "solid"
         },
         "marker": {
          "symbol": "circle"
         },
         "mode": "lines",
         "name": "Odisha",
         "showlegend": true,
         "type": "scattergl",
         "x": [
          "2019-05-31T00:00:00.000000000",
          "2019-06-30T00:00:00.000000000",
          "2019-07-31T00:00:00.000000000",
          "2019-08-31T00:00:00.000000000",
          "2019-09-30T00:00:00.000000000",
          "2019-10-31T00:00:00.000000000",
          "2019-11-30T00:00:00.000000000",
          "2019-12-31T00:00:00.000000000",
          "2020-01-31T00:00:00.000000000",
          "2020-02-29T00:00:00.000000000",
          "2020-03-31T00:00:00.000000000",
          "2020-04-30T00:00:00.000000000",
          "2020-05-31T00:00:00.000000000",
          "2020-06-30T00:00:00.000000000",
          "2019-05-31T00:00:00.000000000",
          "2019-06-30T00:00:00.000000000",
          "2019-07-31T00:00:00.000000000",
          "2019-08-31T00:00:00.000000000",
          "2019-09-30T00:00:00.000000000",
          "2019-10-31T00:00:00.000000000",
          "2019-11-30T00:00:00.000000000",
          "2019-12-31T00:00:00.000000000",
          "2020-01-31T00:00:00.000000000",
          "2020-02-29T00:00:00.000000000",
          "2020-03-31T00:00:00.000000000",
          "2020-04-30T00:00:00.000000000",
          "2020-05-31T00:00:00.000000000",
          "2020-06-30T00:00:00.000000000",
          "2020-01-31T00:00:00.000000000",
          "2020-02-29T00:00:00.000000000",
          "2020-03-31T00:00:00.000000000",
          "2020-04-30T00:00:00.000000000",
          "2020-05-31T00:00:00.000000000",
          "2020-06-30T00:00:00.000000000",
          "2020-07-31T00:00:00.000000000",
          "2020-08-31T00:00:00.000000000",
          "2020-09-30T00:00:00.000000000",
          "2020-10-31T00:00:00.000000000"
         ],
         "xaxis": "x",
         "y": {
          "bdata": "XI/C9Sg8REC4HoXrUfhDQGZmZmZmhkVAcT0K16MQRUApXI/C9ShEQHE9Ctej8ERASOF6FK4HRkAUrkfhenREQOxRuB6Fi0NAPQrXo3D9REBmZmZmZsZDQClcj8L1KDlAPQrXo3A9QkCuR+F6FC5CQOF6FK5HoURAUrgehesxQ0AfhetRuH5EQAAAAAAAIERAMzMzMzMTRUDhehSuR0FEQHsUrkfh2kRAexSuR+E6Q0BmZmZmZoZEQFyPwvUofENA16NwPQr3Q0BI4XoUroc5QI/C9ShcD0FAH4XrUbieQUC4HoXrUbhDQLgehetRuERAj8L1KFzPQ0B7FK5H4To5QIXrUbgehUJAmpmZmZm5QkC4HoXrUVhDQHsUrkfh+kNAcT0K16NQQ0A9CtejcP1DQA==",
          "dtype": "f8"
         },
         "yaxis": "y"
        },
        {
         "hovertemplate": "Region=Puducherry<br>Date=%{x}<br>EstimatedLabourParticipationRate(%)=%{y}<extra></extra>",
         "legendgroup": "Puducherry",
         "line": {
          "color": "#B6E880",
          "dash": "solid"
         },
         "marker": {
          "symbol": "circle"
         },
         "mode": "lines",
         "name": "Puducherry",
         "showlegend": true,
         "type": "scattergl",
         "x": [
          "2019-05-31T00:00:00.000000000",
          "2019-06-30T00:00:00.000000000",
          "2019-07-31T00:00:00.000000000",
          "2019-08-31T00:00:00.000000000",
          "2019-09-30T00:00:00.000000000",
          "2019-10-31T00:00:00.000000000",
          "2019-11-30T00:00:00.000000000",
          "2019-12-31T00:00:00.000000000",
          "2020-01-31T00:00:00.000000000",
          "2020-02-29T00:00:00.000000000",
          "2020-03-31T00:00:00.000000000",
          "2020-04-30T00:00:00.000000000",
          "2019-05-31T00:00:00.000000000",
          "2019-06-30T00:00:00.000000000",
          "2019-07-31T00:00:00.000000000",
          "2019-08-31T00:00:00.000000000",
          "2019-09-30T00:00:00.000000000",
          "2019-10-31T00:00:00.000000000",
          "2019-11-30T00:00:00.000000000",
          "2019-12-31T00:00:00.000000000",
          "2020-01-31T00:00:00.000000000",
          "2020-02-29T00:00:00.000000000",
          "2020-03-31T00:00:00.000000000",
          "2020-04-30T00:00:00.000000000",
          "2020-05-31T00:00:00.000000000",
          "2020-06-30T00:00:00.000000000",
          "2020-01-31T00:00:00.000000000",
          "2020-02-29T00:00:00.000000000",
          "2020-03-31T00:00:00.000000000",
          "2020-04-30T00:00:00.000000000",
          "2020-05-31T00:00:00.000000000",
          "2020-06-30T00:00:00.000000000",
          "2020-07-31T00:00:00.000000000",
          "2020-08-31T00:00:00.000000000",
          "2020-09-30T00:00:00.000000000",
          "2020-10-31T00:00:00.000000000"
         ],
         "xaxis": "x",
         "y": {
          "bdata": "CtejcD2KRUCamZmZmflGQEjhehSuR0FACtejcD3qR0DsUbgehatFQM3MzMzMbEZAAAAAAACAQUApXI/C9YhGQNejcD0Kl0VAcT0K16OwRkA9CtejcJ1BQIXrUbgeZUdAexSuR+HaQUA9CtejcN1CQMP1KFyPYkFAFK5H4Xo0RUA9CtejcN1BQK5H4XoUbkNAuB6F61EYQUD2KFyPwjVEQOxRuB6FS0FAAAAAAABAQ0CPwvUoXA9BQIXrUbgexUFAAAAAAABAP0B7FK5H4bo9QHsUrkfhukJAZmZmZmZmREAfhetRuD5BQGZmZmZmpkNAuB6F61GYQEDNzMzMzMw+QFK4HoXrUUJA7FG4HoWrQEDsUbgehWtCQClcj8L1KEJA",
          "dtype": "f8"
         },
         "yaxis": "y"
        },
        {
         "hovertemplate": "Region=Punjab<br>Date=%{x}<br>EstimatedLabourParticipationRate(%)=%{y}<extra></extra>",
         "legendgroup": "Punjab",
         "line": {
          "color": "#FF97FF",
          "dash": "solid"
         },
         "marker": {
          "symbol": "circle"
         },
         "mode": "lines",
         "name": "Punjab",
         "showlegend": true,
         "type": "scattergl",
         "x": [
          "2019-05-31T00:00:00.000000000",
          "2019-06-30T00:00:00.000000000",
          "2019-07-31T00:00:00.000000000",
          "2019-08-31T00:00:00.000000000",
          "2019-09-30T00:00:00.000000000",
          "2019-10-31T00:00:00.000000000",
          "2019-11-30T00:00:00.000000000",
          "2019-12-31T00:00:00.000000000",
          "2020-01-31T00:00:00.000000000",
          "2020-02-29T00:00:00.000000000",
          "2020-03-31T00:00:00.000000000",
          "2020-04-30T00:00:00.000000000",
          "2020-05-31T00:00:00.000000000",
          "2020-06-30T00:00:00.000000000",
          "2019-05-31T00:00:00.000000000",
          "2019-06-30T00:00:00.000000000",
          "2019-07-31T00:00:00.000000000",
          "2019-08-31T00:00:00.000000000",
          "2019-09-30T00:00:00.000000000",
          "2019-10-31T00:00:00.000000000",
          "2019-11-30T00:00:00.000000000",
          "2019-12-31T00:00:00.000000000",
          "2020-01-31T00:00:00.000000000",
          "2020-02-29T00:00:00.000000000",
          "2020-03-31T00:00:00.000000000",
          "2020-04-30T00:00:00.000000000",
          "2020-05-31T00:00:00.000000000",
          "2020-06-30T00:00:00.000000000",
          "2020-01-31T00:00:00.000000000",
          "2020-02-29T00:00:00.000000000",
          "2020-03-31T00:00:00.000000000",
          "2020-04-30T00:00:00.000000000",
          "2020-05-31T00:00:00.000000000",
          "2020-06-30T00:00:00.000000000",
          "2020-07-31T00:00:00.000000000",
          "2020-08-31T00:00:00.000000000",
          "2020-09-30T00:00:00.000000000",
          "2020-10-31T00:00:00.000000000"
         ],
         "xaxis": "x",
         "y": {
          "bdata": "hetRuB5lRkCF61G4HuVGQAAAAAAAQEdACtejcD0KRkAfhetRuL5GQBSuR+F61EZAZmZmZmbGRkAzMzMzM7NFQFyPwvUonEZAuB6F61EYRkDNzMzMzGxHQJqZmZmZGUBAUrgeheuRREAzMzMzM/NFQKRwPQrXA0RAw/UoXI8CRECPwvUoXE9FQK5H4XoUzkRAXI/C9Sj8Q0DNzMzMzIxCQClcj8L16ERA9ihcj8IVRUCF61G4HoVDQClcj8L16EJAhetRuB6lREAzMzMzM/M3QHsUrkfhWkFAexSuR+F6QUApXI/C9WhFQFyPwvUo3ERAuB6F61FYRkA9CtejcP08QFK4HoXrMUNA16NwPQoXREDhehSuR2FFQB+F61G4/kRAAAAAAADAQ0AAAAAAAGBDQA==",
          "dtype": "f8"
         },
         "yaxis": "y"
        },
        {
         "hovertemplate": "Region=Rajasthan<br>Date=%{x}<br>EstimatedLabourParticipationRate(%)=%{y}<extra></extra>",
         "legendgroup": "Rajasthan",
         "line": {
          "color": "#FECB52",
          "dash": "solid"
         },
         "marker": {
          "symbol": "circle"
         },
         "mode": "lines",
         "name": "Rajasthan",
         "showlegend": true,
         "type": "scattergl",
         "x": [
          "2019-05-31T00:00:00.000000000",
          "2019-06-30T00:00:00.000000000",
          "2019-07-31T00:00:00.000000000",
          "2019-08-31T00:00:00.000000000",
          "2019-09-30T00:00:00.000000000",
          "2019-10-31T00:00:00.000000000",
          "2019-11-30T00:00:00.000000000",
          "2019-12-31T00:00:00.000000000",
          "2020-01-31T00:00:00.000000000",
          "2020-02-29T00:00:00.000000000",
          "2020-03-31T00:00:00.000000000",
          "2020-04-30T00:00:00.000000000",
          "2020-05-31T00:00:00.000000000",
          "2020-06-30T00:00:00.000000000",
          "2019-05-31T00:00:00.000000000",
          "2019-06-30T00:00:00.000000000",
          "2019-07-31T00:00:00.000000000",
          "2019-08-31T00:00:00.000000000",
          "2019-09-30T00:00:00.000000000",
          "2019-10-31T00:00:00.000000000",
          "2019-11-30T00:00:00.000000000",
          "2019-12-31T00:00:00.000000000",
          "2020-01-31T00:00:00.000000000",
          "2020-02-29T00:00:00.000000000",
          "2020-03-31T00:00:00.000000000",
          "2020-04-30T00:00:00.000000000",
          "2020-05-31T00:00:00.000000000",
          "2020-06-30T00:00:00.000000000",
          "2020-01-31T00:00:00.000000000",
          "2020-02-29T00:00:00.000000000",
          "2020-03-31T00:00:00.000000000",
          "2020-04-30T00:00:00.000000000",
          "2020-05-31T00:00:00.000000000",
          "2020-06-30T00:00:00.000000000",
          "2020-07-31T00:00:00.000000000",
          "2020-08-31T00:00:00.000000000",
          "2020-09-30T00:00:00.000000000",
          "2020-10-31T00:00:00.000000000"
         ],
         "xaxis": "x",
         "y": {
          "bdata": "w/UoXI9CQ0DD9Shcj4JEQKRwPQrX40NAPQrXo3C9REAfhetRuJ5DQLgehetRWEVAj8L1KFxvREAAAAAAAIBFQI/C9ShcD0RACtejcD3qREBcj8L1KLxDQHsUrkfhmkFArkfhehSOREA9CtejcP1FQLgehetRuENAPQrXo3BdREBxPQrXozBEQOxRuB6FK0RAMzMzMzOTQ0BmZmZmZmZEQD0K16NwXURAMzMzMzNzREDsUbgehctEQI/C9Shcz0RAexSuR+HaQ0BSuB6F65E9QHsUrkfhWkJA4XoUrkehQ0DhehSuR0FEQMP1KFyP4kRAhetRuB7FQ0B7FK5H4dpAQB+F61G4XkRAcT0K16OwREBmZmZmZmZEQHsUrkfh2kRACtejcD1qRED2KFyPwnVGQA==",
          "dtype": "f8"
         },
         "yaxis": "y"
        },
        {
         "hovertemplate": "Region=Sikkim<br>Date=%{x}<br>EstimatedLabourParticipationRate(%)=%{y}<extra></extra>",
         "legendgroup": "Sikkim",
         "line": {
          "color": "#636efa",
          "dash": "solid"
         },
         "marker": {
          "symbol": "circle"
         },
         "mode": "lines",
         "name": "Sikkim",
         "showlegend": true,
         "type": "scattergl",
         "x": [
          "2019-10-31T00:00:00.000000000",
          "2019-11-30T00:00:00.000000000",
          "2019-12-31T00:00:00.000000000",
          "2020-04-30T00:00:00.000000000",
          "2020-06-30T00:00:00.000000000",
          "2019-05-31T00:00:00.000000000",
          "2019-06-30T00:00:00.000000000",
          "2019-07-31T00:00:00.000000000",
          "2019-08-31T00:00:00.000000000",
          "2019-09-30T00:00:00.000000000",
          "2019-10-31T00:00:00.000000000",
          "2019-11-30T00:00:00.000000000",
          "2019-12-31T00:00:00.000000000",
          "2020-03-31T00:00:00.000000000",
          "2020-04-30T00:00:00.000000000",
          "2020-05-31T00:00:00.000000000",
          "2020-06-30T00:00:00.000000000",
          "2020-03-31T00:00:00.000000000",
          "2020-04-30T00:00:00.000000000",
          "2020-05-31T00:00:00.000000000",
          "2020-06-30T00:00:00.000000000",
          "2020-07-31T00:00:00.000000000",
          "2020-08-31T00:00:00.000000000",
          "2020-09-30T00:00:00.000000000",
          "2020-10-31T00:00:00.000000000"
         ],
         "xaxis": "x",
         "y": {
          "bdata": "SOF6FK4HRkCF61G4HoVKQGZmZmZmJkdAXI/C9SjcQkCuR+F6FC5FQK5H4XoUTkhAcT0K16MQSED2KFyPwlVLQHE9CtejUEdArkfhehTORkBcj8L1KHxHQGZmZmZm5kpAH4XrUbieRkApXI/C9UhJQEjhehSuJ0RAKVyPwvWoRUDNzMzMzOxBQOxRuB6FS05AmpmZmZlZQ0BxPQrXo3BGQDMzMzMzM0RAKVyPwvUoSEAfhetRuD5IQIXrUbgeRUVAcT0K16MQRUA=",
          "dtype": "f8"
         },
         "yaxis": "y"
        },
        {
         "hovertemplate": "Region=Tamil Nadu<br>Date=%{x}<br>EstimatedLabourParticipationRate(%)=%{y}<extra></extra>",
         "legendgroup": "Tamil Nadu",
         "line": {
          "color": "#EF553B",
          "dash": "solid"
         },
         "marker": {
          "symbol": "circle"
         },
         "mode": "lines",
         "name": "Tamil Nadu",
         "showlegend": true,
         "type": "scattergl",
         "x": [
          "2019-05-31T00:00:00.000000000",
          "2019-06-30T00:00:00.000000000",
          "2019-07-31T00:00:00.000000000",
          "2019-08-31T00:00:00.000000000",
          "2019-09-30T00:00:00.000000000",
          "2019-10-31T00:00:00.000000000",
          "2019-11-30T00:00:00.000000000",
          "2019-12-31T00:00:00.000000000",
          "2020-01-31T00:00:00.000000000",
          "2020-02-29T00:00:00.000000000",
          "2020-03-31T00:00:00.000000000",
          "2020-04-30T00:00:00.000000000",
          "2020-05-31T00:00:00.000000000",
          "2020-06-30T00:00:00.000000000",
          "2019-05-31T00:00:00.000000000",
          "2019-06-30T00:00:00.000000000",
          "2019-07-31T00:00:00.000000000",
          "2019-08-31T00:00:00.000000000",
          "2019-09-30T00:00:00.000000000",
          "2019-10-31T00:00:00.000000000",
          "2019-11-30T00:00:00.000000000",
          "2019-12-31T00:00:00.000000000",
          "2020-01-31T00:00:00.000000000",
          "2020-02-29T00:00:00.000000000",
          "2020-03-31T00:00:00.000000000",
          "2020-04-30T00:00:00.000000000",
          "2020-05-31T00:00:00.000000000",
          "2020-06-30T00:00:00.000000000",
          "2020-01-31T00:00:00.000000000",
          "2020-02-29T00:00:00.000000000",
          "2020-03-31T00:00:00.000000000",
          "2020-04-30T00:00:00.000000000",
          "2020-05-31T00:00:00.000000000",
          "2020-06-30T00:00:00.000000000",
          "2020-07-31T00:00:00.000000000",
          "2020-08-31T00:00:00.000000000",
          "2020-09-30T00:00:00.000000000",
          "2020-10-31T00:00:00.000000000"
         ],
         "xaxis": "x",
         "y": {
          "bdata": "uB6F61G4SEAfhetRuH5JQLgehetR+EpA9ihcj8IVSkCPwvUoXM9GQGZmZmZmRkhAmpmZmZl5SUBmZmZmZmZIQD0K16NwHUdArkfhehRuSEBI4XoUrsdJQGZmZmZmhkBAmpmZmZmZPEA9CtejcH0/QEjhehSup0JAFK5H4XqUQ0BSuB6F63FDQHE9CtejkERA4XoUrkfhQkD2KFyPwjVDQHE9CtejsEJAhetRuB6lREBSuB6F69FCQD0K16NwvUJA9ihcj8IVQkDsUbgehSs6QIXrUbgexTdAmpmZmZmZP0B7FK5H4fpEQJqZmZmZmUVAFK5H4Xr0RUDhehSuR6E9QHsUrkfhOjpAFK5H4XqUQEBxPQrXoxBEQFyPwvUoHEVAw/UoXI9iQkCPwvUoXE9CQA==",
          "dtype": "f8"
         },
         "yaxis": "y"
        },
        {
         "hovertemplate": "Region=Telangana<br>Date=%{x}<br>EstimatedLabourParticipationRate(%)=%{y}<extra></extra>",
         "legendgroup": "Telangana",
         "line": {
          "color": "#00cc96",
          "dash": "solid"
         },
         "marker": {
          "symbol": "circle"
         },
         "mode": "lines",
         "name": "Telangana",
         "showlegend": true,
         "type": "scattergl",
         "x": [
          "2019-05-31T00:00:00.000000000",
          "2019-06-30T00:00:00.000000000",
          "2019-07-31T00:00:00.000000000",
          "2019-08-31T00:00:00.000000000",
          "2019-09-30T00:00:00.000000000",
          "2019-10-31T00:00:00.000000000",
          "2019-11-30T00:00:00.000000000",
          "2019-12-31T00:00:00.000000000",
          "2020-01-31T00:00:00.000000000",
          "2020-02-29T00:00:00.000000000",
          "2020-03-31T00:00:00.000000000",
          "2020-04-30T00:00:00.000000000",
          "2020-05-31T00:00:00.000000000",
          "2020-06-30T00:00:00.000000000",
          "2019-05-31T00:00:00.000000000",
          "2019-06-30T00:00:00.000000000",
          "2019-07-31T00:00:00.000000000",
          "2019-08-31T00:00:00.000000000",
          "2019-09-30T00:00:00.000000000",
          "2019-10-31T00:00:00.000000000",
          "2019-11-30T00:00:00.000000000",
          "2019-12-31T00:00:00.000000000",
          "2020-01-31T00:00:00.000000000",
          "2020-02-29T00:00:00.000000000",
          "2020-03-31T00:00:00.000000000",
          "2020-04-30T00:00:00.000000000",
          "2020-05-31T00:00:00.000000000",
          "2020-06-30T00:00:00.000000000",
          "2020-01-31T00:00:00.000000000",
          "2020-02-29T00:00:00.000000000",
          "2020-03-31T00:00:00.000000000",
          "2020-04-30T00:00:00.000000000",
          "2020-05-31T00:00:00.000000000",
          "2020-06-30T00:00:00.000000000",
          "2020-07-31T00:00:00.000000000",
          "2020-08-31T00:00:00.000000000",
          "2020-09-30T00:00:00.000000000",
          "2020-10-31T00:00:00.000000000"
         ],
         "xaxis": "x",
         "y": {
          "bdata": "H4XrUbjeTkC4HoXrURhPQJqZmZmZGVBAPQrXo3CdTUAUrkfheiRSQI/C9Shcn1BAexSuR+FKUECuR+F6FE5OQHE9CtejIFFAexSuR+G6UEBSuB6F6yFRQLgehetRuEhAAAAAAACATkBcj8L1KHxNQOxRuB6FS0ZA16NwPQq3RkCuR+F6FC5GQFK4HoXrsUZApHA9CtejR0DhehSuR0FGQI/C9Shc70VAcT0K16OQRUCamZmZmflGQKRwPQrX40ZAMzMzMzPTRUDNzMzMzAw9QHE9Ctej0EJA16NwPQrXQkAAAAAAAKBNQB+F61G4Hk1ASOF6FK4nTUBI4XoUrodEQNejcD0Kt0tAXI/C9SicSkDNzMzMzAxKQOxRuB6FS05AuB6F61F4S0AK16NwPUpMQA==",
          "dtype": "f8"
         },
         "yaxis": "y"
        },
        {
         "hovertemplate": "Region=Tripura<br>Date=%{x}<br>EstimatedLabourParticipationRate(%)=%{y}<extra></extra>",
         "legendgroup": "Tripura",
         "line": {
          "color": "#ab63fa",
          "dash": "solid"
         },
         "marker": {
          "symbol": "circle"
         },
         "mode": "lines",
         "name": "Tripura",
         "showlegend": true,
         "type": "scattergl",
         "x": [
          "2019-05-31T00:00:00.000000000",
          "2019-06-30T00:00:00.000000000",
          "2019-07-31T00:00:00.000000000",
          "2019-08-31T00:00:00.000000000",
          "2019-09-30T00:00:00.000000000",
          "2019-10-31T00:00:00.000000000",
          "2019-11-30T00:00:00.000000000",
          "2019-12-31T00:00:00.000000000",
          "2020-01-31T00:00:00.000000000",
          "2020-02-29T00:00:00.000000000",
          "2020-03-31T00:00:00.000000000",
          "2020-04-30T00:00:00.000000000",
          "2020-05-31T00:00:00.000000000",
          "2020-06-30T00:00:00.000000000",
          "2019-05-31T00:00:00.000000000",
          "2019-06-30T00:00:00.000000000",
          "2019-07-31T00:00:00.000000000",
          "2019-08-31T00:00:00.000000000",
          "2019-09-30T00:00:00.000000000",
          "2019-10-31T00:00:00.000000000",
          "2019-11-30T00:00:00.000000000",
          "2019-12-31T00:00:00.000000000",
          "2020-01-31T00:00:00.000000000",
          "2020-02-29T00:00:00.000000000",
          "2020-03-31T00:00:00.000000000",
          "2020-04-30T00:00:00.000000000",
          "2020-05-31T00:00:00.000000000",
          "2020-06-30T00:00:00.000000000",
          "2020-01-31T00:00:00.000000000",
          "2020-02-29T00:00:00.000000000",
          "2020-03-31T00:00:00.000000000",
          "2020-04-30T00:00:00.000000000",
          "2020-05-31T00:00:00.000000000",
          "2020-06-30T00:00:00.000000000",
          "2020-07-31T00:00:00.000000000",
          "2020-08-31T00:00:00.000000000",
          "2020-09-30T00:00:00.000000000",
          "2020-10-31T00:00:00.000000000"
         ],
         "xaxis": "x",
         "y": {
          "bdata": "rkfhehQeUECamZmZmdlQQIXrUbgeRU5AhetRuB4lTUCamZmZmXlQQD0K16NwDVFAw/UoXI8SUEDD9Shcj4JPQNejcD0KJ1FAuB6F61F4UUBSuB6F6xFRQHE9CtejUEpAMzMzMzNzR0AfhetRuN5NQAAAAAAAYFFAZmZmZmZmTUDNzMzMzIxNQClcj8L1iE1AmpmZmZm5UEAAAAAAAABOQFK4HoXrEU9AFK5H4Xq0T0BxPQrXoxBSQMP1KFyPglBASOF6FK7HT0AzMzMzM9NHQEjhehSuJ0hA9ihcj8IVTEBcj8L1KGxRQI/C9ShcL1FAKVyPwvW4UEAUrkfhepRJQEjhehSuZ0lAzczMzMxsTUCkcD0K12NJQHsUrkfhGkxAw/UoXI9iSUAK16NwPUpLQA==",
          "dtype": "f8"
         },
         "yaxis": "y"
        },
        {
         "hovertemplate": "Region=Uttar Pradesh<br>Date=%{x}<br>EstimatedLabourParticipationRate(%)=%{y}<extra></extra>",
         "legendgroup": "Uttar Pradesh",
         "line": {
          "color": "#FFA15A",
          "dash": "solid"
         },
         "marker": {
          "symbol": "circle"
         },
         "mode": "lines",
         "name": "Uttar Pradesh",
         "showlegend": true,
         "type": "scattergl",
         "x": [
          "2019-05-31T00:00:00.000000000",
          "2019-06-30T00:00:00.000000000",
          "2019-07-31T00:00:00.000000000",
          "2019-08-31T00:00:00.000000000",
          "2019-09-30T00:00:00.000000000",
          "2019-10-31T00:00:00.000000000",
          "2019-11-30T00:00:00.000000000",
          "2019-12-31T00:00:00.000000000",
          "2020-01-31T00:00:00.000000000",
          "2020-02-29T00:00:00.000000000",
          "2020-03-31T00:00:00.000000000",
          "2020-04-30T00:00:00.000000000",
          "2020-05-31T00:00:00.000000000",
          "2020-06-30T00:00:00.000000000",
          "2019-05-31T00:00:00.000000000",
          "2019-06-30T00:00:00.000000000",
          "2019-07-31T00:00:00.000000000",
          "2019-08-31T00:00:00.000000000",
          "2019-09-30T00:00:00.000000000",
          "2019-10-31T00:00:00.000000000",
          "2019-11-30T00:00:00.000000000",
          "2019-12-31T00:00:00.000000000",
          "2020-01-31T00:00:00.000000000",
          "2020-02-29T00:00:00.000000000",
          "2020-03-31T00:00:00.000000000",
          "2020-04-30T00:00:00.000000000",
          "2020-05-31T00:00:00.000000000",
          "2020-06-30T00:00:00.000000000",
          "2020-01-31T00:00:00.000000000",
          "2020-02-29T00:00:00.000000000",
          "2020-03-31T00:00:00.000000000",
          "2020-04-30T00:00:00.000000000",
          "2020-05-31T00:00:00.000000000",
          "2020-06-30T00:00:00.000000000",
          "2020-07-31T00:00:00.000000000",
          "2020-08-31T00:00:00.000000000",
          "2020-09-30T00:00:00.000000000",
          "2020-10-31T00:00:00.000000000"
         ],
         "xaxis": "x",
         "y": {
          "bdata": "exSuR+H6Q0ApXI/C9ahDQKRwPQrXY0NAH4XrUbgeRECF61G4HmVDQClcj8L1iENA4XoUrkcBQ0DD9Shcj+JDQPYoXI/C1UNAcT0K16OQQ0CkcD0K10NDQI/C9ShcL0RAw/UoXI/CQkBSuB6F63FCQNejcD0KN0RAAAAAAADgQ0DXo3A9CjdEQI/C9Shcb0RAKVyPwvUIREB7FK5H4dpDQM3MzMzMTERAexSuR+EaREDD9Shcj8JDQIXrUbgexUNAAAAAAAAAREAfhetRuN5CQM3MzMzMjERA7FG4HoULQ0BxPQrXo9BDQD0K16NwnUNAUrgehetxQ0A9CtejcN1DQFyPwvUoHENAhetRuB6lQkC4HoXrURhCQHsUrkfh+kFAmpmZmZm5QUAfhetRuL5BQA==",
          "dtype": "f8"
         },
         "yaxis": "y"
        },
        {
         "hovertemplate": "Region=Uttarakhand<br>Date=%{x}<br>EstimatedLabourParticipationRate(%)=%{y}<extra></extra>",
         "legendgroup": "Uttarakhand",
         "line": {
          "color": "#19d3f3",
          "dash": "solid"
         },
         "marker": {
          "symbol": "circle"
         },
         "mode": "lines",
         "name": "Uttarakhand",
         "showlegend": true,
         "type": "scattergl",
         "x": [
          "2019-05-31T00:00:00.000000000",
          "2019-06-30T00:00:00.000000000",
          "2019-07-31T00:00:00.000000000",
          "2019-08-31T00:00:00.000000000",
          "2019-09-30T00:00:00.000000000",
          "2019-10-31T00:00:00.000000000",
          "2019-11-30T00:00:00.000000000",
          "2019-12-31T00:00:00.000000000",
          "2020-01-31T00:00:00.000000000",
          "2020-02-29T00:00:00.000000000",
          "2020-04-30T00:00:00.000000000",
          "2020-05-31T00:00:00.000000000",
          "2020-06-30T00:00:00.000000000",
          "2019-05-31T00:00:00.000000000",
          "2019-06-30T00:00:00.000000000",
          "2019-07-31T00:00:00.000000000",
          "2019-08-31T00:00:00.000000000",
          "2019-09-30T00:00:00.000000000",
          "2019-10-31T00:00:00.000000000",
          "2019-11-30T00:00:00.000000000",
          "2019-12-31T00:00:00.000000000",
          "2020-01-31T00:00:00.000000000",
          "2020-02-29T00:00:00.000000000",
          "2020-03-31T00:00:00.000000000",
          "2020-04-30T00:00:00.000000000",
          "2020-05-31T00:00:00.000000000",
          "2020-06-30T00:00:00.000000000",
          "2020-01-31T00:00:00.000000000",
          "2020-02-29T00:00:00.000000000",
          "2020-03-31T00:00:00.000000000",
          "2020-04-30T00:00:00.000000000",
          "2020-05-31T00:00:00.000000000",
          "2020-06-30T00:00:00.000000000",
          "2020-07-31T00:00:00.000000000",
          "2020-08-31T00:00:00.000000000",
          "2020-09-30T00:00:00.000000000",
          "2020-10-31T00:00:00.000000000"
         ],
         "xaxis": "x",
         "y": {
          "bdata": "XI/C9Si8QkDhehSuR4FCQFyPwvUofEJAUrgeheuxQUCF61G4HmVDQDMzMzMzc0JAPQrXo3BdQkC4HoXrUZhBQLgehetR2EFAFK5H4XqUQkCF61G4HoVBQLgehetR+EBAAAAAAAAAQEAUrkfhelQ6QIXrUbgexUBAPQrXo3A9QED2KFyPwjU/QMP1KFyPgjtAj8L1KFzvQECuR+F6FM5AQGZmZmZmpj9AzczMzMyMO0CuR+F6FI5BQArXo3A9qkBA16NwPQqXPUDD9ShcjyJAQK5H4XoUzkFAH4XrUbh+QEA9CtejcD1CQMP1KFyPIkJAPQrXo3CdQEBxPQrXo7BAQEjhehSuh0BAKVyPwvUIQ0AzMzMzM/NBQNejcD0Kl0NApHA9CtcDQUA=",
          "dtype": "f8"
         },
         "yaxis": "y"
        },
        {
         "hovertemplate": "Region=West Bengal<br>Date=%{x}<br>EstimatedLabourParticipationRate(%)=%{y}<extra></extra>",
         "legendgroup": "West Bengal",
         "line": {
          "color": "#FF6692",
          "dash": "solid"
         },
         "marker": {
          "symbol": "circle"
         },
         "mode": "lines",
         "name": "West Bengal",
         "showlegend": true,
         "type": "scattergl",
         "x": [
          "2019-05-31T00:00:00.000000000",
          "2019-06-30T00:00:00.000000000",
          "2019-07-31T00:00:00.000000000",
          "2019-08-31T00:00:00.000000000",
          "2019-09-30T00:00:00.000000000",
          "2019-10-31T00:00:00.000000000",
          "2019-11-30T00:00:00.000000000",
          "2019-12-31T00:00:00.000000000",
          "2020-01-31T00:00:00.000000000",
          "2020-02-29T00:00:00.000000000",
          "2020-03-31T00:00:00.000000000",
          "2020-04-30T00:00:00.000000000",
          "2020-05-31T00:00:00.000000000",
          "2020-06-30T00:00:00.000000000",
          "2019-05-31T00:00:00.000000000",
          "2019-06-30T00:00:00.000000000",
          "2019-07-31T00:00:00.000000000",
          "2019-08-31T00:00:00.000000000",
          "2019-09-30T00:00:00.000000000",
          "2019-10-31T00:00:00.000000000",
          "2019-11-30T00:00:00.000000000",
          "2019-12-31T00:00:00.000000000",
          "2020-01-31T00:00:00.000000000",
          "2020-02-29T00:00:00.000000000",
          "2020-03-31T00:00:00.000000000",
          "2020-04-30T00:00:00.000000000",
          "2020-05-31T00:00:00.000000000",
          "2020-06-30T00:00:00.000000000",
          "2020-01-31T00:00:00.000000000",
          "2020-02-29T00:00:00.000000000",
          "2020-03-31T00:00:00.000000000",
          "2020-04-30T00:00:00.000000000",
          "2020-05-31T00:00:00.000000000",
          "2020-06-30T00:00:00.000000000",
          "2020-07-31T00:00:00.000000000",
          "2020-08-31T00:00:00.000000000",
          "2020-09-30T00:00:00.000000000",
          "2020-10-31T00:00:00.000000000"
         ],
         "xaxis": "x",
         "y": {
          "bdata": "FK5H4Xo0R0CuR+F6FC5JQKRwPQrXY0hAhetRuB5lSECPwvUoXO9IQOxRuB6FC0hAAAAAAAAASUBcj8L1KDxIQGZmZmZmJkhA4XoUrkfBSEDXo3A9CpdIQMP1KFyPokNApHA9CtdDRUC4HoXrUThEQI/C9ShcL0dA4XoUrkfBRUBxPQrXozBGQMP1KFyPYkdAH4XrUbjeRkAAAAAAAKBFQLgehetRuEVAXI/C9Sj8RkBSuB6F67FGQOxRuB6FC0ZA7FG4HoWrRUCamZmZmZlEQPYoXI/CVURAKVyPwvXIQkDNzMzMzKxHQB+F61G43kdAw/UoXI+iR0AzMzMzM/NDQPYoXI/C9URAUrgehesxRED2KFyPwhVHQD0K16NwvUdAPQrXo3DdR0BxPQrXo9BGQA==",
          "dtype": "f8"
         },
         "yaxis": "y"
        },
        {
         "hovertemplate": "Region=Chandigarh<br>Date=%{x}<br>EstimatedLabourParticipationRate(%)=%{y}<extra></extra>",
         "legendgroup": "Chandigarh",
         "line": {
          "color": "#B6E880",
          "dash": "solid"
         },
         "marker": {
          "symbol": "circle"
         },
         "mode": "lines",
         "name": "Chandigarh",
         "showlegend": true,
         "type": "scattergl",
         "x": [
          "2019-05-31T00:00:00.000000000",
          "2019-06-30T00:00:00.000000000",
          "2019-07-31T00:00:00.000000000",
          "2019-08-31T00:00:00.000000000",
          "2019-09-30T00:00:00.000000000",
          "2019-10-31T00:00:00.000000000",
          "2019-11-30T00:00:00.000000000",
          "2019-12-31T00:00:00.000000000",
          "2020-01-31T00:00:00.000000000",
          "2020-02-29T00:00:00.000000000",
          "2020-03-31T00:00:00.000000000",
          "2020-06-30T00:00:00.000000000"
         ],
         "xaxis": "x",
         "y": {
          "bdata": "UrgehetxRkC4HoXrUThEQFyPwvUovENAmpmZmZn5QkDD9Shcj2JFQEjhehSuB0RAzczMzMxMQ0C4HoXrUZhBQLgehetReEVAAAAAAACgQ0DXo3A9CldCQGZmZmZm5kBA",
          "dtype": "f8"
         },
         "yaxis": "y"
        }
       ],
       "layout": {
        "legend": {
         "title": {
          "text": "Region"
         },
         "tracegroupgap": 0
        },
        "template": {
         "data": {
          "bar": [
           {
            "error_x": {
             "color": "#2a3f5f"
            },
            "error_y": {
             "color": "#2a3f5f"
            },
            "marker": {
             "line": {
              "color": "#E5ECF6",
              "width": 0.5
             },
             "pattern": {
              "fillmode": "overlay",
              "size": 10,
              "solidity": 0.2
             }
            },
            "type": "bar"
           }
          ],
          "barpolar": [
           {
            "marker": {
             "line": {
              "color": "#E5ECF6",
              "width": 0.5
             },
             "pattern": {
              "fillmode": "overlay",
              "size": 10,
              "solidity": 0.2
             }
            },
            "type": "barpolar"
           }
          ],
          "carpet": [
           {
            "aaxis": {
             "endlinecolor": "#2a3f5f",
             "gridcolor": "white",
             "linecolor": "white",
             "minorgridcolor": "white",
             "startlinecolor": "#2a3f5f"
            },
            "baxis": {
             "endlinecolor": "#2a3f5f",
             "gridcolor": "white",
             "linecolor": "white",
             "minorgridcolor": "white",
             "startlinecolor": "#2a3f5f"
            },
            "type": "carpet"
           }
          ],
          "choropleth": [
           {
            "colorbar": {
             "outlinewidth": 0,
             "ticks": ""
            },
            "type": "choropleth"
           }
          ],
          "contour": [
           {
            "colorbar": {
             "outlinewidth": 0,
             "ticks": ""
            },
            "colorscale": [
             [
              0,
              "#0d0887"
             ],
             [
              0.1111111111111111,
              "#46039f"
             ],
             [
              0.2222222222222222,
              "#7201a8"
             ],
             [
              0.3333333333333333,
              "#9c179e"
             ],
             [
              0.4444444444444444,
              "#bd3786"
             ],
             [
              0.5555555555555556,
              "#d8576b"
             ],
             [
              0.6666666666666666,
              "#ed7953"
             ],
             [
              0.7777777777777778,
              "#fb9f3a"
             ],
             [
              0.8888888888888888,
              "#fdca26"
             ],
             [
              1,
              "#f0f921"
             ]
            ],
            "type": "contour"
           }
          ],
          "contourcarpet": [
           {
            "colorbar": {
             "outlinewidth": 0,
             "ticks": ""
            },
            "type": "contourcarpet"
           }
          ],
          "heatmap": [
           {
            "colorbar": {
             "outlinewidth": 0,
             "ticks": ""
            },
            "colorscale": [
             [
              0,
              "#0d0887"
             ],
             [
              0.1111111111111111,
              "#46039f"
             ],
             [
              0.2222222222222222,
              "#7201a8"
             ],
             [
              0.3333333333333333,
              "#9c179e"
             ],
             [
              0.4444444444444444,
              "#bd3786"
             ],
             [
              0.5555555555555556,
              "#d8576b"
             ],
             [
              0.6666666666666666,
              "#ed7953"
             ],
             [
              0.7777777777777778,
              "#fb9f3a"
             ],
             [
              0.8888888888888888,
              "#fdca26"
             ],
             [
              1,
              "#f0f921"
             ]
            ],
            "type": "heatmap"
           }
          ],
          "histogram": [
           {
            "marker": {
             "pattern": {
              "fillmode": "overlay",
              "size": 10,
              "solidity": 0.2
             }
            },
            "type": "histogram"
           }
          ],
          "histogram2d": [
           {
            "colorbar": {
             "outlinewidth": 0,
             "ticks": ""
            },
            "colorscale": [
             [
              0,
              "#0d0887"
             ],
             [
              0.1111111111111111,
              "#46039f"
             ],
             [
              0.2222222222222222,
              "#7201a8"
             ],
             [
              0.3333333333333333,
              "#9c179e"
             ],
             [
              0.4444444444444444,
              "#bd3786"
             ],
             [
              0.5555555555555556,
              "#d8576b"
             ],
             [
              0.6666666666666666,
              "#ed7953"
             ],
             [
              0.7777777777777778,
              "#fb9f3a"
             ],
             [
              0.8888888888888888,
              "#fdca26"
             ],
             [
              1,
              "#f0f921"
             ]
            ],
            "type": "histogram2d"
           }
          ],
          "histogram2dcontour": [
           {
            "colorbar": {
             "outlinewidth": 0,
             "ticks": ""
            },
            "colorscale": [
             [
              0,
              "#0d0887"
             ],
             [
              0.1111111111111111,
              "#46039f"
             ],
             [
              0.2222222222222222,
              "#7201a8"
             ],
             [
              0.3333333333333333,
              "#9c179e"
             ],
             [
              0.4444444444444444,
              "#bd3786"
             ],
             [
              0.5555555555555556,
              "#d8576b"
             ],
             [
              0.6666666666666666,
              "#ed7953"
             ],
             [
              0.7777777777777778,
              "#fb9f3a"
             ],
             [
              0.8888888888888888,
              "#fdca26"
             ],
             [
              1,
              "#f0f921"
             ]
            ],
            "type": "histogram2dcontour"
           }
          ],
          "mesh3d": [
           {
            "colorbar": {
             "outlinewidth": 0,
             "ticks": ""
            },
            "type": "mesh3d"
           }
          ],
          "parcoords": [
           {
            "line": {
             "colorbar": {
              "outlinewidth": 0,
              "ticks": ""
             }
            },
            "type": "parcoords"
           }
          ],
          "pie": [
           {
            "automargin": true,
            "type": "pie"
           }
          ],
          "scatter": [
           {
            "fillpattern": {
             "fillmode": "overlay",
             "size": 10,
             "solidity": 0.2
            },
            "type": "scatter"
           }
          ],
          "scatter3d": [
           {
            "line": {
             "colorbar": {
              "outlinewidth": 0,
              "ticks": ""
             }
            },
            "marker": {
             "colorbar": {
              "outlinewidth": 0,
              "ticks": ""
             }
            },
            "type": "scatter3d"
           }
          ],
          "scattercarpet": [
           {
            "marker": {
             "colorbar": {
              "outlinewidth": 0,
              "ticks": ""
             }
            },
            "type": "scattercarpet"
           }
          ],
          "scattergeo": [
           {
            "marker": {
             "colorbar": {
              "outlinewidth": 0,
              "ticks": ""
             }
            },
            "type": "scattergeo"
           }
          ],
          "scattergl": [
           {
            "marker": {
             "colorbar": {
              "outlinewidth": 0,
              "ticks": ""
             }
            },
            "type": "scattergl"
           }
          ],
          "scattermap": [
           {
            "marker": {
             "colorbar": {
              "outlinewidth": 0,
              "ticks": ""
             }
            },
            "type": "scattermap"
           }
          ],
          "scattermapbox": [
           {
            "marker": {
             "colorbar": {
              "outlinewidth": 0,
              "ticks": ""
             }
            },
            "type": "scattermapbox"
           }
          ],
          "scatterpolar": [
           {
            "marker": {
             "colorbar": {
              "outlinewidth": 0,
              "ticks": ""
             }
            },
            "type": "scatterpolar"
           }
          ],
          "scatterpolargl": [
           {
            "marker": {
             "colorbar": {
              "outlinewidth": 0,
              "ticks": ""
             }
            },
            "type": "scatterpolargl"
           }
          ],
          "scatterternary": [
           {
            "marker": {
             "colorbar": {
              "outlinewidth": 0,
              "ticks": ""
             }
            },
            "type": "scatterternary"
           }
          ],
          "surface": [
           {
            "colorbar": {
             "outlinewidth": 0,
             "ticks": ""
            },
            "colorscale": [
             [
              0,
              "#0d0887"
             ],
             [
              0.1111111111111111,
              "#46039f"
             ],
             [
              0.2222222222222222,
              "#7201a8"
             ],
             [
              0.3333333333333333,
              "#9c179e"
             ],
             [
              0.4444444444444444,
              "#bd3786"
             ],
             [
              0.5555555555555556,
              "#d8576b"
             ],
             [
              0.6666666666666666,
              "#ed7953"
             ],
             [
              0.7777777777777778,
              "#fb9f3a"
             ],
             [
              0.8888888888888888,
              "#fdca26"
             ],
             [
              1,
              "#f0f921"
             ]
            ],
            "type": "surface"
           }
          ],
          "table": [
           {
            "cells": {
             "fill": {
              "color": "#EBF0F8"
             },
             "line": {
              "color": "white"
             }
            },
            "header": {
             "fill": {
              "color": "#C8D4E3"
             },
             "line": {
              "color": "white"
             }
            },
            "type": "table"
           }
          ]
         },
         "layout": {
          "annotationdefaults": {
           "arrowcolor": "#2a3f5f",
           "arrowhead": 0,
           "arrowwidth": 1
          },
          "autotypenumbers": "strict",
          "coloraxis": {
           "colorbar": {
            "outlinewidth": 0,
            "ticks": ""
           }
          },
          "colorscale": {
           "diverging": [
            [
             0,
             "#8e0152"
            ],
            [
             0.1,
             "#c51b7d"
            ],
            [
             0.2,
             "#de77ae"
            ],
            [
             0.3,
             "#f1b6da"
            ],
            [
             0.4,
             "#fde0ef"
            ],
            [
             0.5,
             "#f7f7f7"
            ],
            [
             0.6,
             "#e6f5d0"
            ],
            [
             0.7,
             "#b8e186"
            ],
            [
             0.8,
             "#7fbc41"
            ],
            [
             0.9,
             "#4d9221"
            ],
            [
             1,
             "#276419"
            ]
           ],
           "sequential": [
            [
             0,
             "#0d0887"
            ],
            [
             0.1111111111111111,
             "#46039f"
            ],
            [
             0.2222222222222222,
             "#7201a8"
            ],
            [
             0.3333333333333333,
             "#9c179e"
            ],
            [
             0.4444444444444444,
             "#bd3786"
            ],
            [
             0.5555555555555556,
             "#d8576b"
            ],
            [
             0.6666666666666666,
             "#ed7953"
            ],
            [
             0.7777777777777778,
             "#fb9f3a"
            ],
            [
             0.8888888888888888,
             "#fdca26"
            ],
            [
             1,
             "#f0f921"
            ]
           ],
           "sequentialminus": [
            [
             0,
             "#0d0887"
            ],
            [
             0.1111111111111111,
             "#46039f"
            ],
            [
             0.2222222222222222,
             "#7201a8"
            ],
            [
             0.3333333333333333,
             "#9c179e"
            ],
            [
             0.4444444444444444,
             "#bd3786"
            ],
            [
             0.5555555555555556,
             "#d8576b"
            ],
            [
             0.6666666666666666,
             "#ed7953"
            ],
            [
             0.7777777777777778,
             "#fb9f3a"
            ],
            [
             0.8888888888888888,
             "#fdca26"
            ],
            [
             1,
             "#f0f921"
            ]
           ]
          },
          "colorway": [
           "#636efa",
           "#EF553B",
           "#00cc96",
           "#ab63fa",
           "#FFA15A",
           "#19d3f3",
           "#FF6692",
           "#B6E880",
           "#FF97FF",
           "#FECB52"
          ],
          "font": {
           "color": "#2a3f5f"
          },
          "geo": {
           "bgcolor": "white",
           "lakecolor": "white",
           "landcolor": "#E5ECF6",
           "showlakes": true,
           "showland": true,
           "subunitcolor": "white"
          },
          "hoverlabel": {
           "align": "left"
          },
          "hovermode": "closest",
          "mapbox": {
           "style": "light"
          },
          "paper_bgcolor": "white",
          "plot_bgcolor": "#E5ECF6",
          "polar": {
           "angularaxis": {
            "gridcolor": "white",
            "linecolor": "white",
            "ticks": ""
           },
           "bgcolor": "#E5ECF6",
           "radialaxis": {
            "gridcolor": "white",
            "linecolor": "white",
            "ticks": ""
           }
          },
          "scene": {
           "xaxis": {
            "backgroundcolor": "#E5ECF6",
            "gridcolor": "white",
            "gridwidth": 2,
            "linecolor": "white",
            "showbackground": true,
            "ticks": "",
            "zerolinecolor": "white"
           },
           "yaxis": {
            "backgroundcolor": "#E5ECF6",
            "gridcolor": "white",
            "gridwidth": 2,
            "linecolor": "white",
            "showbackground": true,
            "ticks": "",
            "zerolinecolor": "white"
           },
           "zaxis": {
            "backgroundcolor": "#E5ECF6",
            "gridcolor": "white",
            "gridwidth": 2,
            "linecolor": "white",
            "showbackground": true,
            "ticks": "",
            "zerolinecolor": "white"
           }
          },
          "shapedefaults": {
           "line": {
            "color": "#2a3f5f"
           }
          },
          "ternary": {
           "aaxis": {
            "gridcolor": "white",
            "linecolor": "white",
            "ticks": ""
           },
           "baxis": {
            "gridcolor": "white",
            "linecolor": "white",
            "ticks": ""
           },
           "bgcolor": "#E5ECF6",
           "caxis": {
            "gridcolor": "white",
            "linecolor": "white",
            "ticks": ""
           }
          },
          "title": {
           "x": 0.05
          },
          "xaxis": {
           "automargin": true,
           "gridcolor": "white",
           "linecolor": "white",
           "ticks": "",
           "title": {
            "standoff": 15
           },
           "zerolinecolor": "white",
           "zerolinewidth": 2
          },
          "yaxis": {
           "automargin": true,
           "gridcolor": "white",
           "linecolor": "white",
           "ticks": "",
           "title": {
            "standoff": 15
           },
           "zerolinecolor": "white",
           "zerolinewidth": 2
          }
         }
        },
        "title": {
         "text": "Labour Participation Rate Over Time"
        },
        "xaxis": {
         "anchor": "y",
         "domain": [
          0,
          1
         ],
         "title": {
          "text": "Date"
         }
        },
        "yaxis": {
         "anchor": "x",
         "domain": [
          0,
          1
         ],
         "title": {
          "text": "EstimatedLabourParticipationRate(%)"
         }
        }
       }
      }
     },
     "metadata": {},
     "output_type": "display_data"
    }
   ],
   "source": [
    "# Labour Participation Rate Over Time\n",
    "fig = px.line(df, x='Date', y='EstimatedLabourParticipationRate(%)', color='Region', title='Labour Participation Rate Over Time')\n",
    "fig.show()"
   ]
  },
  {
   "cell_type": "code",
   "execution_count": 17,
   "metadata": {},
   "outputs": [
    {
     "data": {
      "application/vnd.plotly.v1+json": {
       "config": {
        "plotlyServerURL": "https://plot.ly"
       },
       "data": [
        {
         "hovertemplate": "Region=Andhra Pradesh<br>EstimatedUnemploymentRate(%)=%{x}<br>EstimatedLabourParticipationRate(%)=%{y}<extra></extra>",
         "legendgroup": "Andhra Pradesh",
         "marker": {
          "color": "#636efa",
          "symbol": "circle"
         },
         "mode": "markers",
         "name": "Andhra Pradesh",
         "showlegend": true,
         "type": "scattergl",
         "x": {
          "bdata": "MzMzMzMzDUBmZmZmZmYIQAAAAAAAAA5Aj8L1KFyPCkCuR+F6FK4UQClcj8L1KAxAexSuR+F6EECF61G4HoURQFyPwvUoXBNApHA9CtejF0A9CtejcD0QQArXo3A9SjBA7FG4HoXrLEAzMzMzMzPrP1yPwvUoXBhAZmZmZmZmDkCPwvUoXI8WQHE9CtejcBJACtejcD0KGEDNzMzMzMwSQClcj8L1KB5AhetRuB6FH0BxPQrXo3AcQKRwPQrXoxZAw/UoXI/CI0BmZmZmZiZAQClcj8L16DhAcT0K16NwF0DsUbgehesVQFK4HoXrURdAKVyPwvUoF0DD9Shcj4I0QK5H4XoUbjFAexSuR+F6CkCuR+F6FK4gQNejcD0K1xtAmpmZmZmZGUBcj8L1KFwaQA==",
          "dtype": "f8"
         },
         "xaxis": "x",
         "y": {
          "bdata": "H4XrUbieRUBmZmZmZgZFQAAAAAAAwEVAXI/C9Sj8RUDXo3A9CldGQOF6FK5HgUVAAAAAAACAREBSuB6F65FGQHsUrkfhukVACtejcD1qRUAUrkfhelREQKRwPQrXA0JAFK5H4XoUQ0DhehSuR+FKQJqZmZmZuUJA4XoUrkdhQkDNzMzMzAxCQIXrUbgeJUJAuB6F61FYQkAUrkfhejRCQI/C9ShcT0JArkfhehROQ0AUrkfhevRBQOxRuB6Fa0JACtejcD0KQkC4HoXrUfg6QLgehetRWEBArkfhehTOQkDD9Shcj4JEQDMzMzMzc0RA16NwPQqXQ0DNzMzMzIxAQHsUrkfhOkJAFK5H4Xq0R0AUrkfhenRDQArXo3A96kJAXI/C9Si8QkDsUbgehatCQA==",
          "dtype": "f8"
         },
         "yaxis": "y"
        },
        {
         "hovertemplate": "Region=Assam<br>EstimatedUnemploymentRate(%)=%{x}<br>EstimatedLabourParticipationRate(%)=%{y}<extra></extra>",
         "legendgroup": "Assam",
         "marker": {
          "color": "#EF553B",
          "symbol": "circle"
         },
         "mode": "markers",
         "name": "Assam",
         "showlegend": true,
         "type": "scattergl",
         "x": {
          "bdata": "KVyPwvUoEUBSuB6F61EUQArXo3A9ChFAKVyPwvUoF0DXo3A9CtcRQJqZmZmZmRJApHA9CtejEkApXI/C9SgRQBSuR+F6FApAKVyPwvUoDkDD9Shcj8IiQAAAAAAAAAAAexSuR+F6H0BI4XoUrscjQK5H4XoUrglASOF6FK7HJECF61G4HoUiQNejcD0KVyZAPQrXo3A9GUAUrkfhehQUQPYoXI/C9RxA9ihcj8L1I0CuR+F6FK4kQD0K16NwvSBACtejcD2KJUBcj8L1KFwLQKRwPQrXoxJApHA9CtejEUAUrkfhehQTQB+F61G4HiZAmpmZmZkZI0AzMzMzMzPjPylcj8L1KA5AH4XrUbgeFkAK16NwPQrzPylcj8L1KAhA",
          "dtype": "f8"
         },
         "xaxis": "x",
         "y": {
          "bdata": "UrgeheuxTECPwvUoXO9FQHsUrkfhGkhACtejcD3qRkD2KFyPwtVLQOF6FK5HYURAUrgehetRR0AzMzMzM3NLQPYoXI/CFURAZmZmZmaGR0AAAAAAAABJQHE9CtejMEFA9ihcj8J1RkD2KFyPwpVGQClcj8L1KEZASOF6FK7nRUAUrkfhelRFQOF6FK5HAUZA7FG4HoVLRkDhehSuRyFGQClcj8L1aEVAMzMzMzPzRUCkcD0K14NGQJqZmZmZOUNAhetRuB6FQ0A9CtejcF1DQD0K16NwfUpAw/UoXI9iREA9CtejcF1HQM3MzMzMjD1A4XoUrkchSEApXI/C9YhBQHE9CtejcERAw/UoXI/CQ0BxPQrXozBLQOxRuB6Fa0dA",
          "dtype": "f8"
         },
         "yaxis": "y"
        },
        {
         "hovertemplate": "Region=Bihar<br>EstimatedUnemploymentRate(%)=%{x}<br>EstimatedLabourParticipationRate(%)=%{y}<extra></extra>",
         "legendgroup": "Bihar",
         "marker": {
          "color": "#00cc96",
          "symbol": "circle"
         },
         "mode": "markers",
         "name": "Bihar",
         "showlegend": true,
         "type": "scattergl",
         "x": {
          "bdata": "CtejcD2KIkBmZmZmZmYkQOF6FK5H4SpAAAAAAAAAJkA9CtejcL0hQHE9Ctej8ChAzczMzMzMKEBSuB6F61EkQMP1KFyPQiJAuB6F61E4I0BI4XoUrscuQOxRuB6Fi0ZA4XoUrkehR0A9CtejcH00QGZmZmZm5jNAFK5H4XqUKkApXI/C9WgwQClcj8L1qDFA9ihcj8J1NEAfhetRuB4sQB+F61G4njFAUrgehevRLUBxPQrXo7A0QLgehetROC5A9ihcj8J1L0DD9Shcj2JNQI/C9Shc70JAZmZmZmbmKEC4HoXrUTglQBSuR+F6lCRAXI/C9SjcLkBSuB6F61FHQHsUrkfh+kZAUrgehevRMUAUrkfhepQpQOF6FK5H4SpAUrgehevRJ0CkcD0K16MjQA==",
          "dtype": "f8"
         },
         "xaxis": "x",
         "y": {
          "bdata": "AAAAAADgQ0B7FK5H4dpDQBSuR+F61ENAzczMzMxsQkApXI/C9UhDQEjhehSuJ0RA4XoUrkfBQkAAAAAAAKBCQIXrUbgexUJApHA9CtejQkBxPQrXo3BDQHE9CtejUENAAAAAAABAQ0AzMzMzM7NCQGZmZmZm5kNAzczMzMysQ0CuR+F6FC5DQKRwPQrXA0NAAAAAAACgQ0CamZmZmTlDQK5H4XoUbkNAhetRuB4lQkAfhetRuH5DQI/C9Shc70JAhetRuB6lQkC4HoXrUXhBQJqZmZmZOUJAhetRuB5FQkBcj8L1KNxCQM3MzMzMrEJAuB6F61FYQ0D2KFyPwhVDQBSuR+F6FENArkfhehRuQkBSuB6F6xFCQOxRuB6FS0FAzczMzMwsQ0CamZmZmdlBQA==",
          "dtype": "f8"
         },
         "yaxis": "y"
        },
        {
         "hovertemplate": "Region=Chhattisgarh<br>EstimatedUnemploymentRate(%)=%{x}<br>EstimatedLabourParticipationRate(%)=%{y}<extra></extra>",
         "legendgroup": "Chhattisgarh",
         "marker": {
          "color": "#ab63fa",
          "symbol": "circle"
         },
         "mode": "markers",
         "name": "Chhattisgarh",
         "showlegend": true,
         "type": "scattergl",
         "x": {
          "bdata": "pHA9CtejI0AK16NwPQobQClcj8L1KBJAj8L1KFyPEkApXI/C9aggQNejcD0K1xtAKVyPwvUoBkBxPQrXo3AYQEjhehSuxyNAj8L1KFyPH0A9CtejcD0dQAAAAAAAAAAAj8L1KFyPHkBI4XoUrkckQArXo3A9iiNACtejcD2KJ0DXo3A9ClcgQClcj8L1KBlA7FG4HoXrIkAK16NwPYokQKRwPQrXoyBAj8L1KFyPDECF61G4HgUiQBSuR+F6lCNA7FG4HoVrIEDhehSuRyE0QJqZmZmZGThAUrgehesRO0DNzMzMzEwjQMP1KFyPwiBAKVyPwvUoHkBI4XoUrkcLQAAAAAAAACVA9ihcj8J1LEAK16NwPYokQIXrUbgehRZAXI/C9Shc/z97FK5H4XoaQA==",
          "dtype": "f8"
         },
         "xaxis": "x",
         "y": {
          "bdata": "UrgehetxRUB7FK5H4dpFQKRwPQrXw0VAZmZmZmZGRUBxPQrXo7BFQKRwPQrXI0dASOF6FK7HRUDsUbgehUtFQKRwPQrXA0VAZmZmZmaGRkA9CtejcH1GQNejcD0Kt0NASOF6FK7HQUAUrkfhelRDQK5H4XoUzkZAcT0K16PwRkDNzMzMzOxGQBSuR+F6dEdAZmZmZmZmR0ApXI/C9WhHQOxRuB6FS0dA7FG4HoXLRkB7FK5H4RpHQFK4HoXrkUdAUrgeheuxR0CPwvUoXA84QD0K16NwPT5AFK5H4Xq0Q0AK16NwPYpFQArXo3A9ykZA7FG4HoXLRkAK16NwPcpBQD0K16NwnUFAPQrXo3A9Q0BSuB6F65FFQFyPwvUofEVAUrgeheuRREApXI/C9WhEQA==",
          "dtype": "f8"
         },
         "yaxis": "y"
        },
        {
         "hovertemplate": "Region=Delhi<br>EstimatedUnemploymentRate(%)=%{x}<br>EstimatedLabourParticipationRate(%)=%{y}<extra></extra>",
         "legendgroup": "Delhi",
         "marker": {
          "color": "#FFA15A",
          "symbol": "circle"
         },
         "mode": "markers",
         "name": "Delhi",
         "showlegend": true,
         "type": "scattergl",
         "x": {
          "bdata": "H4XrUbgeKUApXI/C9agiQKRwPQrXIyZArkfhehQuMUAAAAAAAAApQK5H4XoUri9AuB6F61E4JkC4HoXrUfgwQPYoXI/C9SpAH4XrUbieK0Bcj8L1KFwuQHE9CtejsDRAw/UoXI/CNkCkcD0K1yM1QB+F61G4nihAhetRuB6FKUBcj8L1KFwtQArXo3A9CitA16NwPQqXNEBSuB6F69EoQFyPwvUoHDBApHA9CtcjJkAzMzMzM3M2QLgehetRuC1A16NwPQoXMUDD9Shcj4IwQKRwPQrX40ZAXI/C9SgcMkB7FK5H4To2QK5H4XoUri1ACtejcD0KMUCuR+F6FK4wQMP1KFyPIkVAcT0K16MwMkDNzMzMzEw0QBSuR+F6lCtAj8L1KFwPKUAUrkfhehQZQA==",
          "dtype": "f8"
         },
         "xaxis": "x",
         "y": {
          "bdata": "CtejcD0qRUAfhetRuN5BQKRwPQrXQ0RAexSuR+GaQUDXo3A9CldEQDMzMzMz80JAexSuR+FaRUAK16NwPYpCQK5H4XoULkNA7FG4HoXrQUCamZmZmblCQPYoXI/CNT5AMzMzMzNTQUC4HoXrUTg9QPYoXI/CFUZAexSuR+FaRUDsUbgehStFQDMzMzMzc0VArkfhehSuR0CkcD0K1+NGQMP1KFyPgkVASOF6FK5HRUDsUbgehQtIQNejcD0KF0ZAKVyPwvVoRUDXo3A9Cpc3QEjhehSuRzxAKVyPwvUoQUCF61G4HuVHQPYoXI/C9UVAMzMzMzNTRUDNzMzMzMw3QClcj8L16DxA9ihcj8IVQUBcj8L1KPxAQBSuR+F6tEFA7FG4HoXLQUCuR+F6FC5AQA==",
          "dtype": "f8"
         },
         "yaxis": "y"
        },
        {
         "hovertemplate": "Region=Goa<br>EstimatedUnemploymentRate(%)=%{x}<br>EstimatedLabourParticipationRate(%)=%{y}<extra></extra>",
         "legendgroup": "Goa",
         "marker": {
          "color": "#19d3f3",
          "symbol": "circle"
         },
         "mode": "markers",
         "name": "Goa",
         "showlegend": true,
         "type": "scattergl",
         "x": {
          "bdata": "SOF6FK5HB0DNzMzMzMwVQPYoXI/C9SVArkfhehSu/z/hehSuR+EMQNejcD0K1xxA9ihcj8K1N0BSuB6F61EMQIXrUbgehRVAAAAAAAAAAABSuB6F69EvQAAAAAAAADRAAAAAAAAABkApXI/C9agqQI/C9ShcjyhAmpmZmZmZE0BI4XoUrkcJQB+F61G4nihAMzMzMzMzOUC4HoXrUTgwQNejcD0K1yVAPQrXo3A9EUAK16NwPQoTQIXrUbgehSdASOF6FK7HIUB7FK5H4XoGQAAAAAAAABVAH4XrUbieKkAAAAAAAEA1QOxRuB6F6yNAUrgehesRMUD2KFyPwjUwQMP1KFyPwi5AFK5H4XoUJ0A=",
          "dtype": "f8"
         },
         "xaxis": "x",
         "y": {
          "bdata": "FK5H4XqUQ0C4HoXrURhDQEjhehSu50NArkfhehTOQ0CkcD0K1+NBQK5H4XoULkRA7FG4HoULRkCamZmZmVlDQK5H4XoUrkFArkfhehQOQkCuR+F6FK5GQHsUrkfh2kBA9ihcj8IVQUB7FK5H4fpFQAAAAAAAAERAuB6F61H4P0D2KFyPwvVDQMP1KFyPokRAXI/C9SicRkDD9Shcj2JFQJqZmZmZ+UFAPQrXo3DdQ0BmZmZmZgZCQB+F61G4XkZAPQrXo3DdQUBxPQrXozBDQHE9Ctej8EBAXI/C9Sh8RkCuR+F6FK5CQHsUrkfhGkVAuB6F61F4RUDhehSuR+FFQFK4HoXrcUNAZmZmZmYmQUA=",
          "dtype": "f8"
         },
         "yaxis": "y"
        },
        {
         "hovertemplate": "Region=Gujarat<br>EstimatedUnemploymentRate(%)=%{x}<br>EstimatedLabourParticipationRate(%)=%{y}<extra></extra>",
         "legendgroup": "Gujarat",
         "marker": {
          "color": "#FF6692",
          "symbol": "circle"
         },
         "mode": "markers",
         "name": "Gujarat",
         "showlegend": true,
         "type": "scattergl",
         "x": {
          "bdata": "CtejcD0KB0AUrkfhehQTQFK4HoXrURJAmpmZmZmZDUApXI/C9SgZQKRwPQrXoxNAuB6F61G4EkCuR+F6FK4LQGZmZmZmZhVAj8L1KFyPGkBcj8L1KFweQAAAAAAAAChAKVyPwvUoLUCPwvUoXI/2P1yPwvUoXBBAPQrXo3A9GUCamZmZmZkUQM3MzMzMzBBA16NwPQrXF0DNzMzMzMwVQB+F61G4Hh5A16NwPQrXFkBI4XoUrkcXQClcj8L1KBhAj8L1KFyPFUBxPQrXo/A5QD0K16NwPSdAKVyPwvUoEkApXI/C9SgWQIXrUbgehRlApHA9CtejGkD2KFyPwrUyQLgehetROChAmpmZmZmZCUBxPQrXo3D9P+xRuB6F6/0/XI/C9ShcC0AfhetRuB4QQA==",
          "dtype": "f8"
         },
         "xaxis": "x",
         "y": {
          "bdata": "pHA9CtcDSkCPwvUoXA9JQHsUrkfhGktAKVyPwvVISUDhehSuR4FJQMP1KFyPIkpAZmZmZmZGS0DhehSuR8FJQClcj8L1CEtAPQrXo3C9SkBI4XoUrgdKQMP1KFyPYkFASOF6FK4nR0Bcj8L1KNxHQPYoXI/C1URAKVyPwvVIRkCF61G4HkVFQFyPwvUo3EVAAAAAAADgREBSuB6F65FGQAAAAAAAwEVAAAAAAADgRUC4HoXrURhFQEjhehSuJ0dAMzMzMzNzRUAK16NwPSpCQIXrUbgehTtA4XoUrkchRkAfhetRuD5IQK5H4XoUDklAAAAAAADgR0AAAAAAAMBBQD0K16NwHUNAexSuR+H6RkAUrkfhejRHQGZmZmZmxkVAFK5H4Xo0SEAfhetRuD5JQA==",
          "dtype": "f8"
         },
         "yaxis": "y"
        },
        {
         "hovertemplate": "Region=Haryana<br>EstimatedUnemploymentRate(%)=%{x}<br>EstimatedLabourParticipationRate(%)=%{y}<extra></extra>",
         "legendgroup": "Haryana",
         "marker": {
          "color": "#B6E880",
          "symbol": "circle"
         },
         "mode": "markers",
         "name": "Haryana",
         "showlegend": true,
         "type": "scattergl",
         "x": {
          "bdata": "FK5H4XoULUAUrkfhehQ3QLgehetRODBAcT0K16PwPkBcj8L1KFwwQOxRuB6FKzhA16NwPQqXMECPwvUoXI89QPYoXI/CNTBAcT0K16MwO0DsUbgehes3QK5H4XoUzkRAXI/C9SgcQUApXI/C9chBQOxRuB6FqzhA7FG4HoVrNEAzMzMzM3M5QHE9CtejMDhA16NwPQrXOkAK16NwPQo1QI/C9ShcDztAZmZmZmamN0A9CtejcD07QArXo3A9SjdApHA9CtcjO0BSuB6F63FHQHsUrkfhOkNAKVyPwvVoPUDXo3A9Clc0QIXrUbgexTlAzczMzMwMOUBcj8L1KJxFQIXrUbgeBT1AMzMzMzOzOkCuR+F6FC44QAAAAAAAwEBArkfhehSuM0CPwvUoXE87QA==",
          "dtype": "f8"
         },
         "xaxis": "x",
         "y": {
          "bdata": "j8L1KFyPRkA9CtejcJ1GQPYoXI/CFUVAPQrXo3AdSEBcj8L1KFxGQClcj8L1CEdAPQrXo3A9RUAzMzMzM7NHQB+F61G43kVAj8L1KFyvRkAzMzMzM7NEQM3MzMzM7EhApHA9CtdjRUCkcD0K10NIQNejcD0Kl0VASOF6FK6HRUDD9Shcj2JDQI/C9Shc70NAmpmZmZnZRUAK16NwPUpFQNejcD0Kl0NAKVyPwvXIQ0AAAAAAAGBFQClcj8L1KEVAPQrXo3BdQkA9CtejcL1BQMP1KFyPIkNA7FG4HoULQ0CuR+F6FK5FQHsUrkfhGkZAcT0K16PQQ0BxPQrXozBGQFK4HoXrMURAUrgehesRRUDD9Shcj+JDQClcj8L1qEdAmpmZmZmZQ0DNzMzMzExEQA==",
          "dtype": "f8"
         },
         "yaxis": "y"
        },
        {
         "hovertemplate": "Region=Himachal Pradesh<br>EstimatedUnemploymentRate(%)=%{x}<br>EstimatedLabourParticipationRate(%)=%{y}<extra></extra>",
         "legendgroup": "Himachal Pradesh",
         "marker": {
          "color": "#FF97FF",
          "symbol": "circle"
         },
         "mode": "markers",
         "name": "Himachal Pradesh",
         "showlegend": true,
         "type": "scattergl",
         "x": {
          "bdata": "XI/C9ShcK0Bcj8L1KNwmQNejcD0KlzRAj8L1KFyPMkD2KFyPwvUvQB+F61G4ni9AXI/C9SjcNkD2KFyPwnUzQOxRuB6FqzBA16NwPQrXLkD2KFyPwrUxQArXo3A9CgFApHA9CtejOUDsUbgehevxP8P1KFyPwiVArkfhehRuNUDD9Shcj4I1QHsUrkfhejhAAAAAAAAAKECF61G4HsU3QIXrUbgeRTtAUrgehetROUBmZmZmZiYyQI/C9ShcTztAcT0K16NwOkCamZmZmZkFQAAAAAAAAElAH4XrUbieJUAUrkfhetQwQNejcD0K1zBAw/UoXI/CMkCamZmZmZkBQDMzMzMz8zpAcT0K16PwKkCPwvUoXE84QBSuR+F6lC9AFK5H4XoUKEDsUbgehesqQA==",
          "dtype": "f8"
         },
         "xaxis": "x",
         "y": {
          "bdata": "PQrXo3AdRkDXo3A9CpdEQBSuR+F6dEZAFK5H4Xp0RkDD9Shcj4JGQEjhehSuZ0VAAAAAAABASEBmZmZmZgZGQK5H4XoUjkZAmpmZmZk5RUD2KFyPwhVEQK5H4XoUbjJAj8L1KFxPRUCamZmZmZlEQMP1KFyPokZACtejcD3KSEBcj8L1KJxIQPYoXI/ClUlAj8L1KFzvRkC4HoXrUdhIQPYoXI/CFUpAZmZmZmZGSkD2KFyPwnVIQClcj8L1aElAH4XrUbheSEDsUbgehWs4QGZmZmZmxkVAFK5H4XpUREAAAAAAAMBGQGZmZmZmpkVAhetRuB6FREAK16NwPQozQJqZmZmZWUVAXI/C9SjcREAAAAAAACBIQPYoXI/CtUNAhetRuB7FREDhehSuRwFEQA==",
          "dtype": "f8"
         },
         "yaxis": "y"
        },
        {
         "hovertemplate": "Region=Jammu & Kashmir<br>EstimatedUnemploymentRate(%)=%{x}<br>EstimatedLabourParticipationRate(%)=%{y}<extra></extra>",
         "legendgroup": "Jammu & Kashmir",
         "marker": {
          "color": "#FECB52",
          "symbol": "circle"
         },
         "mode": "markers",
         "name": "Jammu & Kashmir",
         "showlegend": true,
         "type": "scattergl",
         "x": {
          "bdata": "j8L1KFyPKUCuR+F6FC4oQNejcD0KVytApHA9CtejJkCF61G4HkUzQPYoXI/CdS1AcT0K16MwNkB7FK5H4To1QAAAAAAAADBAw/UoXI/CAUC4HoXrUfgyQArXo3A9CjdA4XoUrkfhM0DNzMzMzIw1QI/C9ShcDzhAFK5H4XqULEAUrkfhehQcQArXo3A9ijJAXI/C9SjcM0AUrkfhepQsQOxRuB6F6ylAFK5H4XoUNUBI4XoUrsc0QAAAAAAAAC9APQrXo3C9MkDsUbgehesxQMP1KFyPwiVArkfhehQuJkDsUbgehSswQKRwPQrXIzBA",
          "dtype": "f8"
         },
         "xaxis": "x",
         "y": {
          "bdata": "KVyPwvVIREDD9Shcj4JDQHsUrkfh2kRA9ihcj8IVRkAK16NwPYpFQLgehetR2ENASOF6FK5HRUAAAAAAACBDQEjhehSuh0NAexSuR+E6Q0C4HoXrUXhBQB+F61G4XkdA9ihcj8KVRkBmZmZmZuZHQHE9CtejUEVA9ihcj8J1RkB7FK5H4VpEQDMzMzMzs0RAPQrXo3CdREB7FK5H4RpCQArXo3A9qkBAmpmZmZkZRUD2KFyPwpVDQNejcD0KF0NAexSuR+EaQ0AfhetRuJ5CQKRwPQrXA0NAFK5H4XpUQkBI4XoUridCQGZmZmZmhkFA",
          "dtype": "f8"
         },
         "yaxis": "y"
        },
        {
         "hovertemplate": "Region=Jharkhand<br>EstimatedUnemploymentRate(%)=%{x}<br>EstimatedLabourParticipationRate(%)=%{y}<extra></extra>",
         "legendgroup": "Jharkhand",
         "marker": {
          "color": "#636efa",
          "symbol": "circle"
         },
         "mode": "markers",
         "name": "Jharkhand",
         "showlegend": true,
         "type": "scattergl",
         "x": {
          "bdata": "cT0K16NwHEDsUbgehesgQPYoXI/C9SNAH4XrUbgeKEB7FK5H4XocQEjhehSuRxpApHA9CtcjIEDNzMzMzEwuQKRwPQrXoxhAH4XrUbgeIkAK16NwPQoUQFyPwvUo3ERAzczMzMyMS0BI4XoUroc1QHsUrkfhOjFAw/UoXI+CNEDXo3A9ClcvQAAAAAAAQDRAKVyPwvUoNUDNzMzMzAwzQNejcD0KVzFAw/UoXI8CNkD2KFyPwvU2QOxRuB6FqzNAZmZmZmZmMEA9CtejcL1OQHsUrkfhilFA4XoUrkdhM0C4HoXrUTglQDMzMzMzsydA9ihcj8J1IEDsUbgehYtHQD0K16NwnU1AMzMzMzPzNECF61G4HoUeQIXrUbgehSNAexSuR+F6IECamZmZmZknQA==",
          "dtype": "f8"
         },
         "xaxis": "x",
         "y": {
          "bdata": "hetRuB6FQ0CPwvUoXI9EQBSuR+F61ENACtejcD1qREAfhetRuJ5EQArXo3A9KkVA4XoUrkchREDsUbgehYtEQNejcD0KN0VAZmZmZmYGRkB7FK5H4fpCQPYoXI/CdUJApHA9CteDQkAzMzMzM1NEQAAAAAAAoEVA4XoUrkfBRUApXI/C9WhFQM3MzMzMrEVA16NwPQoXRkApXI/C9WhGQPYoXI/ClUVAUrgeheuRRUAK16NwPSpGQPYoXI/CtUZA7FG4HoWrRUD2KFyPwvVDQB+F61G4PkRA16NwPQo3RED2KFyPwnVFQDMzMzMzM0ZA7FG4HoWrQ0C4HoXrUdhCQPYoXI/C9UJA7FG4HoVLREDD9ShcjyJDQEjhehSuJ0NAhetRuB6FREAK16NwPYpFQA==",
          "dtype": "f8"
         },
         "yaxis": "y"
        },
        {
         "hovertemplate": "Region=Karnataka<br>EstimatedUnemploymentRate(%)=%{x}<br>EstimatedLabourParticipationRate(%)=%{y}<extra></extra>",
         "legendgroup": "Karnataka",
         "marker": {
          "color": "#EF553B",
          "symbol": "circle"
         },
         "mode": "markers",
         "name": "Karnataka",
         "showlegend": true,
         "type": "scattergl",
         "x": {
          "bdata": "16NwPQrXFUDsUbgehesXQKRwPQrXo+A/rkfhehSu1z+amZmZmZkJQIXrUbgehRxACtejcD0K8z89CtejcD3aP4/C9ShcjwRAcT0K16NwEEAfhetRuB4DQPYoXI/ClUBAuB6F61G4N0DXo3A9CtclQD0K16NwPRpAAAAAAAAAFEBSuB6F61ECQFK4HoXrUfQ/j8L1KFyPDED2KFyPwvUOQIXrUbgehQtA9ihcj8L1+D97FK5H4XoKQArXo3A9CgdArkfhehSuE0AfhetRuB45QMP1KFyPwi9AexSuR+F6GEDhehSuR+EGQOF6FK5H4QxArkfhehSuC0DXo3A9Ctc9QLgehetR+DNA4XoUrkfhIEAK16NwPQoQQAAAAAAAAOA/SOF6FK5HA0BI4XoUrkf5Pw==",
          "dtype": "f8"
         },
         "xaxis": "x",
         "y": {
          "bdata": "rkfhehQuR0CPwvUoXI9FQPYoXI/CNUNA16NwPQr3Q0CamZmZmTlGQM3MzMzMjEVAmpmZmZk5QkD2KFyPwvVDQMP1KFyPQkZACtejcD2qREDNzMzMzGxEQAAAAAAAoEVA7FG4HoWLRUCPwvUoXK9KQI/C9ShcT0RAUrgehetxREDsUbgehYtDQIXrUbgeBUNAAAAAAACAQ0CamZmZmdlDQM3MzMzMTENAFK5H4XrUQkC4HoXrUXhDQJqZmZmZuUNAZmZmZmbGREBSuB6F6xFFQDMzMzMz80VA16NwPQr3Q0DXo3A9ChdFQIXrUbgeRURAUrgeheuRRECkcD0K12NFQNejcD0Kt0VAhetRuB6lR0BmZmZmZkZFQHE9CtejkEVAFK5H4XpUQkBmZmZmZiZEQA==",
          "dtype": "f8"
         },
         "yaxis": "y"
        },
        {
         "hovertemplate": "Region=Kerala<br>EstimatedUnemploymentRate(%)=%{x}<br>EstimatedLabourParticipationRate(%)=%{y}<extra></extra>",
         "legendgroup": "Kerala",
         "marker": {
          "color": "#00cc96",
          "symbol": "circle"
         },
         "mode": "markers",
         "name": "Kerala",
         "showlegend": true,
         "type": "scattergl",
         "x": {
          "bdata": "hetRuB6FGkAAAAAAAAAiQM3MzMzMzBNApHA9CtejJEBmZmZmZmYVQEjhehSuRyJAAAAAAAAAFEAK16NwPYolQHE9CtejcBBAUrgehevRIUAzMzMzM7MhQOxRuB6FayVA4XoUrkdhN0ApXI/C9ag7QHE9CtejcBhArkfhehSuGkBSuB6F61EeQMP1KFyPwh5AFK5H4XoUFkBmZmZmZmYVQNejcD0K1xpAPQrXo3A9HUCamZmZmZkaQFK4HoXrURhASOF6FK5HIkCuR+F6FG41QEjhehSuRz5A16NwPQpXKEA9CtejcD0VQGZmZmZmZh5AexSuR+H6IUA9CtejcP0wQOF6FK5H4TFA7FG4HoVrI0Bcj8L1KFwcQPYoXI/C9SVApHA9CtejF0AK16NwPQoPQA==",
          "dtype": "f8"
         },
         "xaxis": "x",
         "y": {
          "bdata": "KVyPwvUIQ0C4HoXrURhFQHsUrkfhekFAMzMzMzPzQ0Bcj8L1KHxDQMP1KFyPAkRAexSuR+FaQED2KFyPwlVDQBSuR+F61EJA7FG4HoVrQ0AfhetRuN4+QClcj8L1qCpAj8L1KFzPQEDhehSuR4FCQDMzMzMzU0JA9ihcj8K1QkBxPQrXo5BAQBSuR+F69EFAKVyPwvVIQkAfhetRuD5CQK5H4XoULkBASOF6FK7HQUCkcD0K10NCQD0K16NwPUJAH4XrUbieQEDD9Shcj4I0QDMzMzMz8z1A16NwPQpXQ0CPwvUoXI9CQHsUrkfh2kJAAAAAAAAAQECF61G4HsUwQK5H4XoUDkFArkfhehQOQkDNzMzMzAxCQKRwPQrX40FAzczMzMxMQUDD9Shcj8JAQA==",
          "dtype": "f8"
         },
         "yaxis": "y"
        },
        {
         "hovertemplate": "Region=Madhya Pradesh<br>EstimatedUnemploymentRate(%)=%{x}<br>EstimatedLabourParticipationRate(%)=%{y}<extra></extra>",
         "legendgroup": "Madhya Pradesh",
         "marker": {
          "color": "#ab63fa",
          "symbol": "circle"
         },
         "mode": "markers",
         "name": "Madhya Pradesh",
         "showlegend": true,
         "type": "scattergl",
         "x": {
          "bdata": "CtejcD0KDUAAAAAAAAARQFyPwvUoXA9Aw/UoXI/CE0CkcD0K16MIQNejcD0K1wdAw/UoXI/CBUCF61G4HoUHQEjhehSuRw1ArkfhehSuEUAK16NwPQrzPwAAAAAAAClA9ihcj8J1NkDXo3A9CtcZQEjhehSuRw9AhetRuB6FGUCF61G4HoUdQEjhehSuRxtAAAAAAAAAHECamZmZmZkRQD0K16NwPRhAzczMzMzMGECuR+F6FK4UQNejcD0K1xNAMzMzMzMzE0DhehSuR+EnQB+F61G4PkRAcT0K16NwKUBxPQrXo3AQQEjhehSuRxJAw/UoXI/CAUC4HoXrUbgoQHsUrkfh+jVA7FG4HoXrGUBSuB6F61EUQM3MzMzMzBJASOF6FK5HD0AK16NwPQoJQA==",
          "dtype": "f8"
         },
         "xaxis": "x",
         "y": {
          "bdata": "XI/C9Sj8QkA9CtejcD1EQJqZmZmZGURAAAAAAACgREAzMzMzM7NDQHsUrkfhukRAuB6F61G4Q0DD9Shcj2JEQM3MzMzMrENAKVyPwvXIQ0AzMzMzM3NDQHE9Ctej8EJAH4XrUbieQ0AAAAAAAMBEQHsUrkfhekNAZmZmZmZmQ0D2KFyPwtVCQM3MzMzMTERA9ihcj8LVQ0CamZmZmRlDQLgehetR+EJACtejcD3qQ0DsUbgehctDQNejcD0K10JA16NwPQpXQkDD9Shcj8I9QB+F61G4vkFAXI/C9ShcQ0D2KFyPwrVDQAAAAAAAgENAH4XrUbgeQ0CamZmZmblBQD0K16NwPUNAhetRuB4FREBxPQrXo3BEQArXo3A9CkRAmpmZmZmZQ0Bcj8L1KDxDQA==",
          "dtype": "f8"
         },
         "yaxis": "y"
        },
        {
         "hovertemplate": "Region=Maharashtra<br>EstimatedUnemploymentRate(%)=%{x}<br>EstimatedLabourParticipationRate(%)=%{y}<extra></extra>",
         "legendgroup": "Maharashtra",
         "marker": {
          "color": "#FFA15A",
          "symbol": "circle"
         },
         "mode": "markers",
         "name": "Maharashtra",
         "showlegend": true,
         "type": "scattergl",
         "x": {
          "bdata": "XI/C9ShcDUBcj8L1KFwRQEjhehSuRw1AFK5H4XoUDkCamZmZmZkRQHsUrkfheg5AcT0K16NwDUA9CtejcD0IQGZmZmZmZg5A9ihcj8L1EECF61G4HoUVQEjhehSuRzlApHA9CtfjMEDNzMzMzMwiQFK4HoXrURhA16NwPQrXGUBmZmZmZmYZQEjhehSuRx5AZmZmZmZmHkAK16NwPQoeQGZmZmZmZh5AUrgehetRH0CuR+F6FK4aQFyPwvUoXBVAXI/C9ShcGUB7FK5H4fotQNejcD0K1y9AhetRuB4FJEDNzMzMzMwTQMP1KFyPwhJAKVyPwvUoF0BmZmZmZuY0QOxRuB6F6y5A9ihcj8J1IkAfhetRuB4PQOxRuB6F6xhAMzMzMzMzEkBmZmZmZmYQQA==",
          "dtype": "f8"
         },
         "xaxis": "x",
         "y": {
          "bdata": "rkfhehSOR0C4HoXrUdhGQGZmZmZmZkhA9ihcj8JVSkAfhetRuN5IQK5H4XoUzkdApHA9CtdDSEA9CtejcH1JQK5H4XoULklArkfhehSuSEDNzMzMzMxGQPYoXI/CtUJAexSuR+GaREDsUbgehStIQGZmZmZmJkNAZmZmZmamQ0BI4XoUrmdDQOxRuB6F60JACtejcD3KQ0BmZmZmZoZDQK5H4XoUzkNAKVyPwvXIQkApXI/C9ahCQK5H4XoUzkJAZmZmZmbmQkBcj8L1KNw+QOF6FK5HYT5AhetRuB6FQkC4HoXrURhGQGZmZmZm5kVAFK5H4Xr0REApXI/C9ShBQPYoXI/ClUJAexSuR+FaRUApXI/C9chEQB+F61G4PkVAAAAAAABgRUAAAAAAAOBFQA==",
          "dtype": "f8"
         },
         "yaxis": "y"
        },
        {
         "hovertemplate": "Region=Meghalaya<br>EstimatedUnemploymentRate(%)=%{x}<br>EstimatedLabourParticipationRate(%)=%{y}<extra></extra>",
         "legendgroup": "Meghalaya",
         "marker": {
          "color": "#19d3f3",
          "symbol": "circle"
         },
         "mode": "markers",
         "name": "Meghalaya",
         "showlegend": true,
         "type": "scattergl",
         "x": {
          "bdata": "SOF6FK5HCUDsUbgehesQQHsUrkfhevA/pHA9Ctej4D+4HoXrUbjOP5qZmZmZmQ1AAAAAAAAA+D/NzMzMzMz8PwrXo3A9Cu8/FK5H4XoUBkB7FK5H4Xr0P8P1KFyPwiBA16NwPQrXDUCamZmZmZn1P83MzMzMzCBAUrgehetRIUC4HoXrUbgRQDMzMzMzMxdAMzMzMzMzFUDNzMzMzMwcQClcj8L1KAhA16NwPQrXFEAK16NwPQoTQHsUrkfheh1AZmZmZmZmBkCkcD0K12MxQClcj8L1KC1Aj8L1KFyP+j+4HoXrUbgMQEjhehSuR/k/j8L1KFwPJECuR+F6FK4XQGZmZmZmZvI/zczMzMzMAEDsUbgehesNQClcj8L1KBFAZmZmZmZmEkA=",
          "dtype": "f8"
         },
         "xaxis": "x",
         "y": {
          "bdata": "uB6F61GIUEDsUbgehYtOQHsUrkfhqlBArkfhehRuTkDhehSuR4FQQLgehetRuE9AUrgehetBUUDXo3A9CpdPQArXo3A9alFApHA9CtcDUEA9CtejcN1QQArXo3A9akhA4XoUrkehTEC4HoXrUShQQIXrUbge5UdAhetRuB4lSEBmZmZmZkZMQMP1KFyPIkpAw/UoXI9iSUB7FK5H4dpHQMP1KFyPgkxAhetRuB6FSkCkcD0K18NJQOF6FK5HoUdAUrgehevRS0DhehSuR0FCQD0K16NwPUhAj8L1KFxfUECamZmZmRlOQI/C9ShcL1BAH4XrUbj+RkAfhetRuJ5LQEjhehSuJ01AexSuR+F6T0BxPQrXo/BNQGZmZmZmJlBA16NwPQqXTkA=",
          "dtype": "f8"
         },
         "yaxis": "y"
        },
        {
         "hovertemplate": "Region=Odisha<br>EstimatedUnemploymentRate(%)=%{x}<br>EstimatedLabourParticipationRate(%)=%{y}<extra></extra>",
         "legendgroup": "Odisha",
         "marker": {
          "color": "#FF6692",
          "symbol": "circle"
         },
         "mode": "markers",
         "name": "Odisha",
         "showlegend": true,
         "type": "scattergl",
         "x": {
          "bdata": "rkfhehSuEEDXo3A9CtcSQHsUrkfhegpAcT0K16NwDUA9CtejcD0RQB+F61G4HhFA4XoUrkfhEkCuR+F6FK4SQPYoXI/C9fw/exSuR+F6CkCuR+F6FC4uQHsUrkfhejhAZmZmZmbmIkBcj8L1KFwSQJqZmZmZmQdACtejcD0KBUB7FK5H4Xr8PwAAAAAAAAxAPQrXo3A9DkAAAAAAAAASQNejcD0K1wFA4XoUrkfhCkA9CtejcD0CQIXrUbgehQFArkfhehSuD0AAAAAAAIA0QAAAAAAAACRAcT0K16NwAUBmZmZmZmb+P/YoXI/C9QhAKVyPwvUoKkDD9Shcj8I3QFK4HoXr0SZAKVyPwvUoDkAUrkfhehT+P7gehetRuPY/zczMzMzMAEBxPQrXo3ABQA==",
          "dtype": "f8"
         },
         "xaxis": "x",
         "y": {
          "bdata": "XI/C9Sg8REC4HoXrUfhDQGZmZmZmhkVAcT0K16MQRUApXI/C9ShEQHE9Ctej8ERASOF6FK4HRkAUrkfhenREQOxRuB6Fi0NAPQrXo3D9REBmZmZmZsZDQClcj8L1KDlAPQrXo3A9QkCuR+F6FC5CQOF6FK5HoURAUrgehesxQ0AfhetRuH5EQAAAAAAAIERAMzMzMzMTRUDhehSuR0FEQHsUrkfh2kRAexSuR+E6Q0BmZmZmZoZEQFyPwvUofENA16NwPQr3Q0BI4XoUroc5QI/C9ShcD0FAH4XrUbieQUC4HoXrUbhDQLgehetRuERAj8L1KFzPQ0B7FK5H4To5QIXrUbgehUJAmpmZmZm5QkC4HoXrUVhDQHsUrkfh+kNAcT0K16NQQ0A9CtejcP1DQA==",
          "dtype": "f8"
         },
         "yaxis": "y"
        },
        {
         "hovertemplate": "Region=Puducherry<br>EstimatedUnemploymentRate(%)=%{x}<br>EstimatedLabourParticipationRate(%)=%{y}<extra></extra>",
         "legendgroup": "Puducherry",
         "marker": {
          "color": "#B6E880",
          "symbol": "circle"
         },
         "mode": "markers",
         "name": "Puducherry",
         "showlegend": true,
         "type": "scattergl",
         "x": {
          "bdata": "AAAAAAAAAAAAAAAAAAAAAAAAAAAAAAAAZmZmZmZmE0AAAAAAAAAAAOF6FK5H4fI/AAAAAAAAAADXo3A9Ctf/P4/C9Shcj+I/16NwPQrX+z97FK5H4XoCQHE9CtejoFJAAAAAAAAA9D8AAAAAAAAAAAAAAAAAAAAAZmZmZmbmIUCF61G4HoXzP7gehetRuPI/7FG4HoXr9T/Xo3A9CtcUQD0K16NwPeI/exSuR+F6/D/Xo3A9CtfjP4/C9ShcL1NAAAAAAADAUkAzMzMzMzMSQI/C9Shcj+I/KVyPwvUo/D8zMzMzMzPzP2ZmZmZm9lJAuB6F61EYTUD2KFyPwvUQQHE9Ctej8C5AMzMzMzMzFEDNzMzMzMwlQLgehetRuBhA",
          "dtype": "f8"
         },
         "xaxis": "x",
         "y": {
          "bdata": "CtejcD2KRUCamZmZmflGQEjhehSuR0FACtejcD3qR0DsUbgehatFQM3MzMzMbEZAAAAAAACAQUApXI/C9YhGQNejcD0Kl0VAcT0K16OwRkA9CtejcJ1BQIXrUbgeZUdAexSuR+HaQUA9CtejcN1CQMP1KFyPYkFAFK5H4Xo0RUA9CtejcN1BQK5H4XoUbkNAuB6F61EYQUD2KFyPwjVEQOxRuB6FS0FAAAAAAABAQ0CPwvUoXA9BQIXrUbgexUFAAAAAAABAP0B7FK5H4bo9QHsUrkfhukJAZmZmZmZmREAfhetRuD5BQGZmZmZmpkNAuB6F61GYQEDNzMzMzMw+QFK4HoXrUUJA7FG4HoWrQEDsUbgehWtCQClcj8L1KEJA",
          "dtype": "f8"
         },
         "yaxis": "y"
        },
        {
         "hovertemplate": "Region=Punjab<br>EstimatedUnemploymentRate(%)=%{x}<br>EstimatedLabourParticipationRate(%)=%{y}<extra></extra>",
         "legendgroup": "Punjab",
         "marker": {
          "color": "#FF97FF",
          "symbol": "circle"
         },
         "mode": "markers",
         "name": "Punjab",
         "showlegend": true,
         "type": "scattergl",
         "x": {
          "bdata": "16NwPQpXIkDsUbgehWsoQEjhehSuRyNAw/UoXI/CGkCuR+F6FC4hQB+F61G4HilASOF6FK5HHECF61G4HoUYQOF6FK5HYSNAUrgehevRJECF61G4HgUlQIXrUbgehQ1A7FG4HoVLREAAAAAAAAA0QHsUrkfh+ipA16NwPQpXKkC4HoXrUTgnQHsUrkfh+idA4XoUrkdhL0AAAAAAAIArQEjhehSuxyRAcT0K16PwJ0Bcj8L1KFwrQHsUrkfh+idAcT0K16PwI0AUrkfhehTyPwrXo3A9ijRAmpmZmZkZJUC4HoXrUTgmQHE9Ctej8CVApHA9CtejJEDhehSuR+EGQBSuR+F6VDxAzczMzMyMMEDhehSuR2EiQHsUrkfh+iVAuB6F61E4I0DD9Shcj8IjQA==",
          "dtype": "f8"
         },
         "xaxis": "x",
         "y": {
          "bdata": "hetRuB5lRkCF61G4HuVGQAAAAAAAQEdACtejcD0KRkAfhetRuL5GQBSuR+F61EZAZmZmZmbGRkAzMzMzM7NFQFyPwvUonEZAuB6F61EYRkDNzMzMzGxHQJqZmZmZGUBAUrgeheuRREAzMzMzM/NFQKRwPQrXA0RAw/UoXI8CRECPwvUoXE9FQK5H4XoUzkRAXI/C9Sj8Q0DNzMzMzIxCQClcj8L16ERA9ihcj8IVRUCF61G4HoVDQClcj8L16EJAhetRuB6lREAzMzMzM/M3QHsUrkfhWkFAexSuR+F6QUApXI/C9WhFQFyPwvUo3ERAuB6F61FYRkA9CtejcP08QFK4HoXrMUNA16NwPQoXREDhehSuR2FFQB+F61G4/kRAAAAAAADAQ0AAAAAAAGBDQA==",
          "dtype": "f8"
         },
         "yaxis": "y"
        },
        {
         "hovertemplate": "Region=Rajasthan<br>EstimatedUnemploymentRate(%)=%{x}<br>EstimatedLabourParticipationRate(%)=%{y}<extra></extra>",
         "legendgroup": "Rajasthan",
         "marker": {
          "color": "#FECB52",
          "symbol": "circle"
         },
         "mode": "markers",
         "name": "Rajasthan",
         "showlegend": true,
         "type": "scattergl",
         "x": {
          "bdata": "H4XrUbgeEEBmZmZmZmYrQGZmZmZmZiNAAAAAAAAAKUDNzMzMzMwVQFK4HoXrUS1AcT0K16PwJEDsUbgehesrQAAAAAAAACBA9ihcj8L1LEBxPQrXo/AiQAAAAAAAgChAZmZmZmbmJEC4HoXrUbgrQD0K16NwPStAuB6F61G4LEDXo3A9ClcnQOxRuB6Fay1Aw/UoXI9CKUAK16NwPQoqQJqZmZmZmSxACtejcD0KMkBSuB6F69EyQIXrUbgeBTFACtejcD2KMkCkcD0K18NBQJqZmZmZWTlAFK5H4XoUKkBxPQrXo/AlQFK4HoXrUS5AzczMzMzMJ0AzMzMzM7MxQHsUrkfhei9ASOF6FK7HLEAfhetRuJ4vQMP1KFyPgjFAMzMzMzOzLkBmZmZmZiY4QA==",
          "dtype": "f8"
         },
         "xaxis": "x",
         "y": {
          "bdata": "w/UoXI9CQ0DD9Shcj4JEQKRwPQrX40NAPQrXo3C9REAfhetRuJ5DQLgehetRWEVAj8L1KFxvREAAAAAAAIBFQI/C9ShcD0RACtejcD3qREBcj8L1KLxDQHsUrkfhmkFArkfhehSOREA9CtejcP1FQLgehetRuENAPQrXo3BdREBxPQrXozBEQOxRuB6FK0RAMzMzMzOTQ0BmZmZmZmZEQD0K16NwXURAMzMzMzNzREDsUbgehctEQI/C9Shcz0RAexSuR+HaQ0BSuB6F65E9QHsUrkfhWkJA4XoUrkehQ0DhehSuR0FEQMP1KFyP4kRAhetRuB7FQ0B7FK5H4dpAQB+F61G4XkRAcT0K16OwREBmZmZmZmZEQHsUrkfh2kRACtejcD1qRED2KFyPwnVGQA==",
          "dtype": "f8"
         },
         "yaxis": "y"
        },
        {
         "hovertemplate": "Region=Sikkim<br>EstimatedUnemploymentRate(%)=%{x}<br>EstimatedLabourParticipationRate(%)=%{y}<extra></extra>",
         "legendgroup": "Sikkim",
         "marker": {
          "color": "#636efa",
          "symbol": "circle"
         },
         "mode": "markers",
         "name": "Sikkim",
         "showlegend": true,
         "type": "scattergl",
         "x": {
          "bdata": "7FG4HoXrFUC4HoXrUTgqQAAAAAAAAPA/AAAAAAAAAAA9CtejcD0XQGZmZmZmZiBACtejcD0KH0B7FK5H4XoEQEjhehSuRxNAPQrXo3A9E0Bcj8L1KFwjQClcj8L1KBBAexSuR+F6HUAzMzMzM3M0QBSuR+F6FBdAAAAAAADAM0AK16NwPQoFQFK4HoXrkTdAPQrXo3A9AkDD9Shcj4I4QNejcD0K1xFAzczMzMzMEUB7FK5H4fooQM3MzMzMzBZAKVyPwvUo7D8=",
          "dtype": "f8"
         },
         "xaxis": "x",
         "y": {
          "bdata": "SOF6FK4HRkCF61G4HoVKQGZmZmZmJkdAXI/C9SjcQkCuR+F6FC5FQK5H4XoUTkhAcT0K16MQSED2KFyPwlVLQHE9CtejUEdArkfhehTORkBcj8L1KHxHQGZmZmZm5kpAH4XrUbieRkApXI/C9UhJQEjhehSuJ0RAKVyPwvWoRUDNzMzMzOxBQOxRuB6FS05AmpmZmZlZQ0BxPQrXo3BGQDMzMzMzM0RAKVyPwvUoSEAfhetRuD5IQIXrUbgeRUVAcT0K16MQRUA=",
          "dtype": "f8"
         },
         "yaxis": "y"
        },
        {
         "hovertemplate": "Region=Tamil Nadu<br>EstimatedUnemploymentRate(%)=%{x}<br>EstimatedLabourParticipationRate(%)=%{y}<extra></extra>",
         "legendgroup": "Tamil Nadu",
         "marker": {
          "color": "#EF553B",
          "symbol": "circle"
         },
         "mode": "markers",
         "name": "Tamil Nadu",
         "showlegend": true,
         "type": "scattergl",
         "x": {
          "bdata": "CtejcD0K7z9xPQrXo3DtPwrXo3A9ChhASOF6FK5HB0Bcj8L1KFz7P1yPwvUoXPc/rkfhehSuA0DXo3A9CtcNQOF6FK5H4fI/uB6F61G48j9xPQrXo3AZQLgehetRmEpAPQrXo3BdQ0B7FK5H4XoAQHsUrkfheuw/9ihcj8L1+D9xPQrXo3AJQI/C9ShcDyNAw/UoXI/C/T8UrkfhehTyPzMzMzMzMwVAmpmZmZkZIEBmZmZmZmYAQHsUrkfhegpA16NwPQrXGUBmZmZmZsZGQDMzMzMz8zlArkfhehTuOEAfhetRuB75P7gehetRuABAmpmZmZmZGUAK16NwPepIQBSuR+F6lEBAZmZmZmZmKEA9CtejcD0bQDMzMzMzMwVAAAAAAAAAFEBI4XoUrkcBQA==",
          "dtype": "f8"
         },
         "xaxis": "x",
         "y": {
          "bdata": "uB6F61G4SEAfhetRuH5JQLgehetR+EpA9ihcj8IVSkCPwvUoXM9GQGZmZmZmRkhAmpmZmZl5SUBmZmZmZmZIQD0K16NwHUdArkfhehRuSEBI4XoUrsdJQGZmZmZmhkBAmpmZmZmZPEA9CtejcH0/QEjhehSup0JAFK5H4XqUQ0BSuB6F63FDQHE9CtejkERA4XoUrkfhQkD2KFyPwjVDQHE9CtejsEJAhetRuB6lREBSuB6F69FCQD0K16NwvUJA9ihcj8IVQkDsUbgehSs6QIXrUbgexTdAmpmZmZmZP0B7FK5H4fpEQJqZmZmZmUVAFK5H4Xr0RUDhehSuR6E9QHsUrkfhOjpAFK5H4XqUQEBxPQrXoxBEQFyPwvUoHEVAw/UoXI9iQkCPwvUoXE9CQA==",
          "dtype": "f8"
         },
         "yaxis": "y"
        },
        {
         "hovertemplate": "Region=Telangana<br>EstimatedUnemploymentRate(%)=%{x}<br>EstimatedLabourParticipationRate(%)=%{y}<extra></extra>",
         "legendgroup": "Telangana",
         "marker": {
          "color": "#00cc96",
          "symbol": "circle"
         },
         "mode": "markers",
         "name": "Telangana",
         "showlegend": true,
         "type": "scattergl",
         "x": {
          "bdata": "16NwPQrXAUCuR+F6FK4XQJqZmZmZmQNAZmZmZmZm9j/2KFyPwvUVQClcj8L1KB1A4XoUrkfhGUCamZmZmZn1PxSuR+F6FBRACtejcD0KIkCF61G4HoUWQArXo3A9ChJA4XoUrkcBQUDNzMzMzEwzQFK4HoXrUfg/4XoUrkfh9j/Xo3A9CtcNQMP1KFyPwhBAw/UoXI/CGED2KFyPwvUaQOxRuB6F6xRA4XoUrkfhEED2KFyPwvUZQPYoXI/C9RpAZmZmZmZmGEAAAAAAAAAlQClcj8L1SEJArkfhehSuG0D2KFyPwvUVQBSuR+F6lCBAFK5H4XoUF0AAAAAAAAAZQGZmZmZmZi1AmpmZmZkZJUBxPQrXo3AVQClcj8L1KBdAKVyPwvUoCkDhehSuR+EGQA==",
          "dtype": "f8"
         },
         "xaxis": "x",
         "y": {
          "bdata": "H4XrUbjeTkC4HoXrURhPQJqZmZmZGVBAPQrXo3CdTUAUrkfheiRSQI/C9Shcn1BAexSuR+FKUECuR+F6FE5OQHE9CtejIFFAexSuR+G6UEBSuB6F6yFRQLgehetRuEhAAAAAAACATkBcj8L1KHxNQOxRuB6FS0ZA16NwPQq3RkCuR+F6FC5GQFK4HoXrsUZApHA9CtejR0DhehSuR0FGQI/C9Shc70VAcT0K16OQRUCamZmZmflGQKRwPQrX40ZAMzMzMzPTRUDNzMzMzAw9QHE9Ctej0EJA16NwPQrXQkAAAAAAAKBNQB+F61G4Hk1ASOF6FK4nTUBI4XoUrodEQNejcD0Kt0tAXI/C9SicSkDNzMzMzAxKQOxRuB6FS05AuB6F61F4S0AK16NwPUpMQA==",
          "dtype": "f8"
         },
         "yaxis": "y"
        },
        {
         "hovertemplate": "Region=Tripura<br>EstimatedUnemploymentRate(%)=%{x}<br>EstimatedLabourParticipationRate(%)=%{y}<extra></extra>",
         "legendgroup": "Tripura",
         "marker": {
          "color": "#ab63fa",
          "symbol": "circle"
         },
         "mode": "markers",
         "name": "Tripura",
         "showlegend": true,
         "type": "scattergl",
         "x": {
          "bdata": "AAAAAABAPUCkcD0K16M6QLgehetReDZAPQrXo3B9OUB7FK5H4To+QArXo3A9ijtAAAAAAABAOUBI4XoUroc6QClcj8L16D9AuB6F61E4OkBcj8L1KJw/QFK4HoXr0UVA7FG4HoVrLUDXo3A9CtcyQLgehetRWEFA16NwPQqXOUCPwvUoXM85QJqZmZmZuUBAKVyPwvXIQEDsUbgehas6QGZmZmZmJjtAPQrXo3C9QECPwvUoXC9BQHE9Ctej8EBAcT0K16OwOUBxPQrXo3BBQEjhehSuxzBAuB6F61F4O0D2KFyPwlVAQGZmZmZmZjxAMzMzMzPzPUA9CtejcJ1EQMP1KFyPgjVA9ihcj8K1NUA9CtejcD0yQOxRuB6F6ztAmpmZmZlZMUCkcD0K1yMnQA==",
          "dtype": "f8"
         },
         "xaxis": "x",
         "y": {
          "bdata": "rkfhehQeUECamZmZmdlQQIXrUbgeRU5AhetRuB4lTUCamZmZmXlQQD0K16NwDVFAw/UoXI8SUEDD9Shcj4JPQNejcD0KJ1FAuB6F61F4UUBSuB6F6xFRQHE9CtejUEpAMzMzMzNzR0AfhetRuN5NQAAAAAAAYFFAZmZmZmZmTUDNzMzMzIxNQClcj8L1iE1AmpmZmZm5UEAAAAAAAABOQFK4HoXrEU9AFK5H4Xq0T0BxPQrXoxBSQMP1KFyPglBASOF6FK7HT0AzMzMzM9NHQEjhehSuJ0hA9ihcj8IVTEBcj8L1KGxRQI/C9ShcL1FAKVyPwvW4UEAUrkfhepRJQEjhehSuZ0lAzczMzMxsTUCkcD0K12NJQHsUrkfhGkxAw/UoXI9iSUAK16NwPUpLQA==",
          "dtype": "f8"
         },
         "yaxis": "y"
        },
        {
         "hovertemplate": "Region=Uttar Pradesh<br>EstimatedUnemploymentRate(%)=%{x}<br>EstimatedLabourParticipationRate(%)=%{y}<extra></extra>",
         "legendgroup": "Uttar Pradesh",
         "marker": {
          "color": "#FFA15A",
          "symbol": "circle"
         },
         "mode": "markers",
         "name": "Uttar Pradesh",
         "showlegend": true,
         "type": "scattergl",
         "x": {
          "bdata": "hetRuB6FJEDD9Shcj0ImQOF6FK5HYSJAcT0K16PwJkDNzMzMzMwZQFyPwvUoXCRAw/UoXI/CG0Bcj8L1KNwgQD0K16NwPRhAPQrXo3A9IEA9CtejcL0iQOxRuB6F6zNApHA9CtfjMECF61G4HgUhQM3MzMzMzCxAPQrXo3A9J0CamZmZmZknQPYoXI/CdS1AKVyPwvUoK0AzMzMzM7MkQB+F61G4niZAPQrXo3C9KECuR+F6FK4oQM3MzMzMTCdApHA9CtejKEBxPQrXo/A6QEjhehSuB0BAmpmZmZkZKkBSuB6F61EeQPYoXI/C9SFAuB6F61E4JEAK16NwPYo1QClcj8L1aDRAcT0K16PwIkA9CtejcD0WQClcj8L1KBdAuB6F61G4EEAAAAAAAAAOQA==",
          "dtype": "f8"
         },
         "xaxis": "x",
         "y": {
          "bdata": "exSuR+H6Q0ApXI/C9ahDQKRwPQrXY0NAH4XrUbgeRECF61G4HmVDQClcj8L1iENA4XoUrkcBQ0DD9Shcj+JDQPYoXI/C1UNAcT0K16OQQ0CkcD0K10NDQI/C9ShcL0RAw/UoXI/CQkBSuB6F63FCQNejcD0KN0RAAAAAAADgQ0DXo3A9CjdEQI/C9Shcb0RAKVyPwvUIREB7FK5H4dpDQM3MzMzMTERAexSuR+EaREDD9Shcj8JDQIXrUbgexUNAAAAAAAAAREAfhetRuN5CQM3MzMzMjERA7FG4HoULQ0BxPQrXo9BDQD0K16NwnUNAUrgehetxQ0A9CtejcN1DQFyPwvUoHENAhetRuB6lQkC4HoXrURhCQHsUrkfh+kFAmpmZmZm5QUAfhetRuL5BQA==",
          "dtype": "f8"
         },
         "yaxis": "y"
        },
        {
         "hovertemplate": "Region=Uttarakhand<br>EstimatedUnemploymentRate(%)=%{x}<br>EstimatedLabourParticipationRate(%)=%{y}<extra></extra>",
         "legendgroup": "Uttarakhand",
         "marker": {
          "color": "#19d3f3",
          "symbol": "circle"
         },
         "mode": "markers",
         "name": "Uttarakhand",
         "showlegend": true,
         "type": "scattergl",
         "x": {
          "bdata": "FK5H4XoU+j+amZmZmZkSQPYoXI/C9RZAcT0K16NwGEDD9Shcj8ILQFK4HoXrURNAPQrXo3A9FkAUrkfhehQSQK5H4XoUrhBAZmZmZmZmE0BI4XoUrkcNQI/C9ShcjwxA7FG4HoVrJUDXo3A9ClciQMP1KFyPwhJAw/UoXI/CG0C4HoXrUbgdQD0K16NwPSNA4XoUrkfhEkBcj8L1KFwZQI/C9Shcjx1A16NwPQrXIUAfhetRuB4VQM3MzMzMTCBAXI/C9ShcKkBcj8L1KFwxQFK4HoXrURRA9ihcj8L1FUD2KFyPwvUTQJqZmZmZ2TNA7FG4HoXrGUCF61G4HgUgQLgehetROCFAw/UoXI/CKECF61G4HoUsQMP1KFyPQjZA9ihcj8J1IkA=",
          "dtype": "f8"
         },
         "xaxis": "x",
         "y": {
          "bdata": "XI/C9Si8QkDhehSuR4FCQFyPwvUofEJAUrgeheuxQUCF61G4HmVDQDMzMzMzc0JAPQrXo3BdQkC4HoXrUZhBQLgehetR2EFAFK5H4XqUQkCF61G4HoVBQLgehetR+EBAAAAAAAAAQEAUrkfhelQ6QIXrUbgexUBAPQrXo3A9QED2KFyPwjU/QMP1KFyPgjtAj8L1KFzvQECuR+F6FM5AQGZmZmZmpj9AzczMzMyMO0CuR+F6FI5BQArXo3A9qkBA16NwPQqXPUDD9ShcjyJAQK5H4XoUzkFAH4XrUbh+QEA9CtejcD1CQMP1KFyPIkJAPQrXo3CdQEBxPQrXo7BAQEjhehSuh0BAKVyPwvUIQ0AzMzMzM/NBQNejcD0Kl0NApHA9CtcDQUA=",
          "dtype": "f8"
         },
         "yaxis": "y"
        },
        {
         "hovertemplate": "Region=West Bengal<br>EstimatedUnemploymentRate(%)=%{x}<br>EstimatedLabourParticipationRate(%)=%{y}<extra></extra>",
         "legendgroup": "West Bengal",
         "marker": {
          "color": "#FF6692",
          "symbol": "circle"
         },
         "mode": "markers",
         "name": "West Bengal",
         "showlegend": true,
         "type": "scattergl",
         "x": {
          "bdata": "FK5H4XoUGEBmZmZmZmYXQHsUrkfhehZAUrgehetRFkAK16NwPQoVQB+F61G4HhtAUrgehetRF0ApXI/C9SgXQClcj8L1KBtAPQrXo3A9DkAUrkfhehQcQFK4HoXrUTJArkfhehRuMkDD9Shcj8ITQAAAAAAAAB1AhetRuB6FHUCkcD0K16MfQBSuR+F6FB1AKVyPwvUoH0BSuB6F61EfQHE9CtejcBpA9ihcj8L1HEAUrkfhehQdQDMzMzMzMx5ArkfhehSuGkDD9Shcj0IvQHE9CtejcC5AuB6F61G4I0DD9Shcj8IbQK5H4XoUrhNArkfhehSuG0ApXI/C9WgxQClcj8L1aDFAKVyPwvUoHUBSuB6F61EbQD0K16NwvS1AMzMzMzOzIkD2KFyPwvUjQA==",
          "dtype": "f8"
         },
         "xaxis": "x",
         "y": {
          "bdata": "FK5H4Xo0R0CuR+F6FC5JQKRwPQrXY0hAhetRuB5lSECPwvUoXO9IQOxRuB6FC0hAAAAAAAAASUBcj8L1KDxIQGZmZmZmJkhA4XoUrkfBSEDXo3A9CpdIQMP1KFyPokNApHA9CtdDRUC4HoXrUThEQI/C9ShcL0dA4XoUrkfBRUBxPQrXozBGQMP1KFyPYkdAH4XrUbjeRkAAAAAAAKBFQLgehetRuEVAXI/C9Sj8RkBSuB6F67FGQOxRuB6FC0ZA7FG4HoWrRUCamZmZmZlEQPYoXI/CVURAKVyPwvXIQkDNzMzMzKxHQB+F61G43kdAw/UoXI+iR0AzMzMzM/NDQPYoXI/C9URAUrgehesxRED2KFyPwhVHQD0K16NwvUdAPQrXo3DdR0BxPQrXo9BGQA==",
          "dtype": "f8"
         },
         "yaxis": "y"
        },
        {
         "hovertemplate": "Region=Chandigarh<br>EstimatedUnemploymentRate(%)=%{x}<br>EstimatedLabourParticipationRate(%)=%{y}<extra></extra>",
         "legendgroup": "Chandigarh",
         "marker": {
          "color": "#B6E880",
          "symbol": "circle"
         },
         "mode": "markers",
         "name": "Chandigarh",
         "showlegend": true,
         "type": "scattergl",
         "x": {
          "bdata": "mpmZmZlZMkDNzMzMzMwoQM3MzMzMzDVACtejcD0KI0CkcD0K1yM0QHsUrkfh+itAzczMzMwMNkApXI/C9aggQAAAAAAAADRA7FG4HoWrMECuR+F6FG41QOF6FK5H4RxA",
          "dtype": "f8"
         },
         "xaxis": "x",
         "y": {
          "bdata": "UrgehetxRkC4HoXrUThEQFyPwvUovENAmpmZmZn5QkDD9Shcj2JFQEjhehSuB0RAzczMzMxMQ0C4HoXrUZhBQLgehetReEVAAAAAAACgQ0DXo3A9CldCQGZmZmZm5kBA",
          "dtype": "f8"
         },
         "yaxis": "y"
        }
       ],
       "layout": {
        "legend": {
         "title": {
          "text": "Region"
         },
         "tracegroupgap": 0
        },
        "template": {
         "data": {
          "bar": [
           {
            "error_x": {
             "color": "#2a3f5f"
            },
            "error_y": {
             "color": "#2a3f5f"
            },
            "marker": {
             "line": {
              "color": "#E5ECF6",
              "width": 0.5
             },
             "pattern": {
              "fillmode": "overlay",
              "size": 10,
              "solidity": 0.2
             }
            },
            "type": "bar"
           }
          ],
          "barpolar": [
           {
            "marker": {
             "line": {
              "color": "#E5ECF6",
              "width": 0.5
             },
             "pattern": {
              "fillmode": "overlay",
              "size": 10,
              "solidity": 0.2
             }
            },
            "type": "barpolar"
           }
          ],
          "carpet": [
           {
            "aaxis": {
             "endlinecolor": "#2a3f5f",
             "gridcolor": "white",
             "linecolor": "white",
             "minorgridcolor": "white",
             "startlinecolor": "#2a3f5f"
            },
            "baxis": {
             "endlinecolor": "#2a3f5f",
             "gridcolor": "white",
             "linecolor": "white",
             "minorgridcolor": "white",
             "startlinecolor": "#2a3f5f"
            },
            "type": "carpet"
           }
          ],
          "choropleth": [
           {
            "colorbar": {
             "outlinewidth": 0,
             "ticks": ""
            },
            "type": "choropleth"
           }
          ],
          "contour": [
           {
            "colorbar": {
             "outlinewidth": 0,
             "ticks": ""
            },
            "colorscale": [
             [
              0,
              "#0d0887"
             ],
             [
              0.1111111111111111,
              "#46039f"
             ],
             [
              0.2222222222222222,
              "#7201a8"
             ],
             [
              0.3333333333333333,
              "#9c179e"
             ],
             [
              0.4444444444444444,
              "#bd3786"
             ],
             [
              0.5555555555555556,
              "#d8576b"
             ],
             [
              0.6666666666666666,
              "#ed7953"
             ],
             [
              0.7777777777777778,
              "#fb9f3a"
             ],
             [
              0.8888888888888888,
              "#fdca26"
             ],
             [
              1,
              "#f0f921"
             ]
            ],
            "type": "contour"
           }
          ],
          "contourcarpet": [
           {
            "colorbar": {
             "outlinewidth": 0,
             "ticks": ""
            },
            "type": "contourcarpet"
           }
          ],
          "heatmap": [
           {
            "colorbar": {
             "outlinewidth": 0,
             "ticks": ""
            },
            "colorscale": [
             [
              0,
              "#0d0887"
             ],
             [
              0.1111111111111111,
              "#46039f"
             ],
             [
              0.2222222222222222,
              "#7201a8"
             ],
             [
              0.3333333333333333,
              "#9c179e"
             ],
             [
              0.4444444444444444,
              "#bd3786"
             ],
             [
              0.5555555555555556,
              "#d8576b"
             ],
             [
              0.6666666666666666,
              "#ed7953"
             ],
             [
              0.7777777777777778,
              "#fb9f3a"
             ],
             [
              0.8888888888888888,
              "#fdca26"
             ],
             [
              1,
              "#f0f921"
             ]
            ],
            "type": "heatmap"
           }
          ],
          "histogram": [
           {
            "marker": {
             "pattern": {
              "fillmode": "overlay",
              "size": 10,
              "solidity": 0.2
             }
            },
            "type": "histogram"
           }
          ],
          "histogram2d": [
           {
            "colorbar": {
             "outlinewidth": 0,
             "ticks": ""
            },
            "colorscale": [
             [
              0,
              "#0d0887"
             ],
             [
              0.1111111111111111,
              "#46039f"
             ],
             [
              0.2222222222222222,
              "#7201a8"
             ],
             [
              0.3333333333333333,
              "#9c179e"
             ],
             [
              0.4444444444444444,
              "#bd3786"
             ],
             [
              0.5555555555555556,
              "#d8576b"
             ],
             [
              0.6666666666666666,
              "#ed7953"
             ],
             [
              0.7777777777777778,
              "#fb9f3a"
             ],
             [
              0.8888888888888888,
              "#fdca26"
             ],
             [
              1,
              "#f0f921"
             ]
            ],
            "type": "histogram2d"
           }
          ],
          "histogram2dcontour": [
           {
            "colorbar": {
             "outlinewidth": 0,
             "ticks": ""
            },
            "colorscale": [
             [
              0,
              "#0d0887"
             ],
             [
              0.1111111111111111,
              "#46039f"
             ],
             [
              0.2222222222222222,
              "#7201a8"
             ],
             [
              0.3333333333333333,
              "#9c179e"
             ],
             [
              0.4444444444444444,
              "#bd3786"
             ],
             [
              0.5555555555555556,
              "#d8576b"
             ],
             [
              0.6666666666666666,
              "#ed7953"
             ],
             [
              0.7777777777777778,
              "#fb9f3a"
             ],
             [
              0.8888888888888888,
              "#fdca26"
             ],
             [
              1,
              "#f0f921"
             ]
            ],
            "type": "histogram2dcontour"
           }
          ],
          "mesh3d": [
           {
            "colorbar": {
             "outlinewidth": 0,
             "ticks": ""
            },
            "type": "mesh3d"
           }
          ],
          "parcoords": [
           {
            "line": {
             "colorbar": {
              "outlinewidth": 0,
              "ticks": ""
             }
            },
            "type": "parcoords"
           }
          ],
          "pie": [
           {
            "automargin": true,
            "type": "pie"
           }
          ],
          "scatter": [
           {
            "fillpattern": {
             "fillmode": "overlay",
             "size": 10,
             "solidity": 0.2
            },
            "type": "scatter"
           }
          ],
          "scatter3d": [
           {
            "line": {
             "colorbar": {
              "outlinewidth": 0,
              "ticks": ""
             }
            },
            "marker": {
             "colorbar": {
              "outlinewidth": 0,
              "ticks": ""
             }
            },
            "type": "scatter3d"
           }
          ],
          "scattercarpet": [
           {
            "marker": {
             "colorbar": {
              "outlinewidth": 0,
              "ticks": ""
             }
            },
            "type": "scattercarpet"
           }
          ],
          "scattergeo": [
           {
            "marker": {
             "colorbar": {
              "outlinewidth": 0,
              "ticks": ""
             }
            },
            "type": "scattergeo"
           }
          ],
          "scattergl": [
           {
            "marker": {
             "colorbar": {
              "outlinewidth": 0,
              "ticks": ""
             }
            },
            "type": "scattergl"
           }
          ],
          "scattermap": [
           {
            "marker": {
             "colorbar": {
              "outlinewidth": 0,
              "ticks": ""
             }
            },
            "type": "scattermap"
           }
          ],
          "scattermapbox": [
           {
            "marker": {
             "colorbar": {
              "outlinewidth": 0,
              "ticks": ""
             }
            },
            "type": "scattermapbox"
           }
          ],
          "scatterpolar": [
           {
            "marker": {
             "colorbar": {
              "outlinewidth": 0,
              "ticks": ""
             }
            },
            "type": "scatterpolar"
           }
          ],
          "scatterpolargl": [
           {
            "marker": {
             "colorbar": {
              "outlinewidth": 0,
              "ticks": ""
             }
            },
            "type": "scatterpolargl"
           }
          ],
          "scatterternary": [
           {
            "marker": {
             "colorbar": {
              "outlinewidth": 0,
              "ticks": ""
             }
            },
            "type": "scatterternary"
           }
          ],
          "surface": [
           {
            "colorbar": {
             "outlinewidth": 0,
             "ticks": ""
            },
            "colorscale": [
             [
              0,
              "#0d0887"
             ],
             [
              0.1111111111111111,
              "#46039f"
             ],
             [
              0.2222222222222222,
              "#7201a8"
             ],
             [
              0.3333333333333333,
              "#9c179e"
             ],
             [
              0.4444444444444444,
              "#bd3786"
             ],
             [
              0.5555555555555556,
              "#d8576b"
             ],
             [
              0.6666666666666666,
              "#ed7953"
             ],
             [
              0.7777777777777778,
              "#fb9f3a"
             ],
             [
              0.8888888888888888,
              "#fdca26"
             ],
             [
              1,
              "#f0f921"
             ]
            ],
            "type": "surface"
           }
          ],
          "table": [
           {
            "cells": {
             "fill": {
              "color": "#EBF0F8"
             },
             "line": {
              "color": "white"
             }
            },
            "header": {
             "fill": {
              "color": "#C8D4E3"
             },
             "line": {
              "color": "white"
             }
            },
            "type": "table"
           }
          ]
         },
         "layout": {
          "annotationdefaults": {
           "arrowcolor": "#2a3f5f",
           "arrowhead": 0,
           "arrowwidth": 1
          },
          "autotypenumbers": "strict",
          "coloraxis": {
           "colorbar": {
            "outlinewidth": 0,
            "ticks": ""
           }
          },
          "colorscale": {
           "diverging": [
            [
             0,
             "#8e0152"
            ],
            [
             0.1,
             "#c51b7d"
            ],
            [
             0.2,
             "#de77ae"
            ],
            [
             0.3,
             "#f1b6da"
            ],
            [
             0.4,
             "#fde0ef"
            ],
            [
             0.5,
             "#f7f7f7"
            ],
            [
             0.6,
             "#e6f5d0"
            ],
            [
             0.7,
             "#b8e186"
            ],
            [
             0.8,
             "#7fbc41"
            ],
            [
             0.9,
             "#4d9221"
            ],
            [
             1,
             "#276419"
            ]
           ],
           "sequential": [
            [
             0,
             "#0d0887"
            ],
            [
             0.1111111111111111,
             "#46039f"
            ],
            [
             0.2222222222222222,
             "#7201a8"
            ],
            [
             0.3333333333333333,
             "#9c179e"
            ],
            [
             0.4444444444444444,
             "#bd3786"
            ],
            [
             0.5555555555555556,
             "#d8576b"
            ],
            [
             0.6666666666666666,
             "#ed7953"
            ],
            [
             0.7777777777777778,
             "#fb9f3a"
            ],
            [
             0.8888888888888888,
             "#fdca26"
            ],
            [
             1,
             "#f0f921"
            ]
           ],
           "sequentialminus": [
            [
             0,
             "#0d0887"
            ],
            [
             0.1111111111111111,
             "#46039f"
            ],
            [
             0.2222222222222222,
             "#7201a8"
            ],
            [
             0.3333333333333333,
             "#9c179e"
            ],
            [
             0.4444444444444444,
             "#bd3786"
            ],
            [
             0.5555555555555556,
             "#d8576b"
            ],
            [
             0.6666666666666666,
             "#ed7953"
            ],
            [
             0.7777777777777778,
             "#fb9f3a"
            ],
            [
             0.8888888888888888,
             "#fdca26"
            ],
            [
             1,
             "#f0f921"
            ]
           ]
          },
          "colorway": [
           "#636efa",
           "#EF553B",
           "#00cc96",
           "#ab63fa",
           "#FFA15A",
           "#19d3f3",
           "#FF6692",
           "#B6E880",
           "#FF97FF",
           "#FECB52"
          ],
          "font": {
           "color": "#2a3f5f"
          },
          "geo": {
           "bgcolor": "white",
           "lakecolor": "white",
           "landcolor": "#E5ECF6",
           "showlakes": true,
           "showland": true,
           "subunitcolor": "white"
          },
          "hoverlabel": {
           "align": "left"
          },
          "hovermode": "closest",
          "mapbox": {
           "style": "light"
          },
          "paper_bgcolor": "white",
          "plot_bgcolor": "#E5ECF6",
          "polar": {
           "angularaxis": {
            "gridcolor": "white",
            "linecolor": "white",
            "ticks": ""
           },
           "bgcolor": "#E5ECF6",
           "radialaxis": {
            "gridcolor": "white",
            "linecolor": "white",
            "ticks": ""
           }
          },
          "scene": {
           "xaxis": {
            "backgroundcolor": "#E5ECF6",
            "gridcolor": "white",
            "gridwidth": 2,
            "linecolor": "white",
            "showbackground": true,
            "ticks": "",
            "zerolinecolor": "white"
           },
           "yaxis": {
            "backgroundcolor": "#E5ECF6",
            "gridcolor": "white",
            "gridwidth": 2,
            "linecolor": "white",
            "showbackground": true,
            "ticks": "",
            "zerolinecolor": "white"
           },
           "zaxis": {
            "backgroundcolor": "#E5ECF6",
            "gridcolor": "white",
            "gridwidth": 2,
            "linecolor": "white",
            "showbackground": true,
            "ticks": "",
            "zerolinecolor": "white"
           }
          },
          "shapedefaults": {
           "line": {
            "color": "#2a3f5f"
           }
          },
          "ternary": {
           "aaxis": {
            "gridcolor": "white",
            "linecolor": "white",
            "ticks": ""
           },
           "baxis": {
            "gridcolor": "white",
            "linecolor": "white",
            "ticks": ""
           },
           "bgcolor": "#E5ECF6",
           "caxis": {
            "gridcolor": "white",
            "linecolor": "white",
            "ticks": ""
           }
          },
          "title": {
           "x": 0.05
          },
          "xaxis": {
           "automargin": true,
           "gridcolor": "white",
           "linecolor": "white",
           "ticks": "",
           "title": {
            "standoff": 15
           },
           "zerolinecolor": "white",
           "zerolinewidth": 2
          },
          "yaxis": {
           "automargin": true,
           "gridcolor": "white",
           "linecolor": "white",
           "ticks": "",
           "title": {
            "standoff": 15
           },
           "zerolinecolor": "white",
           "zerolinewidth": 2
          }
         }
        },
        "title": {
         "text": "Unemployment Rate vs. Labour Participation Rate"
        },
        "xaxis": {
         "anchor": "y",
         "domain": [
          0,
          1
         ],
         "title": {
          "text": "EstimatedUnemploymentRate(%)"
         }
        },
        "yaxis": {
         "anchor": "x",
         "domain": [
          0,
          1
         ],
         "title": {
          "text": "EstimatedLabourParticipationRate(%)"
         }
        }
       }
      }
     },
     "metadata": {},
     "output_type": "display_data"
    }
   ],
   "source": [
    "# Unemployment Rate vs. Labour Participation Rate\n",
    "fig = px.scatter(df, x='EstimatedUnemploymentRate(%)', y='EstimatedLabourParticipationRate(%)', color='Region', title='Unemployment Rate vs. Labour Participation Rate')\n",
    "fig.show()"
   ]
  },
  {
   "cell_type": "code",
   "execution_count": 18,
   "metadata": {},
   "outputs": [
    {
     "data": {
      "image/png": "[encoded data removed]",
      "text/plain": [
       "<Figure size 1000x600 with 2 Axes>"
      ]
     },
     "metadata": {},
     "output_type": "display_data"
    }
   ],
   "source": [
    "# Unemployment Rate by Month (Heatmap)\n",
    "heatmap_data = df.pivot_table(values='EstimatedUnemploymentRate(%)', index='Region', columns='month')\n",
    "plt.figure(figsize=(10, 6))\n",
    "sns.heatmap(heatmap_data, annot=True, cmap='YlGnBu')\n",
    "plt.title('Unemployment Rate by Month')\n",
    "plt.show()\n"
   ]
  },
  {
   "cell_type": "code",
   "execution_count": 19,
   "metadata": {},
   "outputs": [
    {
     "data": {
      "application/vnd.plotly.v1+json": {
       "config": {
        "plotlyServerURL": "https://plot.ly"
       },
       "data": [
        {
         "hovertemplate": "Region=%{x}<br>EstimatedUnemploymentRate(%)=%{y}<extra></extra>",
         "legendgroup": "Tripura",
         "marker": {
          "color": "#3366CC",
          "pattern": {
           "shape": ""
          }
         },
         "name": "Tripura",
         "orientation": "v",
         "showlegend": true,
         "textposition": "auto",
         "type": "bar",
         "x": [
          "Tripura"
         ],
         "xaxis": "x",
         "y": {
          "bdata": "7bJcPLB7O0A=",
          "dtype": "f8"
         },
         "yaxis": "y"
        },
        {
         "hovertemplate": "Region=%{x}<br>EstimatedUnemploymentRate(%)=%{y}<extra></extra>",
         "legendgroup": "Haryana",
         "marker": {
          "color": "#DC3912",
          "pattern": {
           "shape": ""
          }
         },
         "name": "Haryana",
         "orientation": "v",
         "showlegend": true,
         "textposition": "auto",
         "type": "bar",
         "x": [
          "Haryana"
         ],
         "xaxis": "x",
         "y": {
          "bdata": "jxUII+2YOkA=",
          "dtype": "f8"
         },
         "yaxis": "y"
        },
        {
         "hovertemplate": "Region=%{x}<br>EstimatedUnemploymentRate(%)=%{y}<extra></extra>",
         "legendgroup": "Jharkhand",
         "marker": {
          "color": "#FF9900",
          "pattern": {
           "shape": ""
          }
         },
         "name": "Jharkhand",
         "orientation": "v",
         "showlegend": true,
         "textposition": "auto",
         "type": "bar",
         "x": [
          "Jharkhand"
         ],
         "xaxis": "x",
         "y": {
          "bdata": "WzXn6UpPNEA=",
          "dtype": "f8"
         },
         "yaxis": "y"
        },
        {
         "hovertemplate": "Region=%{x}<br>EstimatedUnemploymentRate(%)=%{y}<extra></extra>",
         "legendgroup": "Bihar",
         "marker": {
          "color": "#109618",
          "pattern": {
           "shape": ""
          }
         },
         "name": "Bihar",
         "orientation": "v",
         "showlegend": true,
         "textposition": "auto",
         "type": "bar",
         "x": [
          "Bihar"
         ],
         "xaxis": "x",
         "y": {
          "bdata": "a3vBm00QM0A=",
          "dtype": "f8"
         },
         "yaxis": "y"
        },
        {
         "hovertemplate": "Region=%{x}<br>EstimatedUnemploymentRate(%)=%{y}<extra></extra>",
         "legendgroup": "Himachal Pradesh",
         "marker": {
          "color": "#990099",
          "pattern": {
           "shape": ""
          }
         },
         "name": "Himachal Pradesh",
         "orientation": "v",
         "showlegend": true,
         "textposition": "auto",
         "type": "bar",
         "x": [
          "Himachal Pradesh"
         ],
         "xaxis": "x",
         "y": {
          "bdata": "0zsDDpLjMUA=",
          "dtype": "f8"
         },
         "yaxis": "y"
        },
        {
         "hovertemplate": "Region=%{x}<br>EstimatedUnemploymentRate(%)=%{y}<extra></extra>",
         "legendgroup": "Delhi",
         "marker": {
          "color": "#0099C6",
          "pattern": {
           "shape": ""
          }
         },
         "name": "Delhi",
         "orientation": "v",
         "showlegend": true,
         "textposition": "auto",
         "type": "bar",
         "x": [
          "Delhi"
         ],
         "xaxis": "x",
         "y": {
          "bdata": "NI0OPxEAMUA=",
          "dtype": "f8"
         },
         "yaxis": "y"
        },
        {
         "hovertemplate": "Region=%{x}<br>EstimatedUnemploymentRate(%)=%{y}<extra></extra>",
         "legendgroup": "Jammu & Kashmir",
         "marker": {
          "color": "#DD4477",
          "pattern": {
           "shape": ""
          }
         },
         "name": "Jammu & Kashmir",
         "orientation": "v",
         "showlegend": true,
         "textposition": "auto",
         "type": "bar",
         "x": [
          "Jammu & Kashmir"
         ],
         "xaxis": "x",
         "y": {
          "bdata": "UyrOPnxGMEA=",
          "dtype": "f8"
         },
         "yaxis": "y"
        },
        {
         "hovertemplate": "Region=%{x}<br>EstimatedUnemploymentRate(%)=%{y}<extra></extra>",
         "legendgroup": "Chandigarh",
         "marker": {
          "color": "#66AA00",
          "pattern": {
           "shape": ""
          }
         },
         "name": "Chandigarh",
         "orientation": "v",
         "showlegend": true,
         "textposition": "auto",
         "type": "bar",
         "x": [
          "Chandigarh"
         ],
         "xaxis": "x",
         "y": {
          "bdata": "vLu7u7v7L0A=",
          "dtype": "f8"
         },
         "yaxis": "y"
        },
        {
         "hovertemplate": "Region=%{x}<br>EstimatedUnemploymentRate(%)=%{y}<extra></extra>",
         "legendgroup": "Rajasthan",
         "marker": {
          "color": "#B82E2E",
          "pattern": {
           "shape": ""
          }
         },
         "name": "Rajasthan",
         "orientation": "v",
         "showlegend": true,
         "textposition": "auto",
         "type": "bar",
         "x": [
          "Rajasthan"
         ],
         "xaxis": "x",
         "y": {
          "bdata": "gIPkiKYRLUA=",
          "dtype": "f8"
         },
         "yaxis": "y"
        },
        {
         "hovertemplate": "Region=%{x}<br>EstimatedUnemploymentRate(%)=%{y}<extra></extra>",
         "legendgroup": "Puducherry",
         "marker": {
          "color": "#316395",
          "pattern": {
           "shape": ""
          }
         },
         "name": "Puducherry",
         "orientation": "v",
         "showlegend": true,
         "textposition": "auto",
         "type": "bar",
         "x": [
          "Puducherry"
         ],
         "xaxis": "x",
         "y": {
          "bdata": "xNTl9ge5KEA=",
          "dtype": "f8"
         },
         "yaxis": "y"
        }
       ],
       "layout": {
        "bargap": 0.3,
        "barmode": "relative",
        "height": 600,
        "legend": {
         "title": {
          "text": "Region"
         },
         "tracegroupgap": 0
        },
        "template": {
         "data": {
          "bar": [
           {
            "error_x": {
             "color": "#2a3f5f"
            },
            "error_y": {
             "color": "#2a3f5f"
            },
            "marker": {
             "line": {
              "color": "#E5ECF6",
              "width": 0.5
             },
             "pattern": {
              "fillmode": "overlay",
              "size": 10,
              "solidity": 0.2
             }
            },
            "type": "bar"
           }
          ],
          "barpolar": [
           {
            "marker": {
             "line": {
              "color": "#E5ECF6",
              "width": 0.5
             },
             "pattern": {
              "fillmode": "overlay",
              "size": 10,
              "solidity": 0.2
             }
            },
            "type": "barpolar"
           }
          ],
          "carpet": [
           {
            "aaxis": {
             "endlinecolor": "#2a3f5f",
             "gridcolor": "white",
             "linecolor": "white",
             "minorgridcolor": "white",
             "startlinecolor": "#2a3f5f"
            },
            "baxis": {
             "endlinecolor": "#2a3f5f",
             "gridcolor": "white",
             "linecolor": "white",
             "minorgridcolor": "white",
             "startlinecolor": "#2a3f5f"
            },
            "type": "carpet"
           }
          ],
          "choropleth": [
           {
            "colorbar": {
             "outlinewidth": 0,
             "ticks": ""
            },
            "type": "choropleth"
           }
          ],
          "contour": [
           {
            "colorbar": {
             "outlinewidth": 0,
             "ticks": ""
            },
            "colorscale": [
             [
              0,
              "#0d0887"
             ],
             [
              0.1111111111111111,
              "#46039f"
             ],
             [
              0.2222222222222222,
              "#7201a8"
             ],
             [
              0.3333333333333333,
              "#9c179e"
             ],
             [
              0.4444444444444444,
              "#bd3786"
             ],
             [
              0.5555555555555556,
              "#d8576b"
             ],
             [
              0.6666666666666666,
              "#ed7953"
             ],
             [
              0.7777777777777778,
              "#fb9f3a"
             ],
             [
              0.8888888888888888,
              "#fdca26"
             ],
             [
              1,
              "#f0f921"
             ]
            ],
            "type": "contour"
           }
          ],
          "contourcarpet": [
           {
            "colorbar": {
             "outlinewidth": 0,
             "ticks": ""
            },
            "type": "contourcarpet"
           }
          ],
          "heatmap": [
           {
            "colorbar": {
             "outlinewidth": 0,
             "ticks": ""
            },
            "colorscale": [
             [
              0,
              "#0d0887"
             ],
             [
              0.1111111111111111,
              "#46039f"
             ],
             [
              0.2222222222222222,
              "#7201a8"
             ],
             [
              0.3333333333333333,
              "#9c179e"
             ],
             [
              0.4444444444444444,
              "#bd3786"
             ],
             [
              0.5555555555555556,
              "#d8576b"
             ],
             [
              0.6666666666666666,
              "#ed7953"
             ],
             [
              0.7777777777777778,
              "#fb9f3a"
             ],
             [
              0.8888888888888888,
              "#fdca26"
             ],
             [
              1,
              "#f0f921"
             ]
            ],
            "type": "heatmap"
           }
          ],
          "histogram": [
           {
            "marker": {
             "pattern": {
              "fillmode": "overlay",
              "size": 10,
              "solidity": 0.2
             }
            },
            "type": "histogram"
           }
          ],
          "histogram2d": [
           {
            "colorbar": {
             "outlinewidth": 0,
             "ticks": ""
            },
            "colorscale": [
             [
              0,
              "#0d0887"
             ],
             [
              0.1111111111111111,
              "#46039f"
             ],
             [
              0.2222222222222222,
              "#7201a8"
             ],
             [
              0.3333333333333333,
              "#9c179e"
             ],
             [
              0.4444444444444444,
              "#bd3786"
             ],
             [
              0.5555555555555556,
              "#d8576b"
             ],
             [
              0.6666666666666666,
              "#ed7953"
             ],
             [
              0.7777777777777778,
              "#fb9f3a"
             ],
             [
              0.8888888888888888,
              "#fdca26"
             ],
             [
              1,
              "#f0f921"
             ]
            ],
            "type": "histogram2d"
           }
          ],
          "histogram2dcontour": [
           {
            "colorbar": {
             "outlinewidth": 0,
             "ticks": ""
            },
            "colorscale": [
             [
              0,
              "#0d0887"
             ],
             [
              0.1111111111111111,
              "#46039f"
             ],
             [
              0.2222222222222222,
              "#7201a8"
             ],
             [
              0.3333333333333333,
              "#9c179e"
             ],
             [
              0.4444444444444444,
              "#bd3786"
             ],
             [
              0.5555555555555556,
              "#d8576b"
             ],
             [
              0.6666666666666666,
              "#ed7953"
             ],
             [
              0.7777777777777778,
              "#fb9f3a"
             ],
             [
              0.8888888888888888,
              "#fdca26"
             ],
             [
              1,
              "#f0f921"
             ]
            ],
            "type": "histogram2dcontour"
           }
          ],
          "mesh3d": [
           {
            "colorbar": {
             "outlinewidth": 0,
             "ticks": ""
            },
            "type": "mesh3d"
           }
          ],
          "parcoords": [
           {
            "line": {
             "colorbar": {
              "outlinewidth": 0,
              "ticks": ""
             }
            },
            "type": "parcoords"
           }
          ],
          "pie": [
           {
            "automargin": true,
            "type": "pie"
           }
          ],
          "scatter": [
           {
            "fillpattern": {
             "fillmode": "overlay",
             "size": 10,
             "solidity": 0.2
            },
            "type": "scatter"
           }
          ],
          "scatter3d": [
           {
            "line": {
             "colorbar": {
              "outlinewidth": 0,
              "ticks": ""
             }
            },
            "marker": {
             "colorbar": {
              "outlinewidth": 0,
              "ticks": ""
             }
            },
            "type": "scatter3d"
           }
          ],
          "scattercarpet": [
           {
            "marker": {
             "colorbar": {
              "outlinewidth": 0,
              "ticks": ""
             }
            },
            "type": "scattercarpet"
           }
          ],
          "scattergeo": [
           {
            "marker": {
             "colorbar": {
              "outlinewidth": 0,
              "ticks": ""
             }
            },
            "type": "scattergeo"
           }
          ],
          "scattergl": [
           {
            "marker": {
             "colorbar": {
              "outlinewidth": 0,
              "ticks": ""
             }
            },
            "type": "scattergl"
           }
          ],
          "scattermap": [
           {
            "marker": {
             "colorbar": {
              "outlinewidth": 0,
              "ticks": ""
             }
            },
            "type": "scattermap"
           }
          ],
          "scattermapbox": [
           {
            "marker": {
             "colorbar": {
              "outlinewidth": 0,
              "ticks": ""
             }
            },
            "type": "scattermapbox"
           }
          ],
          "scatterpolar": [
           {
            "marker": {
             "colorbar": {
              "outlinewidth": 0,
              "ticks": ""
             }
            },
            "type": "scatterpolar"
           }
          ],
          "scatterpolargl": [
           {
            "marker": {
             "colorbar": {
              "outlinewidth": 0,
              "ticks": ""
             }
            },
            "type": "scatterpolargl"
           }
          ],
          "scatterternary": [
           {
            "marker": {
             "colorbar": {
              "outlinewidth": 0,
              "ticks": ""
             }
            },
            "type": "scatterternary"
           }
          ],
          "surface": [
           {
            "colorbar": {
             "outlinewidth": 0,
             "ticks": ""
            },
            "colorscale": [
             [
              0,
              "#0d0887"
             ],
             [
              0.1111111111111111,
              "#46039f"
             ],
             [
              0.2222222222222222,
              "#7201a8"
             ],
             [
              0.3333333333333333,
              "#9c179e"
             ],
             [
              0.4444444444444444,
              "#bd3786"
             ],
             [
              0.5555555555555556,
              "#d8576b"
             ],
             [
              0.6666666666666666,
              "#ed7953"
             ],
             [
              0.7777777777777778,
              "#fb9f3a"
             ],
             [
              0.8888888888888888,
              "#fdca26"
             ],
             [
              1,
              "#f0f921"
             ]
            ],
            "type": "surface"
           }
          ],
          "table": [
           {
            "cells": {
             "fill": {
              "color": "#EBF0F8"
             },
             "line": {
              "color": "white"
             }
            },
            "header": {
             "fill": {
              "color": "#C8D4E3"
             },
             "line": {
              "color": "white"
             }
            },
            "type": "table"
           }
          ]
         },
         "layout": {
          "annotationdefaults": {
           "arrowcolor": "#2a3f5f",
           "arrowhead": 0,
           "arrowwidth": 1
          },
          "autotypenumbers": "strict",
          "coloraxis": {
           "colorbar": {
            "outlinewidth": 0,
            "ticks": ""
           }
          },
          "colorscale": {
           "diverging": [
            [
             0,
             "#8e0152"
            ],
            [
             0.1,
             "#c51b7d"
            ],
            [
             0.2,
             "#de77ae"
            ],
            [
             0.3,
             "#f1b6da"
            ],
            [
             0.4,
             "#fde0ef"
            ],
            [
             0.5,
             "#f7f7f7"
            ],
            [
             0.6,
             "#e6f5d0"
            ],
            [
             0.7,
             "#b8e186"
            ],
            [
             0.8,
             "#7fbc41"
            ],
            [
             0.9,
             "#4d9221"
            ],
            [
             1,
             "#276419"
            ]
           ],
           "sequential": [
            [
             0,
             "#0d0887"
            ],
            [
             0.1111111111111111,
             "#46039f"
            ],
            [
             0.2222222222222222,
             "#7201a8"
            ],
            [
             0.3333333333333333,
             "#9c179e"
            ],
            [
             0.4444444444444444,
             "#bd3786"
            ],
            [
             0.5555555555555556,
             "#d8576b"
            ],
            [
             0.6666666666666666,
             "#ed7953"
            ],
            [
             0.7777777777777778,
             "#fb9f3a"
            ],
            [
             0.8888888888888888,
             "#fdca26"
            ],
            [
             1,
             "#f0f921"
            ]
           ],
           "sequentialminus": [
            [
             0,
             "#0d0887"
            ],
            [
             0.1111111111111111,
             "#46039f"
            ],
            [
             0.2222222222222222,
             "#7201a8"
            ],
            [
             0.3333333333333333,
             "#9c179e"
            ],
            [
             0.4444444444444444,
             "#bd3786"
            ],
            [
             0.5555555555555556,
             "#d8576b"
            ],
            [
             0.6666666666666666,
             "#ed7953"
            ],
            [
             0.7777777777777778,
             "#fb9f3a"
            ],
            [
             0.8888888888888888,
             "#fdca26"
            ],
            [
             1,
             "#f0f921"
            ]
           ]
          },
          "colorway": [
           "#636efa",
           "#EF553B",
           "#00cc96",
           "#ab63fa",
           "#FFA15A",
           "#19d3f3",
           "#FF6692",
           "#B6E880",
           "#FF97FF",
           "#FECB52"
          ],
          "font": {
           "color": "#2a3f5f"
          },
          "geo": {
           "bgcolor": "white",
           "lakecolor": "white",
           "landcolor": "#E5ECF6",
           "showlakes": true,
           "showland": true,
           "subunitcolor": "white"
          },
          "hoverlabel": {
           "align": "left"
          },
          "hovermode": "closest",
          "mapbox": {
           "style": "light"
          },
          "paper_bgcolor": "white",
          "plot_bgcolor": "#E5ECF6",
          "polar": {
           "angularaxis": {
            "gridcolor": "white",
            "linecolor": "white",
            "ticks": ""
           },
           "bgcolor": "#E5ECF6",
           "radialaxis": {
            "gridcolor": "white",
            "linecolor": "white",
            "ticks": ""
           }
          },
          "scene": {
           "xaxis": {
            "backgroundcolor": "#E5ECF6",
            "gridcolor": "white",
            "gridwidth": 2,
            "linecolor": "white",
            "showbackground": true,
            "ticks": "",
            "zerolinecolor": "white"
           },
           "yaxis": {
            "backgroundcolor": "#E5ECF6",
            "gridcolor": "white",
            "gridwidth": 2,
            "linecolor": "white",
            "showbackground": true,
            "ticks": "",
            "zerolinecolor": "white"
           },
           "zaxis": {
            "backgroundcolor": "#E5ECF6",
            "gridcolor": "white",
            "gridwidth": 2,
            "linecolor": "white",
            "showbackground": true,
            "ticks": "",
            "zerolinecolor": "white"
           }
          },
          "shapedefaults": {
           "line": {
            "color": "#2a3f5f"
           }
          },
          "ternary": {
           "aaxis": {
            "gridcolor": "white",
            "linecolor": "white",
            "ticks": ""
           },
           "baxis": {
            "gridcolor": "white",
            "linecolor": "white",
            "ticks": ""
           },
           "bgcolor": "#E5ECF6",
           "caxis": {
            "gridcolor": "white",
            "linecolor": "white",
            "ticks": ""
           }
          },
          "title": {
           "x": 0.05
          },
          "xaxis": {
           "automargin": true,
           "gridcolor": "white",
           "linecolor": "white",
           "ticks": "",
           "title": {
            "standoff": 15
           },
           "zerolinecolor": "white",
           "zerolinewidth": 2
          },
          "yaxis": {
           "automargin": true,
           "gridcolor": "white",
           "linecolor": "white",
           "ticks": "",
           "title": {
            "standoff": 15
           },
           "zerolinecolor": "white",
           "zerolinewidth": 2
          }
         }
        },
        "title": {
         "text": "Top 10 States with Highest Unemployment Rate"
        },
        "width": 1000,
        "xaxis": {
         "anchor": "y",
         "categoryarray": [
          "Tripura",
          "Haryana",
          "Jharkhand",
          "Bihar",
          "Himachal Pradesh",
          "Delhi",
          "Jammu & Kashmir",
          "Chandigarh",
          "Rajasthan",
          "Puducherry"
         ],
         "categoryorder": "array",
         "domain": [
          0,
          1
         ],
         "title": {
          "text": "Region"
         }
        },
        "yaxis": {
         "anchor": "x",
         "domain": [
          0,
          1
         ],
         "title": {
          "text": "EstimatedUnemploymentRate(%)"
         }
        }
       }
      }
     },
     "metadata": {},
     "output_type": "display_data"
    }
   ],
   "source": [
    "# Top 10 States with Highest Unemployment Rate\n",
    "top_states = df.groupby('Region')['EstimatedUnemploymentRate(%)'].mean().nlargest(10).reset_index()\n",
    "\n",
    "fig = px.bar(top_states, x='Region', y='EstimatedUnemploymentRate(%)', color='Region',\n",
    "              title='Top 10 States with Highest Unemployment Rate', color_discrete_sequence=px.colors.qualitative.G10)\n",
    "fig.update_layout(width=1000, height=600, bargap=0.3)\n",
    "fig.show()\n"
   ]
  },
  {
   "cell_type": "code",
   "execution_count": 38,
   "metadata": {},
   "outputs": [
    {
     "data": {
      "application/vnd.plotly.v1+json": {
       "config": {
        "plotlyServerURL": "https://plot.ly"
       },
       "data": [
        {
         "bingroup": "x",
         "histfunc": "sum",
         "hovertemplate": "Region=%{x}<br>sum of EstimatedUnemploymentRate(%)=%{y}<extra></extra>",
         "legendgroup": "Andhra Pradesh",
         "marker": {
          "color": "#3366CC",
          "pattern": {
           "shape": ""
          }
         },
         "name": "Andhra Pradesh",
         "orientation": "v",
         "showlegend": true,
         "type": "histogram",
         "x": [
          "Andhra Pradesh",
          "Andhra Pradesh",
          "Andhra Pradesh",
          "Andhra Pradesh",
          "Andhra Pradesh",
          "Andhra Pradesh",
          "Andhra Pradesh",
          "Andhra Pradesh",
          "Andhra Pradesh",
          "Andhra Pradesh",
          "Andhra Pradesh",
          "Andhra Pradesh",
          "Andhra Pradesh",
          "Andhra Pradesh",
          "Andhra Pradesh",
          "Andhra Pradesh",
          "Andhra Pradesh",
          "Andhra Pradesh",
          "Andhra Pradesh",
          "Andhra Pradesh",
          "Andhra Pradesh",
          "Andhra Pradesh",
          "Andhra Pradesh",
          "Andhra Pradesh",
          "Andhra Pradesh",
          "Andhra Pradesh",
          "Andhra Pradesh",
          "Andhra Pradesh",
          "Andhra Pradesh",
          "Andhra Pradesh",
          "Andhra Pradesh",
          "Andhra Pradesh",
          "Andhra Pradesh",
          "Andhra Pradesh",
          "Andhra Pradesh",
          "Andhra Pradesh",
          "Andhra Pradesh",
          "Andhra Pradesh"
         ],
         "xaxis": "x",
         "y": {
          "bdata": "MzMzMzMzDUBmZmZmZmYIQAAAAAAAAA5Aj8L1KFyPCkCuR+F6FK4UQClcj8L1KAxAexSuR+F6EECF61G4HoURQFyPwvUoXBNApHA9CtejF0A9CtejcD0QQArXo3A9SjBA7FG4HoXrLEAzMzMzMzPrP1yPwvUoXBhAZmZmZmZmDkCPwvUoXI8WQHE9CtejcBJACtejcD0KGEDNzMzMzMwSQClcj8L1KB5AhetRuB6FH0BxPQrXo3AcQKRwPQrXoxZAw/UoXI/CI0BmZmZmZiZAQClcj8L16DhAcT0K16NwF0DsUbgehesVQFK4HoXrURdAKVyPwvUoF0DD9Shcj4I0QK5H4XoUbjFAexSuR+F6CkCuR+F6FK4gQNejcD0K1xtAmpmZmZmZGUBcj8L1KFwaQA==",
          "dtype": "f8"
         },
         "yaxis": "y"
        },
        {
         "bingroup": "x",
         "histfunc": "sum",
         "hovertemplate": "Region=%{x}<br>sum of EstimatedUnemploymentRate(%)=%{y}<extra></extra>",
         "legendgroup": "Assam",
         "marker": {
          "color": "#DC3912",
          "pattern": {
           "shape": ""
          }
         },
         "name": "Assam",
         "orientation": "v",
         "showlegend": true,
         "type": "histogram",
         "x": [
          "Assam",
          "Assam",
          "Assam",
          "Assam",
          "Assam",
          "Assam",
          "Assam",
          "Assam",
          "Assam",
          "Assam",
          "Assam",
          "Assam",
          "Assam",
          "Assam",
          "Assam",
          "Assam",
          "Assam",
          "Assam",
          "Assam",
          "Assam",
          "Assam",
          "Assam",
          "Assam",
          "Assam",
          "Assam",
          "Assam",
          "Assam",
          "Assam",
          "Assam",
          "Assam",
          "Assam",
          "Assam",
          "Assam",
          "Assam",
          "Assam",
          "Assam"
         ],
         "xaxis": "x",
         "y": {
          "bdata": "KVyPwvUoEUBSuB6F61EUQArXo3A9ChFAKVyPwvUoF0DXo3A9CtcRQJqZmZmZmRJApHA9CtejEkApXI/C9SgRQBSuR+F6FApAKVyPwvUoDkDD9Shcj8IiQAAAAAAAAAAAexSuR+F6H0BI4XoUrscjQK5H4XoUrglASOF6FK7HJECF61G4HoUiQNejcD0KVyZAPQrXo3A9GUAUrkfhehQUQPYoXI/C9RxA9ihcj8L1I0CuR+F6FK4kQD0K16NwvSBACtejcD2KJUBcj8L1KFwLQKRwPQrXoxJApHA9CtejEUAUrkfhehQTQB+F61G4HiZAmpmZmZkZI0AzMzMzMzPjPylcj8L1KA5AH4XrUbgeFkAK16NwPQrzPylcj8L1KAhA",
          "dtype": "f8"
         },
         "yaxis": "y"
        },
        {
         "bingroup": "x",
         "histfunc": "sum",
         "hovertemplate": "Region=%{x}<br>sum of EstimatedUnemploymentRate(%)=%{y}<extra></extra>",
         "legendgroup": "Bihar",
         "marker": {
          "color": "#FF9900",
          "pattern": {
           "shape": ""
          }
         },
         "name": "Bihar",
         "orientation": "v",
         "showlegend": true,
         "type": "histogram",
         "x": [
          "Bihar",
          "Bihar",
          "Bihar",
          "Bihar",
          "Bihar",
          "Bihar",
          "Bihar",
          "Bihar",
          "Bihar",
          "Bihar",
          "Bihar",
          "Bihar",
          "Bihar",
          "Bihar",
          "Bihar",
          "Bihar",
          "Bihar",
          "Bihar",
          "Bihar",
          "Bihar",
          "Bihar",
          "Bihar",
          "Bihar",
          "Bihar",
          "Bihar",
          "Bihar",
          "Bihar",
          "Bihar",
          "Bihar",
          "Bihar",
          "Bihar",
          "Bihar",
          "Bihar",
          "Bihar",
          "Bihar",
          "Bihar",
          "Bihar",
          "Bihar"
         ],
         "xaxis": "x",
         "y": {
          "bdata": "CtejcD2KIkBmZmZmZmYkQOF6FK5H4SpAAAAAAAAAJkA9CtejcL0hQHE9Ctej8ChAzczMzMzMKEBSuB6F61EkQMP1KFyPQiJAuB6F61E4I0BI4XoUrscuQOxRuB6Fi0ZA4XoUrkehR0A9CtejcH00QGZmZmZm5jNAFK5H4XqUKkApXI/C9WgwQClcj8L1qDFA9ihcj8J1NEAfhetRuB4sQB+F61G4njFAUrgehevRLUBxPQrXo7A0QLgehetROC5A9ihcj8J1L0DD9Shcj2JNQI/C9Shc70JAZmZmZmbmKEC4HoXrUTglQBSuR+F6lCRAXI/C9SjcLkBSuB6F61FHQHsUrkfh+kZAUrgehevRMUAUrkfhepQpQOF6FK5H4SpAUrgehevRJ0CkcD0K16MjQA==",
          "dtype": "f8"
         },
         "yaxis": "y"
        },
        {
         "bingroup": "x",
         "histfunc": "sum",
         "hovertemplate": "Region=%{x}<br>sum of EstimatedUnemploymentRate(%)=%{y}<extra></extra>",
         "legendgroup": "Chhattisgarh",
         "marker": {
          "color": "#109618",
          "pattern": {
           "shape": ""
          }
         },
         "name": "Chhattisgarh",
         "orientation": "v",
         "showlegend": true,
         "type": "histogram",
         "x": [
          "Chhattisgarh",
          "Chhattisgarh",
          "Chhattisgarh",
          "Chhattisgarh",
          "Chhattisgarh",
          "Chhattisgarh",
          "Chhattisgarh",
          "Chhattisgarh",
          "Chhattisgarh",
          "Chhattisgarh",
          "Chhattisgarh",
          "Chhattisgarh",
          "Chhattisgarh",
          "Chhattisgarh",
          "Chhattisgarh",
          "Chhattisgarh",
          "Chhattisgarh",
          "Chhattisgarh",
          "Chhattisgarh",
          "Chhattisgarh",
          "Chhattisgarh",
          "Chhattisgarh",
          "Chhattisgarh",
          "Chhattisgarh",
          "Chhattisgarh",
          "Chhattisgarh",
          "Chhattisgarh",
          "Chhattisgarh",
          "Chhattisgarh",
          "Chhattisgarh",
          "Chhattisgarh",
          "Chhattisgarh",
          "Chhattisgarh",
          "Chhattisgarh",
          "Chhattisgarh",
          "Chhattisgarh",
          "Chhattisgarh",
          "Chhattisgarh"
         ],
         "xaxis": "x",
         "y": {
          "bdata": "pHA9CtejI0AK16NwPQobQClcj8L1KBJAj8L1KFyPEkApXI/C9aggQNejcD0K1xtAKVyPwvUoBkBxPQrXo3AYQEjhehSuxyNAj8L1KFyPH0A9CtejcD0dQAAAAAAAAAAAj8L1KFyPHkBI4XoUrkckQArXo3A9iiNACtejcD2KJ0DXo3A9ClcgQClcj8L1KBlA7FG4HoXrIkAK16NwPYokQKRwPQrXoyBAj8L1KFyPDECF61G4HgUiQBSuR+F6lCNA7FG4HoVrIEDhehSuRyE0QJqZmZmZGThAUrgehesRO0DNzMzMzEwjQMP1KFyPwiBAKVyPwvUoHkBI4XoUrkcLQAAAAAAAACVA9ihcj8J1LEAK16NwPYokQIXrUbgehRZAXI/C9Shc/z97FK5H4XoaQA==",
          "dtype": "f8"
         },
         "yaxis": "y"
        },
        {
         "bingroup": "x",
         "histfunc": "sum",
         "hovertemplate": "Region=%{x}<br>sum of EstimatedUnemploymentRate(%)=%{y}<extra></extra>",
         "legendgroup": "Delhi",
         "marker": {
          "color": "#990099",
          "pattern": {
           "shape": ""
          }
         },
         "name": "Delhi",
         "orientation": "v",
         "showlegend": true,
         "type": "histogram",
         "x": [
          "Delhi",
          "Delhi",
          "Delhi",
          "Delhi",
          "Delhi",
          "Delhi",
          "Delhi",
          "Delhi",
          "Delhi",
          "Delhi",
          "Delhi",
          "Delhi",
          "Delhi",
          "Delhi",
          "Delhi",
          "Delhi",
          "Delhi",
          "Delhi",
          "Delhi",
          "Delhi",
          "Delhi",
          "Delhi",
          "Delhi",
          "Delhi",
          "Delhi",
          "Delhi",
          "Delhi",
          "Delhi",
          "Delhi",
          "Delhi",
          "Delhi",
          "Delhi",
          "Delhi",
          "Delhi",
          "Delhi",
          "Delhi",
          "Delhi",
          "Delhi"
         ],
         "xaxis": "x",
         "y": {
          "bdata": "H4XrUbgeKUApXI/C9agiQKRwPQrXIyZArkfhehQuMUAAAAAAAAApQK5H4XoUri9AuB6F61E4JkC4HoXrUfgwQPYoXI/C9SpAH4XrUbieK0Bcj8L1KFwuQHE9CtejsDRAw/UoXI/CNkCkcD0K1yM1QB+F61G4nihAhetRuB6FKUBcj8L1KFwtQArXo3A9CitA16NwPQqXNEBSuB6F69EoQFyPwvUoHDBApHA9CtcjJkAzMzMzM3M2QLgehetRuC1A16NwPQoXMUDD9Shcj4IwQKRwPQrX40ZAXI/C9SgcMkB7FK5H4To2QK5H4XoUri1ACtejcD0KMUCuR+F6FK4wQMP1KFyPIkVAcT0K16MwMkDNzMzMzEw0QBSuR+F6lCtAj8L1KFwPKUAUrkfhehQZQA==",
          "dtype": "f8"
         },
         "yaxis": "y"
        },
        {
         "bingroup": "x",
         "histfunc": "sum",
         "hovertemplate": "Region=%{x}<br>sum of EstimatedUnemploymentRate(%)=%{y}<extra></extra>",
         "legendgroup": "Goa",
         "marker": {
          "color": "#0099C6",
          "pattern": {
           "shape": ""
          }
         },
         "name": "Goa",
         "orientation": "v",
         "showlegend": true,
         "type": "histogram",
         "x": [
          "Goa",
          "Goa",
          "Goa",
          "Goa",
          "Goa",
          "Goa",
          "Goa",
          "Goa",
          "Goa",
          "Goa",
          "Goa",
          "Goa",
          "Goa",
          "Goa",
          "Goa",
          "Goa",
          "Goa",
          "Goa",
          "Goa",
          "Goa",
          "Goa",
          "Goa",
          "Goa",
          "Goa",
          "Goa",
          "Goa",
          "Goa",
          "Goa",
          "Goa",
          "Goa",
          "Goa",
          "Goa",
          "Goa",
          "Goa"
         ],
         "xaxis": "x",
         "y": {
          "bdata": "SOF6FK5HB0DNzMzMzMwVQPYoXI/C9SVArkfhehSu/z/hehSuR+EMQNejcD0K1xxA9ihcj8K1N0BSuB6F61EMQIXrUbgehRVAAAAAAAAAAABSuB6F69EvQAAAAAAAADRAAAAAAAAABkApXI/C9agqQI/C9ShcjyhAmpmZmZmZE0BI4XoUrkcJQB+F61G4nihAMzMzMzMzOUC4HoXrUTgwQNejcD0K1yVAPQrXo3A9EUAK16NwPQoTQIXrUbgehSdASOF6FK7HIUB7FK5H4XoGQAAAAAAAABVAH4XrUbieKkAAAAAAAEA1QOxRuB6F6yNAUrgehesRMUD2KFyPwjUwQMP1KFyPwi5AFK5H4XoUJ0A=",
          "dtype": "f8"
         },
         "yaxis": "y"
        },
        {
         "bingroup": "x",
         "histfunc": "sum",
         "hovertemplate": "Region=%{x}<br>sum of EstimatedUnemploymentRate(%)=%{y}<extra></extra>",
         "legendgroup": "Gujarat",
         "marker": {
          "color": "#DD4477",
          "pattern": {
           "shape": ""
          }
         },
         "name": "Gujarat",
         "orientation": "v",
         "showlegend": true,
         "type": "histogram",
         "x": [
          "Gujarat",
          "Gujarat",
          "Gujarat",
          "Gujarat",
          "Gujarat",
          "Gujarat",
          "Gujarat",
          "Gujarat",
          "Gujarat",
          "Gujarat",
          "Gujarat",
          "Gujarat",
          "Gujarat",
          "Gujarat",
          "Gujarat",
          "Gujarat",
          "Gujarat",
          "Gujarat",
          "Gujarat",
          "Gujarat",
          "Gujarat",
          "Gujarat",
          "Gujarat",
          "Gujarat",
          "Gujarat",
          "Gujarat",
          "Gujarat",
          "Gujarat",
          "Gujarat",
          "Gujarat",
          "Gujarat",
          "Gujarat",
          "Gujarat",
          "Gujarat",
          "Gujarat",
          "Gujarat",
          "Gujarat",
          "Gujarat"
         ],
         "xaxis": "x",
         "y": {
          "bdata": "CtejcD0KB0AUrkfhehQTQFK4HoXrURJAmpmZmZmZDUApXI/C9SgZQKRwPQrXoxNAuB6F61G4EkCuR+F6FK4LQGZmZmZmZhVAj8L1KFyPGkBcj8L1KFweQAAAAAAAAChAKVyPwvUoLUCPwvUoXI/2P1yPwvUoXBBAPQrXo3A9GUCamZmZmZkUQM3MzMzMzBBA16NwPQrXF0DNzMzMzMwVQB+F61G4Hh5A16NwPQrXFkBI4XoUrkcXQClcj8L1KBhAj8L1KFyPFUBxPQrXo/A5QD0K16NwPSdAKVyPwvUoEkApXI/C9SgWQIXrUbgehRlApHA9CtejGkD2KFyPwrUyQLgehetROChAmpmZmZmZCUBxPQrXo3D9P+xRuB6F6/0/XI/C9ShcC0AfhetRuB4QQA==",
          "dtype": "f8"
         },
         "yaxis": "y"
        },
        {
         "bingroup": "x",
         "histfunc": "sum",
         "hovertemplate": "Region=%{x}<br>sum of EstimatedUnemploymentRate(%)=%{y}<extra></extra>",
         "legendgroup": "Haryana",
         "marker": {
          "color": "#66AA00",
          "pattern": {
           "shape": ""
          }
         },
         "name": "Haryana",
         "orientation": "v",
         "showlegend": true,
         "type": "histogram",
         "x": [
          "Haryana",
          "Haryana",
          "Haryana",
          "Haryana",
          "Haryana",
          "Haryana",
          "Haryana",
          "Haryana",
          "Haryana",
          "Haryana",
          "Haryana",
          "Haryana",
          "Haryana",
          "Haryana",
          "Haryana",
          "Haryana",
          "Haryana",
          "Haryana",
          "Haryana",
          "Haryana",
          "Haryana",
          "Haryana",
          "Haryana",
          "Haryana",
          "Haryana",
          "Haryana",
          "Haryana",
          "Haryana",
          "Haryana",
          "Haryana",
          "Haryana",
          "Haryana",
          "Haryana",
          "Haryana",
          "Haryana",
          "Haryana",
          "Haryana",
          "Haryana"
         ],
         "xaxis": "x",
         "y": {
          "bdata": "FK5H4XoULUAUrkfhehQ3QLgehetRODBAcT0K16PwPkBcj8L1KFwwQOxRuB6FKzhA16NwPQqXMECPwvUoXI89QPYoXI/CNTBAcT0K16MwO0DsUbgehes3QK5H4XoUzkRAXI/C9SgcQUApXI/C9chBQOxRuB6FqzhA7FG4HoVrNEAzMzMzM3M5QHE9CtejMDhA16NwPQrXOkAK16NwPQo1QI/C9ShcDztAZmZmZmamN0A9CtejcD07QArXo3A9SjdApHA9CtcjO0BSuB6F63FHQHsUrkfhOkNAKVyPwvVoPUDXo3A9Clc0QIXrUbgexTlAzczMzMwMOUBcj8L1KJxFQIXrUbgeBT1AMzMzMzOzOkCuR+F6FC44QAAAAAAAwEBArkfhehSuM0CPwvUoXE87QA==",
          "dtype": "f8"
         },
         "yaxis": "y"
        },
        {
         "bingroup": "x",
         "histfunc": "sum",
         "hovertemplate": "Region=%{x}<br>sum of EstimatedUnemploymentRate(%)=%{y}<extra></extra>",
         "legendgroup": "Himachal Pradesh",
         "marker": {
          "color": "#B82E2E",
          "pattern": {
           "shape": ""
          }
         },
         "name": "Himachal Pradesh",
         "orientation": "v",
         "showlegend": true,
         "type": "histogram",
         "x": [
          "Himachal Pradesh",
          "Himachal Pradesh",
          "Himachal Pradesh",
          "Himachal Pradesh",
          "Himachal Pradesh",
          "Himachal Pradesh",
          "Himachal Pradesh",
          "Himachal Pradesh",
          "Himachal Pradesh",
          "Himachal Pradesh",
          "Himachal Pradesh",
          "Himachal Pradesh",
          "Himachal Pradesh",
          "Himachal Pradesh",
          "Himachal Pradesh",
          "Himachal Pradesh",
          "Himachal Pradesh",
          "Himachal Pradesh",
          "Himachal Pradesh",
          "Himachal Pradesh",
          "Himachal Pradesh",
          "Himachal Pradesh",
          "Himachal Pradesh",
          "Himachal Pradesh",
          "Himachal Pradesh",
          "Himachal Pradesh",
          "Himachal Pradesh",
          "Himachal Pradesh",
          "Himachal Pradesh",
          "Himachal Pradesh",
          "Himachal Pradesh",
          "Himachal Pradesh",
          "Himachal Pradesh",
          "Himachal Pradesh",
          "Himachal Pradesh",
          "Himachal Pradesh",
          "Himachal Pradesh",
          "Himachal Pradesh"
         ],
         "xaxis": "x",
         "y": {
          "bdata": "XI/C9ShcK0Bcj8L1KNwmQNejcD0KlzRAj8L1KFyPMkD2KFyPwvUvQB+F61G4ni9AXI/C9SjcNkD2KFyPwnUzQOxRuB6FqzBA16NwPQrXLkD2KFyPwrUxQArXo3A9CgFApHA9CtejOUDsUbgehevxP8P1KFyPwiVArkfhehRuNUDD9Shcj4I1QHsUrkfhejhAAAAAAAAAKECF61G4HsU3QIXrUbgeRTtAUrgehetROUBmZmZmZiYyQI/C9ShcTztAcT0K16NwOkCamZmZmZkFQAAAAAAAAElAH4XrUbieJUAUrkfhetQwQNejcD0K1zBAw/UoXI/CMkCamZmZmZkBQDMzMzMz8zpAcT0K16PwKkCPwvUoXE84QBSuR+F6lC9AFK5H4XoUKEDsUbgehesqQA==",
          "dtype": "f8"
         },
         "yaxis": "y"
        },
        {
         "bingroup": "x",
         "histfunc": "sum",
         "hovertemplate": "Region=%{x}<br>sum of EstimatedUnemploymentRate(%)=%{y}<extra></extra>",
         "legendgroup": "Jammu & Kashmir",
         "marker": {
          "color": "#316395",
          "pattern": {
           "shape": ""
          }
         },
         "name": "Jammu & Kashmir",
         "orientation": "v",
         "showlegend": true,
         "type": "histogram",
         "x": [
          "Jammu & Kashmir",
          "Jammu & Kashmir",
          "Jammu & Kashmir",
          "Jammu & Kashmir",
          "Jammu & Kashmir",
          "Jammu & Kashmir",
          "Jammu & Kashmir",
          "Jammu & Kashmir",
          "Jammu & Kashmir",
          "Jammu & Kashmir",
          "Jammu & Kashmir",
          "Jammu & Kashmir",
          "Jammu & Kashmir",
          "Jammu & Kashmir",
          "Jammu & Kashmir",
          "Jammu & Kashmir",
          "Jammu & Kashmir",
          "Jammu & Kashmir",
          "Jammu & Kashmir",
          "Jammu & Kashmir",
          "Jammu & Kashmir",
          "Jammu & Kashmir",
          "Jammu & Kashmir",
          "Jammu & Kashmir",
          "Jammu & Kashmir",
          "Jammu & Kashmir",
          "Jammu & Kashmir",
          "Jammu & Kashmir",
          "Jammu & Kashmir",
          "Jammu & Kashmir"
         ],
         "xaxis": "x",
         "y": {
          "bdata": "j8L1KFyPKUCuR+F6FC4oQNejcD0KVytApHA9CtejJkCF61G4HkUzQPYoXI/CdS1AcT0K16MwNkB7FK5H4To1QAAAAAAAADBAw/UoXI/CAUC4HoXrUfgyQArXo3A9CjdA4XoUrkfhM0DNzMzMzIw1QI/C9ShcDzhAFK5H4XqULEAUrkfhehQcQArXo3A9ijJAXI/C9SjcM0AUrkfhepQsQOxRuB6F6ylAFK5H4XoUNUBI4XoUrsc0QAAAAAAAAC9APQrXo3C9MkDsUbgehesxQMP1KFyPwiVArkfhehQuJkDsUbgehSswQKRwPQrXIzBA",
          "dtype": "f8"
         },
         "yaxis": "y"
        },
        {
         "bingroup": "x",
         "histfunc": "sum",
         "hovertemplate": "Region=%{x}<br>sum of EstimatedUnemploymentRate(%)=%{y}<extra></extra>",
         "legendgroup": "Jharkhand",
         "marker": {
          "color": "#3366CC",
          "pattern": {
           "shape": ""
          }
         },
         "name": "Jharkhand",
         "orientation": "v",
         "showlegend": true,
         "type": "histogram",
         "x": [
          "Jharkhand",
          "Jharkhand",
          "Jharkhand",
          "Jharkhand",
          "Jharkhand",
          "Jharkhand",
          "Jharkhand",
          "Jharkhand",
          "Jharkhand",
          "Jharkhand",
          "Jharkhand",
          "Jharkhand",
          "Jharkhand",
          "Jharkhand",
          "Jharkhand",
          "Jharkhand",
          "Jharkhand",
          "Jharkhand",
          "Jharkhand",
          "Jharkhand",
          "Jharkhand",
          "Jharkhand",
          "Jharkhand",
          "Jharkhand",
          "Jharkhand",
          "Jharkhand",
          "Jharkhand",
          "Jharkhand",
          "Jharkhand",
          "Jharkhand",
          "Jharkhand",
          "Jharkhand",
          "Jharkhand",
          "Jharkhand",
          "Jharkhand",
          "Jharkhand",
          "Jharkhand",
          "Jharkhand"
         ],
         "xaxis": "x",
         "y": {
          "bdata": "cT0K16NwHEDsUbgehesgQPYoXI/C9SNAH4XrUbgeKEB7FK5H4XocQEjhehSuRxpApHA9CtcjIEDNzMzMzEwuQKRwPQrXoxhAH4XrUbgeIkAK16NwPQoUQFyPwvUo3ERAzczMzMyMS0BI4XoUroc1QHsUrkfhOjFAw/UoXI+CNEDXo3A9ClcvQAAAAAAAQDRAKVyPwvUoNUDNzMzMzAwzQNejcD0KVzFAw/UoXI8CNkD2KFyPwvU2QOxRuB6FqzNAZmZmZmZmMEA9CtejcL1OQHsUrkfhilFA4XoUrkdhM0C4HoXrUTglQDMzMzMzsydA9ihcj8J1IEDsUbgehYtHQD0K16NwnU1AMzMzMzPzNECF61G4HoUeQIXrUbgehSNAexSuR+F6IECamZmZmZknQA==",
          "dtype": "f8"
         },
         "yaxis": "y"
        },
        {
         "bingroup": "x",
         "histfunc": "sum",
         "hovertemplate": "Region=%{x}<br>sum of EstimatedUnemploymentRate(%)=%{y}<extra></extra>",
         "legendgroup": "Karnataka",
         "marker": {
          "color": "#DC3912",
          "pattern": {
           "shape": ""
          }
         },
         "name": "Karnataka",
         "orientation": "v",
         "showlegend": true,
         "type": "histogram",
         "x": [
          "Karnataka",
          "Karnataka",
          "Karnataka",
          "Karnataka",
          "Karnataka",
          "Karnataka",
          "Karnataka",
          "Karnataka",
          "Karnataka",
          "Karnataka",
          "Karnataka",
          "Karnataka",
          "Karnataka",
          "Karnataka",
          "Karnataka",
          "Karnataka",
          "Karnataka",
          "Karnataka",
          "Karnataka",
          "Karnataka",
          "Karnataka",
          "Karnataka",
          "Karnataka",
          "Karnataka",
          "Karnataka",
          "Karnataka",
          "Karnataka",
          "Karnataka",
          "Karnataka",
          "Karnataka",
          "Karnataka",
          "Karnataka",
          "Karnataka",
          "Karnataka",
          "Karnataka",
          "Karnataka",
          "Karnataka",
          "Karnataka"
         ],
         "xaxis": "x",
         "y": {
          "bdata": "16NwPQrXFUDsUbgehesXQKRwPQrXo+A/rkfhehSu1z+amZmZmZkJQIXrUbgehRxACtejcD0K8z89CtejcD3aP4/C9ShcjwRAcT0K16NwEEAfhetRuB4DQPYoXI/ClUBAuB6F61G4N0DXo3A9CtclQD0K16NwPRpAAAAAAAAAFEBSuB6F61ECQFK4HoXrUfQ/j8L1KFyPDED2KFyPwvUOQIXrUbgehQtA9ihcj8L1+D97FK5H4XoKQArXo3A9CgdArkfhehSuE0AfhetRuB45QMP1KFyPwi9AexSuR+F6GEDhehSuR+EGQOF6FK5H4QxArkfhehSuC0DXo3A9Ctc9QLgehetR+DNA4XoUrkfhIEAK16NwPQoQQAAAAAAAAOA/SOF6FK5HA0BI4XoUrkf5Pw==",
          "dtype": "f8"
         },
         "yaxis": "y"
        },
        {
         "bingroup": "x",
         "histfunc": "sum",
         "hovertemplate": "Region=%{x}<br>sum of EstimatedUnemploymentRate(%)=%{y}<extra></extra>",
         "legendgroup": "Kerala",
         "marker": {
          "color": "#FF9900",
          "pattern": {
           "shape": ""
          }
         },
         "name": "Kerala",
         "orientation": "v",
         "showlegend": true,
         "type": "histogram",
         "x": [
          "Kerala",
          "Kerala",
          "Kerala",
          "Kerala",
          "Kerala",
          "Kerala",
          "Kerala",
          "Kerala",
          "Kerala",
          "Kerala",
          "Kerala",
          "Kerala",
          "Kerala",
          "Kerala",
          "Kerala",
          "Kerala",
          "Kerala",
          "Kerala",
          "Kerala",
          "Kerala",
          "Kerala",
          "Kerala",
          "Kerala",
          "Kerala",
          "Kerala",
          "Kerala",
          "Kerala",
          "Kerala",
          "Kerala",
          "Kerala",
          "Kerala",
          "Kerala",
          "Kerala",
          "Kerala",
          "Kerala",
          "Kerala",
          "Kerala",
          "Kerala"
         ],
         "xaxis": "x",
         "y": {
          "bdata": "hetRuB6FGkAAAAAAAAAiQM3MzMzMzBNApHA9CtejJEBmZmZmZmYVQEjhehSuRyJAAAAAAAAAFEAK16NwPYolQHE9CtejcBBAUrgehevRIUAzMzMzM7MhQOxRuB6FayVA4XoUrkdhN0ApXI/C9ag7QHE9CtejcBhArkfhehSuGkBSuB6F61EeQMP1KFyPwh5AFK5H4XoUFkBmZmZmZmYVQNejcD0K1xpAPQrXo3A9HUCamZmZmZkaQFK4HoXrURhASOF6FK5HIkCuR+F6FG41QEjhehSuRz5A16NwPQpXKEA9CtejcD0VQGZmZmZmZh5AexSuR+H6IUA9CtejcP0wQOF6FK5H4TFA7FG4HoVrI0Bcj8L1KFwcQPYoXI/C9SVApHA9CtejF0AK16NwPQoPQA==",
          "dtype": "f8"
         },
         "yaxis": "y"
        },
        {
         "bingroup": "x",
         "histfunc": "sum",
         "hovertemplate": "Region=%{x}<br>sum of EstimatedUnemploymentRate(%)=%{y}<extra></extra>",
         "legendgroup": "Madhya Pradesh",
         "marker": {
          "color": "#109618",
          "pattern": {
           "shape": ""
          }
         },
         "name": "Madhya Pradesh",
         "orientation": "v",
         "showlegend": true,
         "type": "histogram",
         "x": [
          "Madhya Pradesh",
          "Madhya Pradesh",
          "Madhya Pradesh",
          "Madhya Pradesh",
          "Madhya Pradesh",
          "Madhya Pradesh",
          "Madhya Pradesh",
          "Madhya Pradesh",
          "Madhya Pradesh",
          "Madhya Pradesh",
          "Madhya Pradesh",
          "Madhya Pradesh",
          "Madhya Pradesh",
          "Madhya Pradesh",
          "Madhya Pradesh",
          "Madhya Pradesh",
          "Madhya Pradesh",
          "Madhya Pradesh",
          "Madhya Pradesh",
          "Madhya Pradesh",
          "Madhya Pradesh",
          "Madhya Pradesh",
          "Madhya Pradesh",
          "Madhya Pradesh",
          "Madhya Pradesh",
          "Madhya Pradesh",
          "Madhya Pradesh",
          "Madhya Pradesh",
          "Madhya Pradesh",
          "Madhya Pradesh",
          "Madhya Pradesh",
          "Madhya Pradesh",
          "Madhya Pradesh",
          "Madhya Pradesh",
          "Madhya Pradesh",
          "Madhya Pradesh",
          "Madhya Pradesh",
          "Madhya Pradesh"
         ],
         "xaxis": "x",
         "y": {
          "bdata": "CtejcD0KDUAAAAAAAAARQFyPwvUoXA9Aw/UoXI/CE0CkcD0K16MIQNejcD0K1wdAw/UoXI/CBUCF61G4HoUHQEjhehSuRw1ArkfhehSuEUAK16NwPQrzPwAAAAAAAClA9ihcj8J1NkDXo3A9CtcZQEjhehSuRw9AhetRuB6FGUCF61G4HoUdQEjhehSuRxtAAAAAAAAAHECamZmZmZkRQD0K16NwPRhAzczMzMzMGECuR+F6FK4UQNejcD0K1xNAMzMzMzMzE0DhehSuR+EnQB+F61G4PkRAcT0K16NwKUBxPQrXo3AQQEjhehSuRxJAw/UoXI/CAUC4HoXrUbgoQHsUrkfh+jVA7FG4HoXrGUBSuB6F61EUQM3MzMzMzBJASOF6FK5HD0AK16NwPQoJQA==",
          "dtype": "f8"
         },
         "yaxis": "y"
        },
        {
         "bingroup": "x",
         "histfunc": "sum",
         "hovertemplate": "Region=%{x}<br>sum of EstimatedUnemploymentRate(%)=%{y}<extra></extra>",
         "legendgroup": "Maharashtra",
         "marker": {
          "color": "#990099",
          "pattern": {
           "shape": ""
          }
         },
         "name": "Maharashtra",
         "orientation": "v",
         "showlegend": true,
         "type": "histogram",
         "x": [
          "Maharashtra",
          "Maharashtra",
          "Maharashtra",
          "Maharashtra",
          "Maharashtra",
          "Maharashtra",
          "Maharashtra",
          "Maharashtra",
          "Maharashtra",
          "Maharashtra",
          "Maharashtra",
          "Maharashtra",
          "Maharashtra",
          "Maharashtra",
          "Maharashtra",
          "Maharashtra",
          "Maharashtra",
          "Maharashtra",
          "Maharashtra",
          "Maharashtra",
          "Maharashtra",
          "Maharashtra",
          "Maharashtra",
          "Maharashtra",
          "Maharashtra",
          "Maharashtra",
          "Maharashtra",
          "Maharashtra",
          "Maharashtra",
          "Maharashtra",
          "Maharashtra",
          "Maharashtra",
          "Maharashtra",
          "Maharashtra",
          "Maharashtra",
          "Maharashtra",
          "Maharashtra",
          "Maharashtra"
         ],
         "xaxis": "x",
         "y": {
          "bdata": "XI/C9ShcDUBcj8L1KFwRQEjhehSuRw1AFK5H4XoUDkCamZmZmZkRQHsUrkfheg5AcT0K16NwDUA9CtejcD0IQGZmZmZmZg5A9ihcj8L1EECF61G4HoUVQEjhehSuRzlApHA9CtfjMEDNzMzMzMwiQFK4HoXrURhA16NwPQrXGUBmZmZmZmYZQEjhehSuRx5AZmZmZmZmHkAK16NwPQoeQGZmZmZmZh5AUrgehetRH0CuR+F6FK4aQFyPwvUoXBVAXI/C9ShcGUB7FK5H4fotQNejcD0K1y9AhetRuB4FJEDNzMzMzMwTQMP1KFyPwhJAKVyPwvUoF0BmZmZmZuY0QOxRuB6F6y5A9ihcj8J1IkAfhetRuB4PQOxRuB6F6xhAMzMzMzMzEkBmZmZmZmYQQA==",
          "dtype": "f8"
         },
         "yaxis": "y"
        },
        {
         "bingroup": "x",
         "histfunc": "sum",
         "hovertemplate": "Region=%{x}<br>sum of EstimatedUnemploymentRate(%)=%{y}<extra></extra>",
         "legendgroup": "Meghalaya",
         "marker": {
          "color": "#0099C6",
          "pattern": {
           "shape": ""
          }
         },
         "name": "Meghalaya",
         "orientation": "v",
         "showlegend": true,
         "type": "histogram",
         "x": [
          "Meghalaya",
          "Meghalaya",
          "Meghalaya",
          "Meghalaya",
          "Meghalaya",
          "Meghalaya",
          "Meghalaya",
          "Meghalaya",
          "Meghalaya",
          "Meghalaya",
          "Meghalaya",
          "Meghalaya",
          "Meghalaya",
          "Meghalaya",
          "Meghalaya",
          "Meghalaya",
          "Meghalaya",
          "Meghalaya",
          "Meghalaya",
          "Meghalaya",
          "Meghalaya",
          "Meghalaya",
          "Meghalaya",
          "Meghalaya",
          "Meghalaya",
          "Meghalaya",
          "Meghalaya",
          "Meghalaya",
          "Meghalaya",
          "Meghalaya",
          "Meghalaya",
          "Meghalaya",
          "Meghalaya",
          "Meghalaya",
          "Meghalaya",
          "Meghalaya",
          "Meghalaya"
         ],
         "xaxis": "x",
         "y": {
          "bdata": "SOF6FK5HCUDsUbgehesQQHsUrkfhevA/pHA9Ctej4D+4HoXrUbjOP5qZmZmZmQ1AAAAAAAAA+D/NzMzMzMz8PwrXo3A9Cu8/FK5H4XoUBkB7FK5H4Xr0P8P1KFyPwiBA16NwPQrXDUCamZmZmZn1P83MzMzMzCBAUrgehetRIUC4HoXrUbgRQDMzMzMzMxdAMzMzMzMzFUDNzMzMzMwcQClcj8L1KAhA16NwPQrXFEAK16NwPQoTQHsUrkfheh1AZmZmZmZmBkCkcD0K12MxQClcj8L1KC1Aj8L1KFyP+j+4HoXrUbgMQEjhehSuR/k/j8L1KFwPJECuR+F6FK4XQGZmZmZmZvI/zczMzMzMAEDsUbgehesNQClcj8L1KBFAZmZmZmZmEkA=",
          "dtype": "f8"
         },
         "yaxis": "y"
        },
        {
         "bingroup": "x",
         "histfunc": "sum",
         "hovertemplate": "Region=%{x}<br>sum of EstimatedUnemploymentRate(%)=%{y}<extra></extra>",
         "legendgroup": "Odisha",
         "marker": {
          "color": "#DD4477",
          "pattern": {
           "shape": ""
          }
         },
         "name": "Odisha",
         "orientation": "v",
         "showlegend": true,
         "type": "histogram",
         "x": [
          "Odisha",
          "Odisha",
          "Odisha",
          "Odisha",
          "Odisha",
          "Odisha",
          "Odisha",
          "Odisha",
          "Odisha",
          "Odisha",
          "Odisha",
          "Odisha",
          "Odisha",
          "Odisha",
          "Odisha",
          "Odisha",
          "Odisha",
          "Odisha",
          "Odisha",
          "Odisha",
          "Odisha",
          "Odisha",
          "Odisha",
          "Odisha",
          "Odisha",
          "Odisha",
          "Odisha",
          "Odisha",
          "Odisha",
          "Odisha",
          "Odisha",
          "Odisha",
          "Odisha",
          "Odisha",
          "Odisha",
          "Odisha",
          "Odisha",
          "Odisha"
         ],
         "xaxis": "x",
         "y": {
          "bdata": "rkfhehSuEEDXo3A9CtcSQHsUrkfhegpAcT0K16NwDUA9CtejcD0RQB+F61G4HhFA4XoUrkfhEkCuR+F6FK4SQPYoXI/C9fw/exSuR+F6CkCuR+F6FC4uQHsUrkfhejhAZmZmZmbmIkBcj8L1KFwSQJqZmZmZmQdACtejcD0KBUB7FK5H4Xr8PwAAAAAAAAxAPQrXo3A9DkAAAAAAAAASQNejcD0K1wFA4XoUrkfhCkA9CtejcD0CQIXrUbgehQFArkfhehSuD0AAAAAAAIA0QAAAAAAAACRAcT0K16NwAUBmZmZmZmb+P/YoXI/C9QhAKVyPwvUoKkDD9Shcj8I3QFK4HoXr0SZAKVyPwvUoDkAUrkfhehT+P7gehetRuPY/zczMzMzMAEBxPQrXo3ABQA==",
          "dtype": "f8"
         },
         "yaxis": "y"
        },
        {
         "bingroup": "x",
         "histfunc": "sum",
         "hovertemplate": "Region=%{x}<br>sum of EstimatedUnemploymentRate(%)=%{y}<extra></extra>",
         "legendgroup": "Puducherry",
         "marker": {
          "color": "#66AA00",
          "pattern": {
           "shape": ""
          }
         },
         "name": "Puducherry",
         "orientation": "v",
         "showlegend": true,
         "type": "histogram",
         "x": [
          "Puducherry",
          "Puducherry",
          "Puducherry",
          "Puducherry",
          "Puducherry",
          "Puducherry",
          "Puducherry",
          "Puducherry",
          "Puducherry",
          "Puducherry",
          "Puducherry",
          "Puducherry",
          "Puducherry",
          "Puducherry",
          "Puducherry",
          "Puducherry",
          "Puducherry",
          "Puducherry",
          "Puducherry",
          "Puducherry",
          "Puducherry",
          "Puducherry",
          "Puducherry",
          "Puducherry",
          "Puducherry",
          "Puducherry",
          "Puducherry",
          "Puducherry",
          "Puducherry",
          "Puducherry",
          "Puducherry",
          "Puducherry",
          "Puducherry",
          "Puducherry",
          "Puducherry",
          "Puducherry"
         ],
         "xaxis": "x",
         "y": {
          "bdata": "AAAAAAAAAAAAAAAAAAAAAAAAAAAAAAAAZmZmZmZmE0AAAAAAAAAAAOF6FK5H4fI/AAAAAAAAAADXo3A9Ctf/P4/C9Shcj+I/16NwPQrX+z97FK5H4XoCQHE9CtejoFJAAAAAAAAA9D8AAAAAAAAAAAAAAAAAAAAAZmZmZmbmIUCF61G4HoXzP7gehetRuPI/7FG4HoXr9T/Xo3A9CtcUQD0K16NwPeI/exSuR+F6/D/Xo3A9CtfjP4/C9ShcL1NAAAAAAADAUkAzMzMzMzMSQI/C9Shcj+I/KVyPwvUo/D8zMzMzMzPzP2ZmZmZm9lJAuB6F61EYTUD2KFyPwvUQQHE9Ctej8C5AMzMzMzMzFEDNzMzMzMwlQLgehetRuBhA",
          "dtype": "f8"
         },
         "yaxis": "y"
        },
        {
         "bingroup": "x",
         "histfunc": "sum",
         "hovertemplate": "Region=%{x}<br>sum of EstimatedUnemploymentRate(%)=%{y}<extra></extra>",
         "legendgroup": "Punjab",
         "marker": {
          "color": "#B82E2E",
          "pattern": {
           "shape": ""
          }
         },
         "name": "Punjab",
         "orientation": "v",
         "showlegend": true,
         "type": "histogram",
         "x": [
          "Punjab",
          "Punjab",
          "Punjab",
          "Punjab",
          "Punjab",
          "Punjab",
          "Punjab",
          "Punjab",
          "Punjab",
          "Punjab",
          "Punjab",
          "Punjab",
          "Punjab",
          "Punjab",
          "Punjab",
          "Punjab",
          "Punjab",
          "Punjab",
          "Punjab",
          "Punjab",
          "Punjab",
          "Punjab",
          "Punjab",
          "Punjab",
          "Punjab",
          "Punjab",
          "Punjab",
          "Punjab",
          "Punjab",
          "Punjab",
          "Punjab",
          "Punjab",
          "Punjab",
          "Punjab",
          "Punjab",
          "Punjab",
          "Punjab",
          "Punjab"
         ],
         "xaxis": "x",
         "y": {
          "bdata": "16NwPQpXIkDsUbgehWsoQEjhehSuRyNAw/UoXI/CGkCuR+F6FC4hQB+F61G4HilASOF6FK5HHECF61G4HoUYQOF6FK5HYSNAUrgehevRJECF61G4HgUlQIXrUbgehQ1A7FG4HoVLREAAAAAAAAA0QHsUrkfh+ipA16NwPQpXKkC4HoXrUTgnQHsUrkfh+idA4XoUrkdhL0AAAAAAAIArQEjhehSuxyRAcT0K16PwJ0Bcj8L1KFwrQHsUrkfh+idAcT0K16PwI0AUrkfhehTyPwrXo3A9ijRAmpmZmZkZJUC4HoXrUTgmQHE9Ctej8CVApHA9CtejJEDhehSuR+EGQBSuR+F6VDxAzczMzMyMMEDhehSuR2EiQHsUrkfh+iVAuB6F61E4I0DD9Shcj8IjQA==",
          "dtype": "f8"
         },
         "yaxis": "y"
        },
        {
         "bingroup": "x",
         "histfunc": "sum",
         "hovertemplate": "Region=%{x}<br>sum of EstimatedUnemploymentRate(%)=%{y}<extra></extra>",
         "legendgroup": "Rajasthan",
         "marker": {
          "color": "#316395",
          "pattern": {
           "shape": ""
          }
         },
         "name": "Rajasthan",
         "orientation": "v",
         "showlegend": true,
         "type": "histogram",
         "x": [
          "Rajasthan",
          "Rajasthan",
          "Rajasthan",
          "Rajasthan",
          "Rajasthan",
          "Rajasthan",
          "Rajasthan",
          "Rajasthan",
          "Rajasthan",
          "Rajasthan",
          "Rajasthan",
          "Rajasthan",
          "Rajasthan",
          "Rajasthan",
          "Rajasthan",
          "Rajasthan",
          "Rajasthan",
          "Rajasthan",
          "Rajasthan",
          "Rajasthan",
          "Rajasthan",
          "Rajasthan",
          "Rajasthan",
          "Rajasthan",
          "Rajasthan",
          "Rajasthan",
          "Rajasthan",
          "Rajasthan",
          "Rajasthan",
          "Rajasthan",
          "Rajasthan",
          "Rajasthan",
          "Rajasthan",
          "Rajasthan",
          "Rajasthan",
          "Rajasthan",
          "Rajasthan",
          "Rajasthan"
         ],
         "xaxis": "x",
         "y": {
          "bdata": "H4XrUbgeEEBmZmZmZmYrQGZmZmZmZiNAAAAAAAAAKUDNzMzMzMwVQFK4HoXrUS1AcT0K16PwJEDsUbgehesrQAAAAAAAACBA9ihcj8L1LEBxPQrXo/AiQAAAAAAAgChAZmZmZmbmJEC4HoXrUbgrQD0K16NwPStAuB6F61G4LEDXo3A9ClcnQOxRuB6Fay1Aw/UoXI9CKUAK16NwPQoqQJqZmZmZmSxACtejcD0KMkBSuB6F69EyQIXrUbgeBTFACtejcD2KMkCkcD0K18NBQJqZmZmZWTlAFK5H4XoUKkBxPQrXo/AlQFK4HoXrUS5AzczMzMzMJ0AzMzMzM7MxQHsUrkfhei9ASOF6FK7HLEAfhetRuJ4vQMP1KFyPgjFAMzMzMzOzLkBmZmZmZiY4QA==",
          "dtype": "f8"
         },
         "yaxis": "y"
        },
        {
         "bingroup": "x",
         "histfunc": "sum",
         "hovertemplate": "Region=%{x}<br>sum of EstimatedUnemploymentRate(%)=%{y}<extra></extra>",
         "legendgroup": "Sikkim",
         "marker": {
          "color": "#3366CC",
          "pattern": {
           "shape": ""
          }
         },
         "name": "Sikkim",
         "orientation": "v",
         "showlegend": true,
         "type": "histogram",
         "x": [
          "Sikkim",
          "Sikkim",
          "Sikkim",
          "Sikkim",
          "Sikkim",
          "Sikkim",
          "Sikkim",
          "Sikkim",
          "Sikkim",
          "Sikkim",
          "Sikkim",
          "Sikkim",
          "Sikkim",
          "Sikkim",
          "Sikkim",
          "Sikkim",
          "Sikkim",
          "Sikkim",
          "Sikkim",
          "Sikkim",
          "Sikkim",
          "Sikkim",
          "Sikkim",
          "Sikkim",
          "Sikkim"
         ],
         "xaxis": "x",
         "y": {
          "bdata": "7FG4HoXrFUC4HoXrUTgqQAAAAAAAAPA/AAAAAAAAAAA9CtejcD0XQGZmZmZmZiBACtejcD0KH0B7FK5H4XoEQEjhehSuRxNAPQrXo3A9E0Bcj8L1KFwjQClcj8L1KBBAexSuR+F6HUAzMzMzM3M0QBSuR+F6FBdAAAAAAADAM0AK16NwPQoFQFK4HoXrkTdAPQrXo3A9AkDD9Shcj4I4QNejcD0K1xFAzczMzMzMEUB7FK5H4fooQM3MzMzMzBZAKVyPwvUo7D8=",
          "dtype": "f8"
         },
         "yaxis": "y"
        },
        {
         "bingroup": "x",
         "histfunc": "sum",
         "hovertemplate": "Region=%{x}<br>sum of EstimatedUnemploymentRate(%)=%{y}<extra></extra>",
         "legendgroup": "Tamil Nadu",
         "marker": {
          "color": "#DC3912",
          "pattern": {
           "shape": ""
          }
         },
         "name": "Tamil Nadu",
         "orientation": "v",
         "showlegend": true,
         "type": "histogram",
         "x": [
          "Tamil Nadu",
          "Tamil Nadu",
          "Tamil Nadu",
          "Tamil Nadu",
          "Tamil Nadu",
          "Tamil Nadu",
          "Tamil Nadu",
          "Tamil Nadu",
          "Tamil Nadu",
          "Tamil Nadu",
          "Tamil Nadu",
          "Tamil Nadu",
          "Tamil Nadu",
          "Tamil Nadu",
          "Tamil Nadu",
          "Tamil Nadu",
          "Tamil Nadu",
          "Tamil Nadu",
          "Tamil Nadu",
          "Tamil Nadu",
          "Tamil Nadu",
          "Tamil Nadu",
          "Tamil Nadu",
          "Tamil Nadu",
          "Tamil Nadu",
          "Tamil Nadu",
          "Tamil Nadu",
          "Tamil Nadu",
          "Tamil Nadu",
          "Tamil Nadu",
          "Tamil Nadu",
          "Tamil Nadu",
          "Tamil Nadu",
          "Tamil Nadu",
          "Tamil Nadu",
          "Tamil Nadu",
          "Tamil Nadu",
          "Tamil Nadu"
         ],
         "xaxis": "x",
         "y": {
          "bdata": "CtejcD0K7z9xPQrXo3DtPwrXo3A9ChhASOF6FK5HB0Bcj8L1KFz7P1yPwvUoXPc/rkfhehSuA0DXo3A9CtcNQOF6FK5H4fI/uB6F61G48j9xPQrXo3AZQLgehetRmEpAPQrXo3BdQ0B7FK5H4XoAQHsUrkfheuw/9ihcj8L1+D9xPQrXo3AJQI/C9ShcDyNAw/UoXI/C/T8UrkfhehTyPzMzMzMzMwVAmpmZmZkZIEBmZmZmZmYAQHsUrkfhegpA16NwPQrXGUBmZmZmZsZGQDMzMzMz8zlArkfhehTuOEAfhetRuB75P7gehetRuABAmpmZmZmZGUAK16NwPepIQBSuR+F6lEBAZmZmZmZmKEA9CtejcD0bQDMzMzMzMwVAAAAAAAAAFEBI4XoUrkcBQA==",
          "dtype": "f8"
         },
         "yaxis": "y"
        },
        {
         "bingroup": "x",
         "histfunc": "sum",
         "hovertemplate": "Region=%{x}<br>sum of EstimatedUnemploymentRate(%)=%{y}<extra></extra>",
         "legendgroup": "Telangana",
         "marker": {
          "color": "#FF9900",
          "pattern": {
           "shape": ""
          }
         },
         "name": "Telangana",
         "orientation": "v",
         "showlegend": true,
         "type": "histogram",
         "x": [
          "Telangana",
          "Telangana",
          "Telangana",
          "Telangana",
          "Telangana",
          "Telangana",
          "Telangana",
          "Telangana",
          "Telangana",
          "Telangana",
          "Telangana",
          "Telangana",
          "Telangana",
          "Telangana",
          "Telangana",
          "Telangana",
          "Telangana",
          "Telangana",
          "Telangana",
          "Telangana",
          "Telangana",
          "Telangana",
          "Telangana",
          "Telangana",
          "Telangana",
          "Telangana",
          "Telangana",
          "Telangana",
          "Telangana",
          "Telangana",
          "Telangana",
          "Telangana",
          "Telangana",
          "Telangana",
          "Telangana",
          "Telangana",
          "Telangana",
          "Telangana"
         ],
         "xaxis": "x",
         "y": {
          "bdata": "16NwPQrXAUCuR+F6FK4XQJqZmZmZmQNAZmZmZmZm9j/2KFyPwvUVQClcj8L1KB1A4XoUrkfhGUCamZmZmZn1PxSuR+F6FBRACtejcD0KIkCF61G4HoUWQArXo3A9ChJA4XoUrkcBQUDNzMzMzEwzQFK4HoXrUfg/4XoUrkfh9j/Xo3A9CtcNQMP1KFyPwhBAw/UoXI/CGED2KFyPwvUaQOxRuB6F6xRA4XoUrkfhEED2KFyPwvUZQPYoXI/C9RpAZmZmZmZmGEAAAAAAAAAlQClcj8L1SEJArkfhehSuG0D2KFyPwvUVQBSuR+F6lCBAFK5H4XoUF0AAAAAAAAAZQGZmZmZmZi1AmpmZmZkZJUBxPQrXo3AVQClcj8L1KBdAKVyPwvUoCkDhehSuR+EGQA==",
          "dtype": "f8"
         },
         "yaxis": "y"
        },
        {
         "bingroup": "x",
         "histfunc": "sum",
         "hovertemplate": "Region=%{x}<br>sum of EstimatedUnemploymentRate(%)=%{y}<extra></extra>",
         "legendgroup": "Tripura",
         "marker": {
          "color": "#109618",
          "pattern": {
           "shape": ""
          }
         },
         "name": "Tripura",
         "orientation": "v",
         "showlegend": true,
         "type": "histogram",
         "x": [
          "Tripura",
          "Tripura",
          "Tripura",
          "Tripura",
          "Tripura",
          "Tripura",
          "Tripura",
          "Tripura",
          "Tripura",
          "Tripura",
          "Tripura",
          "Tripura",
          "Tripura",
          "Tripura",
          "Tripura",
          "Tripura",
          "Tripura",
          "Tripura",
          "Tripura",
          "Tripura",
          "Tripura",
          "Tripura",
          "Tripura",
          "Tripura",
          "Tripura",
          "Tripura",
          "Tripura",
          "Tripura",
          "Tripura",
          "Tripura",
          "Tripura",
          "Tripura",
          "Tripura",
          "Tripura",
          "Tripura",
          "Tripura",
          "Tripura",
          "Tripura"
         ],
         "xaxis": "x",
         "y": {
          "bdata": "AAAAAABAPUCkcD0K16M6QLgehetReDZAPQrXo3B9OUB7FK5H4To+QArXo3A9ijtAAAAAAABAOUBI4XoUroc6QClcj8L16D9AuB6F61E4OkBcj8L1KJw/QFK4HoXr0UVA7FG4HoVrLUDXo3A9CtcyQLgehetRWEFA16NwPQqXOUCPwvUoXM85QJqZmZmZuUBAKVyPwvXIQEDsUbgehas6QGZmZmZmJjtAPQrXo3C9QECPwvUoXC9BQHE9Ctej8EBAcT0K16OwOUBxPQrXo3BBQEjhehSuxzBAuB6F61F4O0D2KFyPwlVAQGZmZmZmZjxAMzMzMzPzPUA9CtejcJ1EQMP1KFyPgjVA9ihcj8K1NUA9CtejcD0yQOxRuB6F6ztAmpmZmZlZMUCkcD0K1yMnQA==",
          "dtype": "f8"
         },
         "yaxis": "y"
        },
        {
         "bingroup": "x",
         "histfunc": "sum",
         "hovertemplate": "Region=%{x}<br>sum of EstimatedUnemploymentRate(%)=%{y}<extra></extra>",
         "legendgroup": "Uttar Pradesh",
         "marker": {
          "color": "#990099",
          "pattern": {
           "shape": ""
          }
         },
         "name": "Uttar Pradesh",
         "orientation": "v",
         "showlegend": true,
         "type": "histogram",
         "x": [
          "Uttar Pradesh",
          "Uttar Pradesh",
          "Uttar Pradesh",
          "Uttar Pradesh",
          "Uttar Pradesh",
          "Uttar Pradesh",
          "Uttar Pradesh",
          "Uttar Pradesh",
          "Uttar Pradesh",
          "Uttar Pradesh",
          "Uttar Pradesh",
          "Uttar Pradesh",
          "Uttar Pradesh",
          "Uttar Pradesh",
          "Uttar Pradesh",
          "Uttar Pradesh",
          "Uttar Pradesh",
          "Uttar Pradesh",
          "Uttar Pradesh",
          "Uttar Pradesh",
          "Uttar Pradesh",
          "Uttar Pradesh",
          "Uttar Pradesh",
          "Uttar Pradesh",
          "Uttar Pradesh",
          "Uttar Pradesh",
          "Uttar Pradesh",
          "Uttar Pradesh",
          "Uttar Pradesh",
          "Uttar Pradesh",
          "Uttar Pradesh",
          "Uttar Pradesh",
          "Uttar Pradesh",
          "Uttar Pradesh",
          "Uttar Pradesh",
          "Uttar Pradesh",
          "Uttar Pradesh",
          "Uttar Pradesh"
         ],
         "xaxis": "x",
         "y": {
          "bdata": "hetRuB6FJEDD9Shcj0ImQOF6FK5HYSJAcT0K16PwJkDNzMzMzMwZQFyPwvUoXCRAw/UoXI/CG0Bcj8L1KNwgQD0K16NwPRhAPQrXo3A9IEA9CtejcL0iQOxRuB6F6zNApHA9CtfjMECF61G4HgUhQM3MzMzMzCxAPQrXo3A9J0CamZmZmZknQPYoXI/CdS1AKVyPwvUoK0AzMzMzM7MkQB+F61G4niZAPQrXo3C9KECuR+F6FK4oQM3MzMzMTCdApHA9CtejKEBxPQrXo/A6QEjhehSuB0BAmpmZmZkZKkBSuB6F61EeQPYoXI/C9SFAuB6F61E4JEAK16NwPYo1QClcj8L1aDRAcT0K16PwIkA9CtejcD0WQClcj8L1KBdAuB6F61G4EEAAAAAAAAAOQA==",
          "dtype": "f8"
         },
         "yaxis": "y"
        },
        {
         "bingroup": "x",
         "histfunc": "sum",
         "hovertemplate": "Region=%{x}<br>sum of EstimatedUnemploymentRate(%)=%{y}<extra></extra>",
         "legendgroup": "Uttarakhand",
         "marker": {
          "color": "#0099C6",
          "pattern": {
           "shape": ""
          }
         },
         "name": "Uttarakhand",
         "orientation": "v",
         "showlegend": true,
         "type": "histogram",
         "x": [
          "Uttarakhand",
          "Uttarakhand",
          "Uttarakhand",
          "Uttarakhand",
          "Uttarakhand",
          "Uttarakhand",
          "Uttarakhand",
          "Uttarakhand",
          "Uttarakhand",
          "Uttarakhand",
          "Uttarakhand",
          "Uttarakhand",
          "Uttarakhand",
          "Uttarakhand",
          "Uttarakhand",
          "Uttarakhand",
          "Uttarakhand",
          "Uttarakhand",
          "Uttarakhand",
          "Uttarakhand",
          "Uttarakhand",
          "Uttarakhand",
          "Uttarakhand",
          "Uttarakhand",
          "Uttarakhand",
          "Uttarakhand",
          "Uttarakhand",
          "Uttarakhand",
          "Uttarakhand",
          "Uttarakhand",
          "Uttarakhand",
          "Uttarakhand",
          "Uttarakhand",
          "Uttarakhand",
          "Uttarakhand",
          "Uttarakhand",
          "Uttarakhand"
         ],
         "xaxis": "x",
         "y": {
          "bdata": "FK5H4XoU+j+amZmZmZkSQPYoXI/C9RZAcT0K16NwGEDD9Shcj8ILQFK4HoXrURNAPQrXo3A9FkAUrkfhehQSQK5H4XoUrhBAZmZmZmZmE0BI4XoUrkcNQI/C9ShcjwxA7FG4HoVrJUDXo3A9ClciQMP1KFyPwhJAw/UoXI/CG0C4HoXrUbgdQD0K16NwPSNA4XoUrkfhEkBcj8L1KFwZQI/C9Shcjx1A16NwPQrXIUAfhetRuB4VQM3MzMzMTCBAXI/C9ShcKkBcj8L1KFwxQFK4HoXrURRA9ihcj8L1FUD2KFyPwvUTQJqZmZmZ2TNA7FG4HoXrGUCF61G4HgUgQLgehetROCFAw/UoXI/CKECF61G4HoUsQMP1KFyPQjZA9ihcj8J1IkA=",
          "dtype": "f8"
         },
         "yaxis": "y"
        },
        {
         "bingroup": "x",
         "histfunc": "sum",
         "hovertemplate": "Region=%{x}<br>sum of EstimatedUnemploymentRate(%)=%{y}<extra></extra>",
         "legendgroup": "West Bengal",
         "marker": {
          "color": "#DD4477",
          "pattern": {
           "shape": ""
          }
         },
         "name": "West Bengal",
         "orientation": "v",
         "showlegend": true,
         "type": "histogram",
         "x": [
          "West Bengal",
          "West Bengal",
          "West Bengal",
          "West Bengal",
          "West Bengal",
          "West Bengal",
          "West Bengal",
          "West Bengal",
          "West Bengal",
          "West Bengal",
          "West Bengal",
          "West Bengal",
          "West Bengal",
          "West Bengal",
          "West Bengal",
          "West Bengal",
          "West Bengal",
          "West Bengal",
          "West Bengal",
          "West Bengal",
          "West Bengal",
          "West Bengal",
          "West Bengal",
          "West Bengal",
          "West Bengal",
          "West Bengal",
          "West Bengal",
          "West Bengal",
          "West Bengal",
          "West Bengal",
          "West Bengal",
          "West Bengal",
          "West Bengal",
          "West Bengal",
          "West Bengal",
          "West Bengal",
          "West Bengal",
          "West Bengal"
         ],
         "xaxis": "x",
         "y": {
          "bdata": "FK5H4XoUGEBmZmZmZmYXQHsUrkfhehZAUrgehetRFkAK16NwPQoVQB+F61G4HhtAUrgehetRF0ApXI/C9SgXQClcj8L1KBtAPQrXo3A9DkAUrkfhehQcQFK4HoXrUTJArkfhehRuMkDD9Shcj8ITQAAAAAAAAB1AhetRuB6FHUCkcD0K16MfQBSuR+F6FB1AKVyPwvUoH0BSuB6F61EfQHE9CtejcBpA9ihcj8L1HEAUrkfhehQdQDMzMzMzMx5ArkfhehSuGkDD9Shcj0IvQHE9CtejcC5AuB6F61G4I0DD9Shcj8IbQK5H4XoUrhNArkfhehSuG0ApXI/C9WgxQClcj8L1aDFAKVyPwvUoHUBSuB6F61EbQD0K16NwvS1AMzMzMzOzIkD2KFyPwvUjQA==",
          "dtype": "f8"
         },
         "yaxis": "y"
        },
        {
         "bingroup": "x",
         "histfunc": "sum",
         "hovertemplate": "Region=%{x}<br>sum of EstimatedUnemploymentRate(%)=%{y}<extra></extra>",
         "legendgroup": "Chandigarh",
         "marker": {
          "color": "#66AA00",
          "pattern": {
           "shape": ""
          }
         },
         "name": "Chandigarh",
         "orientation": "v",
         "showlegend": true,
         "type": "histogram",
         "x": [
          "Chandigarh",
          "Chandigarh",
          "Chandigarh",
          "Chandigarh",
          "Chandigarh",
          "Chandigarh",
          "Chandigarh",
          "Chandigarh",
          "Chandigarh",
          "Chandigarh",
          "Chandigarh",
          "Chandigarh"
         ],
         "xaxis": "x",
         "y": {
          "bdata": "mpmZmZlZMkDNzMzMzMwoQM3MzMzMzDVACtejcD0KI0CkcD0K1yM0QHsUrkfh+itAzczMzMwMNkApXI/C9aggQAAAAAAAADRA7FG4HoWrMECuR+F6FG41QOF6FK5H4RxA",
          "dtype": "f8"
         },
         "yaxis": "y"
        }
       ],
       "layout": {
        "bargap": 0.3,
        "barmode": "relative",
        "height": 600,
        "legend": {
         "title": {
          "text": "Region"
         },
         "tracegroupgap": 0
        },
        "template": {
         "data": {
          "bar": [
           {
            "error_x": {
             "color": "#2a3f5f"
            },
            "error_y": {
             "color": "#2a3f5f"
            },
            "marker": {
             "line": {
              "color": "#E5ECF6",
              "width": 0.5
             },
             "pattern": {
              "fillmode": "overlay",
              "size": 10,
              "solidity": 0.2
             }
            },
            "type": "bar"
           }
          ],
          "barpolar": [
           {
            "marker": {
             "line": {
              "color": "#E5ECF6",
              "width": 0.5
             },
             "pattern": {
              "fillmode": "overlay",
              "size": 10,
              "solidity": 0.2
             }
            },
            "type": "barpolar"
           }
          ],
          "carpet": [
           {
            "aaxis": {
             "endlinecolor": "#2a3f5f",
             "gridcolor": "white",
             "linecolor": "white",
             "minorgridcolor": "white",
             "startlinecolor": "#2a3f5f"
            },
            "baxis": {
             "endlinecolor": "#2a3f5f",
             "gridcolor": "white",
             "linecolor": "white",
             "minorgridcolor": "white",
             "startlinecolor": "#2a3f5f"
            },
            "type": "carpet"
           }
          ],
          "choropleth": [
           {
            "colorbar": {
             "outlinewidth": 0,
             "ticks": ""
            },
            "type": "choropleth"
           }
          ],
          "contour": [
           {
            "colorbar": {
             "outlinewidth": 0,
             "ticks": ""
            },
            "colorscale": [
             [
              0,
              "#0d0887"
             ],
             [
              0.1111111111111111,
              "#46039f"
             ],
             [
              0.2222222222222222,
              "#7201a8"
             ],
             [
              0.3333333333333333,
              "#9c179e"
             ],
             [
              0.4444444444444444,
              "#bd3786"
             ],
             [
              0.5555555555555556,
              "#d8576b"
             ],
             [
              0.6666666666666666,
              "#ed7953"
             ],
             [
              0.7777777777777778,
              "#fb9f3a"
             ],
             [
              0.8888888888888888,
              "#fdca26"
             ],
             [
              1,
              "#f0f921"
             ]
            ],
            "type": "contour"
           }
          ],
          "contourcarpet": [
           {
            "colorbar": {
             "outlinewidth": 0,
             "ticks": ""
            },
            "type": "contourcarpet"
           }
          ],
          "heatmap": [
           {
            "colorbar": {
             "outlinewidth": 0,
             "ticks": ""
            },
            "colorscale": [
             [
              0,
              "#0d0887"
             ],
             [
              0.1111111111111111,
              "#46039f"
             ],
             [
              0.2222222222222222,
              "#7201a8"
             ],
             [
              0.3333333333333333,
              "#9c179e"
             ],
             [
              0.4444444444444444,
              "#bd3786"
             ],
             [
              0.5555555555555556,
              "#d8576b"
             ],
             [
              0.6666666666666666,
              "#ed7953"
             ],
             [
              0.7777777777777778,
              "#fb9f3a"
             ],
             [
              0.8888888888888888,
              "#fdca26"
             ],
             [
              1,
              "#f0f921"
             ]
            ],
            "type": "heatmap"
           }
          ],
          "histogram": [
           {
            "marker": {
             "pattern": {
              "fillmode": "overlay",
              "size": 10,
              "solidity": 0.2
             }
            },
            "type": "histogram"
           }
          ],
          "histogram2d": [
           {
            "colorbar": {
             "outlinewidth": 0,
             "ticks": ""
            },
            "colorscale": [
             [
              0,
              "#0d0887"
             ],
             [
              0.1111111111111111,
              "#46039f"
             ],
             [
              0.2222222222222222,
              "#7201a8"
             ],
             [
              0.3333333333333333,
              "#9c179e"
             ],
             [
              0.4444444444444444,
              "#bd3786"
             ],
             [
              0.5555555555555556,
              "#d8576b"
             ],
             [
              0.6666666666666666,
              "#ed7953"
             ],
             [
              0.7777777777777778,
              "#fb9f3a"
             ],
             [
              0.8888888888888888,
              "#fdca26"
             ],
             [
              1,
              "#f0f921"
             ]
            ],
            "type": "histogram2d"
           }
          ],
          "histogram2dcontour": [
           {
            "colorbar": {
             "outlinewidth": 0,
             "ticks": ""
            },
            "colorscale": [
             [
              0,
              "#0d0887"
             ],
             [
              0.1111111111111111,
              "#46039f"
             ],
             [
              0.2222222222222222,
              "#7201a8"
             ],
             [
              0.3333333333333333,
              "#9c179e"
             ],
             [
              0.4444444444444444,
              "#bd3786"
             ],
             [
              0.5555555555555556,
              "#d8576b"
             ],
             [
              0.6666666666666666,
              "#ed7953"
             ],
             [
              0.7777777777777778,
              "#fb9f3a"
             ],
             [
              0.8888888888888888,
              "#fdca26"
             ],
             [
              1,
              "#f0f921"
             ]
            ],
            "type": "histogram2dcontour"
           }
          ],
          "mesh3d": [
           {
            "colorbar": {
             "outlinewidth": 0,
             "ticks": ""
            },
            "type": "mesh3d"
           }
          ],
          "parcoords": [
           {
            "line": {
             "colorbar": {
              "outlinewidth": 0,
              "ticks": ""
             }
            },
            "type": "parcoords"
           }
          ],
          "pie": [
           {
            "automargin": true,
            "type": "pie"
           }
          ],
          "scatter": [
           {
            "fillpattern": {
             "fillmode": "overlay",
             "size": 10,
             "solidity": 0.2
            },
            "type": "scatter"
           }
          ],
          "scatter3d": [
           {
            "line": {
             "colorbar": {
              "outlinewidth": 0,
              "ticks": ""
             }
            },
            "marker": {
             "colorbar": {
              "outlinewidth": 0,
              "ticks": ""
             }
            },
            "type": "scatter3d"
           }
          ],
          "scattercarpet": [
           {
            "marker": {
             "colorbar": {
              "outlinewidth": 0,
              "ticks": ""
             }
            },
            "type": "scattercarpet"
           }
          ],
          "scattergeo": [
           {
            "marker": {
             "colorbar": {
              "outlinewidth": 0,
              "ticks": ""
             }
            },
            "type": "scattergeo"
           }
          ],
          "scattergl": [
           {
            "marker": {
             "colorbar": {
              "outlinewidth": 0,
              "ticks": ""
             }
            },
            "type": "scattergl"
           }
          ],
          "scattermap": [
           {
            "marker": {
             "colorbar": {
              "outlinewidth": 0,
              "ticks": ""
             }
            },
            "type": "scattermap"
           }
          ],
          "scattermapbox": [
           {
            "marker": {
             "colorbar": {
              "outlinewidth": 0,
              "ticks": ""
             }
            },
            "type": "scattermapbox"
           }
          ],
          "scatterpolar": [
           {
            "marker": {
             "colorbar": {
              "outlinewidth": 0,
              "ticks": ""
             }
            },
            "type": "scatterpolar"
           }
          ],
          "scatterpolargl": [
           {
            "marker": {
             "colorbar": {
              "outlinewidth": 0,
              "ticks": ""
             }
            },
            "type": "scatterpolargl"
           }
          ],
          "scatterternary": [
           {
            "marker": {
             "colorbar": {
              "outlinewidth": 0,
              "ticks": ""
             }
            },
            "type": "scatterternary"
           }
          ],
          "surface": [
           {
            "colorbar": {
             "outlinewidth": 0,
             "ticks": ""
            },
            "colorscale": [
             [
              0,
              "#0d0887"
             ],
             [
              0.1111111111111111,
              "#46039f"
             ],
             [
              0.2222222222222222,
              "#7201a8"
             ],
             [
              0.3333333333333333,
              "#9c179e"
             ],
             [
              0.4444444444444444,
              "#bd3786"
             ],
             [
              0.5555555555555556,
              "#d8576b"
             ],
             [
              0.6666666666666666,
              "#ed7953"
             ],
             [
              0.7777777777777778,
              "#fb9f3a"
             ],
             [
              0.8888888888888888,
              "#fdca26"
             ],
             [
              1,
              "#f0f921"
             ]
            ],
            "type": "surface"
           }
          ],
          "table": [
           {
            "cells": {
             "fill": {
              "color": "#EBF0F8"
             },
             "line": {
              "color": "white"
             }
            },
            "header": {
             "fill": {
              "color": "#C8D4E3"
             },
             "line": {
              "color": "white"
             }
            },
            "type": "table"
           }
          ]
         },
         "layout": {
          "annotationdefaults": {
           "arrowcolor": "#2a3f5f",
           "arrowhead": 0,
           "arrowwidth": 1
          },
          "autotypenumbers": "strict",
          "coloraxis": {
           "colorbar": {
            "outlinewidth": 0,
            "ticks": ""
           }
          },
          "colorscale": {
           "diverging": [
            [
             0,
             "#8e0152"
            ],
            [
             0.1,
             "#c51b7d"
            ],
            [
             0.2,
             "#de77ae"
            ],
            [
             0.3,
             "#f1b6da"
            ],
            [
             0.4,
             "#fde0ef"
            ],
            [
             0.5,
             "#f7f7f7"
            ],
            [
             0.6,
             "#e6f5d0"
            ],
            [
             0.7,
             "#b8e186"
            ],
            [
             0.8,
             "#7fbc41"
            ],
            [
             0.9,
             "#4d9221"
            ],
            [
             1,
             "#276419"
            ]
           ],
           "sequential": [
            [
             0,
             "#0d0887"
            ],
            [
             0.1111111111111111,
             "#46039f"
            ],
            [
             0.2222222222222222,
             "#7201a8"
            ],
            [
             0.3333333333333333,
             "#9c179e"
            ],
            [
             0.4444444444444444,
             "#bd3786"
            ],
            [
             0.5555555555555556,
             "#d8576b"
            ],
            [
             0.6666666666666666,
             "#ed7953"
            ],
            [
             0.7777777777777778,
             "#fb9f3a"
            ],
            [
             0.8888888888888888,
             "#fdca26"
            ],
            [
             1,
             "#f0f921"
            ]
           ],
           "sequentialminus": [
            [
             0,
             "#0d0887"
            ],
            [
             0.1111111111111111,
             "#46039f"
            ],
            [
             0.2222222222222222,
             "#7201a8"
            ],
            [
             0.3333333333333333,
             "#9c179e"
            ],
            [
             0.4444444444444444,
             "#bd3786"
            ],
            [
             0.5555555555555556,
             "#d8576b"
            ],
            [
             0.6666666666666666,
             "#ed7953"
            ],
            [
             0.7777777777777778,
             "#fb9f3a"
            ],
            [
             0.8888888888888888,
             "#fdca26"
            ],
            [
             1,
             "#f0f921"
            ]
           ]
          },
          "colorway": [
           "#636efa",
           "#EF553B",
           "#00cc96",
           "#ab63fa",
           "#FFA15A",
           "#19d3f3",
           "#FF6692",
           "#B6E880",
           "#FF97FF",
           "#FECB52"
          ],
          "font": {
           "color": "#2a3f5f"
          },
          "geo": {
           "bgcolor": "white",
           "lakecolor": "white",
           "landcolor": "#E5ECF6",
           "showlakes": true,
           "showland": true,
           "subunitcolor": "white"
          },
          "hoverlabel": {
           "align": "left"
          },
          "hovermode": "closest",
          "mapbox": {
           "style": "light"
          },
          "paper_bgcolor": "white",
          "plot_bgcolor": "#E5ECF6",
          "polar": {
           "angularaxis": {
            "gridcolor": "white",
            "linecolor": "white",
            "ticks": ""
           },
           "bgcolor": "#E5ECF6",
           "radialaxis": {
            "gridcolor": "white",
            "linecolor": "white",
            "ticks": ""
           }
          },
          "scene": {
           "xaxis": {
            "backgroundcolor": "#E5ECF6",
            "gridcolor": "white",
            "gridwidth": 2,
            "linecolor": "white",
            "showbackground": true,
            "ticks": "",
            "zerolinecolor": "white"
           },
           "yaxis": {
            "backgroundcolor": "#E5ECF6",
            "gridcolor": "white",
            "gridwidth": 2,
            "linecolor": "white",
            "showbackground": true,
            "ticks": "",
            "zerolinecolor": "white"
           },
           "zaxis": {
            "backgroundcolor": "#E5ECF6",
            "gridcolor": "white",
            "gridwidth": 2,
            "linecolor": "white",
            "showbackground": true,
            "ticks": "",
            "zerolinecolor": "white"
           }
          },
          "shapedefaults": {
           "line": {
            "color": "#2a3f5f"
           }
          },
          "ternary": {
           "aaxis": {
            "gridcolor": "white",
            "linecolor": "white",
            "ticks": ""
           },
           "baxis": {
            "gridcolor": "white",
            "linecolor": "white",
            "ticks": ""
           },
           "bgcolor": "#E5ECF6",
           "caxis": {
            "gridcolor": "white",
            "linecolor": "white",
            "ticks": ""
           }
          },
          "title": {
           "x": 0.05
          },
          "xaxis": {
           "automargin": true,
           "gridcolor": "white",
           "linecolor": "white",
           "ticks": "",
           "title": {
            "standoff": 15
           },
           "zerolinecolor": "white",
           "zerolinewidth": 2
          },
          "yaxis": {
           "automargin": true,
           "gridcolor": "white",
           "linecolor": "white",
           "ticks": "",
           "title": {
            "standoff": 15
           },
           "zerolinecolor": "white",
           "zerolinewidth": 2
          }
         }
        },
        "title": {
         "text": "Top 10 States with Lowest Unemployment Rate"
        },
        "width": 1000,
        "xaxis": {
         "anchor": "y",
         "categoryarray": [
          "Andhra Pradesh",
          "Assam",
          "Bihar",
          "Chhattisgarh",
          "Delhi",
          "Goa",
          "Gujarat",
          "Haryana",
          "Himachal Pradesh",
          "Jammu & Kashmir",
          "Jharkhand",
          "Karnataka",
          "Kerala",
          "Madhya Pradesh",
          "Maharashtra",
          "Meghalaya",
          "Odisha",
          "Puducherry",
          "Punjab",
          "Rajasthan",
          "Sikkim",
          "Tamil Nadu",
          "Telangana",
          "Tripura",
          "Uttar Pradesh",
          "Uttarakhand",
          "West Bengal",
          "Chandigarh"
         ],
         "categoryorder": "array",
         "domain": [
          0,
          1
         ],
         "title": {
          "text": "Region"
         }
        },
        "yaxis": {
         "anchor": "x",
         "domain": [
          0,
          1
         ],
         "title": {
          "text": "sum of EstimatedUnemploymentRate(%)"
         }
        }
       }
      }
     },
     "metadata": {},
     "output_type": "display_data"
    }
   ],
   "source": [
    "# Top 10 States with Lowest Unemployment Rate\n",
    "fig = px.histogram(df, x='Region', y='EstimatedUnemploymentRate(%)', color='Region',\n",
    "              title='Top 10 States with Lowest Unemployment Rate', color_discrete_sequence=px.colors.qualitative.G10)\n",
    "fig.update_layout(width=1000, height=600, bargap=0.3)\n",
    "fig.show()"
   ]
  },
  {
   "cell_type": "code",
   "execution_count": 41,
   "metadata": {},
   "outputs": [
    {
     "data": {
      "application/vnd.plotly.v1+json": {
       "config": {
        "plotlyServerURL": "https://plot.ly"
       },
       "data": [
        {
         "hovertemplate": "Area=%{x}<br>EstimatedUnemploymentRate(%)=%{y}<extra></extra>",
         "legendgroup": "Rural",
         "marker": {
          "color": "#1F77B4",
          "pattern": {
           "shape": ""
          }
         },
         "name": "Rural",
         "orientation": "v",
         "showlegend": true,
         "textposition": "auto",
         "type": "bar",
         "x": [
          "Rural"
         ],
         "xaxis": "x",
         "y": {
          "bdata": "y9FrBEumJEA=",
          "dtype": "f8"
         },
         "yaxis": "y"
        },
        {
         "hovertemplate": "Area=%{x}<br>EstimatedUnemploymentRate(%)=%{y}<extra></extra>",
         "legendgroup": "Urban",
         "marker": {
          "color": "#FF7F0E",
          "pattern": {
           "shape": ""
          }
         },
         "name": "Urban",
         "orientation": "v",
         "showlegend": true,
         "textposition": "auto",
         "type": "bar",
         "x": [
          "Urban"
         ],
         "xaxis": "x",
         "y": {
          "bdata": "syHyc05VKkA=",
          "dtype": "f8"
         },
         "yaxis": "y"
        }
       ],
       "layout": {
        "bargap": 0.6,
        "barmode": "relative",
        "height": 600,
        "legend": {
         "title": {
          "text": "Area"
         },
         "tracegroupgap": 0
        },
        "template": {
         "data": {
          "bar": [
           {
            "error_x": {
             "color": "#2a3f5f"
            },
            "error_y": {
             "color": "#2a3f5f"
            },
            "marker": {
             "line": {
              "color": "#E5ECF6",
              "width": 0.5
             },
             "pattern": {
              "fillmode": "overlay",
              "size": 10,
              "solidity": 0.2
             }
            },
            "type": "bar"
           }
          ],
          "barpolar": [
           {
            "marker": {
             "line": {
              "color": "#E5ECF6",
              "width": 0.5
             },
             "pattern": {
              "fillmode": "overlay",
              "size": 10,
              "solidity": 0.2
             }
            },
            "type": "barpolar"
           }
          ],
          "carpet": [
           {
            "aaxis": {
             "endlinecolor": "#2a3f5f",
             "gridcolor": "white",
             "linecolor": "white",
             "minorgridcolor": "white",
             "startlinecolor": "#2a3f5f"
            },
            "baxis": {
             "endlinecolor": "#2a3f5f",
             "gridcolor": "white",
             "linecolor": "white",
             "minorgridcolor": "white",
             "startlinecolor": "#2a3f5f"
            },
            "type": "carpet"
           }
          ],
          "choropleth": [
           {
            "colorbar": {
             "outlinewidth": 0,
             "ticks": ""
            },
            "type": "choropleth"
           }
          ],
          "contour": [
           {
            "colorbar": {
             "outlinewidth": 0,
             "ticks": ""
            },
            "colorscale": [
             [
              0,
              "#0d0887"
             ],
             [
              0.1111111111111111,
              "#46039f"
             ],
             [
              0.2222222222222222,
              "#7201a8"
             ],
             [
              0.3333333333333333,
              "#9c179e"
             ],
             [
              0.4444444444444444,
              "#bd3786"
             ],
             [
              0.5555555555555556,
              "#d8576b"
             ],
             [
              0.6666666666666666,
              "#ed7953"
             ],
             [
              0.7777777777777778,
              "#fb9f3a"
             ],
             [
              0.8888888888888888,
              "#fdca26"
             ],
             [
              1,
              "#f0f921"
             ]
            ],
            "type": "contour"
           }
          ],
          "contourcarpet": [
           {
            "colorbar": {
             "outlinewidth": 0,
             "ticks": ""
            },
            "type": "contourcarpet"
           }
          ],
          "heatmap": [
           {
            "colorbar": {
             "outlinewidth": 0,
             "ticks": ""
            },
            "colorscale": [
             [
              0,
              "#0d0887"
             ],
             [
              0.1111111111111111,
              "#46039f"
             ],
             [
              0.2222222222222222,
              "#7201a8"
             ],
             [
              0.3333333333333333,
              "#9c179e"
             ],
             [
              0.4444444444444444,
              "#bd3786"
             ],
             [
              0.5555555555555556,
              "#d8576b"
             ],
             [
              0.6666666666666666,
              "#ed7953"
             ],
             [
              0.7777777777777778,
              "#fb9f3a"
             ],
             [
              0.8888888888888888,
              "#fdca26"
             ],
             [
              1,
              "#f0f921"
             ]
            ],
            "type": "heatmap"
           }
          ],
          "histogram": [
           {
            "marker": {
             "pattern": {
              "fillmode": "overlay",
              "size": 10,
              "solidity": 0.2
             }
            },
            "type": "histogram"
           }
          ],
          "histogram2d": [
           {
            "colorbar": {
             "outlinewidth": 0,
             "ticks": ""
            },
            "colorscale": [
             [
              0,
              "#0d0887"
             ],
             [
              0.1111111111111111,
              "#46039f"
             ],
             [
              0.2222222222222222,
              "#7201a8"
             ],
             [
              0.3333333333333333,
              "#9c179e"
             ],
             [
              0.4444444444444444,
              "#bd3786"
             ],
             [
              0.5555555555555556,
              "#d8576b"
             ],
             [
              0.6666666666666666,
              "#ed7953"
             ],
             [
              0.7777777777777778,
              "#fb9f3a"
             ],
             [
              0.8888888888888888,
              "#fdca26"
             ],
             [
              1,
              "#f0f921"
             ]
            ],
            "type": "histogram2d"
           }
          ],
          "histogram2dcontour": [
           {
            "colorbar": {
             "outlinewidth": 0,
             "ticks": ""
            },
            "colorscale": [
             [
              0,
              "#0d0887"
             ],
             [
              0.1111111111111111,
              "#46039f"
             ],
             [
              0.2222222222222222,
              "#7201a8"
             ],
             [
              0.3333333333333333,
              "#9c179e"
             ],
             [
              0.4444444444444444,
              "#bd3786"
             ],
             [
              0.5555555555555556,
              "#d8576b"
             ],
             [
              0.6666666666666666,
              "#ed7953"
             ],
             [
              0.7777777777777778,
              "#fb9f3a"
             ],
             [
              0.8888888888888888,
              "#fdca26"
             ],
             [
              1,
              "#f0f921"
             ]
            ],
            "type": "histogram2dcontour"
           }
          ],
          "mesh3d": [
           {
            "colorbar": {
             "outlinewidth": 0,
             "ticks": ""
            },
            "type": "mesh3d"
           }
          ],
          "parcoords": [
           {
            "line": {
             "colorbar": {
              "outlinewidth": 0,
              "ticks": ""
             }
            },
            "type": "parcoords"
           }
          ],
          "pie": [
           {
            "automargin": true,
            "type": "pie"
           }
          ],
          "scatter": [
           {
            "fillpattern": {
             "fillmode": "overlay",
             "size": 10,
             "solidity": 0.2
            },
            "type": "scatter"
           }
          ],
          "scatter3d": [
           {
            "line": {
             "colorbar": {
              "outlinewidth": 0,
              "ticks": ""
             }
            },
            "marker": {
             "colorbar": {
              "outlinewidth": 0,
              "ticks": ""
             }
            },
            "type": "scatter3d"
           }
          ],
          "scattercarpet": [
           {
            "marker": {
             "colorbar": {
              "outlinewidth": 0,
              "ticks": ""
             }
            },
            "type": "scattercarpet"
           }
          ],
          "scattergeo": [
           {
            "marker": {
             "colorbar": {
              "outlinewidth": 0,
              "ticks": ""
             }
            },
            "type": "scattergeo"
           }
          ],
          "scattergl": [
           {
            "marker": {
             "colorbar": {
              "outlinewidth": 0,
              "ticks": ""
             }
            },
            "type": "scattergl"
           }
          ],
          "scattermap": [
           {
            "marker": {
             "colorbar": {
              "outlinewidth": 0,
              "ticks": ""
             }
            },
            "type": "scattermap"
           }
          ],
          "scattermapbox": [
           {
            "marker": {
             "colorbar": {
              "outlinewidth": 0,
              "ticks": ""
             }
            },
            "type": "scattermapbox"
           }
          ],
          "scatterpolar": [
           {
            "marker": {
             "colorbar": {
              "outlinewidth": 0,
              "ticks": ""
             }
            },
            "type": "scatterpolar"
           }
          ],
          "scatterpolargl": [
           {
            "marker": {
             "colorbar": {
              "outlinewidth": 0,
              "ticks": ""
             }
            },
            "type": "scatterpolargl"
           }
          ],
          "scatterternary": [
           {
            "marker": {
             "colorbar": {
              "outlinewidth": 0,
              "ticks": ""
             }
            },
            "type": "scatterternary"
           }
          ],
          "surface": [
           {
            "colorbar": {
             "outlinewidth": 0,
             "ticks": ""
            },
            "colorscale": [
             [
              0,
              "#0d0887"
             ],
             [
              0.1111111111111111,
              "#46039f"
             ],
             [
              0.2222222222222222,
              "#7201a8"
             ],
             [
              0.3333333333333333,
              "#9c179e"
             ],
             [
              0.4444444444444444,
              "#bd3786"
             ],
             [
              0.5555555555555556,
              "#d8576b"
             ],
             [
              0.6666666666666666,
              "#ed7953"
             ],
             [
              0.7777777777777778,
              "#fb9f3a"
             ],
             [
              0.8888888888888888,
              "#fdca26"
             ],
             [
              1,
              "#f0f921"
             ]
            ],
            "type": "surface"
           }
          ],
          "table": [
           {
            "cells": {
             "fill": {
              "color": "#EBF0F8"
             },
             "line": {
              "color": "white"
             }
            },
            "header": {
             "fill": {
              "color": "#C8D4E3"
             },
             "line": {
              "color": "white"
             }
            },
            "type": "table"
           }
          ]
         },
         "layout": {
          "annotationdefaults": {
           "arrowcolor": "#2a3f5f",
           "arrowhead": 0,
           "arrowwidth": 1
          },
          "autotypenumbers": "strict",
          "coloraxis": {
           "colorbar": {
            "outlinewidth": 0,
            "ticks": ""
           }
          },
          "colorscale": {
           "diverging": [
            [
             0,
             "#8e0152"
            ],
            [
             0.1,
             "#c51b7d"
            ],
            [
             0.2,
             "#de77ae"
            ],
            [
             0.3,
             "#f1b6da"
            ],
            [
             0.4,
             "#fde0ef"
            ],
            [
             0.5,
             "#f7f7f7"
            ],
            [
             0.6,
             "#e6f5d0"
            ],
            [
             0.7,
             "#b8e186"
            ],
            [
             0.8,
             "#7fbc41"
            ],
            [
             0.9,
             "#4d9221"
            ],
            [
             1,
             "#276419"
            ]
           ],
           "sequential": [
            [
             0,
             "#0d0887"
            ],
            [
             0.1111111111111111,
             "#46039f"
            ],
            [
             0.2222222222222222,
             "#7201a8"
            ],
            [
             0.3333333333333333,
             "#9c179e"
            ],
            [
             0.4444444444444444,
             "#bd3786"
            ],
            [
             0.5555555555555556,
             "#d8576b"
            ],
            [
             0.6666666666666666,
             "#ed7953"
            ],
            [
             0.7777777777777778,
             "#fb9f3a"
            ],
            [
             0.8888888888888888,
             "#fdca26"
            ],
            [
             1,
             "#f0f921"
            ]
           ],
           "sequentialminus": [
            [
             0,
             "#0d0887"
            ],
            [
             0.1111111111111111,
             "#46039f"
            ],
            [
             0.2222222222222222,
             "#7201a8"
            ],
            [
             0.3333333333333333,
             "#9c179e"
            ],
            [
             0.4444444444444444,
             "#bd3786"
            ],
            [
             0.5555555555555556,
             "#d8576b"
            ],
            [
             0.6666666666666666,
             "#ed7953"
            ],
            [
             0.7777777777777778,
             "#fb9f3a"
            ],
            [
             0.8888888888888888,
             "#fdca26"
            ],
            [
             1,
             "#f0f921"
            ]
           ]
          },
          "colorway": [
           "#636efa",
           "#EF553B",
           "#00cc96",
           "#ab63fa",
           "#FFA15A",
           "#19d3f3",
           "#FF6692",
           "#B6E880",
           "#FF97FF",
           "#FECB52"
          ],
          "font": {
           "color": "#2a3f5f"
          },
          "geo": {
           "bgcolor": "white",
           "lakecolor": "white",
           "landcolor": "#E5ECF6",
           "showlakes": true,
           "showland": true,
           "subunitcolor": "white"
          },
          "hoverlabel": {
           "align": "left"
          },
          "hovermode": "closest",
          "mapbox": {
           "style": "light"
          },
          "paper_bgcolor": "white",
          "plot_bgcolor": "#E5ECF6",
          "polar": {
           "angularaxis": {
            "gridcolor": "white",
            "linecolor": "white",
            "ticks": ""
           },
           "bgcolor": "#E5ECF6",
           "radialaxis": {
            "gridcolor": "white",
            "linecolor": "white",
            "ticks": ""
           }
          },
          "scene": {
           "xaxis": {
            "backgroundcolor": "#E5ECF6",
            "gridcolor": "white",
            "gridwidth": 2,
            "linecolor": "white",
            "showbackground": true,
            "ticks": "",
            "zerolinecolor": "white"
           },
           "yaxis": {
            "backgroundcolor": "#E5ECF6",
            "gridcolor": "white",
            "gridwidth": 2,
            "linecolor": "white",
            "showbackground": true,
            "ticks": "",
            "zerolinecolor": "white"
           },
           "zaxis": {
            "backgroundcolor": "#E5ECF6",
            "gridcolor": "white",
            "gridwidth": 2,
            "linecolor": "white",
            "showbackground": true,
            "ticks": "",
            "zerolinecolor": "white"
           }
          },
          "shapedefaults": {
           "line": {
            "color": "#2a3f5f"
           }
          },
          "ternary": {
           "aaxis": {
            "gridcolor": "white",
            "linecolor": "white",
            "ticks": ""
           },
           "baxis": {
            "gridcolor": "white",
            "linecolor": "white",
            "ticks": ""
           },
           "bgcolor": "#E5ECF6",
           "caxis": {
            "gridcolor": "white",
            "linecolor": "white",
            "ticks": ""
           }
          },
          "title": {
           "x": 0.05
          },
          "xaxis": {
           "automargin": true,
           "gridcolor": "white",
           "linecolor": "white",
           "ticks": "",
           "title": {
            "standoff": 15
           },
           "zerolinecolor": "white",
           "zerolinewidth": 2
          },
          "yaxis": {
           "automargin": true,
           "gridcolor": "white",
           "linecolor": "white",
           "ticks": "",
           "title": {
            "standoff": 15
           },
           "zerolinecolor": "white",
           "zerolinewidth": 2
          }
         }
        },
        "title": {
         "text": "Unemployment Rate by Area (Rural vs. Urban)"
        },
        "width": 1000,
        "xaxis": {
         "anchor": "y",
         "categoryarray": [
          "Rural",
          "Urban"
         ],
         "categoryorder": "array",
         "domain": [
          0,
          1
         ],
         "title": {
          "text": "Area"
         }
        },
        "yaxis": {
         "anchor": "x",
         "domain": [
          0,
          1
         ],
         "title": {
          "text": "EstimatedUnemploymentRate(%)"
         }
        }
       }
      }
     },
     "metadata": {},
     "output_type": "display_data"
    }
   ],
   "source": [
    "# Unemployment Rate by Area (Rural vs. Urban)\n",
    "fig = px.bar(df.groupby('Area')['EstimatedUnemploymentRate(%)'].mean().reset_index(), \n",
    "               x='Area', y='EstimatedUnemploymentRate(%)', color='Area', color_discrete_sequence=px.colors.qualitative.D3, title='Unemployment Rate by Area (Rural vs. Urban)')\n",
    "fig.update_layout(width=1000, height=600, bargap=0.6)\n",
    "fig.show()"
   ]
  },
  {
   "cell_type": "markdown",
   "metadata": {},
   "source": [
    "# Conclusion"
   ]
  },
  {
   "cell_type": "markdown",
   "metadata": {},
   "source": [
    "## Impact of COVID-19 on Unemployment:\n",
    "\n",
    "The unemployment rate spiked significantly in April 2020, coinciding with the nationwide lockdown imposed due to COVID-19.\n",
    "\n",
    "Post-COVID unemployment rates remained higher than pre-COVID levels, indicating a prolonged economic impact."
   ]
  },
  {
   "cell_type": "markdown",
   "metadata": {},
   "source": [
    "## Regional Disparities:\n",
    "\n",
    "Regions like Haryana, Tripura, and Jharkhand had the highest average unemployment rates.\n",
    "\n",
    "Southern regions like Karnataka and Tamil Nadu showed relatively lower unemployment rates compared to northern and eastern regions."
   ]
  },
  {
   "cell_type": "markdown",
   "metadata": {},
   "source": [
    "## Rural vs. Urban Unemployment:\n",
    "\n",
    "Rural areas experienced higher unemployment rates compared to urban areas during the pandemic.\n",
    "\n",
    "This could be attributed to the reliance of rural economies on informal sectors, which were severely affected by the lockdown."
   ]
  },
  {
   "cell_type": "markdown",
   "metadata": {},
   "source": [
    "## Labor Participation Rate:\n",
    "\n",
    "The labor participation rate dropped significantly during the lockdown but showed signs of recovery in late 2020.\n",
    "\n",
    "This indicates that while people returned to the workforce, job opportunities remained limited."
   ]
  },
  {
   "cell_type": "markdown",
   "metadata": {},
   "source": [
    "## Seasonal Trends:\n",
    "\n",
    "Unemployment rates showed seasonal fluctuations, with higher rates during certain months (e.g., April-June 2020).\n",
    "\n",
    "Post-COVID, the unemployment rate stabilized but remained higher than pre-COVID levels."
   ]
  }
 ],
 "metadata": {
  "kernelspec": {
   "display_name": "Python 3",
   "language": "python",
   "name": "python3"
  },
  "language_info": {
   "codemirror_mode": {
    "name": "ipython",
    "version": 3
   },
   "file_extension": ".py",
   "mimetype": "text/x-python",
   "name": "python",
   "nbconvert_exporter": "python",
   "pygments_lexer": "ipython3",
   "version": "3.12.6"
  }
 },
 "nbformat": 4,
 "nbformat_minor": 2
}
